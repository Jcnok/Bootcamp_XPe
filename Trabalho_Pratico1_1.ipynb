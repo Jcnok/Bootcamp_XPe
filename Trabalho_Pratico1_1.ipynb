{
  "nbformat": 4,
  "nbformat_minor": 0,
  "metadata": {
    "colab": {
      "provenance": [],
      "collapsed_sections": [
        "6OrMy3cT3so8",
        "YGJXB1ND4GCE",
        "pWriy26GsGZ7",
        "0byM-s50lEae",
        "iXsAN-_ssNnf",
        "P4vfwUjctDKC",
        "iwgl1xZBtWoh",
        "CbAEUh2gRHgC",
        "Qq7UjUMwNVFG",
        "HJV8ZNBtNX-l",
        "DFj9X3EuNufX",
        "eQ-I-4lDODmR",
        "N-DDBSA8OO0X",
        "texDTyJ-OmDG",
        "mKpOqmkePG2k",
        "uhVMAMdSRhhw",
        "9TM6VDffSQD6",
        "oOd42VmhTL6O",
        "QbYyx0UeTlOG",
        "nLwdpeqCiBb3",
        "vuRn7umAi9bd",
        "u-9MIA3djZBe",
        "DcQQovfJjooW"
      ],
      "authorship_tag": "ABX9TyOetPqjrSULHJA3aIY71/Ao",
      "include_colab_link": true
    },
    "kernelspec": {
      "name": "python3",
      "display_name": "Python 3"
    },
    "language_info": {
      "name": "python"
    },
    "accelerator": "GPU",
    "gpuClass": "standard"
  },
  "cells": [
    {
      "cell_type": "markdown",
      "metadata": {
        "id": "view-in-github",
        "colab_type": "text"
      },
      "source": [
        "<a href=\"https://colab.research.google.com/github/Jcnok/Bootcamp_XPe_Arquiteto_de_ML/blob/main/Trabalho_Pratico1_1.ipynb\" target=\"_parent\"><img src=\"https://colab.research.google.com/assets/colab-badge.svg\" alt=\"Open In Colab\"/></a>"
      ]
    },
    {
      "cell_type": "markdown",
      "source": [
        "## Trabalho Prático - Módulo 1: Fundamentos de Deep Learning"
      ],
      "metadata": {
        "id": "AvvFHwzJ3fmq"
      }
    },
    {
      "cell_type": "markdown",
      "source": [
        "## Objetivos de Ensino:\n"
      ],
      "metadata": {
        "id": "6OrMy3cT3so8"
      }
    },
    {
      "cell_type": "markdown",
      "source": [
        "* **Exercitar os seguintes conceitos trabalhados no Módulo:**\n",
        "  * **1. Interpretar arquiteturas de rede a partir de desenho.**\n",
        "  * **2. Criar redes utilizando o Keras.**\n"
      ],
      "metadata": {
        "id": "j94_tsjK32oy"
      }
    },
    {
      "cell_type": "markdown",
      "source": [
        "## Enunciado:"
      ],
      "metadata": {
        "id": "YGJXB1ND4GCE"
      }
    },
    {
      "cell_type": "markdown",
      "source": [
        "**Neste trabalho, você utilizará duas redes para resolver o problema de classificação Fashion\n",
        "MNIST, que pode ser importado através do módulo ‘datasets’ do Keras. As redes a serem\n",
        "utilizadas são:**\n",
        "* **1.VGG-16, que pode ser importada através do módulo ‘keras.applications.vgg16’. A VGG-16 é\n",
        "uma rede já pronta (ou seja, o número de camadas e neurônios em cada camada, por\n",
        "exemplo, já estão pré-definidos) que resolve o problema de classificação de imagens. Ou seja,\n",
        "nós não iremos criar uma rede do zero: ao invés disso, usaremos uma rede que já foi\n",
        "experimentada antes em outros problemas, e inclusive já podem vir com um conjunto de\n",
        "pesos, obtidos dos seus treinamentos anteriores. Mais informações sobre a VGG-16 podem\n",
        "ser obtidas em https://keras.io/api/applications/vgg/ e https://arxiv.org/abs/1409.1556.**\n",
        "\n",
        "* **2.A segunda deve seguir a seguinte arquitetura, conforme já vimos nas aulas gravadas:**\n",
        "  * a. Camada de entrada: um neurônio por pixel;\n",
        "  * b. Camada oculta 1: número de neurônios igual ao número de pixels;\n",
        "  * c. Camada oculta 2: 1024 neurônios;\n",
        "  * d. Camada oculta 3: 2048 neurônios;\n",
        "  * e. Camada oculta 4: 2048 neurônios;\n",
        "  * f. Camada de saída.\n",
        "\n",
        "* **Observações**:\n",
        "\n",
        "  * 1) A VGG-16 inicialmente foi treinada para imagens coloridas. Portanto, é necessário que ela\n",
        "receba imagens com canais de cor. Ou seja, cada pixel da imagem será representado por mais\n",
        "de um valor. Tipicamente, utilizamos o sistema de cor RGB, ou seja, cada pixel da imagem é\n",
        "composto por três valores. Podemos dizer, portanto, que uma imagem de 32 pixels de largura\n",
        "e 32 pixels de altura no sistema RGB tem uma dimensionalidade de 32x32x3.\n",
        "  * 2) Como as imagens do Fashion MNIST são em tons de cinza (ou seja, só possuem um canal de cor e, portanto, cada imagem tem o tamanho 28x28x1), é necessário redimensionar as imagens do dataset para 32x32x3, adicionando outros dois canais para usar o VGG-Net. Uma técnica possível é a seguinte:\n",
        "\n",
        "\n"
      ],
      "metadata": {
        "id": "Kq9xvl_94Jvw"
      }
    },
    {
      "cell_type": "code",
      "source": [
        "'''\n",
        "from tensorflow.image import resize\n",
        "# Adiciona eixo no último índice da lista\n",
        "X_train_1 = np.expand_dims(X_train, axis=-1)\n",
        "# Repete 3 vezes o último índice\n",
        "X_train_1 = np.repeat(X_train_1, 3, axis=-1)\n",
        "# Redimensiona as imagens para 32x32\n",
        "X_train_resize = resize(X_train_1, [32,32])\n",
        "'''"
      ],
      "metadata": {
        "colab": {
          "base_uri": "https://localhost:8080/",
          "height": 0
        },
        "id": "cZgQWCJs4Ih0",
        "outputId": "17db7fcb-4c0e-4ce3-c32e-af0e3f85f539"
      },
      "execution_count": 149,
      "outputs": [
        {
          "output_type": "execute_result",
          "data": {
            "text/plain": [
              "'\\nfrom tensorflow.image import resize\\n# Adiciona eixo no último índice da lista\\nX_train_1 = np.expand_dims(X_train, axis=-1)\\n# Repete 3 vezes o último índice\\nX_train_1 = np.repeat(X_train_1, 3, axis=-1)\\n# Redimensiona as imagens para 32x32\\nX_train_resize = resize(X_train_1, [32,32])\\n'"
            ],
            "application/vnd.google.colaboratory.intrinsic+json": {
              "type": "string"
            }
          },
          "metadata": {},
          "execution_count": 149
        }
      ]
    },
    {
      "cell_type": "markdown",
      "source": [
        "  * 3) Para instanciar a VGG-Net, informe a dimensionalidade das amostras através do argumento\n",
        "input_shape=(32,32,3). Além disso, preste atenção ao número de classes do problema.\n",
        "  * 4) A rede VGG-Net deverá receber amostras com o tamanho (32,32,3). A segunda rede deverá\n",
        "receber amostras (28,28,1). Para fazer isso, você pode importar o dataset duas vezes.\n",
        "  * 5) Ao instanciar a VGG-Net, informe o parâmetro weights=None. Esse parâmetro informa que\n",
        "os pesos da VGG-Net serão iniciados de forma aleatória e, portanto, não utilizaremos o\n",
        "treinamento já realizado na VGG-16.\n",
        "  * 6) Perceba que é muito mais fácil importar uma rede já existente do que criar a sua própria rede."
      ],
      "metadata": {
        "id": "FY3o8GtJ5yhJ"
      }
    },
    {
      "cell_type": "markdown",
      "source": [
        "## Dicionário de dados:"
      ],
      "metadata": {
        "id": "pWriy26GsGZ7"
      }
    },
    {
      "cell_type": "markdown",
      "source": [
        "Label\tDescription:\n",
        "* **0\tT-shirt/top**\n",
        "* **1\tTrouser**\n",
        "* **2\tPullover**\n",
        "* **3\tDress**\n",
        "* **4\tCoat**\n",
        "* **5\tSandal**\n",
        "* **6\tShirt**\n",
        "* **7\tSneaker**\n",
        "* **8\tBag**\n",
        "* **9\tAnkle boot**"
      ],
      "metadata": {
        "id": "RB1R3G4ksNZc"
      }
    },
    {
      "cell_type": "markdown",
      "source": [
        "# Exercício 01"
      ],
      "metadata": {
        "id": "0byM-s50lEae"
      }
    },
    {
      "cell_type": "code",
      "source": [
        "dic = {\n",
        "        0 :'T-shirt/top',\n",
        "        1 : 'Trouser',\n",
        "        2 : 'Pullover',\n",
        "        3 : 'Dress',\n",
        "        4 : 'Coat',\n",
        "        5 : 'Sandal',\n",
        "        6 : 'Shirt',\n",
        "        7 : 'Sneaker',\n",
        "        8 : 'Bag',\n",
        "        9 : 'Ankle boot',\n",
        "      }"
      ],
      "metadata": {
        "id": "aDYAG6PDuhZ9"
      },
      "execution_count": 20,
      "outputs": []
    },
    {
      "cell_type": "markdown",
      "source": [
        "### Impotando as Bibliotécas e carregando da dataset:"
      ],
      "metadata": {
        "id": "iXsAN-_ssNnf"
      }
    },
    {
      "cell_type": "code",
      "source": [
        "import numpy as np #importa biblioteca para manipulação de matrizes\n",
        "from matplotlib import pyplot as plt #importa bilbioteca para criação de gráficos\n",
        "\n",
        "#início das importações de classes do Keras (modelos de Deep Learning)\n",
        "from keras.datasets import fashion_mnist   #importa dataset fashion mnist\n",
        "from keras.models import Sequential        #importa um modelo sequencial\n",
        "from keras.layers import Dense, InputLayer #importa camadas totalmente conectadas\n",
        "from keras.layers import Dropout           #importa a estrutura de dropout\n",
        "from keras.utils import np_utils           #importa biblioteca de utilidades do Keras\n",
        "from keras.applications import VGG16       #importando a rede já pré-treinada\n",
        "from keras import models, layers\n",
        "from tqdm import tqdm # for progress bar\n",
        "from tensorflow.image import resize\n",
        "import random"
      ],
      "metadata": {
        "id": "4h444FsN4BWM"
      },
      "execution_count": 3,
      "outputs": []
    },
    {
      "cell_type": "code",
      "source": [
        "# Carregando o dataset já divididos em treino e teste.\n",
        "(X_train, y_train), (X_test, y_test) = fashion_mnist.load_data()"
      ],
      "metadata": {
        "id": "ahI7KTVV8crG"
      },
      "execution_count": 27,
      "outputs": []
    },
    {
      "cell_type": "code",
      "source": [
        "# verificando o tamanho.\n",
        "print(X_train.shape)\n",
        "print(y_train.shape)\n",
        "print(X_test.shape)\n",
        "print(y_test.shape)\n"
      ],
      "metadata": {
        "colab": {
          "base_uri": "https://localhost:8080/"
        },
        "id": "iz3Ce1Fv3r7I",
        "outputId": "90bda369-2d40-4002-e604-e539c484d105"
      },
      "execution_count": 28,
      "outputs": [
        {
          "output_type": "stream",
          "name": "stdout",
          "text": [
            "(60000, 28, 28)\n",
            "(60000,)\n",
            "(10000, 28, 28)\n",
            "(10000,)\n"
          ]
        }
      ]
    },
    {
      "cell_type": "markdown",
      "source": [
        "* **Temos um  total de 60mil imagens de tamanho 28x28 pixels para realizarmos o treinamento do modelo**.\n",
        "* **Temos 10mil imgagens 28x28 pixels para realizarmos o teste do modelo.**\n",
        "* **Essas imagens estão em preto e branco(escala cinza) pois possuem apenas 2 dimensões.**"
      ],
      "metadata": {
        "id": "OeUeOqRhwfz7"
      }
    },
    {
      "cell_type": "markdown",
      "source": [
        "* **Para a primeira rede(modelo) precisamos redimensionar a imagem, pois o modelo VGG16 não aceita imagens e um canal e com pixels 28x28.**\n",
        "* **O código abaixo irá converter a dimensão 3 canais(RGB-colorido) e os pixels para 32x32 pixels**."
      ],
      "metadata": {
        "id": "0W3NPc6txcqS"
      }
    },
    {
      "cell_type": "markdown",
      "source": [
        "### Pré-processamento:"
      ],
      "metadata": {
        "id": "P4vfwUjctDKC"
      }
    },
    {
      "cell_type": "code",
      "source": [
        "# Adiciona eixo no último índice da lista\n",
        "X_train_1 = np.expand_dims(X_train, axis=-1)\n",
        "X_test_1 = np.expand_dims(X_test, axis=-1)\n",
        "# resultado:\n",
        "X_train_1.shape, X_test_1.shape"
      ],
      "metadata": {
        "colab": {
          "base_uri": "https://localhost:8080/"
        },
        "id": "o5MBkkRufWXw",
        "outputId": "07b459a6-0668-400a-b53d-58e9cce7f5cf"
      },
      "execution_count": 29,
      "outputs": [
        {
          "output_type": "execute_result",
          "data": {
            "text/plain": [
              "((60000, 28, 28, 1), (10000, 28, 28, 1))"
            ]
          },
          "metadata": {},
          "execution_count": 29
        }
      ]
    },
    {
      "cell_type": "code",
      "source": [
        "# Repete 3 vezes o último índice\n",
        "X_train_1 = np.repeat(X_train_1, 3, axis=-1)\n",
        "X_test_1 = np.repeat(X_test_1, 3, axis=-1)\n",
        "# resultado:\n",
        "X_train_1.shape, X_test_1.shape"
      ],
      "metadata": {
        "colab": {
          "base_uri": "https://localhost:8080/"
        },
        "id": "zl809a-IfZ8U",
        "outputId": "d993db4a-916d-49d0-e6f7-98ddc3ba8b88"
      },
      "execution_count": 30,
      "outputs": [
        {
          "output_type": "execute_result",
          "data": {
            "text/plain": [
              "((60000, 28, 28, 3), (10000, 28, 28, 3))"
            ]
          },
          "metadata": {},
          "execution_count": 30
        }
      ]
    },
    {
      "cell_type": "code",
      "source": [
        "# Redimensiona as imagens para 32x32\n",
        "X_train_1 = resize(X_train_1, [32,32])\n",
        "X_test_1 = resize(X_test_1, [32,32])\n",
        "# resultado:\n",
        "X_train_1.shape, X_test_1.shape "
      ],
      "metadata": {
        "colab": {
          "base_uri": "https://localhost:8080/"
        },
        "id": "AKNaqaYhf5fe",
        "outputId": "17a05173-1779-44c0-cfc6-762e5c0f0d6f"
      },
      "execution_count": 31,
      "outputs": [
        {
          "output_type": "execute_result",
          "data": {
            "text/plain": [
              "(TensorShape([60000, 32, 32, 3]), TensorShape([10000, 32, 32, 3]))"
            ]
          },
          "metadata": {},
          "execution_count": 31
        }
      ]
    },
    {
      "cell_type": "code",
      "source": [
        "# Convertendo as Labels para o formato one hot encod.\n",
        "y_train_1 = np_utils.to_categorical(y_train)\n",
        "y_test_1 = np_utils.to_categorical(y_test)\n",
        "# Resultado\n",
        "y_train_1.shape, y_test_1.shape\n"
      ],
      "metadata": {
        "colab": {
          "base_uri": "https://localhost:8080/"
        },
        "id": "EGDU6lQZ8eI0",
        "outputId": "1747e78b-db49-42a5-b0c5-799259606c86"
      },
      "execution_count": 32,
      "outputs": [
        {
          "output_type": "execute_result",
          "data": {
            "text/plain": [
              "((60000, 10), (10000, 10))"
            ]
          },
          "metadata": {},
          "execution_count": 32
        }
      ]
    },
    {
      "cell_type": "code",
      "source": [
        "# Número de classes\n",
        "n_classes = y_test_1.shape[1]\n",
        "#resposta:\n",
        "print(f\"Quantidade de classes:{n_classes}\")"
      ],
      "metadata": {
        "colab": {
          "base_uri": "https://localhost:8080/"
        },
        "id": "NC2jjPZxhfEZ",
        "outputId": "7cea3623-9f21-4abd-dfde-42a273eb2d2e"
      },
      "execution_count": 25,
      "outputs": [
        {
          "output_type": "stream",
          "name": "stdout",
          "text": [
            "Quantidade de classes:10\n"
          ]
        }
      ]
    },
    {
      "cell_type": "code",
      "source": [
        "#calcula o total de pixels da imagem\n",
        "num_pixels = X_train_1.shape[1] * X_train_1.shape[2] * X_train_1.shape[3]  \n",
        "print(f\"Total de pixels em uma imagem: {num_pixels}\")"
      ],
      "metadata": {
        "colab": {
          "base_uri": "https://localhost:8080/"
        },
        "id": "DnFJkZOShfQv",
        "outputId": "0b368d9c-1bf6-4a19-a0d9-2c24f0af35db"
      },
      "execution_count": 26,
      "outputs": [
        {
          "output_type": "stream",
          "name": "stdout",
          "text": [
            "Total de pixels em uma imagem: 3072\n"
          ]
        }
      ]
    },
    {
      "cell_type": "markdown",
      "source": [
        "* **Agora que já redimensionamos o conjunto de treino e teste, temos os valores correspondentes ao tamanho de pixels de cada imagem, quantidade de classes e valor em formato de vetor(one hot enc) de cada classe, podemos começar a criar o nosso modelo.**"
      ],
      "metadata": {
        "id": "mlZqpc3nkjd2"
      }
    },
    {
      "cell_type": "code",
      "source": [
        "print(f\"total de pixel em uma imagem: {num_pixels}\")\n",
        "print(f\"Classe da figura de índice 4000 do conjunto de treino: {dic[y_train[4000]]}\")\n",
        "print(f\"Classe {y_train[4000]} transfomado em vetor do conjunto de treino: {y_train_1[4000]}\")"
      ],
      "metadata": {
        "colab": {
          "base_uri": "https://localhost:8080/"
        },
        "id": "wQ3rf5iKj2qN",
        "outputId": "2509e402-14f7-4bba-b788-0cb68a623590"
      },
      "execution_count": 36,
      "outputs": [
        {
          "output_type": "stream",
          "name": "stdout",
          "text": [
            "total de pixel em uma imagem: 3072\n",
            "Classe da figura de índice 4000 do conjunto de treino: Bag\n",
            "Classe 8 transfomado em vetor do conjunto de treino: [0. 0. 0. 0. 0. 0. 0. 0. 1. 0.]\n"
          ]
        }
      ]
    },
    {
      "cell_type": "markdown",
      "source": [
        "### Criando o modelo com VGG16:"
      ],
      "metadata": {
        "id": "iwgl1xZBtWoh"
      }
    },
    {
      "cell_type": "code",
      "source": [
        "#Instanciando o modelo e informando o shape conforme o enunciado.\n",
        "model_vgg16 = VGG16(weights=None, input_shape=(32,32,3), classes=10)\n",
        "model_vgg16.summary()"
      ],
      "metadata": {
        "colab": {
          "base_uri": "https://localhost:8080/"
        },
        "id": "qq-CUvHdCRay",
        "outputId": "30797dc5-4824-4f92-e8d9-6e99840f0197"
      },
      "execution_count": 35,
      "outputs": [
        {
          "output_type": "stream",
          "name": "stdout",
          "text": [
            "Model: \"vgg16\"\n",
            "_________________________________________________________________\n",
            " Layer (type)                Output Shape              Param #   \n",
            "=================================================================\n",
            " input_5 (InputLayer)        [(None, 32, 32, 3)]       0         \n",
            "                                                                 \n",
            " block1_conv1 (Conv2D)       (None, 32, 32, 64)        1792      \n",
            "                                                                 \n",
            " block1_conv2 (Conv2D)       (None, 32, 32, 64)        36928     \n",
            "                                                                 \n",
            " block1_pool (MaxPooling2D)  (None, 16, 16, 64)        0         \n",
            "                                                                 \n",
            " block2_conv1 (Conv2D)       (None, 16, 16, 128)       73856     \n",
            "                                                                 \n",
            " block2_conv2 (Conv2D)       (None, 16, 16, 128)       147584    \n",
            "                                                                 \n",
            " block2_pool (MaxPooling2D)  (None, 8, 8, 128)         0         \n",
            "                                                                 \n",
            " block3_conv1 (Conv2D)       (None, 8, 8, 256)         295168    \n",
            "                                                                 \n",
            " block3_conv2 (Conv2D)       (None, 8, 8, 256)         590080    \n",
            "                                                                 \n",
            " block3_conv3 (Conv2D)       (None, 8, 8, 256)         590080    \n",
            "                                                                 \n",
            " block3_pool (MaxPooling2D)  (None, 4, 4, 256)         0         \n",
            "                                                                 \n",
            " block4_conv1 (Conv2D)       (None, 4, 4, 512)         1180160   \n",
            "                                                                 \n",
            " block4_conv2 (Conv2D)       (None, 4, 4, 512)         2359808   \n",
            "                                                                 \n",
            " block4_conv3 (Conv2D)       (None, 4, 4, 512)         2359808   \n",
            "                                                                 \n",
            " block4_pool (MaxPooling2D)  (None, 2, 2, 512)         0         \n",
            "                                                                 \n",
            " block5_conv1 (Conv2D)       (None, 2, 2, 512)         2359808   \n",
            "                                                                 \n",
            " block5_conv2 (Conv2D)       (None, 2, 2, 512)         2359808   \n",
            "                                                                 \n",
            " block5_conv3 (Conv2D)       (None, 2, 2, 512)         2359808   \n",
            "                                                                 \n",
            " block5_pool (MaxPooling2D)  (None, 1, 1, 512)         0         \n",
            "                                                                 \n",
            " flatten (Flatten)           (None, 512)               0         \n",
            "                                                                 \n",
            " fc1 (Dense)                 (None, 4096)              2101248   \n",
            "                                                                 \n",
            " fc2 (Dense)                 (None, 4096)              16781312  \n",
            "                                                                 \n",
            " predictions (Dense)         (None, 10)                40970     \n",
            "                                                                 \n",
            "=================================================================\n",
            "Total params: 33,638,218\n",
            "Trainable params: 33,638,218\n",
            "Non-trainable params: 0\n",
            "_________________________________________________________________\n"
          ]
        }
      ]
    },
    {
      "cell_type": "code",
      "source": [
        "# Compilando o modelo\n",
        "model_vgg16.compile(loss='categorical_crossentropy', optimizer='adam', metrics=['accuracy']) "
      ],
      "metadata": {
        "id": "1Lm6pLD7uGSO"
      },
      "execution_count": 36,
      "outputs": []
    },
    {
      "cell_type": "code",
      "source": [
        "# Executando o treinamento\n",
        "result = model_vgg16.fit(X_train_1, y_train_1, validation_data=(X_test_1, y_test_1), epochs=10, verbose=1, batch_size = 100) "
      ],
      "metadata": {
        "colab": {
          "base_uri": "https://localhost:8080/"
        },
        "id": "v3kAxAe5kE3f",
        "outputId": "04ae82be-4cfd-42ab-f6f1-5f7594e1cecb"
      },
      "execution_count": 39,
      "outputs": [
        {
          "output_type": "stream",
          "name": "stdout",
          "text": [
            "Epoch 1/10\n",
            "600/600 [==============================] - 36s 59ms/step - loss: 1.1058 - accuracy: 0.6215 - val_loss: 0.4610 - val_accuracy: 0.8435\n",
            "Epoch 2/10\n",
            "600/600 [==============================] - 35s 58ms/step - loss: 0.4034 - accuracy: 0.8577 - val_loss: 0.3783 - val_accuracy: 0.8655\n",
            "Epoch 3/10\n",
            "600/600 [==============================] - 35s 58ms/step - loss: 0.3559 - accuracy: 0.8735 - val_loss: 0.3916 - val_accuracy: 0.8657\n",
            "Epoch 4/10\n",
            "600/600 [==============================] - 36s 60ms/step - loss: 0.3176 - accuracy: 0.8879 - val_loss: 0.3067 - val_accuracy: 0.8918\n",
            "Epoch 5/10\n",
            "600/600 [==============================] - 36s 59ms/step - loss: 0.3093 - accuracy: 0.8928 - val_loss: 0.3532 - val_accuracy: 0.8851\n",
            "Epoch 6/10\n",
            "600/600 [==============================] - 36s 59ms/step - loss: 0.2738 - accuracy: 0.9047 - val_loss: 0.3109 - val_accuracy: 0.8953\n",
            "Epoch 7/10\n",
            "600/600 [==============================] - 35s 58ms/step - loss: 0.2581 - accuracy: 0.9098 - val_loss: 0.2994 - val_accuracy: 0.8982\n",
            "Epoch 8/10\n",
            "600/600 [==============================] - 36s 60ms/step - loss: 0.2383 - accuracy: 0.9151 - val_loss: 0.2913 - val_accuracy: 0.9010\n",
            "Epoch 9/10\n",
            "600/600 [==============================] - 36s 60ms/step - loss: 0.2307 - accuracy: 0.9208 - val_loss: 0.2766 - val_accuracy: 0.9111\n",
            "Epoch 10/10\n",
            "600/600 [==============================] - 36s 59ms/step - loss: 0.2102 - accuracy: 0.9256 - val_loss: 0.3731 - val_accuracy: 0.8981\n"
          ]
        }
      ]
    },
    {
      "cell_type": "code",
      "source": [
        "# Realizando a previsão de uma única imagem\n",
        "#obtém a imagem número 1001\n",
        "x = X_test_1[4000]\n",
        "print(f\"tamanho da imagem de índice 4000 do conjunto de teste: {x.shape}\\n\")\n",
        "\n",
        "# Adiciona eixo no primeiro índice\n",
        "x = np.expand_dims(x, axis=0)\n",
        "print(f\"Resultado após adição de eixo: {x.shape}\\n\")\n",
        "\n",
        "# imprime a avaliação da amostra\n",
        "print(f\"Resultado das probabilidades de cada classe: {model_vgg16.predict(x)}\\n\")\n",
        "print(f\"Resultado da classe predita: {dic[np.argmax(model_vgg16.predict(x))]}\\n\")"
      ],
      "metadata": {
        "colab": {
          "base_uri": "https://localhost:8080/"
        },
        "id": "EK3iCowGj21X",
        "outputId": "11631f37-5069-4dfe-9969-f0b79f98c103"
      },
      "execution_count": 40,
      "outputs": [
        {
          "output_type": "stream",
          "name": "stdout",
          "text": [
            "tamanho da imagem de índice 4000 do conjunto de teste: (32, 32, 3)\n",
            "\n",
            "Resultado após adição de eixo: (1, 32, 32, 3)\n",
            "\n",
            "1/1 [==============================] - 0s 406ms/step\n",
            "Resultado das probabilidades de cada classe: [[9.5136452e-01 2.4567605e-06 7.8622979e-04 2.8079734e-04 7.6515425e-06\n",
            "  1.4520448e-07 4.7555152e-02 4.2303284e-08 2.9783730e-06 6.0693239e-08]]\n",
            "\n",
            "1/1 [==============================] - 0s 15ms/step\n",
            "Resultado da classe predita: T-shirt/top\n",
            "\n"
          ]
        }
      ]
    },
    {
      "cell_type": "code",
      "source": [
        "# Realizando a predição de todo conjunto de teste e adicionando os resultados em uma array.\n",
        "predictions=[]\n",
        "\n",
        "for img in tqdm(X_test_1):\n",
        "    img = np.expand_dims(img, axis=0)\n",
        "    predictions.append(model_vgg16.predict(img))\n",
        "    time.sleep(0.1)"
      ],
      "metadata": {
        "id": "FkuiFpRBvdpT"
      },
      "execution_count": null,
      "outputs": []
    },
    {
      "cell_type": "code",
      "source": [
        "# # listing the folders containing images\n",
        "\n",
        "# preparing array that can be used later\n",
        "\n",
        "class_names=['T-shirt/top', 'Trouser', 'Pullover', 'Dress', 'Coat', 'Sandal', 'Shirt', 'Sneaker', 'Bag', 'Ankle boot']\n",
        "print(class_names)\n",
        "\n",
        "val_class_names =['T-shirt/top', 'Trouser', 'Pullover', 'Dress', 'Coat', 'Sandal', 'Shirt', 'Sneaker', 'Bag', 'Ankle boot']\n",
        "print(val_class_names)\n",
        "\n",
        "test_class_names=['T-shirt/top', 'Trouser', 'Pullover', 'Dress', 'Coat', 'Sandal', 'Shirt', 'Sneaker', 'Bag', 'Ankle boot']\n",
        "print(test_class_names)\n",
        "\n",
        "# Function to know the name of the element\n",
        "\n",
        "def Get_Element_Name(argument):\n",
        "    switcher = {\n",
        "        0 :'T-shirt/top',\n",
        "        1 : 'Trouser',\n",
        "        2 : 'Pullover',\n",
        "        3 : 'Dress',\n",
        "        4 : 'Coat',\n",
        "        5 : 'Sandal',\n",
        "        6 : 'Shirt',\n",
        "        7 : 'Sneaker',\n",
        "        8 : 'Bag',\n",
        "        9 : 'Ankle boot',\n",
        "    }\n",
        "    return switcher.get(argument, \"Invalid\")\n",
        "\n",
        "print(Get_Element_Name(0))"
      ],
      "metadata": {
        "colab": {
          "base_uri": "https://localhost:8080/"
        },
        "id": "aCrD0JJR_ynt",
        "outputId": "f51173e2-73f1-4ef3-f98a-a18017fdd0fb"
      },
      "execution_count": 44,
      "outputs": [
        {
          "output_type": "stream",
          "name": "stdout",
          "text": [
            "['T-shirt/top', 'Trouser', 'Pullover', 'Dress', 'Coat', 'Sandal', 'Shirt', 'Sneaker', 'Bag', 'Ankle boot']\n",
            "['T-shirt/top', 'Trouser', 'Pullover', 'Dress', 'Coat', 'Sandal', 'Shirt', 'Sneaker', 'Bag', 'Ankle boot']\n",
            "['T-shirt/top', 'Trouser', 'Pullover', 'Dress', 'Coat', 'Sandal', 'Shirt', 'Sneaker', 'Bag', 'Ankle boot']\n",
            "T-shirt/top\n"
          ]
        }
      ]
    },
    {
      "cell_type": "code",
      "source": [
        "from IPython.display import Image\n",
        "from keras.applications.vgg16 import preprocess_input\n",
        "\n",
        "# Esta função ajuda a prever a imagem individual fornecida a ela\n",
        "# Função 1\n",
        "def predict(img_name):\n",
        "    img=image.load_img(img_name,target_size=(32,32))\n",
        "    img=image.img_to_array(img)\n",
        "    plt.imshow(img.astype('int32'))\n",
        "    plt.show()\n",
        "    img=preprocess_input(img)\n",
        "\n",
        "    prediction=model.predict(img.reshape(1,32,32,3))\n",
        "    output=np.argmax(prediction)\n",
        "\n",
        "    print(class_names[output] + \": \" + Get_Element_Name(class_names[output]))\n",
        "\n",
        "    \n",
        "# Função 2\n",
        "# Esta função plota a imagem fornecida no array\n",
        "def plot_image(i, predictions_array, true_label, img): \n",
        "    \n",
        "    predictions_array, true_label, img = predictions_array[i], true_label[i], img[i]\n",
        "    \n",
        "    plt.grid(False)\n",
        "    plt.xticks([])\n",
        "    plt.yticks([])\n",
        "    \n",
        "    plt.imshow(img.astype('int32'))\n",
        "    \n",
        "    predicted_label=np.argmax(predictions_array)\n",
        "    true_label=np.argmax(true_label)\n",
        "\n",
        "    if predicted_label == true_label: \n",
        "        color='blue' \n",
        "    else:\n",
        "        color='red'\n",
        "    \n",
        "    plt.xlabel(\"{} {:2.0f}% \\n ({})\".format(Get_Element_Name(predicted_label), \n",
        "                                            100*np.max(predictions_array), Get_Element_Name(true_label), \n",
        "                                            color=color, horizontalalignment='left'))        \n",
        "\n",
        "# Função 3\n",
        "\n",
        "# Esta função plota o gráfico de barras fornecido nos dados da matriz\n",
        "def plot_value_array(i, predictions_array, true_label): \n",
        "    predictions_array, true_label = predictions_array[i], true_label[i]\n",
        "    plt.grid(False)\n",
        "    plt.xticks([])\n",
        "    plt.yticks([])\n",
        "    predicted_label=np.argmax(predictions_array)\n",
        "    true_label=np.argmax(true_label)\n",
        "\n",
        "    if predicted_label == 0:\n",
        "        predicted_label=1\n",
        "    if true_label == 0:\n",
        "        true_label=1\n",
        "    \n",
        "    thisplot=plt.bar(range(10), predicted_label, color='seashell')\n",
        "    plt.ylim([0,1])\n",
        "    thisplot[predicted_label].set_color('red')\n",
        "    thisplot[true_label].set_color('blue')"
      ],
      "metadata": {
        "id": "9EdXAu70--m1"
      },
      "execution_count": 1,
      "outputs": []
    },
    {
      "cell_type": "code",
      "source": [
        "# variaveis\n",
        "num_rows=2\n",
        "num_cols=5\n",
        "num_images=num_rows*num_cols\n",
        "\n",
        "plt.figure(figsize=(2*2*num_cols,2*num_rows))\n",
        "\n",
        "print(\"Classificação com (VGG16)\\n\")\n",
        "print(\"predito, Porcentagem, (real)\\n\")\n",
        "\n",
        "for i in range(num_images):\n",
        "    plt.subplot(num_rows, 2*num_cols, 2*i+1)\n",
        "    ii=random.randrange(1,10000)\n",
        "    plot_image(ii,predictions, y_test_1, X_test)\n",
        "    \n",
        "    plt.subplot(num_rows, 2*num_cols, 2*i+2)\n",
        "\n",
        "    plot_value_array(i, predictions, y_test_1)\n",
        "plt.subplots_adjust(hspace=0.5)\n",
        "plt.show()"
      ],
      "metadata": {
        "colab": {
          "base_uri": "https://localhost:8080/",
          "height": 345
        },
        "id": "kJxKw1sSx9XL",
        "outputId": "6371b9e5-936c-46b4-9a4c-1e871d70c05f"
      },
      "execution_count": 52,
      "outputs": [
        {
          "output_type": "stream",
          "name": "stdout",
          "text": [
            "Classificação com (VGG16)\n",
            "\n",
            "predito, Porcentagem, (real)\n",
            "\n"
          ]
        },
        {
          "output_type": "display_data",
          "data": {
            "text/plain": [
              "<Figure size 1440x288 with 20 Axes>"
            ],
            "image/png": "[encoded data removed]"
          },
          "metadata": {}
        }
      ]
    },
    {
      "cell_type": "code",
      "source": [
        "# plot loss e accuracy\n",
        "\n",
        "acc = result.history['accuracy']\n",
        "val_acc = result.history['val_accuracy']\n",
        "loss = result.history['loss']\n",
        "val_loss = result.history['val_loss']\n",
        "epochs = range(1, len(acc) + 1)\n",
        "\n",
        "plt.title('Acurácia entre Treino e Validação')\n",
        "plt.plot(epochs, acc, 'red', label='Treino acc')\n",
        "plt.plot(epochs, val_acc, 'blue', label='Validação acc')\n",
        "plt.legend()\n",
        "\n",
        "plt.figure()\n",
        "plt.title('Perda(loss) entre Treino e Validação')\n",
        "plt.plot(epochs, loss, 'red', label='Treino - loss')\n",
        "plt.plot(epochs, val_loss, 'blue', label='Validação - loss')\n",
        "\n",
        "plt.legend()\n",
        "\n",
        "plt.show()"
      ],
      "metadata": {
        "colab": {
          "base_uri": "https://localhost:8080/",
          "height": 545
        },
        "id": "5wICmy7vvdtN",
        "outputId": "b9f6b882-18c9-40bf-c55a-d7d62b963927"
      },
      "execution_count": 43,
      "outputs": [
        {
          "output_type": "display_data",
          "data": {
            "text/plain": [
              "<Figure size 432x288 with 1 Axes>"
            ],
            "image/png": "[encoded data removed]"
          },
          "metadata": {
            "needs_background": "light"
          }
        },
        {
          "output_type": "display_data",
          "data": {
            "text/plain": [
              "<Figure size 432x288 with 1 Axes>"
            ],
            "image/png": "[encoded data removed]"
          },
          "metadata": {
            "needs_background": "light"
          }
        }
      ]
    },
    {
      "cell_type": "code",
      "source": [],
      "metadata": {
        "id": "HLctwZSZRBGI"
      },
      "execution_count": null,
      "outputs": []
    },
    {
      "cell_type": "code",
      "source": [],
      "metadata": {
        "id": "x95ndZaWms-F"
      },
      "execution_count": null,
      "outputs": []
    },
    {
      "cell_type": "markdown",
      "source": [
        "# Exercício 2"
      ],
      "metadata": {
        "id": "CbAEUh2gRHgC"
      }
    },
    {
      "cell_type": "code",
      "source": [
        "# Carregando o dataset\n",
        "(X_train, y_train), (X_test, y_test) = fashion_mnist.load_data() #importa o dataset Mnist da biblioteca do Keras\n",
        "print(X_train.shape) #imprime o tamanho do vetor\n",
        "\n",
        "first_image = X_train[4000] #obtém a imagem de treino no índice 4000 do vetor\n",
        "# realiza manipulação dos dados da imagem\n",
        "first_image = np.array(first_image, dtype='float')\n",
        "pixels = first_image.reshape((28, 28))\n",
        "#exibe a imagem do vetor\n",
        "plt.imshow(pixels, cmap='gray')\n",
        "plt.show()\n",
        "\n",
        "print(y_train[4000]) #imprime a classe da imagem de treino do índice 4000"
      ],
      "metadata": {
        "colab": {
          "base_uri": "https://localhost:8080/",
          "height": 302
        },
        "id": "m2IFkSZ5RBJJ",
        "outputId": "bff522c7-f7dd-4ad1-bdf2-d117e3ada768"
      },
      "execution_count": 5,
      "outputs": [
        {
          "output_type": "stream",
          "name": "stdout",
          "text": [
            "(60000, 28, 28)\n"
          ]
        },
        {
          "output_type": "display_data",
          "data": {
            "text/plain": [
              "<Figure size 432x288 with 1 Axes>"
            ],
            "image/png": "[encoded data removed]"
          },
          "metadata": {
            "needs_background": "light"
          }
        },
        {
          "output_type": "stream",
          "name": "stdout",
          "text": [
            "8\n"
          ]
        }
      ]
    },
    {
      "cell_type": "code",
      "source": [
        "# resposta da pergunta 8\n",
        "first_image = X_test[4000] #obtém a imagem de treino no índice 4000 do vetor\n",
        "# realiza manipulação dos dados da imagem\n",
        "first_image = np.array(first_image, dtype='float')\n",
        "pixels = first_image.reshape((28, 28))\n",
        "#exibe a imagem do vetor\n",
        "plt.imshow(pixels, cmap='gray')\n",
        "plt.show()\n",
        "\n",
        "print(y_test[4000]) #imprime a classe da imagem de treino do índice 4000"
      ],
      "metadata": {
        "colab": {
          "base_uri": "https://localhost:8080/",
          "height": 283
        },
        "id": "l284J8X9jLqc",
        "outputId": "209a6e48-baf5-44bd-b186-6fe21a6009c4"
      },
      "execution_count": 6,
      "outputs": [
        {
          "output_type": "display_data",
          "data": {
            "text/plain": [
              "<Figure size 432x288 with 1 Axes>"
            ],
            "image/png": "[encoded data removed]"
          },
          "metadata": {
            "needs_background": "light"
          }
        },
        {
          "output_type": "stream",
          "name": "stdout",
          "text": [
            "0\n"
          ]
        }
      ]
    },
    {
      "cell_type": "code",
      "source": [
        "num_pixels = X_train.shape[1] * X_train.shape[2]  #calcula o total de pixels da imagem\n",
        "print(num_pixels)\n",
        "\n",
        "#tranforma os valores dos pixels para float32\n",
        "X_train2 = X_train.reshape(X_train.shape[0], num_pixels).astype('float32')\n",
        "X_test2 = X_test.reshape(X_test.shape[0], num_pixels).astype('float32')\n",
        "\n",
        "#normalizando os valores dos pixels entre 0 e 1\n",
        "X_train2 = X_train2 / 255\n",
        "X_test2 = X_test2 / 255"
      ],
      "metadata": {
        "colab": {
          "base_uri": "https://localhost:8080/"
        },
        "id": "W4scbjFRRBLw",
        "outputId": "55706281-acb1-4e43-cb52-e1b85b13e66e"
      },
      "execution_count": 7,
      "outputs": [
        {
          "output_type": "stream",
          "name": "stdout",
          "text": [
            "784\n"
          ]
        }
      ]
    },
    {
      "cell_type": "code",
      "source": [
        "# transforma os y em one-hot vector\n",
        "y_train_h = np_utils.to_categorical(y_train)\n",
        "y_test_h = np_utils.to_categorical(y_test)\n",
        "\n",
        "#otém o número de classes do problema\n",
        "num_classes = y_test_h.shape[1]\n",
        "\n",
        "print(f\"Quantidade de pixels:{num_pixels}\")\n",
        "print(f\"Classe correspondente ao índice 4000: {y_train[4000]}\")\n",
        "print(f\"Vetor correspondente a classe {y_train[4000]}: {y_train_h[4000]}\")"
      ],
      "metadata": {
        "colab": {
          "base_uri": "https://localhost:8080/"
        },
        "id": "dGYQOZw3Tkg-",
        "outputId": "00b4f302-b8ec-4cac-ce7c-21cce9df3bae"
      },
      "execution_count": 8,
      "outputs": [
        {
          "output_type": "stream",
          "name": "stdout",
          "text": [
            "Quantidade de pixels:784\n",
            "Classe correspondente ao índice 4000: 8\n",
            "Vetor correspondente a classe 8: [0. 0. 0. 0. 0. 0. 0. 0. 1. 0.]\n"
          ]
        }
      ]
    },
    {
      "cell_type": "code",
      "source": [
        "num_pixels"
      ],
      "metadata": {
        "colab": {
          "base_uri": "https://localhost:8080/"
        },
        "id": "zwIaiT1sWXga",
        "outputId": "becafb61-cf15-4e39-839a-db90587a4fdc"
      },
      "execution_count": 9,
      "outputs": [
        {
          "output_type": "execute_result",
          "data": {
            "text/plain": [
              "784"
            ]
          },
          "metadata": {},
          "execution_count": 9
        }
      ]
    },
    {
      "cell_type": "code",
      "source": [
        "# Cria um modelo do tipo sequencial\n",
        "model = Sequential()\n",
        "\n",
        "model.add(InputLayer(input_shape = num_pixels)) # Camada de entrada: um neurônio por pixel;\n",
        "model.add(Dense(num_pixels, kernel_initializer='normal', activation='relu')) # Camada oculta 1: número de neurônios igual ao número de pixels;\n",
        "model.add(Dense(1024, kernel_initializer='normal', activation='relu')) # Camada oculta 2: 1024 neurônios;\n",
        "model.add(Dense(2048, kernel_initializer='normal', activation='relu')) # Camada oculta 3: 2048 neurônios;\n",
        "model.add(Dense(2048, kernel_initializer='normal', activation='relu')) # Camada oculta 4: 2048 neurônios;\n",
        "model.add(Dense(num_classes, kernel_initializer='normal', activation='softmax')) # cria a camada de saída\n",
        "\n",
        "model.summary() #imprime informações sobre o modelo"
      ],
      "metadata": {
        "colab": {
          "base_uri": "https://localhost:8080/"
        },
        "id": "B6kTD-yQU-AO",
        "outputId": "533f891d-0df7-451e-bc3c-1b9524f38cda"
      },
      "execution_count": 10,
      "outputs": [
        {
          "output_type": "stream",
          "name": "stdout",
          "text": [
            "Model: \"sequential\"\n",
            "_________________________________________________________________\n",
            " Layer (type)                Output Shape              Param #   \n",
            "=================================================================\n",
            " dense (Dense)               (None, 784)               615440    \n",
            "                                                                 \n",
            " dense_1 (Dense)             (None, 1024)              803840    \n",
            "                                                                 \n",
            " dense_2 (Dense)             (None, 2048)              2099200   \n",
            "                                                                 \n",
            " dense_3 (Dense)             (None, 2048)              4196352   \n",
            "                                                                 \n",
            " dense_4 (Dense)             (None, 10)                20490     \n",
            "                                                                 \n",
            "=================================================================\n",
            "Total params: 7,735,322\n",
            "Trainable params: 7,735,322\n",
            "Non-trainable params: 0\n",
            "_________________________________________________________________\n"
          ]
        }
      ]
    },
    {
      "cell_type": "code",
      "source": [
        "# Cria um modelo do tipo sequencial\n",
        "model = Sequential()\n",
        "\n",
        "model.add(InputLayer(input_shape = num_pixels)) # Camada de entrada: um neurônio por pixel;\n",
        "model.add(Dense(num_pixels, kernel_initializer='normal', activation='relu')) # Camada oculta 1: número de neurônios igual ao número de pixels;\n",
        "model.add(Dense(1024, kernel_initializer='normal', activation='relu')) # Camada oculta 2: 1024 neurônios;\n",
        "model.add(Dense(2048, kernel_initializer='normal', activation='relu')) # Camada oculta 3: 2048 neurônios;\n",
        "model.add(Dense(2048, kernel_initializer='normal', activation='relu')) # Camada oculta 4: 2048 neurônios;\n",
        "model.add(Dense(num_classes, kernel_initializer='normal', activation='softmax')) # cria a camada de saída\n",
        "\n",
        "model.summary() #imprime informações sobre o modelo"
      ],
      "metadata": {
        "colab": {
          "base_uri": "https://localhost:8080/"
        },
        "id": "uKmEOqIEmto7",
        "outputId": "5a6c666c-01cf-42f4-bd88-d16e4aff788b"
      },
      "execution_count": 12,
      "outputs": [
        {
          "output_type": "stream",
          "name": "stdout",
          "text": [
            "Model: \"sequential_1\"\n",
            "_________________________________________________________________\n",
            " Layer (type)                Output Shape              Param #   \n",
            "=================================================================\n",
            " dense_5 (Dense)             (None, 784)               615440    \n",
            "                                                                 \n",
            " dense_6 (Dense)             (None, 1024)              803840    \n",
            "                                                                 \n",
            " dense_7 (Dense)             (None, 2048)              2099200   \n",
            "                                                                 \n",
            " dense_8 (Dense)             (None, 2048)              4196352   \n",
            "                                                                 \n",
            " dense_9 (Dense)             (None, 10)                20490     \n",
            "                                                                 \n",
            "=================================================================\n",
            "Total params: 7,735,322\n",
            "Trainable params: 7,735,322\n",
            "Non-trainable params: 0\n",
            "_________________________________________________________________\n"
          ]
        }
      ]
    },
    {
      "cell_type": "code",
      "source": [
        "#compilando o modelo criado.\n",
        "model.compile(loss='categorical_crossentropy', optimizer='adam', metrics='accuracy') "
      ],
      "metadata": {
        "id": "sJmCbxaEm2Wj"
      },
      "execution_count": 13,
      "outputs": []
    },
    {
      "cell_type": "code",
      "source": [
        "# execulta o treinamento.\n",
        "result = model.fit(X_train2,y_train_h, validation_data=(X_test2,y_test_h), epochs=20, verbose=1, batch_size=100) "
      ],
      "metadata": {
        "colab": {
          "base_uri": "https://localhost:8080/"
        },
        "id": "lo9lNCiXHTzI",
        "outputId": "ec210e9f-d0bd-4031-df57-e6db4c871790"
      },
      "execution_count": 15,
      "outputs": [
        {
          "output_type": "stream",
          "name": "stdout",
          "text": [
            "Epoch 1/20\n",
            "600/600 [==============================] - 100s 166ms/step - loss: 0.3967 - accuracy: 0.8564 - val_loss: 0.3807 - val_accuracy: 0.8618\n",
            "Epoch 2/20\n",
            "600/600 [==============================] - 89s 148ms/step - loss: 0.3426 - accuracy: 0.8733 - val_loss: 0.3895 - val_accuracy: 0.8608\n",
            "Epoch 3/20\n",
            "600/600 [==============================] - 88s 147ms/step - loss: 0.3152 - accuracy: 0.8830 - val_loss: 0.3669 - val_accuracy: 0.8659\n",
            "Epoch 4/20\n",
            "600/600 [==============================] - 92s 154ms/step - loss: 0.2933 - accuracy: 0.8919 - val_loss: 0.3527 - val_accuracy: 0.8723\n",
            "Epoch 5/20\n",
            "600/600 [==============================] - 93s 155ms/step - loss: 0.2768 - accuracy: 0.8959 - val_loss: 0.3477 - val_accuracy: 0.8783\n",
            "Epoch 6/20\n",
            "600/600 [==============================] - 95s 158ms/step - loss: 0.2678 - accuracy: 0.8997 - val_loss: 0.3629 - val_accuracy: 0.8733\n",
            "Epoch 7/20\n",
            "600/600 [==============================] - 92s 154ms/step - loss: 0.2540 - accuracy: 0.9044 - val_loss: 0.3450 - val_accuracy: 0.8780\n",
            "Epoch 8/20\n",
            "600/600 [==============================] - 93s 156ms/step - loss: 0.2452 - accuracy: 0.9067 - val_loss: 0.3315 - val_accuracy: 0.8798\n",
            "Epoch 9/20\n",
            "600/600 [==============================] - 121s 201ms/step - loss: 0.2335 - accuracy: 0.9116 - val_loss: 0.3431 - val_accuracy: 0.8829\n",
            "Epoch 10/20\n",
            "600/600 [==============================] - 104s 173ms/step - loss: 0.2277 - accuracy: 0.9139 - val_loss: 0.3452 - val_accuracy: 0.8774\n",
            "Epoch 11/20\n",
            "600/600 [==============================] - 101s 169ms/step - loss: 0.2179 - accuracy: 0.9167 - val_loss: 0.3319 - val_accuracy: 0.8868\n",
            "Epoch 12/20\n",
            "600/600 [==============================] - 97s 161ms/step - loss: 0.2101 - accuracy: 0.9205 - val_loss: 0.3546 - val_accuracy: 0.8838\n",
            "Epoch 13/20\n",
            "600/600 [==============================] - 96s 160ms/step - loss: 0.2008 - accuracy: 0.9238 - val_loss: 0.3807 - val_accuracy: 0.8819\n",
            "Epoch 14/20\n",
            "600/600 [==============================] - 93s 156ms/step - loss: 0.1895 - accuracy: 0.9279 - val_loss: 0.3562 - val_accuracy: 0.8875\n",
            "Epoch 15/20\n",
            "600/600 [==============================] - 100s 167ms/step - loss: 0.1863 - accuracy: 0.9293 - val_loss: 0.3775 - val_accuracy: 0.8844\n",
            "Epoch 16/20\n",
            "600/600 [==============================] - 109s 181ms/step - loss: 0.1787 - accuracy: 0.9328 - val_loss: 0.3727 - val_accuracy: 0.8911\n",
            "Epoch 17/20\n",
            "600/600 [==============================] - 107s 179ms/step - loss: 0.1739 - accuracy: 0.9334 - val_loss: 0.4340 - val_accuracy: 0.8854\n",
            "Epoch 18/20\n",
            "600/600 [==============================] - 99s 166ms/step - loss: 0.1635 - accuracy: 0.9366 - val_loss: 0.3879 - val_accuracy: 0.8951\n",
            "Epoch 19/20\n",
            "600/600 [==============================] - 102s 171ms/step - loss: 0.1592 - accuracy: 0.9385 - val_loss: 0.3862 - val_accuracy: 0.8872\n",
            "Epoch 20/20\n",
            "600/600 [==============================] - 105s 176ms/step - loss: 0.1551 - accuracy: 0.9398 - val_loss: 0.3924 - val_accuracy: 0.8871\n"
          ]
        }
      ]
    },
    {
      "cell_type": "code",
      "source": [
        "# Realizando a previsão de uma única imagem\n",
        "#obtém a imagem número 1001\n",
        "x = X_test2[4000]\n",
        "print(f\"tamanho da imagem de índice 4000 do conjunto de teste: {x.shape}\\n\")\n",
        "\n",
        "# Adiciona eixo no primeiro índice\n",
        "x = np.expand_dims(x, axis=0)\n",
        "print(f\"Resultado após adição de eixo: {x.shape}\\n\")\n",
        "\n",
        "# imprime a avaliação da amostra\n",
        "print(f\"Resultado das probabilidades de cada classe: {model.predict(x)}\\n\")\n",
        "print(f\"Resultado da classe predita: {dic[np.argmax(model.predict(x))]}\\n\")"
      ],
      "metadata": {
        "colab": {
          "base_uri": "https://localhost:8080/"
        },
        "id": "iy4y9zwAHigl",
        "outputId": "47404d01-cfa1-4a00-bff3-2214670f9ed8"
      },
      "execution_count": 21,
      "outputs": [
        {
          "output_type": "stream",
          "name": "stdout",
          "text": [
            "tamanho da imagem de índice 4000 do conjunto de teste: (784,)\n",
            "\n",
            "Resultado após adição de eixo: (1, 784)\n",
            "\n",
            "1/1 [==============================] - 0s 19ms/step\n",
            "Resultado das probabilidades de cada classe: [[9.8109150e-01 3.3639955e-09 8.6576375e-07 1.7096028e-05 8.0623056e-07\n",
            "  1.7227844e-09 1.8889720e-02 1.0046431e-11 5.6882151e-08 7.8887374e-12]]\n",
            "\n",
            "1/1 [==============================] - 0s 18ms/step\n",
            "Resultado da classe predita: T-shirt/top\n",
            "\n"
          ]
        }
      ]
    },
    {
      "cell_type": "code",
      "source": [
        "# plot loss e accuracy\n",
        "\n",
        "acc = result.history['accuracy']\n",
        "val_acc = result.history['val_accuracy']\n",
        "loss = result.history['loss']\n",
        "val_loss = result.history['val_loss']\n",
        "epochs = range(1, len(acc) + 1)\n",
        "\n",
        "plt.title('Acurácia entre Treino e Validação')\n",
        "plt.plot(epochs, acc, 'red', label='Treino acc')\n",
        "plt.plot(epochs, val_acc, 'blue', label='Validação acc')\n",
        "plt.legend()\n",
        "\n",
        "plt.figure()\n",
        "plt.title('Perda(loss) entre Treino e Validação')\n",
        "plt.plot(epochs, loss, 'red', label='Treino - loss')\n",
        "plt.plot(epochs, val_loss, 'blue', label='Validação - loss')\n",
        "\n",
        "plt.legend()\n",
        "\n",
        "plt.show()"
      ],
      "metadata": {
        "colab": {
          "base_uri": "https://localhost:8080/",
          "height": 545
        },
        "id": "HPE52qwnK9jo",
        "outputId": "54d9d2cc-f28a-425f-94d8-afa8f3921d65"
      },
      "execution_count": 22,
      "outputs": [
        {
          "output_type": "display_data",
          "data": {
            "text/plain": [
              "<Figure size 432x288 with 1 Axes>"
            ],
            "image/png": "[encoded data removed]"
          },
          "metadata": {
            "needs_background": "light"
          }
        },
        {
          "output_type": "display_data",
          "data": {
            "text/plain": [
              "<Figure size 432x288 with 1 Axes>"
            ],
            "image/png": "[encoded data removed]"
          },
          "metadata": {
            "needs_background": "light"
          }
        }
      ]
    },
    {
      "cell_type": "code",
      "source": [],
      "metadata": {
        "id": "eGNx48WdLQMr"
      },
      "execution_count": null,
      "outputs": []
    },
    {
      "cell_type": "markdown",
      "source": [
        "# Questões do Trabalho Prático 1"
      ],
      "metadata": {
        "id": "Qq7UjUMwNVFG"
      }
    },
    {
      "cell_type": "markdown",
      "source": [
        "### 1- O elemento do índice 4000 do vetor de treinamento corresponde a qual classe? "
      ],
      "metadata": {
        "id": "HJV8ZNBtNX-l"
      }
    },
    {
      "cell_type": "code",
      "source": [
        "first_image = X_train[4000] #obtém a imagem de treino no índice 4000 do vetor\n",
        "# realiza manipulação dos dados da imagem\n",
        "first_image = np.array(first_image, dtype='float')\n",
        "pixels = first_image.reshape((28, 28))\n",
        "#exibe a imagem do vetor\n",
        "plt.imshow(pixels, cmap='gray')\n",
        "plt.show()\n",
        "\n",
        "print(y_train[4000]) #imprime a classe da imagem de treino do índice 4000"
      ],
      "metadata": {
        "colab": {
          "base_uri": "https://localhost:8080/",
          "height": 283
        },
        "id": "6WZRpamPLQa6",
        "outputId": "0f410a6a-9b68-4b5d-c076-bb48f7c23327"
      },
      "execution_count": 23,
      "outputs": [
        {
          "output_type": "display_data",
          "data": {
            "text/plain": [
              "<Figure size 432x288 with 1 Axes>"
            ],
            "image/png": "[encoded data removed]"
          },
          "metadata": {
            "needs_background": "light"
          }
        },
        {
          "output_type": "stream",
          "name": "stdout",
          "text": [
            "8\n"
          ]
        }
      ]
    },
    {
      "cell_type": "markdown",
      "source": [
        "### 2- Quantos são os parâmetros treináveis da VGG16? "
      ],
      "metadata": {
        "id": "DFj9X3EuNufX"
      }
    },
    {
      "cell_type": "code",
      "source": [
        "#Instanciando o modelo e informando o shape conforme o enunciado.\n",
        "model_vgg16 = VGG16(weights=None, input_shape=(32,32,3), classes=10)\n",
        "model_vgg16.count_params()"
      ],
      "metadata": {
        "colab": {
          "base_uri": "https://localhost:8080/"
        },
        "id": "rsbpzvshNz1J",
        "outputId": "7ffa6828-4cd2-4de7-b407-c8a9143fab10"
      },
      "execution_count": 49,
      "outputs": [
        {
          "output_type": "execute_result",
          "data": {
            "text/plain": [
              "33638218"
            ]
          },
          "metadata": {},
          "execution_count": 49
        }
      ]
    },
    {
      "cell_type": "markdown",
      "source": [
        "### 3- Quantos são os parâmetros treináveis da segunda rede criada? "
      ],
      "metadata": {
        "id": "eQ-I-4lDODmR"
      }
    },
    {
      "cell_type": "code",
      "source": [
        "# Cria um modelo do tipo sequencial\n",
        "model = Sequential()\n",
        "\n",
        "model.add(InputLayer(input_shape = num_pixels)) # Camada de entrada: um neurônio por pixel;\n",
        "model.add(Dense(num_pixels, kernel_initializer='normal', activation='relu')) # Camada oculta 1: número de neurônios igual ao número de pixels;\n",
        "model.add(Dense(1024, kernel_initializer='normal', activation='relu')) # Camada oculta 2: 1024 neurônios;\n",
        "model.add(Dense(2048, kernel_initializer='normal', activation='relu')) # Camada oculta 3: 2048 neurônios;\n",
        "model.add(Dense(2048, kernel_initializer='normal', activation='relu')) # Camada oculta 4: 2048 neurônios;\n",
        "model.add(Dense(num_classes, kernel_initializer='normal', activation='softmax')) # cria a camada de saída\n",
        "\n",
        "model.count_params() #imprime informações sobre o modelo"
      ],
      "metadata": {
        "colab": {
          "base_uri": "https://localhost:8080/"
        },
        "id": "pNYZSl0hOIFW",
        "outputId": "43bc2066-92fa-4df1-bf19-74b340421ac8"
      },
      "execution_count": 50,
      "outputs": [
        {
          "output_type": "execute_result",
          "data": {
            "text/plain": [
              "7735322"
            ]
          },
          "metadata": {},
          "execution_count": 50
        }
      ]
    },
    {
      "cell_type": "markdown",
      "source": [
        "### 4- Quantos são os pixels de cada amostra depois de transformadas para serem utilizadas na Vgg-Net?"
      ],
      "metadata": {
        "id": "N-DDBSA8OO0X"
      }
    },
    {
      "cell_type": "code",
      "source": [
        "#calcula o total de pixels da imagem\n",
        "num_pixels = X_train_1.shape[1] * X_train_1.shape[2] * X_train_1.shape[3]  \n",
        "print(f\"Total de pixels em uma imagem: {num_pixels}\")"
      ],
      "metadata": {
        "colab": {
          "base_uri": "https://localhost:8080/"
        },
        "id": "-IPb2GEmOVs8",
        "outputId": "56dbbdbc-617e-4f64-f798-c6e7aa93bafd"
      },
      "execution_count": 33,
      "outputs": [
        {
          "output_type": "stream",
          "name": "stdout",
          "text": [
            "Total de pixels em uma imagem: 3072\n"
          ]
        }
      ]
    },
    {
      "cell_type": "markdown",
      "source": [
        "### 5- Caso você tente utilizar a VGG-Net com as imagens originais, sem redimensionamento, qual erro é obtido durante o treinamento?"
      ],
      "metadata": {
        "id": "texDTyJ-OmDG"
      }
    },
    {
      "cell_type": "code",
      "source": [
        "# Executando o treinamento\n",
        "result = model_vgg16.fit(X_train, y_train, validation_data=(X_test, y_test), epochs=2, verbose=1, batch_size = 100)"
      ],
      "metadata": {
        "colab": {
          "base_uri": "https://localhost:8080/",
          "height": 634
        },
        "id": "NQcmVPP-O-xP",
        "outputId": "5839f8b7-244e-4aae-8979-7c808fae2038"
      },
      "execution_count": 37,
      "outputs": [
        {
          "output_type": "stream",
          "name": "stdout",
          "text": [
            "Epoch 1/2\n"
          ]
        },
        {
          "output_type": "error",
          "ename": "ValueError",
          "evalue": "ignored",
          "traceback": [
            "\u001b[0;31m---------------------------------------------------------------------------\u001b[0m",
            "\u001b[0;31mValueError\u001b[0m                                Traceback (most recent call last)",
            "\u001b[0;32m<ipython-input-37-27a8efdb4c35>\u001b[0m in \u001b[0;36m<module>\u001b[0;34m\u001b[0m\n\u001b[1;32m      1\u001b[0m \u001b[0;31m# Executando o treinamento\u001b[0m\u001b[0;34m\u001b[0m\u001b[0;34m\u001b[0m\u001b[0;34m\u001b[0m\u001b[0m\n\u001b[0;32m----> 2\u001b[0;31m \u001b[0mresult\u001b[0m \u001b[0;34m=\u001b[0m \u001b[0mmodel_vgg16\u001b[0m\u001b[0;34m.\u001b[0m\u001b[0mfit\u001b[0m\u001b[0;34m(\u001b[0m\u001b[0mX_train\u001b[0m\u001b[0;34m,\u001b[0m \u001b[0my_train\u001b[0m\u001b[0;34m,\u001b[0m \u001b[0mvalidation_data\u001b[0m\u001b[0;34m=\u001b[0m\u001b[0;34m(\u001b[0m\u001b[0mX_test\u001b[0m\u001b[0;34m,\u001b[0m \u001b[0my_test\u001b[0m\u001b[0;34m)\u001b[0m\u001b[0;34m,\u001b[0m \u001b[0mepochs\u001b[0m\u001b[0;34m=\u001b[0m\u001b[0;36m2\u001b[0m\u001b[0;34m,\u001b[0m \u001b[0mverbose\u001b[0m\u001b[0;34m=\u001b[0m\u001b[0;36m1\u001b[0m\u001b[0;34m,\u001b[0m \u001b[0mbatch_size\u001b[0m \u001b[0;34m=\u001b[0m \u001b[0;36m100\u001b[0m\u001b[0;34m)\u001b[0m\u001b[0;34m\u001b[0m\u001b[0;34m\u001b[0m\u001b[0m\n\u001b[0m",
            "\u001b[0;32m/usr/local/lib/python3.8/dist-packages/keras/utils/traceback_utils.py\u001b[0m in \u001b[0;36merror_handler\u001b[0;34m(*args, **kwargs)\u001b[0m\n\u001b[1;32m     65\u001b[0m     \u001b[0;32mexcept\u001b[0m \u001b[0mException\u001b[0m \u001b[0;32mas\u001b[0m \u001b[0me\u001b[0m\u001b[0;34m:\u001b[0m  \u001b[0;31m# pylint: disable=broad-except\u001b[0m\u001b[0;34m\u001b[0m\u001b[0;34m\u001b[0m\u001b[0m\n\u001b[1;32m     66\u001b[0m       \u001b[0mfiltered_tb\u001b[0m \u001b[0;34m=\u001b[0m \u001b[0m_process_traceback_frames\u001b[0m\u001b[0;34m(\u001b[0m\u001b[0me\u001b[0m\u001b[0;34m.\u001b[0m\u001b[0m__traceback__\u001b[0m\u001b[0;34m)\u001b[0m\u001b[0;34m\u001b[0m\u001b[0;34m\u001b[0m\u001b[0m\n\u001b[0;32m---> 67\u001b[0;31m       \u001b[0;32mraise\u001b[0m \u001b[0me\u001b[0m\u001b[0;34m.\u001b[0m\u001b[0mwith_traceback\u001b[0m\u001b[0;34m(\u001b[0m\u001b[0mfiltered_tb\u001b[0m\u001b[0;34m)\u001b[0m \u001b[0;32mfrom\u001b[0m \u001b[0;32mNone\u001b[0m\u001b[0;34m\u001b[0m\u001b[0;34m\u001b[0m\u001b[0m\n\u001b[0m\u001b[1;32m     68\u001b[0m     \u001b[0;32mfinally\u001b[0m\u001b[0;34m:\u001b[0m\u001b[0;34m\u001b[0m\u001b[0;34m\u001b[0m\u001b[0m\n\u001b[1;32m     69\u001b[0m       \u001b[0;32mdel\u001b[0m \u001b[0mfiltered_tb\u001b[0m\u001b[0;34m\u001b[0m\u001b[0;34m\u001b[0m\u001b[0m\n",
            "\u001b[0;32m/usr/local/lib/python3.8/dist-packages/keras/engine/training.py\u001b[0m in \u001b[0;36mtf__train_function\u001b[0;34m(iterator)\u001b[0m\n\u001b[1;32m     13\u001b[0m                 \u001b[0;32mtry\u001b[0m\u001b[0;34m:\u001b[0m\u001b[0;34m\u001b[0m\u001b[0;34m\u001b[0m\u001b[0m\n\u001b[1;32m     14\u001b[0m                     \u001b[0mdo_return\u001b[0m \u001b[0;34m=\u001b[0m \u001b[0;32mTrue\u001b[0m\u001b[0;34m\u001b[0m\u001b[0;34m\u001b[0m\u001b[0m\n\u001b[0;32m---> 15\u001b[0;31m                     \u001b[0mretval_\u001b[0m \u001b[0;34m=\u001b[0m \u001b[0mag__\u001b[0m\u001b[0;34m.\u001b[0m\u001b[0mconverted_call\u001b[0m\u001b[0;34m(\u001b[0m\u001b[0mag__\u001b[0m\u001b[0;34m.\u001b[0m\u001b[0mld\u001b[0m\u001b[0;34m(\u001b[0m\u001b[0mstep_function\u001b[0m\u001b[0;34m)\u001b[0m\u001b[0;34m,\u001b[0m \u001b[0;34m(\u001b[0m\u001b[0mag__\u001b[0m\u001b[0;34m.\u001b[0m\u001b[0mld\u001b[0m\u001b[0;34m(\u001b[0m\u001b[0mself\u001b[0m\u001b[0;34m)\u001b[0m\u001b[0;34m,\u001b[0m \u001b[0mag__\u001b[0m\u001b[0;34m.\u001b[0m\u001b[0mld\u001b[0m\u001b[0;34m(\u001b[0m\u001b[0miterator\u001b[0m\u001b[0;34m)\u001b[0m\u001b[0;34m)\u001b[0m\u001b[0;34m,\u001b[0m \u001b[0;32mNone\u001b[0m\u001b[0;34m,\u001b[0m \u001b[0mfscope\u001b[0m\u001b[0;34m)\u001b[0m\u001b[0;34m\u001b[0m\u001b[0;34m\u001b[0m\u001b[0m\n\u001b[0m\u001b[1;32m     16\u001b[0m                 \u001b[0;32mexcept\u001b[0m\u001b[0;34m:\u001b[0m\u001b[0;34m\u001b[0m\u001b[0;34m\u001b[0m\u001b[0m\n\u001b[1;32m     17\u001b[0m                     \u001b[0mdo_return\u001b[0m \u001b[0;34m=\u001b[0m \u001b[0;32mFalse\u001b[0m\u001b[0;34m\u001b[0m\u001b[0;34m\u001b[0m\u001b[0m\n",
            "\u001b[0;31mValueError\u001b[0m: in user code:\n\n    File \"/usr/local/lib/python3.8/dist-packages/keras/engine/training.py\", line 1051, in train_function  *\n        return step_function(self, iterator)\n    File \"/usr/local/lib/python3.8/dist-packages/keras/engine/training.py\", line 1040, in step_function  **\n        outputs = model.distribute_strategy.run(run_step, args=(data,))\n    File \"/usr/local/lib/python3.8/dist-packages/keras/engine/training.py\", line 1030, in run_step  **\n        outputs = model.train_step(data)\n    File \"/usr/local/lib/python3.8/dist-packages/keras/engine/training.py\", line 889, in train_step\n        y_pred = self(x, training=True)\n    File \"/usr/local/lib/python3.8/dist-packages/keras/utils/traceback_utils.py\", line 67, in error_handler\n        raise e.with_traceback(filtered_tb) from None\n    File \"/usr/local/lib/python3.8/dist-packages/keras/engine/input_spec.py\", line 264, in assert_input_compatibility\n        raise ValueError(f'Input {input_index} of layer \"{layer_name}\" is '\n\n    ValueError: Input 0 of layer \"vgg16\" is incompatible with the layer: expected shape=(None, 32, 32, 3), found shape=(100, 28, 28)\n"
          ]
        }
      ]
    },
    {
      "cell_type": "markdown",
      "source": [
        "### 6- Quantas são as classes presentes no problema?\n"
      ],
      "metadata": {
        "id": "mKpOqmkePG2k"
      }
    },
    {
      "cell_type": "code",
      "source": [
        "np.unique(y_test).shape\n"
      ],
      "metadata": {
        "colab": {
          "base_uri": "https://localhost:8080/"
        },
        "id": "jh1XIFm1P7Fu",
        "outputId": "b3d15a9e-62e4-48b0-8dd2-e15ab96b056f"
      },
      "execution_count": 18,
      "outputs": [
        {
          "output_type": "execute_result",
          "data": {
            "text/plain": [
              "(10,)"
            ]
          },
          "metadata": {},
          "execution_count": 18
        }
      ]
    },
    {
      "cell_type": "markdown",
      "source": [
        "### 7- Quantos são os pixels de cada amostra para serem utilizados na segunda rede?"
      ],
      "metadata": {
        "id": "uhVMAMdSRhhw"
      }
    },
    {
      "cell_type": "code",
      "source": [
        "num_pixels = X_train.shape[1] * X_train.shape[2]  #calcula o total de pixels da imagem\n",
        "print(f\"Quantidade de pixels de cada amostra: {num_pixels}\")"
      ],
      "metadata": {
        "colab": {
          "base_uri": "https://localhost:8080/"
        },
        "id": "kVAl97jeRnkV",
        "outputId": "bda4e758-4055-4b68-cc4f-5f96223ea0f8"
      },
      "execution_count": 38,
      "outputs": [
        {
          "output_type": "stream",
          "name": "stdout",
          "text": [
            "Quantidade de pixels de cada amostra: 784\n"
          ]
        }
      ]
    },
    {
      "cell_type": "markdown",
      "source": [
        "### 8- O elemento do índice 4000 do vetor de teste corresponde à qual classe?"
      ],
      "metadata": {
        "id": "x-SpUbsBSDU5"
      }
    },
    {
      "cell_type": "code",
      "source": [
        "# resposta da pergunta 8\n",
        "first_image = X_test[4000] #obtém a imagem de treino no índice 4000 do vetor\n",
        "# realiza manipulação dos dados da imagem\n",
        "first_image = np.array(first_image, dtype='float')\n",
        "pixels = first_image.reshape((28, 28))\n",
        "#exibe a imagem do vetor\n",
        "plt.imshow(pixels, cmap='gray')\n",
        "plt.show()\n",
        "\n",
        "print(y_test[4000]) #imprime a classe da imagem de treino do índice 4000"
      ],
      "metadata": {
        "colab": {
          "base_uri": "https://localhost:8080/",
          "height": 283
        },
        "id": "oD8hR4qESHto",
        "outputId": "a5aaf317-064c-4416-9165-51e1caf48946"
      },
      "execution_count": 39,
      "outputs": [
        {
          "output_type": "display_data",
          "data": {
            "text/plain": [
              "<Figure size 432x288 with 1 Axes>"
            ],
            "image/png": "[encoded data removed]"
          },
          "metadata": {
            "needs_background": "light"
          }
        },
        {
          "output_type": "stream",
          "name": "stdout",
          "text": [
            "0\n"
          ]
        }
      ]
    },
    {
      "cell_type": "markdown",
      "source": [
        "### 9- Se você utilizar a função de ativação relu na camada de saída da segunda rede, qual o valor obtido na loss?"
      ],
      "metadata": {
        "id": "9TM6VDffSQD6"
      }
    },
    {
      "cell_type": "code",
      "source": [
        "# Cria um modelo do tipo sequencial\n",
        "question9 = Sequential()\n",
        "\n",
        "question9.add(InputLayer(input_shape = num_pixels)) # Camada de entrada: um neurônio por pixel;\n",
        "question9.add(Dense(num_pixels, kernel_initializer='normal', activation='relu')) # Camada oculta 1: número de neurônios igual ao número de pixels;\n",
        "question9.add(Dense(1024, kernel_initializer='normal', activation='relu')) # Camada oculta 2: 1024 neurônios;\n",
        "question9.add(Dense(2048, kernel_initializer='normal', activation='relu')) # Camada oculta 3: 2048 neurônios;\n",
        "question9.add(Dense(2048, kernel_initializer='normal', activation='relu')) # Camada oculta 4: 2048 neurônios;\n",
        "question9.add(Dense(num_classes, kernel_initializer='normal', activation='relu')) # cria a camada de saída\n",
        "#compilando o modelo criado.\n",
        "question9.compile(loss='categorical_crossentropy', optimizer='adam', metrics='accuracy') \n",
        "# execulta o treinamento.\n",
        "res_question = question9.fit(X_train2,y_train_h, validation_data=(X_test2,y_test_h), epochs=2, verbose=1, batch_size=128) "
      ],
      "metadata": {
        "colab": {
          "base_uri": "https://localhost:8080/"
        },
        "id": "ISyYmkeNSTUg",
        "outputId": "34fd5e90-f9db-4ed9-9e9f-41faf01e5bab"
      },
      "execution_count": 40,
      "outputs": [
        {
          "output_type": "stream",
          "name": "stdout",
          "text": [
            "Epoch 1/2\n",
            "469/469 [==============================] - 96s 203ms/step - loss: nan - accuracy: 0.1131 - val_loss: nan - val_accuracy: 0.1000\n",
            "Epoch 2/2\n",
            "469/469 [==============================] - 88s 188ms/step - loss: nan - accuracy: 0.1000 - val_loss: nan - val_accuracy: 0.1000\n"
          ]
        }
      ]
    },
    {
      "cell_type": "markdown",
      "source": [
        "### 10- Quantos bias são presentes na segunda rede?"
      ],
      "metadata": {
        "id": "oOd42VmhTL6O"
      }
    },
    {
      "cell_type": "code",
      "source": [
        "bias = (784 + 1024 + 2048 + 2048 + 10)\n",
        "print(f\"Quantidade de bias da rede 2: {bias}\")"
      ],
      "metadata": {
        "colab": {
          "base_uri": "https://localhost:8080/"
        },
        "id": "0g4tasRkTQWC",
        "outputId": "4e3aa8ca-c8bd-43e6-a008-9b7db30f3884"
      },
      "execution_count": 46,
      "outputs": [
        {
          "output_type": "stream",
          "name": "stdout",
          "text": [
            "Quantidade de bias da rede 2: 5914\n"
          ]
        }
      ]
    },
    {
      "cell_type": "markdown",
      "source": [
        "### 11- Quantas camadas do tipo ‘MaxPooling2D’ estão presentes na VGG-Net?"
      ],
      "metadata": {
        "id": "QbYyx0UeTlOG"
      }
    },
    {
      "cell_type": "code",
      "source": [
        "model_vgg16.layers\n",
        "#MaxPooling2D = 5"
      ],
      "metadata": {
        "colab": {
          "base_uri": "https://localhost:8080/"
        },
        "id": "mlbhozWbTpz3",
        "outputId": "06fa491a-7688-437a-d26c-55739a196628"
      },
      "execution_count": 141,
      "outputs": [
        {
          "output_type": "execute_result",
          "data": {
            "text/plain": [
              "[<keras.engine.input_layer.InputLayer at 0x7f7ac5946850>,\n",
              " <keras.layers.convolutional.conv2d.Conv2D at 0x7f7ac5991730>,\n",
              " <keras.layers.convolutional.conv2d.Conv2D at 0x7f7ac5946310>,\n",
              " <keras.layers.pooling.max_pooling2d.MaxPooling2D at 0x7f7ac5997280>,\n",
              " <keras.layers.convolutional.conv2d.Conv2D at 0x7f7ac5a87730>,\n",
              " <keras.layers.convolutional.conv2d.Conv2D at 0x7f7ac58e4a30>,\n",
              " <keras.layers.pooling.max_pooling2d.MaxPooling2D at 0x7f7ac594e280>,\n",
              " <keras.layers.convolutional.conv2d.Conv2D at 0x7f7ac5991550>,\n",
              " <keras.layers.convolutional.conv2d.Conv2D at 0x7f7ac5873130>,\n",
              " <keras.layers.convolutional.conv2d.Conv2D at 0x7f7ac58731c0>,\n",
              " <keras.layers.pooling.max_pooling2d.MaxPooling2D at 0x7f7ac59914c0>,\n",
              " <keras.layers.convolutional.conv2d.Conv2D at 0x7f7ac5986880>,\n",
              " <keras.layers.convolutional.conv2d.Conv2D at 0x7f7ac5867550>,\n",
              " <keras.layers.convolutional.conv2d.Conv2D at 0x7f7ac5867b80>,\n",
              " <keras.layers.pooling.max_pooling2d.MaxPooling2D at 0x7f7ac5856e50>,\n",
              " <keras.layers.convolutional.conv2d.Conv2D at 0x7f7ac5867280>,\n",
              " <keras.layers.convolutional.conv2d.Conv2D at 0x7f7ac73acf10>,\n",
              " <keras.layers.convolutional.conv2d.Conv2D at 0x7f7ac5867fa0>,\n",
              " <keras.layers.pooling.max_pooling2d.MaxPooling2D at 0x7f7ac7392310>,\n",
              " <keras.layers.reshaping.flatten.Flatten at 0x7f7ac73a9b20>,\n",
              " <keras.layers.core.dense.Dense at 0x7f7ac5a84b50>,\n",
              " <keras.layers.core.dense.Dense at 0x7f7ac73a9c40>,\n",
              " <keras.layers.core.dense.Dense at 0x7f7ac73a9d90>]"
            ]
          },
          "metadata": {},
          "execution_count": 141
        }
      ]
    },
    {
      "cell_type": "markdown",
      "source": [
        "### 12- Quantas camadas totalmente conectadas estão presentes na VGG-Net? \n"
      ],
      "metadata": {
        "id": "nLwdpeqCiBb3"
      }
    },
    {
      "cell_type": "code",
      "source": [
        "# R: 3"
      ],
      "metadata": {
        "id": "p5bkVDhYjNI_"
      },
      "execution_count": null,
      "outputs": []
    },
    {
      "cell_type": "markdown",
      "source": [
        "### 13- Execute a Vgg-Net com um batch de 128. Quantas iterações são necessárias para completar uma época?"
      ],
      "metadata": {
        "id": "vuRn7umAi9bd"
      }
    },
    {
      "cell_type": "code",
      "source": [
        "# Executando o treinamento\n",
        "result = model_vgg16.fit(X_train, y_train, validation_data=(X_test, y_test), epochs=1, verbose=1, batch_size = 128)\n",
        "# 469"
      ],
      "metadata": {
        "id": "vIEaFmmsjJw8"
      },
      "execution_count": null,
      "outputs": []
    },
    {
      "cell_type": "markdown",
      "source": [
        "### 14- Quantas camadas do tipo ‘Conv2D’ estão presentes na VGG-Net? "
      ],
      "metadata": {
        "id": "u-9MIA3djZBe"
      }
    },
    {
      "cell_type": "code",
      "source": [
        "model_vgg16.layers\n",
        "#R: 13"
      ],
      "metadata": {
        "colab": {
          "base_uri": "https://localhost:8080/"
        },
        "id": "IGFKAHWDjXwS",
        "outputId": "21ca2a4f-2d18-4729-ba45-9e8921acd355"
      },
      "execution_count": 143,
      "outputs": [
        {
          "output_type": "execute_result",
          "data": {
            "text/plain": [
              "[<keras.engine.input_layer.InputLayer at 0x7f7ac5946850>,\n",
              " <keras.layers.convolutional.conv2d.Conv2D at 0x7f7ac5991730>,\n",
              " <keras.layers.convolutional.conv2d.Conv2D at 0x7f7ac5946310>,\n",
              " <keras.layers.pooling.max_pooling2d.MaxPooling2D at 0x7f7ac5997280>,\n",
              " <keras.layers.convolutional.conv2d.Conv2D at 0x7f7ac5a87730>,\n",
              " <keras.layers.convolutional.conv2d.Conv2D at 0x7f7ac58e4a30>,\n",
              " <keras.layers.pooling.max_pooling2d.MaxPooling2D at 0x7f7ac594e280>,\n",
              " <keras.layers.convolutional.conv2d.Conv2D at 0x7f7ac5991550>,\n",
              " <keras.layers.convolutional.conv2d.Conv2D at 0x7f7ac5873130>,\n",
              " <keras.layers.convolutional.conv2d.Conv2D at 0x7f7ac58731c0>,\n",
              " <keras.layers.pooling.max_pooling2d.MaxPooling2D at 0x7f7ac59914c0>,\n",
              " <keras.layers.convolutional.conv2d.Conv2D at 0x7f7ac5986880>,\n",
              " <keras.layers.convolutional.conv2d.Conv2D at 0x7f7ac5867550>,\n",
              " <keras.layers.convolutional.conv2d.Conv2D at 0x7f7ac5867b80>,\n",
              " <keras.layers.pooling.max_pooling2d.MaxPooling2D at 0x7f7ac5856e50>,\n",
              " <keras.layers.convolutional.conv2d.Conv2D at 0x7f7ac5867280>,\n",
              " <keras.layers.convolutional.conv2d.Conv2D at 0x7f7ac73acf10>,\n",
              " <keras.layers.convolutional.conv2d.Conv2D at 0x7f7ac5867fa0>,\n",
              " <keras.layers.pooling.max_pooling2d.MaxPooling2D at 0x7f7ac7392310>,\n",
              " <keras.layers.reshaping.flatten.Flatten at 0x7f7ac73a9b20>,\n",
              " <keras.layers.core.dense.Dense at 0x7f7ac5a84b50>,\n",
              " <keras.layers.core.dense.Dense at 0x7f7ac73a9c40>,\n",
              " <keras.layers.core.dense.Dense at 0x7f7ac73a9d90>]"
            ]
          },
          "metadata": {},
          "execution_count": 143
        }
      ]
    },
    {
      "cell_type": "markdown",
      "source": [
        "### 15- Quantos pesos existem conectando a penúltima e última camadas da segunda rede?"
      ],
      "metadata": {
        "id": "DcQQovfJjooW"
      }
    },
    {
      "cell_type": "code",
      "source": [
        "# Cria um modelo do tipo sequencial\n",
        "question15 = Sequential()\n",
        "\n",
        "question15.add(InputLayer(input_shape = num_pixels)) # Camada de entrada: um neurônio por pixel;\n",
        "question15.add(Dense(num_pixels, kernel_initializer='normal', activation='relu')) # Camada oculta 1: número de neurônios igual ao número de pixels;\n",
        "question15.add(Dense(1024, kernel_initializer='normal', activation='relu')) # Camada oculta 2: 1024 neurônios;\n",
        "question15.add(Dense(2048, kernel_initializer='normal', activation='relu')) # Camada oculta 3: 2048 neurônios;\n",
        "question15.add(Dense(2048, kernel_initializer='normal', activation='relu')) # Camada oculta 4: 2048 neurônios;\n",
        "question15.add(Dense(num_classes, kernel_initializer='normal', activation='softmax')) # cria a camada de saída\n",
        "question15.summary()"
      ],
      "metadata": {
        "colab": {
          "base_uri": "https://localhost:8080/"
        },
        "id": "-gzMZOVnjgNU",
        "outputId": "2f6f20b0-8273-4583-fb36-d2563d8785c0"
      },
      "execution_count": 146,
      "outputs": [
        {
          "output_type": "stream",
          "name": "stdout",
          "text": [
            "Model: \"sequential_7\"\n",
            "_________________________________________________________________\n",
            " Layer (type)                Output Shape              Param #   \n",
            "=================================================================\n",
            " dense_35 (Dense)            (None, 784)               615440    \n",
            "                                                                 \n",
            " dense_36 (Dense)            (None, 1024)              803840    \n",
            "                                                                 \n",
            " dense_37 (Dense)            (None, 2048)              2099200   \n",
            "                                                                 \n",
            " dense_38 (Dense)            (None, 2048)              4196352   \n",
            "                                                                 \n",
            " dense_39 (Dense)            (None, 10)                20490     \n",
            "                                                                 \n",
            "=================================================================\n",
            "Total params: 7,735,322\n",
            "Trainable params: 7,735,322\n",
            "Non-trainable params: 0\n",
            "_________________________________________________________________\n"
          ]
        }
      ]
    },
    {
      "cell_type": "code",
      "source": [
        "pesos = (10 * 2048)\n",
        "pesos"
      ],
      "metadata": {
        "colab": {
          "base_uri": "https://localhost:8080/"
        },
        "id": "Pohk1IFakMH2",
        "outputId": "9e9965e8-5eec-4841-e8e2-744ed9d495b6"
      },
      "execution_count": 148,
      "outputs": [
        {
          "output_type": "execute_result",
          "data": {
            "text/plain": [
              "20480"
            ]
          },
          "metadata": {},
          "execution_count": 148
        }
      ]
    }
  ]
}