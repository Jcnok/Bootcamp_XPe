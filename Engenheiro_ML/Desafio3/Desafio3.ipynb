{
 "cells": [
  {
   "cell_type": "markdown",
   "id": "f7be2992",
   "metadata": {},
   "source": [
    "# Desafio 3 - Bootcamp IGTI: Engenheiro(a) de Machine Learning"
   ]
  },
  {
   "cell_type": "markdown",
   "id": "c8689b6d",
   "metadata": {},
   "source": [
    "## Objetivos"
   ]
  },
  {
   "cell_type": "markdown",
   "id": "1ffff47e",
   "metadata": {},
   "source": [
    "**Exercitar os seguintes conceitos trabalhados no Módulo:**\n",
    "* Neste desafio, vamos trabalhar os conceitos vistos sobre métricas de\n",
    "desempenho, técnicas de validação e sintonia de hiperparâmetros.\n",
    "\n",
    "* Também vamos olhar para o fluxo completo de seleção de um modelo de\n",
    "aprendizado.\n"
   ]
  },
  {
   "cell_type": "markdown",
   "id": "d6e53442",
   "metadata": {},
   "source": [
    "## Enunciado"
   ]
  },
  {
   "cell_type": "markdown",
   "id": "814f577f",
   "metadata": {},
   "source": [
    "**Os alunos deverão desempenhar as seguintes atividades:**\n",
    "1. Baixar o arquivo com os dados no link https://www.openml.org/d/1480. O formato do arquivo deve ser CSV. \n",
    "2. Obter informações relativas ao número de features e amostras. \n",
    "3. Verificar a necessidade de tratamento de dados categóricos e valores faltantes. \n",
    "4. Mapear a feature V2:\n",
    "    * a. 'Female': 0,'Male': 1.\n",
    "5. Modelar o SVC e o Random Forest Classifier, com Random Search para sintonia de hiperparâmetros e validação cruzada estratificada, usando as parametrizações abaixo. \n",
    "6. Parametrização SVC:\n",
    "    * a. Bibliotecas para importação:\n",
    "        * i. from sklearn.ensemble import RandomForestClassifier\n",
    "        * ii. from sklearn.svm import SVC\n",
    "        * iii. from sklearn.model_selection import StratifiedKFold\n",
    "        * iv. from sklearn.model_selection import RandomizedSearchCV\n",
    "        * v. from scipy.stats import uniform\n",
    "        * vi. from scipy.stats import randint\n",
    "        * vii. from sklearn.metrics import f1_score, make_scorer\n",
    "    * b. Kfold estratificado com 10 conjuntos. \n",
    "    * c. Métrica de avaliação f1:\n",
    "        * i. f1 = make_scorer(f1_score)\n",
    "    * d. Parâmetro de kernel:\n",
    "        * i. Sigmoidal, polinomial e RBF (nessa ordem).\n",
    "    * e. Parâmetro de regularização C:\n",
    "        * i. Distribuição uniforme variando entre 1 e 10.\n",
    "    * f. Random_state = 5762\n",
    "    * g. Número de iterações = 5. \n",
    "7. Avaliar o resultado da modelagem usando as métricas:\n",
    "    * a. best_score_\n",
    "    * b. best_params_\n",
    "    * c. best_estimator_\n",
    "8. Repetir o processo usando o Random Forest:\n",
    "    * a. Faça a instanciação do Random Forest fixando o random_state = 5762\n",
    "        * i. RandomForestClassifier(random_state = 5762)\n",
    "    * b. Kfold estratificado com 10 conjuntos. \n",
    "    * c. Métrica de avaliação f1:\n",
    "        * i. f1 = make_scorer(f1_score)\n",
    "    * d. Parâmetro do número de árvores:\n",
    "        * i. Distribuição aleatória inteira de valores entre 10 e 1000.\n",
    "    * e. Parâmetro Bootstrap:\n",
    "        * i. Verdadeiro e Falso.\n",
    "    * f. Parâmetro Criterion:\n",
    "        * i. Gini e Entropy.\n",
    "    * g. Random_state = 5762\n",
    "    * h. Número de iterações = 5. \n",
    "9. Avaliar o resultado da modelagem usando as métricas:\n",
    "    * a. best_score_\n",
    "    * b. best_params_\n",
    "    * c. best_estimator_"
   ]
  },
  {
   "cell_type": "code",
   "execution_count": 1,
   "id": "2abcafe8",
   "metadata": {},
   "outputs": [],
   "source": [
    "# importação das libs.\n",
    "import pandas as pd \n",
    "import numpy as np \n",
    "import matplotlib.pyplot as plt \n",
    "from sklearn.ensemble import RandomForestClassifier\n",
    "from sklearn.svm import SVC\n",
    "from sklearn.model_selection import StratifiedKFold\n",
    "from sklearn.model_selection import RandomizedSearchCV\n",
    "from scipy.stats import uniform\n",
    "from scipy.stats import randint\n",
    "from sklearn.metrics import f1_score, make_scorer"
   ]
  },
  {
   "cell_type": "code",
   "execution_count": 4,
   "id": "679d7edf",
   "metadata": {},
   "outputs": [],
   "source": [
    "df = pd.read_csv('../data/phpOJxGL9.csv')"
   ]
  },
  {
   "cell_type": "code",
   "execution_count": 5,
   "id": "6bd15503",
   "metadata": {},
   "outputs": [
    {
     "data": {
      "text/html": [
       "<div>\n",
       "<style scoped>\n",
       "    .dataframe tbody tr th:only-of-type {\n",
       "        vertical-align: middle;\n",
       "    }\n",
       "\n",
       "    .dataframe tbody tr th {\n",
       "        vertical-align: top;\n",
       "    }\n",
       "\n",
       "    .dataframe thead th {\n",
       "        text-align: right;\n",
       "    }\n",
       "</style>\n",
       "<table border=\"1\" class=\"dataframe\">\n",
       "  <thead>\n",
       "    <tr style=\"text-align: right;\">\n",
       "      <th></th>\n",
       "      <th>V1</th>\n",
       "      <th>V2</th>\n",
       "      <th>V3</th>\n",
       "      <th>V4</th>\n",
       "      <th>V5</th>\n",
       "      <th>V6</th>\n",
       "      <th>V7</th>\n",
       "      <th>V8</th>\n",
       "      <th>V9</th>\n",
       "      <th>V10</th>\n",
       "      <th>Class</th>\n",
       "    </tr>\n",
       "  </thead>\n",
       "  <tbody>\n",
       "    <tr>\n",
       "      <th>0</th>\n",
       "      <td>65</td>\n",
       "      <td>Female</td>\n",
       "      <td>0.7</td>\n",
       "      <td>0.1</td>\n",
       "      <td>187</td>\n",
       "      <td>16</td>\n",
       "      <td>18</td>\n",
       "      <td>6.8</td>\n",
       "      <td>3.3</td>\n",
       "      <td>0.90</td>\n",
       "      <td>1</td>\n",
       "    </tr>\n",
       "    <tr>\n",
       "      <th>1</th>\n",
       "      <td>62</td>\n",
       "      <td>Male</td>\n",
       "      <td>10.9</td>\n",
       "      <td>5.5</td>\n",
       "      <td>699</td>\n",
       "      <td>64</td>\n",
       "      <td>100</td>\n",
       "      <td>7.5</td>\n",
       "      <td>3.2</td>\n",
       "      <td>0.74</td>\n",
       "      <td>1</td>\n",
       "    </tr>\n",
       "    <tr>\n",
       "      <th>2</th>\n",
       "      <td>62</td>\n",
       "      <td>Male</td>\n",
       "      <td>7.3</td>\n",
       "      <td>4.1</td>\n",
       "      <td>490</td>\n",
       "      <td>60</td>\n",
       "      <td>68</td>\n",
       "      <td>7.0</td>\n",
       "      <td>3.3</td>\n",
       "      <td>0.89</td>\n",
       "      <td>1</td>\n",
       "    </tr>\n",
       "    <tr>\n",
       "      <th>3</th>\n",
       "      <td>58</td>\n",
       "      <td>Male</td>\n",
       "      <td>1.0</td>\n",
       "      <td>0.4</td>\n",
       "      <td>182</td>\n",
       "      <td>14</td>\n",
       "      <td>20</td>\n",
       "      <td>6.8</td>\n",
       "      <td>3.4</td>\n",
       "      <td>1.00</td>\n",
       "      <td>1</td>\n",
       "    </tr>\n",
       "    <tr>\n",
       "      <th>4</th>\n",
       "      <td>72</td>\n",
       "      <td>Male</td>\n",
       "      <td>3.9</td>\n",
       "      <td>2.0</td>\n",
       "      <td>195</td>\n",
       "      <td>27</td>\n",
       "      <td>59</td>\n",
       "      <td>7.3</td>\n",
       "      <td>2.4</td>\n",
       "      <td>0.40</td>\n",
       "      <td>1</td>\n",
       "    </tr>\n",
       "  </tbody>\n",
       "</table>\n",
       "</div>"
      ],
      "text/plain": [
       "   V1      V2    V3   V4   V5  V6   V7   V8   V9   V10  Class\n",
       "0  65  Female   0.7  0.1  187  16   18  6.8  3.3  0.90      1\n",
       "1  62    Male  10.9  5.5  699  64  100  7.5  3.2  0.74      1\n",
       "2  62    Male   7.3  4.1  490  60   68  7.0  3.3  0.89      1\n",
       "3  58    Male   1.0  0.4  182  14   20  6.8  3.4  1.00      1\n",
       "4  72    Male   3.9  2.0  195  27   59  7.3  2.4  0.40      1"
      ]
     },
     "execution_count": 5,
     "metadata": {},
     "output_type": "execute_result"
    }
   ],
   "source": [
    "df.head()"
   ]
  },
  {
   "cell_type": "code",
   "execution_count": 6,
   "id": "1832c579",
   "metadata": {},
   "outputs": [
    {
     "data": {
      "text/plain": [
       "(583, 11)"
      ]
     },
     "execution_count": 6,
     "metadata": {},
     "output_type": "execute_result"
    }
   ],
   "source": [
    "#2. \n",
    "df.shape"
   ]
  },
  {
   "cell_type": "code",
   "execution_count": 7,
   "id": "0859791f",
   "metadata": {},
   "outputs": [
    {
     "data": {
      "text/plain": [
       "V1       0\n",
       "V2       0\n",
       "V3       0\n",
       "V4       0\n",
       "V5       0\n",
       "V6       0\n",
       "V7       0\n",
       "V8       0\n",
       "V9       0\n",
       "V10      0\n",
       "Class    0\n",
       "dtype: int64"
      ]
     },
     "execution_count": 7,
     "metadata": {},
     "output_type": "execute_result"
    }
   ],
   "source": [
    "#Sem valores faltantes.\n",
    "df.isnull().sum()"
   ]
  },
  {
   "cell_type": "code",
   "execution_count": 8,
   "id": "1ed2e044",
   "metadata": {},
   "outputs": [
    {
     "name": "stdout",
     "output_type": "stream",
     "text": [
      "<class 'pandas.core.frame.DataFrame'>\n",
      "RangeIndex: 583 entries, 0 to 582\n",
      "Data columns (total 11 columns):\n",
      " #   Column  Non-Null Count  Dtype  \n",
      "---  ------  --------------  -----  \n",
      " 0   V1      583 non-null    int64  \n",
      " 1   V2      583 non-null    object \n",
      " 2   V3      583 non-null    float64\n",
      " 3   V4      583 non-null    float64\n",
      " 4   V5      583 non-null    int64  \n",
      " 5   V6      583 non-null    int64  \n",
      " 6   V7      583 non-null    int64  \n",
      " 7   V8      583 non-null    float64\n",
      " 8   V9      583 non-null    float64\n",
      " 9   V10     583 non-null    float64\n",
      " 10  Class   583 non-null    int64  \n",
      "dtypes: float64(5), int64(5), object(1)\n",
      "memory usage: 50.2+ KB\n"
     ]
    }
   ],
   "source": [
    "df.info()"
   ]
  },
  {
   "cell_type": "code",
   "execution_count": 9,
   "id": "4ecad4f4",
   "metadata": {},
   "outputs": [
    {
     "data": {
      "text/html": [
       "<div>\n",
       "<style scoped>\n",
       "    .dataframe tbody tr th:only-of-type {\n",
       "        vertical-align: middle;\n",
       "    }\n",
       "\n",
       "    .dataframe tbody tr th {\n",
       "        vertical-align: top;\n",
       "    }\n",
       "\n",
       "    .dataframe thead th {\n",
       "        text-align: right;\n",
       "    }\n",
       "</style>\n",
       "<table border=\"1\" class=\"dataframe\">\n",
       "  <thead>\n",
       "    <tr style=\"text-align: right;\">\n",
       "      <th></th>\n",
       "      <th>V1</th>\n",
       "      <th>V2</th>\n",
       "      <th>V3</th>\n",
       "      <th>V4</th>\n",
       "      <th>V5</th>\n",
       "      <th>V6</th>\n",
       "      <th>V7</th>\n",
       "      <th>V8</th>\n",
       "      <th>V9</th>\n",
       "      <th>V10</th>\n",
       "      <th>Class</th>\n",
       "    </tr>\n",
       "  </thead>\n",
       "  <tbody>\n",
       "    <tr>\n",
       "      <th>0</th>\n",
       "      <td>65</td>\n",
       "      <td>0</td>\n",
       "      <td>0.7</td>\n",
       "      <td>0.1</td>\n",
       "      <td>187</td>\n",
       "      <td>16</td>\n",
       "      <td>18</td>\n",
       "      <td>6.8</td>\n",
       "      <td>3.3</td>\n",
       "      <td>0.90</td>\n",
       "      <td>1</td>\n",
       "    </tr>\n",
       "    <tr>\n",
       "      <th>1</th>\n",
       "      <td>62</td>\n",
       "      <td>1</td>\n",
       "      <td>10.9</td>\n",
       "      <td>5.5</td>\n",
       "      <td>699</td>\n",
       "      <td>64</td>\n",
       "      <td>100</td>\n",
       "      <td>7.5</td>\n",
       "      <td>3.2</td>\n",
       "      <td>0.74</td>\n",
       "      <td>1</td>\n",
       "    </tr>\n",
       "    <tr>\n",
       "      <th>2</th>\n",
       "      <td>62</td>\n",
       "      <td>1</td>\n",
       "      <td>7.3</td>\n",
       "      <td>4.1</td>\n",
       "      <td>490</td>\n",
       "      <td>60</td>\n",
       "      <td>68</td>\n",
       "      <td>7.0</td>\n",
       "      <td>3.3</td>\n",
       "      <td>0.89</td>\n",
       "      <td>1</td>\n",
       "    </tr>\n",
       "    <tr>\n",
       "      <th>3</th>\n",
       "      <td>58</td>\n",
       "      <td>1</td>\n",
       "      <td>1.0</td>\n",
       "      <td>0.4</td>\n",
       "      <td>182</td>\n",
       "      <td>14</td>\n",
       "      <td>20</td>\n",
       "      <td>6.8</td>\n",
       "      <td>3.4</td>\n",
       "      <td>1.00</td>\n",
       "      <td>1</td>\n",
       "    </tr>\n",
       "    <tr>\n",
       "      <th>4</th>\n",
       "      <td>72</td>\n",
       "      <td>1</td>\n",
       "      <td>3.9</td>\n",
       "      <td>2.0</td>\n",
       "      <td>195</td>\n",
       "      <td>27</td>\n",
       "      <td>59</td>\n",
       "      <td>7.3</td>\n",
       "      <td>2.4</td>\n",
       "      <td>0.40</td>\n",
       "      <td>1</td>\n",
       "    </tr>\n",
       "  </tbody>\n",
       "</table>\n",
       "</div>"
      ],
      "text/plain": [
       "   V1  V2    V3   V4   V5  V6   V7   V8   V9   V10  Class\n",
       "0  65   0   0.7  0.1  187  16   18  6.8  3.3  0.90      1\n",
       "1  62   1  10.9  5.5  699  64  100  7.5  3.2  0.74      1\n",
       "2  62   1   7.3  4.1  490  60   68  7.0  3.3  0.89      1\n",
       "3  58   1   1.0  0.4  182  14   20  6.8  3.4  1.00      1\n",
       "4  72   1   3.9  2.0  195  27   59  7.3  2.4  0.40      1"
      ]
     },
     "execution_count": 9,
     "metadata": {},
     "output_type": "execute_result"
    }
   ],
   "source": [
    "# 4. Mapear a feature V2:a. 'Female': 0,'Male': 1.\n",
    "v2_class = {'Female':0, 'Male':1}\n",
    "df['V2'] = df['V2'].map(v2_class)\n",
    "df.head()"
   ]
  },
  {
   "cell_type": "raw",
   "id": "f20cbb05",
   "metadata": {},
   "source": [
    "'''5. Modelar o SVC e o Random Forest Classifier, com Random Search para sintonia de \n",
    "hiperparâmetros e validação cruzada estratificada, usando as parametrizações \n",
    "abaixo.'''\n",
    "\n",
    "6. Parametrização SVC:\n",
    "a. Bibliotecas para importação:\n",
    "i. from sklearn.ensemble import RandomForestClassifier\n",
    "ii. from sklearn.svm import SVC\n",
    "iii. from sklearn.model_selection import StratifiedKFold\n",
    "iv. from sklearn.model_selection import RandomizedSearchCV\n",
    "v. from scipy.stats import uniform\n",
    "vi. from scipy.stats import randint\n",
    "vii. from sklearn.metrics import f1_score, make_scorer\n",
    "b. Kfold estratificado com 10 conjuntos. \n",
    "c. Métrica de avaliação f1:\n",
    "i. f1 = make_scorer(f1_score)\n",
    "d. Parâmetro de kernel:\n",
    "i. Sigmoidal, polinomial e RBF (nessa ordem).\n",
    "e. Parâmetro de regularização C:\n",
    "i. Distribuição uniforme variando entre 1 e 10.\n",
    "f. Random_state = 5762\n",
    "g. Número de iterações = 5. "
   ]
  },
  {
   "cell_type": "code",
   "execution_count": 10,
   "id": "c647ceba",
   "metadata": {},
   "outputs": [],
   "source": [
    "X = df.drop('Class',axis=1)\n",
    "y = df.Class"
   ]
  },
  {
   "cell_type": "code",
   "execution_count": 11,
   "id": "f05742f6",
   "metadata": {},
   "outputs": [
    {
     "data": {
      "text/plain": [
       "RandomizedSearchCV(cv=StratifiedKFold(n_splits=10, random_state=None, shuffle=False),\n",
       "                   estimator=SVC(), n_iter=5,\n",
       "                   param_distributions={'C': <scipy.stats._distn_infrastructure.rv_frozen object at 0x00000203CE73F070>,\n",
       "                                        'kernel': ['sigmoid', 'poly', 'rbf']},\n",
       "                   random_state=5762, scoring=make_scorer(f1_score))"
      ]
     },
     "execution_count": 11,
     "metadata": {},
     "output_type": "execute_result"
    }
   ],
   "source": [
    "#definindo o tipo de validacao cruzada e o numero de folds\n",
    "cv_strat = StratifiedKFold(n_splits = 10)\n",
    "\n",
    "#definindo a estrategia de score a partir da metrica f1\n",
    "f1 = make_scorer(f1_score)\n",
    "\n",
    "#definindo hiperparâmetros\n",
    "distributions = dict(kernel = ['sigmoid','poly', 'rbf'], \n",
    "                     C = uniform(loc=1, scale=10))\n",
    "\n",
    "#instânciando meu classificador\n",
    "classifier = SVC()\n",
    "\n",
    "#instanciando e modelando o grid search com os hiperparametros e a validação definidas.\n",
    "random_cv = RandomizedSearchCV(classifier, distributions, cv = cv_strat, scoring = f1, random_state = 5762, n_iter = 5)\n",
    "random_cv.fit(X, y)"
   ]
  },
  {
   "cell_type": "code",
   "execution_count": 12,
   "id": "aed2a4cb",
   "metadata": {},
   "outputs": [
    {
     "name": "stdout",
     "output_type": "stream",
     "text": [
      "Melhor resultado f1: 0.832818081808181\n",
      "\n",
      "\n",
      "Melhor configuração de hiperparâmetros: {'C': 3.996689355015553, 'kernel': 'poly'}\n",
      "\n",
      "\n",
      "Configurações de todos os hiperparâmetros do melhor estimado encontrado pelo GridSearch: \n",
      " SVC(C=3.996689355015553, kernel='poly')\n"
     ]
    }
   ],
   "source": [
    "#vamos olhar para os melhores resultados encontrados pelo Grid Search\n",
    "print('Melhor resultado f1:', random_cv.best_score_)\n",
    "print('\\n\\nMelhor configuração de hiperparâmetros:', random_cv.best_params_)\n",
    "print( '\\n\\nConfigurações de todos os hiperparâmetros do melhor estimado encontrado pelo GridSearch: \\n', random_cv.best_estimator_)"
   ]
  },
  {
   "cell_type": "code",
   "execution_count": null,
   "id": "3900f8f4",
   "metadata": {},
   "outputs": [],
   "source": []
  },
  {
   "cell_type": "raw",
   "id": "29da160a",
   "metadata": {},
   "source": [
    "8. Repetir o processo usando o Random Forest:\n",
    "a. Faça a instanciação do Random Forest fixando o random_state = 5762\n",
    "i. RandomForestClassifier(random_state = 5762)\n",
    "b. Kfold estratificado com 10 conjuntos. \n",
    "c. Métrica de avaliação f1:\n",
    "i. f1 = make_scorer(f1_score)\n",
    "d. Parâmetro do número de árvores:\n",
    "i. Distribuição aleatória inteira de valores entre 10 e 1000.\n",
    "e. Parâmetro Bootstrap:\n",
    "i. Verdadeiro e Falso.\n",
    "f. Parâmetro Criterion:\n",
    "i. Gini e Entropy.\n",
    "g. Random_state = 5762\n",
    "h. Número de iterações = 5."
   ]
  },
  {
   "cell_type": "code",
   "execution_count": 13,
   "id": "23b06513",
   "metadata": {},
   "outputs": [
    {
     "data": {
      "text/plain": [
       "RandomizedSearchCV(cv=StratifiedKFold(n_splits=10, random_state=None, shuffle=False),\n",
       "                   estimator=RandomForestClassifier(random_state=5762),\n",
       "                   n_iter=5,\n",
       "                   param_distributions={'bootstrap': [True, False],\n",
       "                                        'criterion': ['gini', 'entropy'],\n",
       "                                        'n_estimators': <scipy.stats._distn_infrastructure.rv_frozen object at 0x0000020479C3E160>},\n",
       "                   random_state=5762, scoring=make_scorer(f1_score))"
      ]
     },
     "execution_count": 13,
     "metadata": {},
     "output_type": "execute_result"
    }
   ],
   "source": [
    "#definindo o tipo de validacao cruzada e o numero de folds\n",
    "cv_strat = StratifiedKFold(n_splits = 10)\n",
    "\n",
    "#definindo a estrategia de score a partir da metrica f1\n",
    "f1 = make_scorer(f1_score)\n",
    "\n",
    "#definindo hiperparâmetros\n",
    "distributions1 = dict(n_estimators = randint(10, 1000),\n",
    "                      bootstrap = [True, False],\n",
    "                      criterion = ['gini', 'entropy'])\n",
    "\n",
    "#instânciando meu classificador\n",
    "classifier1 = RandomForestClassifier(random_state = 5762)\n",
    "\n",
    "#instanciando e modelando o grid search com os hiperparametros e a validação definidas.\n",
    "random_cv1 = RandomizedSearchCV(classifier1, distributions1, cv = cv_strat, scoring = f1, random_state = 5762, n_iter = 5)\n",
    "random_cv1.fit(X, y)"
   ]
  },
  {
   "cell_type": "raw",
   "id": "5319b80d",
   "metadata": {},
   "source": [
    "9. Avaliar o resultado da modelagem usando as métricas:\n",
    "a. best_score_\n",
    "b. best_params_\n",
    "c. best_estimator"
   ]
  },
  {
   "cell_type": "code",
   "execution_count": 14,
   "id": "22996385",
   "metadata": {},
   "outputs": [
    {
     "name": "stdout",
     "output_type": "stream",
     "text": [
      "Melhor resultado f1: 0.7984322518413547\n",
      "\n",
      "\n",
      "Melhor configuração de hiperparâmetros: {'bootstrap': True, 'criterion': 'gini', 'n_estimators': 488}\n",
      "\n",
      "\n",
      "Configurações de todos os hiperparâmetros do melhor estimado encontrado pelo GridSearch: \n",
      " RandomForestClassifier(n_estimators=488, random_state=5762)\n"
     ]
    }
   ],
   "source": [
    "#vamos olhar para os melhores resultados encontrados pelo Grid Search\n",
    "print('Melhor resultado f1:', random_cv1.best_score_)\n",
    "print('\\n\\nMelhor configuração de hiperparâmetros:', random_cv1.best_params_)\n",
    "print( '\\n\\nConfigurações de todos os hiperparâmetros do melhor estimado encontrado pelo GridSearch: \\n', random_cv1.best_estimator_)"
   ]
  }
 ],
 "metadata": {
  "kernelspec": {
   "display_name": "Python 3 (ipykernel)",
   "language": "python",
   "name": "python3"
  },
  "language_info": {
   "codemirror_mode": {
    "name": "ipython",
    "version": 3
   },
   "file_extension": ".py",
   "mimetype": "text/x-python",
   "name": "python",
   "nbconvert_exporter": "python",
   "pygments_lexer": "ipython3",
   "version": "3.9.12"
  }
 },
 "nbformat": 4,
 "nbformat_minor": 5
}
