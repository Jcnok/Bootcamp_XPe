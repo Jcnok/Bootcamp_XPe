{
 "cells": [
  {
   "cell_type": "markdown",
   "id": "963f4f72",
   "metadata": {},
   "source": [
    "# Trabalho Prático 2 - Bootcamp IGTI: Engenheiro(a) de Machine Learning"
   ]
  },
  {
   "cell_type": "markdown",
   "id": "bc7454df",
   "metadata": {},
   "source": [
    "## Bike Sharing Analysis"
   ]
  },
  {
   "cell_type": "markdown",
   "id": "5f225713",
   "metadata": {},
   "source": [
    "**Este repositório contém os arquivos referentes ao trabalho prático do módulo 2 do Bootcamp IGTI de Engenheiro(a) de Machine Learning. O objetivo deste trabalho é realizar a análise de uma base de dados real em Python, com foco em modelos preditivos e séries temporais.**"
   ]
  },
  {
   "cell_type": "markdown",
   "id": "3ad0dfe6",
   "metadata": {},
   "source": [
    "## Enunciado"
   ]
  },
  {
   "cell_type": "markdown",
   "id": "006f6646",
   "metadata": {},
   "source": [
    "O uso de bicicletas como meio de transporte tem crescido nos últimos anos, impulsionado por questões ambientais, de saúde e infraestrutura de trânsito. Para incentivar o uso, cidades ao redor do mundo têm implementado programas de compartilhamento de bicicletas. Nestes sistemas, as bicicletas são retiradas e devolvidas em quiosques automatizados espalhados pela cidade.\n",
    "\n",
    "As plataformas de compartilhamento de bicicletas costumam coletar diversos tipos de dados, como duração da viagem, localização inicial e final do percurso, entre outros. Esses dados, em conjunto com informações sobre clima, trânsito e relevo, tornam possível uma análise mais robusta do compartilhamento de bicicletas.\n",
    "\n",
    "O objetivo deste trabalho é analisar os dados coletados pela Universidade do Porto sobre o compartilhamento de bicicletas em uma cidade."
   ]
  },
  {
   "cell_type": "markdown",
   "id": "0a98afa6",
   "metadata": {},
   "source": [
    "## Dicionário de Dados:"
   ]
  },
  {
   "cell_type": "markdown",
   "id": "aee3ed0a",
   "metadata": {},
   "source": [
    "* rec_id: índice do registro de locação.\n",
    "* datetime: data.\n",
    "* season: estação do ano (1: inverno, 2: primavera, 3: verão, 4: outono). Relativo ao hemisfério norte.\n",
    "* year: ano (0: 2011, 1:2012).\n",
    "* month: mês (1 a 12).\n",
    "* hour: hora do dia (0 a 23).\n",
    "* is_holiday: booleano indicando feriado.\n",
    "* weekday: dia da semana (0: domingo, 1: segunda-feira, …, 6: sábado).\n",
    "* is_workingday: booleano indicando dia útil.\n",
    "* weather_condition: (1: limpo, 2: nublado, 3: chuva leve, 4: chuva forte).\n",
    "* temp: temperatura escalada entre 0 e 1. Valor original em graus Celsius: -8 a 39.\n",
    "* atemp: sensação térmica escalada entre 0 e 1. Valor original em graus Celsius: -16 a 50.\n",
    "* humidity: umidade relativa (0 a 1).\n",
    "* windspeed: velocidade do vento escalada entre 0 e 1 (máximo original: 67).\n",
    "* casual: número de locações para usuários casuais.\n",
    "* registered: número de locações para usuários registrados.\n",
    "* total_count: contador total de aluguéis (casual+registered)."
   ]
  },
  {
   "cell_type": "markdown",
   "id": "73ab4768",
   "metadata": {},
   "source": [
    "## Atividades"
   ]
  },
  {
   "cell_type": "markdown",
   "id": "3fde4d21",
   "metadata": {},
   "source": [
    "1. Acessar o ambiente Google Colaboratory (recomendado) ou qualquer ambiente de desenvolvimento em Python.\n",
    "2. Importar as bibliotecas do numpy e pandas, conforme:\n",
    "3. Carregar o dataset https://pycourse.s3.amazonaws.com/bike-sharing.csv para análise utilizando o pandas. Exemplo:df = pd.read_csv(\"https://pycourse.s3.amazonaws.com/bike-sharing.csv\")\n",
    "4. Responda as seguintes perguntas:\n",
    "    - a. Qual o tamanho desse dataset?\n",
    "    - b. Qual a média da coluna windspeed?\n",
    "    - c. Qual a média da coluna temp?\n",
    "    - d. Quantos registros existem para o ano de 2011?\n",
    "    - e. Quantos registros existem para o ano de 2012?\n",
    "    - f. Quantas locações de bicicletas foram efetuadas em 2011?\n",
    "    - g. Quantas locações de bicicletas foram efetuadas em 2012?\n",
    "    - h. Qual estação do ano contém a maior média de locações de bicicletas?\n",
    "    - i. Qual estação do ano contém a menor média de locações de bicicletas?\n",
    "    - j. Qual horário do dia contém a maior média de locações de bicicletas?\n",
    "    - k. Qual horário do dia contém a menor média de locações de bicicletas?\n",
    "    - l. Que dia da semana contém a maior média de locações de bicicletas?\n",
    "    - m. Que dia da semana contém a menor média de locações de bicicletas?\n",
    "    - n. Às quartas-feiras (weekday = 3), qual horário do dia contém a maior média de locações de bicicletas?\n",
    "    - o. Aos sábados (weekday = 6), qual horário do dia contém a maior média de locações de bicicletas?\n"
   ]
  },
  {
   "cell_type": "code",
   "execution_count": 1,
   "id": "1ff193ad",
   "metadata": {},
   "outputs": [],
   "source": [
    "#importando as bibliotecas\n",
    "import numpy as np\n",
    "import pandas as pd "
   ]
  },
  {
   "cell_type": "code",
   "execution_count": 3,
   "id": "ae12d071",
   "metadata": {},
   "outputs": [],
   "source": [
    "link = \"https://pycourse.s3.amazonaws.com/bike-sharing.csv\""
   ]
  },
  {
   "cell_type": "code",
   "execution_count": 4,
   "id": "20b6185c",
   "metadata": {},
   "outputs": [],
   "source": [
    "df = pd.read_csv(link)"
   ]
  },
  {
   "cell_type": "code",
   "execution_count": 6,
   "id": "c0ccb839",
   "metadata": {},
   "outputs": [
    {
     "data": {
      "text/html": [
       "<div>\n",
       "<style scoped>\n",
       "    .dataframe tbody tr th:only-of-type {\n",
       "        vertical-align: middle;\n",
       "    }\n",
       "\n",
       "    .dataframe tbody tr th {\n",
       "        vertical-align: top;\n",
       "    }\n",
       "\n",
       "    .dataframe thead th {\n",
       "        text-align: right;\n",
       "    }\n",
       "</style>\n",
       "<table border=\"1\" class=\"dataframe\">\n",
       "  <thead>\n",
       "    <tr style=\"text-align: right;\">\n",
       "      <th></th>\n",
       "      <th>datetime</th>\n",
       "      <th>rec_id</th>\n",
       "      <th>season</th>\n",
       "      <th>year</th>\n",
       "      <th>month</th>\n",
       "      <th>hour</th>\n",
       "      <th>is_holiday</th>\n",
       "      <th>weekday</th>\n",
       "      <th>is_workingday</th>\n",
       "      <th>weather_condition</th>\n",
       "      <th>temp</th>\n",
       "      <th>atemp</th>\n",
       "      <th>humidity</th>\n",
       "      <th>windspeed</th>\n",
       "      <th>casual</th>\n",
       "      <th>registered</th>\n",
       "      <th>total_count</th>\n",
       "    </tr>\n",
       "  </thead>\n",
       "  <tbody>\n",
       "    <tr>\n",
       "      <th>0</th>\n",
       "      <td>2011-01-01</td>\n",
       "      <td>1</td>\n",
       "      <td>1</td>\n",
       "      <td>0</td>\n",
       "      <td>1</td>\n",
       "      <td>0</td>\n",
       "      <td>0</td>\n",
       "      <td>6</td>\n",
       "      <td>0</td>\n",
       "      <td>1</td>\n",
       "      <td>0.24</td>\n",
       "      <td>0.2879</td>\n",
       "      <td>0.81</td>\n",
       "      <td>0.0</td>\n",
       "      <td>3</td>\n",
       "      <td>13</td>\n",
       "      <td>16</td>\n",
       "    </tr>\n",
       "    <tr>\n",
       "      <th>1</th>\n",
       "      <td>2011-01-01</td>\n",
       "      <td>2</td>\n",
       "      <td>1</td>\n",
       "      <td>0</td>\n",
       "      <td>1</td>\n",
       "      <td>1</td>\n",
       "      <td>0</td>\n",
       "      <td>6</td>\n",
       "      <td>0</td>\n",
       "      <td>1</td>\n",
       "      <td>0.22</td>\n",
       "      <td>0.2727</td>\n",
       "      <td>0.80</td>\n",
       "      <td>0.0</td>\n",
       "      <td>8</td>\n",
       "      <td>32</td>\n",
       "      <td>40</td>\n",
       "    </tr>\n",
       "    <tr>\n",
       "      <th>2</th>\n",
       "      <td>2011-01-01</td>\n",
       "      <td>3</td>\n",
       "      <td>1</td>\n",
       "      <td>0</td>\n",
       "      <td>1</td>\n",
       "      <td>2</td>\n",
       "      <td>0</td>\n",
       "      <td>6</td>\n",
       "      <td>0</td>\n",
       "      <td>1</td>\n",
       "      <td>0.22</td>\n",
       "      <td>0.2727</td>\n",
       "      <td>0.80</td>\n",
       "      <td>0.0</td>\n",
       "      <td>5</td>\n",
       "      <td>27</td>\n",
       "      <td>32</td>\n",
       "    </tr>\n",
       "    <tr>\n",
       "      <th>3</th>\n",
       "      <td>2011-01-01</td>\n",
       "      <td>4</td>\n",
       "      <td>1</td>\n",
       "      <td>0</td>\n",
       "      <td>1</td>\n",
       "      <td>3</td>\n",
       "      <td>0</td>\n",
       "      <td>6</td>\n",
       "      <td>0</td>\n",
       "      <td>1</td>\n",
       "      <td>0.24</td>\n",
       "      <td>0.2879</td>\n",
       "      <td>0.75</td>\n",
       "      <td>0.0</td>\n",
       "      <td>3</td>\n",
       "      <td>10</td>\n",
       "      <td>13</td>\n",
       "    </tr>\n",
       "    <tr>\n",
       "      <th>4</th>\n",
       "      <td>2011-01-01</td>\n",
       "      <td>5</td>\n",
       "      <td>1</td>\n",
       "      <td>0</td>\n",
       "      <td>1</td>\n",
       "      <td>4</td>\n",
       "      <td>0</td>\n",
       "      <td>6</td>\n",
       "      <td>0</td>\n",
       "      <td>1</td>\n",
       "      <td>0.24</td>\n",
       "      <td>0.2879</td>\n",
       "      <td>0.75</td>\n",
       "      <td>0.0</td>\n",
       "      <td>0</td>\n",
       "      <td>1</td>\n",
       "      <td>1</td>\n",
       "    </tr>\n",
       "  </tbody>\n",
       "</table>\n",
       "</div>"
      ],
      "text/plain": [
       "     datetime  rec_id  season  year  month  hour  is_holiday  weekday  \\\n",
       "0  2011-01-01       1       1     0      1     0           0        6   \n",
       "1  2011-01-01       2       1     0      1     1           0        6   \n",
       "2  2011-01-01       3       1     0      1     2           0        6   \n",
       "3  2011-01-01       4       1     0      1     3           0        6   \n",
       "4  2011-01-01       5       1     0      1     4           0        6   \n",
       "\n",
       "   is_workingday  weather_condition  temp   atemp  humidity  windspeed  \\\n",
       "0              0                  1  0.24  0.2879      0.81        0.0   \n",
       "1              0                  1  0.22  0.2727      0.80        0.0   \n",
       "2              0                  1  0.22  0.2727      0.80        0.0   \n",
       "3              0                  1  0.24  0.2879      0.75        0.0   \n",
       "4              0                  1  0.24  0.2879      0.75        0.0   \n",
       "\n",
       "   casual  registered  total_count  \n",
       "0       3          13           16  \n",
       "1       8          32           40  \n",
       "2       5          27           32  \n",
       "3       3          10           13  \n",
       "4       0           1            1  "
      ]
     },
     "execution_count": 6,
     "metadata": {},
     "output_type": "execute_result"
    }
   ],
   "source": [
    "df.head()"
   ]
  },
  {
   "cell_type": "code",
   "execution_count": 8,
   "id": "e5699a2a",
   "metadata": {},
   "outputs": [
    {
     "data": {
      "text/plain": [
       "(17379, 17)"
      ]
     },
     "execution_count": 8,
     "metadata": {},
     "output_type": "execute_result"
    }
   ],
   "source": [
    "# a. Qual o tamanho desse dataset?\n",
    "df.shape"
   ]
  },
  {
   "cell_type": "code",
   "execution_count": 56,
   "id": "ad3a9213",
   "metadata": {},
   "outputs": [
    {
     "data": {
      "text/plain": [
       "0.1900976063064631"
      ]
     },
     "execution_count": 56,
     "metadata": {},
     "output_type": "execute_result"
    }
   ],
   "source": [
    "# b. Qual a média da coluna windspeed?\n",
    "df['windspeed'].mean()"
   ]
  },
  {
   "cell_type": "code",
   "execution_count": 57,
   "id": "98872b96",
   "metadata": {},
   "outputs": [
    {
     "data": {
      "text/plain": [
       "0.4969871684216586"
      ]
     },
     "execution_count": 57,
     "metadata": {},
     "output_type": "execute_result"
    }
   ],
   "source": [
    "# c. Qual a média da coluna temp?\n",
    "df['temp'].mean()"
   ]
  },
  {
   "cell_type": "code",
   "execution_count": 61,
   "id": "a2bbcc12",
   "metadata": {},
   "outputs": [
    {
     "data": {
      "text/plain": [
       "(8645, 17)"
      ]
     },
     "execution_count": 61,
     "metadata": {},
     "output_type": "execute_result"
    }
   ],
   "source": [
    "# d. Quantos registros existem para o ano de 2011?\n",
    "# df.loc[df['year'] == 0]['year'].count() # uma das formas\n",
    "# df['year'].value_counts()\n",
    "# forma que acho melhor\n",
    "df.query('year == 0').shape"
   ]
  },
  {
   "cell_type": "code",
   "execution_count": 60,
   "id": "3c978d1d",
   "metadata": {},
   "outputs": [
    {
     "data": {
      "text/plain": [
       "(8734, 17)"
      ]
     },
     "execution_count": 60,
     "metadata": {},
     "output_type": "execute_result"
    }
   ],
   "source": [
    "# e. Quantos registros existem para o ano de 2012?\n",
    "df.query('year == 1').shape\n"
   ]
  },
  {
   "cell_type": "code",
   "execution_count": 27,
   "id": "e6caed92",
   "metadata": {},
   "outputs": [
    {
     "data": {
      "text/plain": [
       "1243103"
      ]
     },
     "execution_count": 27,
     "metadata": {},
     "output_type": "execute_result"
    }
   ],
   "source": [
    "#f. Quantas locações de bicicletas foram efetuadas em 2011?\n",
    "df.loc[df['year']==0]['total_count'].sum()\n"
   ]
  },
  {
   "cell_type": "code",
   "execution_count": 28,
   "id": "6a5f9a99",
   "metadata": {},
   "outputs": [
    {
     "data": {
      "text/plain": [
       "2049576"
      ]
     },
     "execution_count": 28,
     "metadata": {},
     "output_type": "execute_result"
    }
   ],
   "source": [
    "#g. Quantas locações de bicicletas foram efetuadas em 2012?\n",
    "df.loc[df['year']==1]['total_count'].sum()"
   ]
  },
  {
   "cell_type": "code",
   "execution_count": 45,
   "id": "53afd3a0",
   "metadata": {},
   "outputs": [
    {
     "data": {
      "text/html": [
       "<div>\n",
       "<style scoped>\n",
       "    .dataframe tbody tr th:only-of-type {\n",
       "        vertical-align: middle;\n",
       "    }\n",
       "\n",
       "    .dataframe tbody tr th {\n",
       "        vertical-align: top;\n",
       "    }\n",
       "\n",
       "    .dataframe thead th {\n",
       "        text-align: right;\n",
       "    }\n",
       "</style>\n",
       "<table border=\"1\" class=\"dataframe\">\n",
       "  <thead>\n",
       "    <tr style=\"text-align: right;\">\n",
       "      <th>season</th>\n",
       "      <th>1</th>\n",
       "      <th>2</th>\n",
       "      <th>3</th>\n",
       "      <th>4</th>\n",
       "    </tr>\n",
       "  </thead>\n",
       "  <tbody>\n",
       "    <tr>\n",
       "      <th>total_count</th>\n",
       "      <td>111.114569</td>\n",
       "      <td>208.344069</td>\n",
       "      <td>236.016237</td>\n",
       "      <td>198.868856</td>\n",
       "    </tr>\n",
       "  </tbody>\n",
       "</table>\n",
       "</div>"
      ],
      "text/plain": [
       "season                1           2           3           4\n",
       "total_count  111.114569  208.344069  236.016237  198.868856"
      ]
     },
     "execution_count": 45,
     "metadata": {},
     "output_type": "execute_result"
    }
   ],
   "source": [
    "#h. Qual estação do ano contém a maior média de locações de bicicletas?\n",
    "# (1: inverno, 2: primavera, 3: verão, 4: outono\n",
    "df[['season','total_count']].groupby('season').mean().T\n",
    "#R. A maior média é para estação 3(verão) com 236.016237 - como o esperado."
   ]
  },
  {
   "cell_type": "code",
   "execution_count": null,
   "id": "3f705c89",
   "metadata": {},
   "outputs": [],
   "source": [
    "# i. Qual estação do ano contém a menor média de locações de bicicletas?\n",
    "# R. A menor média foi para a estação 1(inverno) com 111.114569 conforme o esperado."
   ]
  },
  {
   "cell_type": "code",
   "execution_count": 44,
   "id": "0dd17d7f",
   "metadata": {},
   "outputs": [
    {
     "data": {
      "text/html": [
       "<div>\n",
       "<style scoped>\n",
       "    .dataframe tbody tr th:only-of-type {\n",
       "        vertical-align: middle;\n",
       "    }\n",
       "\n",
       "    .dataframe tbody tr th {\n",
       "        vertical-align: top;\n",
       "    }\n",
       "\n",
       "    .dataframe thead th {\n",
       "        text-align: right;\n",
       "    }\n",
       "</style>\n",
       "<table border=\"1\" class=\"dataframe\">\n",
       "  <thead>\n",
       "    <tr style=\"text-align: right;\">\n",
       "      <th></th>\n",
       "      <th>total_count</th>\n",
       "    </tr>\n",
       "    <tr>\n",
       "      <th>hour</th>\n",
       "      <th></th>\n",
       "    </tr>\n",
       "  </thead>\n",
       "  <tbody>\n",
       "    <tr>\n",
       "      <th>17</th>\n",
       "      <td>461.452055</td>\n",
       "    </tr>\n",
       "    <tr>\n",
       "      <th>18</th>\n",
       "      <td>425.510989</td>\n",
       "    </tr>\n",
       "    <tr>\n",
       "      <th>8</th>\n",
       "      <td>359.011004</td>\n",
       "    </tr>\n",
       "    <tr>\n",
       "      <th>16</th>\n",
       "      <td>311.983562</td>\n",
       "    </tr>\n",
       "    <tr>\n",
       "      <th>19</th>\n",
       "      <td>311.523352</td>\n",
       "    </tr>\n",
       "  </tbody>\n",
       "</table>\n",
       "</div>"
      ],
      "text/plain": [
       "      total_count\n",
       "hour             \n",
       "17     461.452055\n",
       "18     425.510989\n",
       "8      359.011004\n",
       "16     311.983562\n",
       "19     311.523352"
      ]
     },
     "execution_count": 44,
     "metadata": {},
     "output_type": "execute_result"
    }
   ],
   "source": [
    "# j. Qual horário do dia contém a maior média de locações de bicicletas?\n",
    "df[['hour','total_count']].groupby('hour').mean().sort_values('total_count', ascending=False).head()\n",
    "# R. O horário que obteve maior média de locação foi as 17 horas com média = 461.452055"
   ]
  },
  {
   "cell_type": "code",
   "execution_count": 46,
   "id": "6d9edacc",
   "metadata": {},
   "outputs": [
    {
     "data": {
      "text/html": [
       "<div>\n",
       "<style scoped>\n",
       "    .dataframe tbody tr th:only-of-type {\n",
       "        vertical-align: middle;\n",
       "    }\n",
       "\n",
       "    .dataframe tbody tr th {\n",
       "        vertical-align: top;\n",
       "    }\n",
       "\n",
       "    .dataframe thead th {\n",
       "        text-align: right;\n",
       "    }\n",
       "</style>\n",
       "<table border=\"1\" class=\"dataframe\">\n",
       "  <thead>\n",
       "    <tr style=\"text-align: right;\">\n",
       "      <th></th>\n",
       "      <th>total_count</th>\n",
       "    </tr>\n",
       "    <tr>\n",
       "      <th>hour</th>\n",
       "      <th></th>\n",
       "    </tr>\n",
       "  </thead>\n",
       "  <tbody>\n",
       "    <tr>\n",
       "      <th>4</th>\n",
       "      <td>6.352941</td>\n",
       "    </tr>\n",
       "    <tr>\n",
       "      <th>3</th>\n",
       "      <td>11.727403</td>\n",
       "    </tr>\n",
       "    <tr>\n",
       "      <th>5</th>\n",
       "      <td>19.889819</td>\n",
       "    </tr>\n",
       "    <tr>\n",
       "      <th>2</th>\n",
       "      <td>22.869930</td>\n",
       "    </tr>\n",
       "    <tr>\n",
       "      <th>1</th>\n",
       "      <td>33.375691</td>\n",
       "    </tr>\n",
       "  </tbody>\n",
       "</table>\n",
       "</div>"
      ],
      "text/plain": [
       "      total_count\n",
       "hour             \n",
       "4        6.352941\n",
       "3       11.727403\n",
       "5       19.889819\n",
       "2       22.869930\n",
       "1       33.375691"
      ]
     },
     "execution_count": 46,
     "metadata": {},
     "output_type": "execute_result"
    }
   ],
   "source": [
    "# k. Qual horário do dia contém a menor média de locações de bicicletas?\n",
    "df[['hour','total_count']].groupby('hour').mean().sort_values('total_count', ascending=True).head()\n",
    "# R. O horário que obteve menor média de locação foi as 4:00 horas com média = 6.352941"
   ]
  },
  {
   "cell_type": "code",
   "execution_count": 47,
   "id": "74401fdc",
   "metadata": {},
   "outputs": [
    {
     "data": {
      "text/html": [
       "<div>\n",
       "<style scoped>\n",
       "    .dataframe tbody tr th:only-of-type {\n",
       "        vertical-align: middle;\n",
       "    }\n",
       "\n",
       "    .dataframe tbody tr th {\n",
       "        vertical-align: top;\n",
       "    }\n",
       "\n",
       "    .dataframe thead th {\n",
       "        text-align: right;\n",
       "    }\n",
       "</style>\n",
       "<table border=\"1\" class=\"dataframe\">\n",
       "  <thead>\n",
       "    <tr style=\"text-align: right;\">\n",
       "      <th></th>\n",
       "      <th>total_count</th>\n",
       "    </tr>\n",
       "    <tr>\n",
       "      <th>weekday</th>\n",
       "      <th></th>\n",
       "    </tr>\n",
       "  </thead>\n",
       "  <tbody>\n",
       "    <tr>\n",
       "      <th>4</th>\n",
       "      <td>196.436665</td>\n",
       "    </tr>\n",
       "    <tr>\n",
       "      <th>5</th>\n",
       "      <td>196.135907</td>\n",
       "    </tr>\n",
       "    <tr>\n",
       "      <th>2</th>\n",
       "      <td>191.238891</td>\n",
       "    </tr>\n",
       "    <tr>\n",
       "      <th>3</th>\n",
       "      <td>191.130505</td>\n",
       "    </tr>\n",
       "    <tr>\n",
       "      <th>6</th>\n",
       "      <td>190.209793</td>\n",
       "    </tr>\n",
       "  </tbody>\n",
       "</table>\n",
       "</div>"
      ],
      "text/plain": [
       "         total_count\n",
       "weekday             \n",
       "4         196.436665\n",
       "5         196.135907\n",
       "2         191.238891\n",
       "3         191.130505\n",
       "6         190.209793"
      ]
     },
     "execution_count": 47,
     "metadata": {},
     "output_type": "execute_result"
    }
   ],
   "source": [
    "# l. Que dia da semana contém a maior média de locações de bicicletas?\n",
    "# weekday: dia da semana (0: domingo, 1: segunda-feira, …, 6: sábado)\n",
    "df[['weekday','total_count']].groupby('weekday').mean().sort_values('total_count', ascending=False).head()\n",
    "# R. Quinta-feira é o dia que possui a maior média de locação com média = 196.436665"
   ]
  },
  {
   "cell_type": "code",
   "execution_count": 48,
   "id": "9fa06c99",
   "metadata": {},
   "outputs": [
    {
     "data": {
      "text/html": [
       "<div>\n",
       "<style scoped>\n",
       "    .dataframe tbody tr th:only-of-type {\n",
       "        vertical-align: middle;\n",
       "    }\n",
       "\n",
       "    .dataframe tbody tr th {\n",
       "        vertical-align: top;\n",
       "    }\n",
       "\n",
       "    .dataframe thead th {\n",
       "        text-align: right;\n",
       "    }\n",
       "</style>\n",
       "<table border=\"1\" class=\"dataframe\">\n",
       "  <thead>\n",
       "    <tr style=\"text-align: right;\">\n",
       "      <th></th>\n",
       "      <th>total_count</th>\n",
       "    </tr>\n",
       "    <tr>\n",
       "      <th>weekday</th>\n",
       "      <th></th>\n",
       "    </tr>\n",
       "  </thead>\n",
       "  <tbody>\n",
       "    <tr>\n",
       "      <th>0</th>\n",
       "      <td>177.468825</td>\n",
       "    </tr>\n",
       "    <tr>\n",
       "      <th>1</th>\n",
       "      <td>183.744655</td>\n",
       "    </tr>\n",
       "    <tr>\n",
       "      <th>6</th>\n",
       "      <td>190.209793</td>\n",
       "    </tr>\n",
       "    <tr>\n",
       "      <th>3</th>\n",
       "      <td>191.130505</td>\n",
       "    </tr>\n",
       "    <tr>\n",
       "      <th>2</th>\n",
       "      <td>191.238891</td>\n",
       "    </tr>\n",
       "  </tbody>\n",
       "</table>\n",
       "</div>"
      ],
      "text/plain": [
       "         total_count\n",
       "weekday             \n",
       "0         177.468825\n",
       "1         183.744655\n",
       "6         190.209793\n",
       "3         191.130505\n",
       "2         191.238891"
      ]
     },
     "execution_count": 48,
     "metadata": {},
     "output_type": "execute_result"
    }
   ],
   "source": [
    "# m. Que dia da semana contém a menor média de locações de bicicletas?\n",
    "df[['weekday','total_count']].groupby('weekday').mean().sort_values('total_count', ascending=True).head()\n",
    "# R. Domingo é o dia da semana que possui a menor média de locação com média = 177.468825"
   ]
  },
  {
   "cell_type": "code",
   "execution_count": 52,
   "id": "d6117a22",
   "metadata": {},
   "outputs": [
    {
     "data": {
      "text/html": [
       "<div>\n",
       "<style scoped>\n",
       "    .dataframe tbody tr th:only-of-type {\n",
       "        vertical-align: middle;\n",
       "    }\n",
       "\n",
       "    .dataframe tbody tr th {\n",
       "        vertical-align: top;\n",
       "    }\n",
       "\n",
       "    .dataframe thead th {\n",
       "        text-align: right;\n",
       "    }\n",
       "</style>\n",
       "<table border=\"1\" class=\"dataframe\">\n",
       "  <thead>\n",
       "    <tr style=\"text-align: right;\">\n",
       "      <th></th>\n",
       "      <th>total_count</th>\n",
       "    </tr>\n",
       "    <tr>\n",
       "      <th>hour</th>\n",
       "      <th></th>\n",
       "    </tr>\n",
       "  </thead>\n",
       "  <tbody>\n",
       "    <tr>\n",
       "      <th>17</th>\n",
       "      <td>513.144231</td>\n",
       "    </tr>\n",
       "    <tr>\n",
       "      <th>18</th>\n",
       "      <td>494.029126</td>\n",
       "    </tr>\n",
       "    <tr>\n",
       "      <th>8</th>\n",
       "      <td>488.326923</td>\n",
       "    </tr>\n",
       "    <tr>\n",
       "      <th>19</th>\n",
       "      <td>357.504854</td>\n",
       "    </tr>\n",
       "    <tr>\n",
       "      <th>7</th>\n",
       "      <td>303.980769</td>\n",
       "    </tr>\n",
       "  </tbody>\n",
       "</table>\n",
       "</div>"
      ],
      "text/plain": [
       "      total_count\n",
       "hour             \n",
       "17     513.144231\n",
       "18     494.029126\n",
       "8      488.326923\n",
       "19     357.504854\n",
       "7      303.980769"
      ]
     },
     "execution_count": 52,
     "metadata": {},
     "output_type": "execute_result"
    }
   ],
   "source": [
    "# n. Às quartas-feiras (weekday = 3), qual horário do dia contém a maior média\n",
    "# de locações de bicicletas?\n",
    "df.query('weekday == 3')[['hour','total_count']].groupby('hour').mean().sort_values('total_count', ascending=False).head()\n",
    "# R. às quartas-feiras o horário das 17:00 é o que possui a maior média de locação."
   ]
  },
  {
   "cell_type": "code",
   "execution_count": 53,
   "id": "0bf4e9a1",
   "metadata": {},
   "outputs": [
    {
     "data": {
      "text/html": [
       "<div>\n",
       "<style scoped>\n",
       "    .dataframe tbody tr th:only-of-type {\n",
       "        vertical-align: middle;\n",
       "    }\n",
       "\n",
       "    .dataframe tbody tr th {\n",
       "        vertical-align: top;\n",
       "    }\n",
       "\n",
       "    .dataframe thead th {\n",
       "        text-align: right;\n",
       "    }\n",
       "</style>\n",
       "<table border=\"1\" class=\"dataframe\">\n",
       "  <thead>\n",
       "    <tr style=\"text-align: right;\">\n",
       "      <th></th>\n",
       "      <th>total_count</th>\n",
       "    </tr>\n",
       "    <tr>\n",
       "      <th>hour</th>\n",
       "      <th></th>\n",
       "    </tr>\n",
       "  </thead>\n",
       "  <tbody>\n",
       "    <tr>\n",
       "      <th>13</th>\n",
       "      <td>385.371429</td>\n",
       "    </tr>\n",
       "    <tr>\n",
       "      <th>15</th>\n",
       "      <td>382.428571</td>\n",
       "    </tr>\n",
       "    <tr>\n",
       "      <th>14</th>\n",
       "      <td>381.333333</td>\n",
       "    </tr>\n",
       "    <tr>\n",
       "      <th>12</th>\n",
       "      <td>375.380952</td>\n",
       "    </tr>\n",
       "    <tr>\n",
       "      <th>16</th>\n",
       "      <td>366.142857</td>\n",
       "    </tr>\n",
       "  </tbody>\n",
       "</table>\n",
       "</div>"
      ],
      "text/plain": [
       "      total_count\n",
       "hour             \n",
       "13     385.371429\n",
       "15     382.428571\n",
       "14     381.333333\n",
       "12     375.380952\n",
       "16     366.142857"
      ]
     },
     "execution_count": 53,
     "metadata": {},
     "output_type": "execute_result"
    }
   ],
   "source": [
    "# o. Aos sábados (weekday = 6), qual horário do dia contém a maior média de\n",
    "# locações de bicicletas?\n",
    "df.query('weekday == 6')[['hour','total_count']].groupby('hour').mean().sort_values('total_count', ascending=False).head()\n",
    "# R. aos sábados o horário das 13:00 é o que possui a maior média de locação."
   ]
  }
 ],
 "metadata": {
  "kernelspec": {
   "display_name": "Python 3 (ipykernel)",
   "language": "python",
   "name": "python3"
  },
  "language_info": {
   "codemirror_mode": {
    "name": "ipython",
    "version": 3
   },
   "file_extension": ".py",
   "mimetype": "text/x-python",
   "name": "python",
   "nbconvert_exporter": "python",
   "pygments_lexer": "ipython3",
   "version": "3.9.12"
  }
 },
 "nbformat": 4,
 "nbformat_minor": 5
}
