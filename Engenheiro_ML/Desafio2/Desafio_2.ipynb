{
 "cells": [
  {
   "cell_type": "markdown",
   "id": "d1537dc9",
   "metadata": {},
   "source": [
    "# Desafio2 -  Bootcamp IGTI: Engenheiro(a) de Machine Learning"
   ]
  },
  {
   "cell_type": "markdown",
   "id": "6a91fca7",
   "metadata": {},
   "source": [
    "**Este é o desafio do Módulo 2 - Modelos Preditivos e Séries Temporais, do Bootcamp de Engenheiro(a) de Machine Learning do IGTI. O objetivo deste desafio é exercitar conceitos apresentados durante o módulo, tais como análise exploratória de dados (EDA) e comparação e treinamento de modelos de classificação.**"
   ]
  },
  {
   "cell_type": "markdown",
   "id": "eb11917b",
   "metadata": {},
   "source": [
    "## Dataset"
   ]
  },
  {
   "cell_type": "markdown",
   "id": "49ab41b3",
   "metadata": {},
   "source": [
    "**O dataset utilizado neste desafio é o \"Banknote authentication\", disponível no UCI Machine Learning Repository (https://archive.ics.uci.edu/ml/datasets/banknote+authentication). Este dataset consiste em atributos contínuos (variance, skewness, curtosis e entropy) extraídos de imagens de cédulas reais e falsificadas através de uma etapa de processamento de sinais (transformação de Wavelet), além da indicação se o exemplo é de uma cédula genuína (class = 0) ou falsificada (class = 1).**"
   ]
  },
  {
   "cell_type": "markdown",
   "id": "efb506f1",
   "metadata": {},
   "source": [
    "## Atividades"
   ]
  },
  {
   "cell_type": "markdown",
   "id": "b231c047",
   "metadata": {},
   "source": [
    "**Os alunos deverão desempenhar as seguintes atividades:**\n",
    "1. Acessar o ambiente Google Colaboratory (recomendado) ou qualquer ambiente de desenvolvimento em Python.\n",
    "2. Carregar o dataset https://pycourse.s3.amazonaws.com/banknote_authentication.txt para análise utilizando o pandas.\n",
    "3. Divida o dataset utilizando a função train_test_split, conforme:\n",
    "    * Conjunto de treino (70%);\n",
    "    * Conjunto de teste (30%);\n",
    "    * random_state=1.\n",
    "4. Utilize a variável “class” como saída e as demais como entrada dos modelos.\n",
    "5. Para a implementação dos algoritmos, utilize as seguintes definições (do sklearn):\n",
    "    * Algoritmo KNN:\n",
    "        * clf_KNN = KNeighborsClassifier(n_neighbors=5)\n",
    "    * Algoritmo Árvore de Decisão (Decision Tree):\n",
    "        * clf_arvore = DecisionTreeClassifier(random_state=1)\n",
    "    * Algoritmo Floresta Aleatória (Random Forest):\n",
    "        * clf_floresta = RandomForestClassifier(max_depth=8, random_state=1)\n",
    "    * Algoritmo SVM:\n",
    "        * clf_svm = SVC(gamma='auto',kernel='rbf', random_state=1)\n",
    "    * Algoritmo Rede MLP:\n",
    "        * clf_mlp = MLPClassifier(hidden_layer_sizes=(2,), solver='lbfgs', random_state=1)\n",
    "6. Treine os modelos com os dados de treino e avalie suas performances com os dados de teste. Utilize a acurácia como métrica de avaliação.\n",
    "7. Responda às questões objetivas.\n"
   ]
  },
  {
   "cell_type": "code",
   "execution_count": 22,
   "id": "565d778c",
   "metadata": {},
   "outputs": [],
   "source": [
    "# importação das libs\n",
    "import pandas as pd \n",
    "import numpy as np \n",
    "import matplotlib.pyplot as plt\n",
    "from sklearn.model_selection import train_test_split\n",
    "from sklearn.neighbors import KNeighborsClassifier\n",
    "from sklearn.tree import DecisionTreeClassifier\n",
    "from sklearn.ensemble import RandomForestClassifier\n",
    "from sklearn.svm import SVC\n",
    "from sklearn.neural_network import MLPClassifier\n",
    "from sklearn.metrics import accuracy_score"
   ]
  },
  {
   "cell_type": "code",
   "execution_count": 2,
   "id": "5179939f",
   "metadata": {},
   "outputs": [],
   "source": [
    "link = \"https://pycourse.s3.amazonaws.com/banknote_authentication.txt\""
   ]
  },
  {
   "cell_type": "code",
   "execution_count": 3,
   "id": "a171cd62",
   "metadata": {},
   "outputs": [],
   "source": [
    "df = pd.read_csv(link,header=None,names=['variance','skewness','curtosis','entropy','class'])"
   ]
  },
  {
   "cell_type": "code",
   "execution_count": 5,
   "id": "91c2b7bc",
   "metadata": {},
   "outputs": [
    {
     "data": {
      "text/html": [
       "<div>\n",
       "<style scoped>\n",
       "    .dataframe tbody tr th:only-of-type {\n",
       "        vertical-align: middle;\n",
       "    }\n",
       "\n",
       "    .dataframe tbody tr th {\n",
       "        vertical-align: top;\n",
       "    }\n",
       "\n",
       "    .dataframe thead th {\n",
       "        text-align: right;\n",
       "    }\n",
       "</style>\n",
       "<table border=\"1\" class=\"dataframe\">\n",
       "  <thead>\n",
       "    <tr style=\"text-align: right;\">\n",
       "      <th></th>\n",
       "      <th>variance</th>\n",
       "      <th>skewness</th>\n",
       "      <th>curtosis</th>\n",
       "      <th>entropy</th>\n",
       "      <th>class</th>\n",
       "    </tr>\n",
       "  </thead>\n",
       "  <tbody>\n",
       "    <tr>\n",
       "      <th>0</th>\n",
       "      <td>3.62160</td>\n",
       "      <td>8.6661</td>\n",
       "      <td>-2.8073</td>\n",
       "      <td>-0.44699</td>\n",
       "      <td>0</td>\n",
       "    </tr>\n",
       "    <tr>\n",
       "      <th>1</th>\n",
       "      <td>4.54590</td>\n",
       "      <td>8.1674</td>\n",
       "      <td>-2.4586</td>\n",
       "      <td>-1.46210</td>\n",
       "      <td>0</td>\n",
       "    </tr>\n",
       "    <tr>\n",
       "      <th>2</th>\n",
       "      <td>3.86600</td>\n",
       "      <td>-2.6383</td>\n",
       "      <td>1.9242</td>\n",
       "      <td>0.10645</td>\n",
       "      <td>0</td>\n",
       "    </tr>\n",
       "    <tr>\n",
       "      <th>3</th>\n",
       "      <td>3.45660</td>\n",
       "      <td>9.5228</td>\n",
       "      <td>-4.0112</td>\n",
       "      <td>-3.59440</td>\n",
       "      <td>0</td>\n",
       "    </tr>\n",
       "    <tr>\n",
       "      <th>4</th>\n",
       "      <td>0.32924</td>\n",
       "      <td>-4.4552</td>\n",
       "      <td>4.5718</td>\n",
       "      <td>-0.98880</td>\n",
       "      <td>0</td>\n",
       "    </tr>\n",
       "  </tbody>\n",
       "</table>\n",
       "</div>"
      ],
      "text/plain": [
       "   variance  skewness  curtosis  entropy  class\n",
       "0   3.62160    8.6661   -2.8073 -0.44699      0\n",
       "1   4.54590    8.1674   -2.4586 -1.46210      0\n",
       "2   3.86600   -2.6383    1.9242  0.10645      0\n",
       "3   3.45660    9.5228   -4.0112 -3.59440      0\n",
       "4   0.32924   -4.4552    4.5718 -0.98880      0"
      ]
     },
     "execution_count": 5,
     "metadata": {},
     "output_type": "execute_result"
    }
   ],
   "source": [
    "df.head()"
   ]
  },
  {
   "cell_type": "markdown",
   "id": "55deedea",
   "metadata": {},
   "source": [
    "### Qual o tamanho desse dataset (número de linhas, número de colunas)? "
   ]
  },
  {
   "cell_type": "code",
   "execution_count": 6,
   "id": "51c1d35b",
   "metadata": {},
   "outputs": [
    {
     "data": {
      "text/plain": [
       "(1372, 5)"
      ]
     },
     "execution_count": 6,
     "metadata": {},
     "output_type": "execute_result"
    }
   ],
   "source": [
    "df.shape"
   ]
  },
  {
   "cell_type": "markdown",
   "id": "3bb768ab",
   "metadata": {},
   "source": [
    "### Qual variável possui o maior range (diferença entre valor máximo e mínimo)? "
   ]
  },
  {
   "cell_type": "code",
   "execution_count": 8,
   "id": "f6954132",
   "metadata": {},
   "outputs": [
    {
     "data": {
      "text/html": [
       "<div>\n",
       "<style scoped>\n",
       "    .dataframe tbody tr th:only-of-type {\n",
       "        vertical-align: middle;\n",
       "    }\n",
       "\n",
       "    .dataframe tbody tr th {\n",
       "        vertical-align: top;\n",
       "    }\n",
       "\n",
       "    .dataframe thead th {\n",
       "        text-align: right;\n",
       "    }\n",
       "</style>\n",
       "<table border=\"1\" class=\"dataframe\">\n",
       "  <thead>\n",
       "    <tr style=\"text-align: right;\">\n",
       "      <th></th>\n",
       "      <th>variance</th>\n",
       "      <th>skewness</th>\n",
       "      <th>curtosis</th>\n",
       "      <th>entropy</th>\n",
       "      <th>class</th>\n",
       "    </tr>\n",
       "  </thead>\n",
       "  <tbody>\n",
       "    <tr>\n",
       "      <th>count</th>\n",
       "      <td>1372.000000</td>\n",
       "      <td>1372.000000</td>\n",
       "      <td>1372.000000</td>\n",
       "      <td>1372.000000</td>\n",
       "      <td>1372.000000</td>\n",
       "    </tr>\n",
       "    <tr>\n",
       "      <th>mean</th>\n",
       "      <td>0.433735</td>\n",
       "      <td>1.922353</td>\n",
       "      <td>1.397627</td>\n",
       "      <td>-1.191657</td>\n",
       "      <td>0.444606</td>\n",
       "    </tr>\n",
       "    <tr>\n",
       "      <th>std</th>\n",
       "      <td>2.842763</td>\n",
       "      <td>5.869047</td>\n",
       "      <td>4.310030</td>\n",
       "      <td>2.101013</td>\n",
       "      <td>0.497103</td>\n",
       "    </tr>\n",
       "    <tr>\n",
       "      <th>min</th>\n",
       "      <td>-7.042100</td>\n",
       "      <td>-13.773100</td>\n",
       "      <td>-5.286100</td>\n",
       "      <td>-8.548200</td>\n",
       "      <td>0.000000</td>\n",
       "    </tr>\n",
       "    <tr>\n",
       "      <th>25%</th>\n",
       "      <td>-1.773000</td>\n",
       "      <td>-1.708200</td>\n",
       "      <td>-1.574975</td>\n",
       "      <td>-2.413450</td>\n",
       "      <td>0.000000</td>\n",
       "    </tr>\n",
       "    <tr>\n",
       "      <th>50%</th>\n",
       "      <td>0.496180</td>\n",
       "      <td>2.319650</td>\n",
       "      <td>0.616630</td>\n",
       "      <td>-0.586650</td>\n",
       "      <td>0.000000</td>\n",
       "    </tr>\n",
       "    <tr>\n",
       "      <th>75%</th>\n",
       "      <td>2.821475</td>\n",
       "      <td>6.814625</td>\n",
       "      <td>3.179250</td>\n",
       "      <td>0.394810</td>\n",
       "      <td>1.000000</td>\n",
       "    </tr>\n",
       "    <tr>\n",
       "      <th>max</th>\n",
       "      <td>6.824800</td>\n",
       "      <td>12.951600</td>\n",
       "      <td>17.927400</td>\n",
       "      <td>2.449500</td>\n",
       "      <td>1.000000</td>\n",
       "    </tr>\n",
       "  </tbody>\n",
       "</table>\n",
       "</div>"
      ],
      "text/plain": [
       "          variance     skewness     curtosis      entropy        class\n",
       "count  1372.000000  1372.000000  1372.000000  1372.000000  1372.000000\n",
       "mean      0.433735     1.922353     1.397627    -1.191657     0.444606\n",
       "std       2.842763     5.869047     4.310030     2.101013     0.497103\n",
       "min      -7.042100   -13.773100    -5.286100    -8.548200     0.000000\n",
       "25%      -1.773000    -1.708200    -1.574975    -2.413450     0.000000\n",
       "50%       0.496180     2.319650     0.616630    -0.586650     0.000000\n",
       "75%       2.821475     6.814625     3.179250     0.394810     1.000000\n",
       "max       6.824800    12.951600    17.927400     2.449500     1.000000"
      ]
     },
     "execution_count": 8,
     "metadata": {},
     "output_type": "execute_result"
    }
   ],
   "source": [
    "df.describe()\n",
    "#Skewness"
   ]
  },
  {
   "cell_type": "markdown",
   "id": "7fec42bc",
   "metadata": {},
   "source": [
    "### Qual a média da coluna skewness? "
   ]
  },
  {
   "cell_type": "markdown",
   "id": "260636c3",
   "metadata": {},
   "source": [
    "1.922353"
   ]
  },
  {
   "cell_type": "markdown",
   "id": "5cd4b8ef",
   "metadata": {},
   "source": [
    "### Qual a média da coluna entropy? "
   ]
  },
  {
   "cell_type": "markdown",
   "id": "a92c5a04",
   "metadata": {},
   "source": [
    "-1.191657"
   ]
  },
  {
   "cell_type": "markdown",
   "id": "dc4ce070",
   "metadata": {},
   "source": [
    "Qual a mediana da coluna variance? "
   ]
  },
  {
   "cell_type": "markdown",
   "id": "9bbae954",
   "metadata": {},
   "source": [
    "0.496180"
   ]
  },
  {
   "cell_type": "markdown",
   "id": "e5305294",
   "metadata": {},
   "source": [
    "### Qual o desvio padrão da coluna curtosis? "
   ]
  },
  {
   "cell_type": "markdown",
   "id": "41d5155b",
   "metadata": {},
   "source": [
    "4.310030"
   ]
  },
  {
   "cell_type": "markdown",
   "id": "b280fa1c",
   "metadata": {},
   "source": [
    "### Qual a porcentagem de exemplos do dataset que são cédulas falsas (class=1)? "
   ]
  },
  {
   "cell_type": "code",
   "execution_count": 15,
   "id": "50d7fb0a",
   "metadata": {},
   "outputs": [
    {
     "data": {
      "text/plain": [
       "0    55.539359\n",
       "1    44.460641\n",
       "Name: class, dtype: float64"
      ]
     },
     "execution_count": 15,
     "metadata": {},
     "output_type": "execute_result"
    }
   ],
   "source": [
    "df['class'].value_counts() / df['class'].count() * 100"
   ]
  },
  {
   "cell_type": "markdown",
   "id": "ed21e503",
   "metadata": {},
   "source": [
    "### Qual o valor da correlação de Pearson entre as variáveis skewness e curtosis? "
   ]
  },
  {
   "cell_type": "code",
   "execution_count": 16,
   "id": "c5f69a2c",
   "metadata": {},
   "outputs": [
    {
     "data": {
      "text/html": [
       "<div>\n",
       "<style scoped>\n",
       "    .dataframe tbody tr th:only-of-type {\n",
       "        vertical-align: middle;\n",
       "    }\n",
       "\n",
       "    .dataframe tbody tr th {\n",
       "        vertical-align: top;\n",
       "    }\n",
       "\n",
       "    .dataframe thead th {\n",
       "        text-align: right;\n",
       "    }\n",
       "</style>\n",
       "<table border=\"1\" class=\"dataframe\">\n",
       "  <thead>\n",
       "    <tr style=\"text-align: right;\">\n",
       "      <th></th>\n",
       "      <th>skewness</th>\n",
       "      <th>curtosis</th>\n",
       "    </tr>\n",
       "  </thead>\n",
       "  <tbody>\n",
       "    <tr>\n",
       "      <th>skewness</th>\n",
       "      <td>1.000000</td>\n",
       "      <td>-0.786895</td>\n",
       "    </tr>\n",
       "    <tr>\n",
       "      <th>curtosis</th>\n",
       "      <td>-0.786895</td>\n",
       "      <td>1.000000</td>\n",
       "    </tr>\n",
       "  </tbody>\n",
       "</table>\n",
       "</div>"
      ],
      "text/plain": [
       "          skewness  curtosis\n",
       "skewness  1.000000 -0.786895\n",
       "curtosis -0.786895  1.000000"
      ]
     },
     "execution_count": 16,
     "metadata": {},
     "output_type": "execute_result"
    }
   ],
   "source": [
    "df[['skewness','curtosis']].corr(method='pearson')"
   ]
  },
  {
   "cell_type": "code",
   "execution_count": 17,
   "id": "f454e905",
   "metadata": {},
   "outputs": [],
   "source": [
    "X = df.drop('class', axis=1)\n",
    "y = df['class']"
   ]
  },
  {
   "cell_type": "code",
   "execution_count": 18,
   "id": "90e0ffd8",
   "metadata": {},
   "outputs": [],
   "source": [
    "X_train, X_test, y_train, y_test = train_test_split(X, y, test_size=.30, random_state=1)"
   ]
  },
  {
   "cell_type": "code",
   "execution_count": 19,
   "id": "6440b84b",
   "metadata": {},
   "outputs": [
    {
     "data": {
      "text/plain": [
       "((960, 4), (960,), (412, 4), (412,))"
      ]
     },
     "execution_count": 19,
     "metadata": {},
     "output_type": "execute_result"
    }
   ],
   "source": [
    "X_train.shape, y_train.shape, X_test.shape, y_test.shape"
   ]
  },
  {
   "cell_type": "markdown",
   "id": "23ceec4a",
   "metadata": {},
   "source": [
    "### Qual a acurácia do KNN no conjunto de teste? "
   ]
  },
  {
   "cell_type": "markdown",
   "id": "7a058bde",
   "metadata": {},
   "source": [
    "## a. Algoritmo KNN:"
   ]
  },
  {
   "cell_type": "code",
   "execution_count": 24,
   "id": "c147d603",
   "metadata": {},
   "outputs": [
    {
     "data": {
      "text/plain": [
       "KNeighborsClassifier()"
      ]
     },
     "execution_count": 24,
     "metadata": {},
     "output_type": "execute_result"
    }
   ],
   "source": [
    "n = 5\n",
    "clf_KNN = KNeighborsClassifier(n_neighbors=n)\n",
    "clf_KNN.fit(X_train,y_train)"
   ]
  },
  {
   "cell_type": "code",
   "execution_count": 25,
   "id": "db518321",
   "metadata": {},
   "outputs": [],
   "source": [
    "y_pred_knn = clf_KNN.predict(X_test)"
   ]
  },
  {
   "cell_type": "code",
   "execution_count": 32,
   "id": "c6c6f0cf",
   "metadata": {},
   "outputs": [
    {
     "name": "stdout",
     "output_type": "stream",
     "text": [
      "A acurácia para o modelo KNN é:0.99757\n"
     ]
    }
   ],
   "source": [
    "Acc_knn = accuracy_score(y_test, y_pred_knn)\n",
    "print(f'A acurácia para o modelo KNN é:{round(Acc_knn,5)}')"
   ]
  },
  {
   "cell_type": "markdown",
   "id": "ec8163ce",
   "metadata": {},
   "source": [
    "## b. Algoritmo Árvore de Decisão (Decision Tree):\n"
   ]
  },
  {
   "cell_type": "code",
   "execution_count": 33,
   "id": "e9eb7d90",
   "metadata": {},
   "outputs": [
    {
     "data": {
      "text/plain": [
       "DecisionTreeClassifier(random_state=1)"
      ]
     },
     "execution_count": 33,
     "metadata": {},
     "output_type": "execute_result"
    }
   ],
   "source": [
    "clf_arvore = DecisionTreeClassifier(random_state=1)\n",
    "clf_arvore.fit(X_train, y_train)"
   ]
  },
  {
   "cell_type": "code",
   "execution_count": 34,
   "id": "300c91be",
   "metadata": {},
   "outputs": [],
   "source": [
    "y_pred_dtree = clf_arvore.predict(X_test)"
   ]
  },
  {
   "cell_type": "markdown",
   "id": "7558d7a6",
   "metadata": {},
   "source": [
    "### Qual a acurácia da Árvore de Decisão no conjunto de teste? "
   ]
  },
  {
   "cell_type": "code",
   "execution_count": 35,
   "id": "43585d17",
   "metadata": {},
   "outputs": [
    {
     "name": "stdout",
     "output_type": "stream",
     "text": [
      "A acurácia para o modelo KNN é:0.98786\n"
     ]
    }
   ],
   "source": [
    "Acc_dtree = accuracy_score(y_test, y_pred_dtree)\n",
    "print(f'A acurácia para o modelo KNN é:{round(Acc_dtree,5)}')"
   ]
  },
  {
   "cell_type": "markdown",
   "id": "14200779",
   "metadata": {},
   "source": [
    "## c. Algoritmo Floresta Aleatória (Random Forest):"
   ]
  },
  {
   "cell_type": "code",
   "execution_count": 36,
   "id": "e431c4a2",
   "metadata": {},
   "outputs": [
    {
     "data": {
      "text/plain": [
       "RandomForestClassifier(max_depth=8, random_state=1)"
      ]
     },
     "execution_count": 36,
     "metadata": {},
     "output_type": "execute_result"
    }
   ],
   "source": [
    "clf_floresta = RandomForestClassifier(max_depth=8, random_state=1)\n",
    "clf_floresta.fit(X_train, y_train)"
   ]
  },
  {
   "cell_type": "code",
   "execution_count": 37,
   "id": "39f2b7f2",
   "metadata": {},
   "outputs": [],
   "source": [
    "y_pred_rand_tree = clf_floresta.predict(X_test)"
   ]
  },
  {
   "cell_type": "markdown",
   "id": "1dd75c65",
   "metadata": {},
   "source": [
    "### Qual a acurácia do Random Forest no conjunto de teste? "
   ]
  },
  {
   "cell_type": "code",
   "execution_count": 38,
   "id": "e8ff6f87",
   "metadata": {},
   "outputs": [
    {
     "name": "stdout",
     "output_type": "stream",
     "text": [
      "A acurácia para o modelo KNN é:0.99515\n"
     ]
    }
   ],
   "source": [
    "Acc_rand_tree = accuracy_score(y_test, y_pred_rand_tree)\n",
    "print(f'A acurácia para o modelo KNN é:{round(Acc_rand_tree,5)}')"
   ]
  },
  {
   "cell_type": "markdown",
   "id": "b37135b8",
   "metadata": {},
   "source": [
    "### Analisando o valor da importância relativa das features do Random Forest (atributo feature_importances_), qual feature melhor contribuiu para a predição de class? "
   ]
  },
  {
   "cell_type": "code",
   "execution_count": 90,
   "id": "2ba26dca",
   "metadata": {},
   "outputs": [
    {
     "data": {
      "text/plain": [
       "Text(0.5, 0, 'Random Forest Feature Importance')"
      ]
     },
     "execution_count": 90,
     "metadata": {},
     "output_type": "execute_result"
    },
    {
     "data": {
      "image/png": "[encoded data removed]",
      "text/plain": [
       "<Figure size 432x288 with 1 Axes>"
      ]
     },
     "metadata": {
      "needs_background": "light"
     },
     "output_type": "display_data"
    }
   ],
   "source": [
    "feat_importances = clf_floresta.feature_importances_.argsort()\n",
    "plt.barh(df.columns[feat_importances], clf_floresta.feature_importances_[feat_importances])\n",
    "plt.xlabel('Random Forest Feature Importance')"
   ]
  },
  {
   "cell_type": "markdown",
   "id": "980f177f",
   "metadata": {},
   "source": [
    "### Qual o valor da importância relativa da feature skewness? "
   ]
  },
  {
   "cell_type": "code",
   "execution_count": 92,
   "id": "029192c9",
   "metadata": {},
   "outputs": [
    {
     "data": {
      "text/plain": [
       "variance    0.560667\n",
       "skewness    0.240586\n",
       "curtosis    0.140228\n",
       "entropy     0.058519\n",
       "dtype: float64"
      ]
     },
     "execution_count": 92,
     "metadata": {},
     "output_type": "execute_result"
    }
   ],
   "source": [
    "forest_importances = pd.Series(clf_floresta.feature_importances_, index=X_train.columns)\n",
    "forest_importances"
   ]
  },
  {
   "cell_type": "markdown",
   "id": "9c518f96",
   "metadata": {},
   "source": [
    "## d. Algoritmo SVM:\n"
   ]
  },
  {
   "cell_type": "code",
   "execution_count": 94,
   "id": "d917732b",
   "metadata": {},
   "outputs": [
    {
     "data": {
      "text/plain": [
       "SVC(gamma='auto', random_state=1)"
      ]
     },
     "execution_count": 94,
     "metadata": {},
     "output_type": "execute_result"
    }
   ],
   "source": [
    "clf_svm = SVC(gamma='auto',kernel='rbf', random_state=1)\n",
    "clf_svm.fit(X_train,y_train)"
   ]
  },
  {
   "cell_type": "code",
   "execution_count": 95,
   "id": "7901efc0",
   "metadata": {},
   "outputs": [],
   "source": [
    "y_pred_svm = clf_svm.predict(X_test)"
   ]
  },
  {
   "cell_type": "markdown",
   "id": "ee31fddd",
   "metadata": {},
   "source": [
    "### Qual a acurácia do SVM no conjunto de teste? "
   ]
  },
  {
   "cell_type": "code",
   "execution_count": 96,
   "id": "ba3e55de",
   "metadata": {},
   "outputs": [
    {
     "name": "stdout",
     "output_type": "stream",
     "text": [
      "A acurácia para o modelo KNN é:1.0\n"
     ]
    }
   ],
   "source": [
    "Acc_svm = accuracy_score(y_test, y_pred_svm)\n",
    "print(f'A acurácia para o modelo KNN é:{round(Acc_svm,5)}')"
   ]
  },
  {
   "cell_type": "markdown",
   "id": "c594637e",
   "metadata": {},
   "source": [
    "## e. Algoritmo Rede MLP:"
   ]
  },
  {
   "cell_type": "code",
   "execution_count": 97,
   "id": "65580568",
   "metadata": {},
   "outputs": [
    {
     "data": {
      "text/plain": [
       "MLPClassifier(hidden_layer_sizes=(2,), random_state=1, solver='lbfgs')"
      ]
     },
     "execution_count": 97,
     "metadata": {},
     "output_type": "execute_result"
    }
   ],
   "source": [
    "clf_mlp = MLPClassifier(hidden_layer_sizes=(2,),\n",
    "solver='lbfgs',\n",
    "random_state=1)\n",
    "clf_mlp.fit(X_train, y_train)\n"
   ]
  },
  {
   "cell_type": "code",
   "execution_count": 98,
   "id": "1edaa2d8",
   "metadata": {},
   "outputs": [],
   "source": [
    "y_pred_mlp = clf_mlp.predict(X_test)"
   ]
  },
  {
   "cell_type": "markdown",
   "id": "b9d09659",
   "metadata": {},
   "source": [
    "### Qual a acurácia da rede MLP no conjunto de teste? "
   ]
  },
  {
   "cell_type": "code",
   "execution_count": 99,
   "id": "1c059ea2",
   "metadata": {},
   "outputs": [
    {
     "name": "stdout",
     "output_type": "stream",
     "text": [
      "A acurácia para o modelo KNN é:1.0\n"
     ]
    }
   ],
   "source": [
    "Acc_mpl = accuracy_score(y_test, y_pred_mlp)\n",
    "print(f'A acurácia para o modelo KNN é:{round(Acc_mpl,5)}')"
   ]
  },
  {
   "cell_type": "code",
   "execution_count": null,
   "id": "d3dd344c",
   "metadata": {},
   "outputs": [],
   "source": []
  }
 ],
 "metadata": {
  "kernelspec": {
   "display_name": "Python 3 (ipykernel)",
   "language": "python",
   "name": "python3"
  },
  "language_info": {
   "codemirror_mode": {
    "name": "ipython",
    "version": 3
   },
   "file_extension": ".py",
   "mimetype": "text/x-python",
   "name": "python",
   "nbconvert_exporter": "python",
   "pygments_lexer": "ipython3",
   "version": "3.9.12"
  }
 },
 "nbformat": 4,
 "nbformat_minor": 5
}
