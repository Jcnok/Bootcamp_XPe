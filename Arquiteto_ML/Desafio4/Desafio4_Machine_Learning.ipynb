{
 "cells": [
  {
   "cell_type": "markdown",
   "metadata": {},
   "source": [
    "# Bootcamp: Arquiteto(a) de Machine Learning"
   ]
  },
  {
   "cell_type": "markdown",
   "metadata": {},
   "source": [
    "## Desafio Prático\n",
    "**Módulo 4: Aplicações de Aprendizado de Máquina Para IoT**"
   ]
  },
  {
   "cell_type": "markdown",
   "metadata": {},
   "source": [
    "## Objetivos de Ensino\n",
    "**Exercitar os seguintes conceitos trabalhados no Módulo:**"
   ]
  },
  {
   "cell_type": "markdown",
   "metadata": {},
   "source": [
    "1. Análise exploratória dos dados (EDA - Exploratory Data Analysis).\n",
    "2. Preparação dos dados da IoT.\n",
    "3. Comparação e ajuste de modelos de classificação."
   ]
  },
  {
   "cell_type": "markdown",
   "metadata": {},
   "source": [
    "## Enunciado"
   ]
  },
  {
   "cell_type": "markdown",
   "metadata": {},
   "source": [
    "**Neste desafio serão abordados todos os conceitos apresentados durante o \n",
    "módulo Aprendizado de Máquina para IoT e Edge. Para este desafio será \n",
    "utilizado o dataset “Fall Detection” disponível no [Kaggle](https://www.kaggle.com/pitasr/falldata/version/1#). \n",
    "Para a construção desse dataset foram utilizados um conjunto de sensores \n",
    "“vestíveis” afixados em seis posições distintas do corpo de um grupo de \n",
    "voluntários. Esses sensores são responsáveis por monitorar diferentes \n",
    "atividades do cotidiano desses voluntários. Atividades como levantar, \n",
    "caminhar, sentar e correr são identificadas e classificadas por meio desses \n",
    "sensores. O artigo “Detecting Falls with Wearable Sensors Using Machine \n",
    "Learning Techniques” utiliza esses dados e emprega o aprendizado de \n",
    "máquina a fim de identificar os eventos de queda, principalmente em idosos, \n",
    "uma vez que esses eventos são vistos como uma das principais causas de \n",
    "fraturas e problemas graves em pessoas idosas.**\n"
   ]
  },
  {
   "cell_type": "markdown",
   "metadata": {},
   "source": [
    "## Atividades"
   ]
  },
  {
   "cell_type": "markdown",
   "metadata": {},
   "source": [
    "Os alunos deverão desempenhar as seguintes atividades:\n",
    "1. Acessar o Google Colaboratory.\n",
    "2. Realizar o upload do dataset.\n",
    "3. Construa um código utilizando como base o trabalho prático, os códigos \n",
    "apresentados neste módulo e o enunciado das questões presentes \n",
    "neste desafio.\n",
    "4. Para a implementação dos algoritmos utilize as definições abaixo:\n",
    "* Divisão entre treinamento e teste:\n",
    "    * *X_train, X_test, y_train, y_test = train_test_split(entrada_normalizada, \n",
    "dados['ACTIVITY'], test_size = 0.3,random_state=42)*\n",
    "\n",
    "* Algoritmo Regressão logística:\n",
    "    * *lr = LogisticRegression(max_iter=1000,random_state=42)*\n",
    "* Algoritmo KNN:\n",
    "    * *clf_KNN = KNeighborsClassifier(n_neighbors=5)*\n",
    "* Algoritmo Árvore de Decisão:\n",
    "    * *dtc = DecisionTreeClassifier(random_state=42)*\n",
    "* Algoritmo Floresta Randômica:\n",
    "    * *rfc = RandomForestClassifier(n_estimators = 50,random_state=42)*\n",
    "* Gradiente Boosting:\n",
    "    * *gb = GradientBoostingClassifier(n_estimators=50, learning_rate = 0.2,max_features=6, max_depth = 5, random_state = 42)*\n",
    "* Algoritmo SVM:\n",
    "    * *clf_svm=SVC(gamma='auto',kernel='rbf')*\n",
    "\n",
    "**Obs.:** \n",
    "1. Utilize a normalização dos dados utilizando o StandardScaler() para todos \n",
    "os algoritmos. \n",
    "2. Para a divisão dos dados de treinamento e teste dos algoritmos utilize o \n",
    "valor de “random_state=42” e a proporção de 70% para treinamento e \n",
    "30% para teste.\n",
    "3. Aplique primeiro a normalização e, depois, aplique a divisão dos dados \n",
    "entre treinamento e teste. Para a aplicação de todos os modelos, utilize \n",
    "essa sequência de passos.\n",
    "4. Utilize a variável “ACTIVITY” como saída e as demais como entrada do \n",
    "modelo.\n",
    "5. Para a última questão, considere as chamadas a seguir:\n",
    "    * *from sklearn.metrics import confusion_matrix\n",
    "matriz_confusao = confusion_matrix(y_test, previsao)*\n",
    "    * *print(matriz_confusao)*\n",
    "    * *seaborn.heatmap(matriz_confusao/np.sum(matriz_confusao), annot=True, fmt='.2%', cmap='Blues'*"
   ]
  },
  {
   "cell_type": "markdown",
   "metadata": {
    "id": "ZrnzByPAuDIy"
   },
   "source": [
    "## Import de Bibliotecas"
   ]
  },
  {
   "cell_type": "code",
   "execution_count": 2,
   "metadata": {
    "id": "OysUlPyA0pq8"
   },
   "outputs": [],
   "source": [
    "# Bibliotecas\n",
    "import numpy as np\n",
    "import pandas as pd\n",
    "import matplotlib.pyplot as plt\n",
    "import seaborn as sns\n",
    "from sklearn.model_selection import train_test_split\n",
    "from sklearn.preprocessing import StandardScaler\n",
    "import warnings\n",
    "warnings.filterwarnings('ignore')\n",
    "# Modelos\n",
    "from sklearn.linear_model import LogisticRegression\n",
    "from sklearn.neighbors import KNeighborsClassifier\n",
    "from sklearn.tree import DecisionTreeClassifier\n",
    "from sklearn.ensemble import RandomForestClassifier\n",
    "from sklearn.ensemble import GradientBoostingClassifier\n",
    "from sklearn.svm import SVC\n",
    "from sklearn.metrics import confusion_matrix\n",
    "from sklearn.metrics import accuracy_score"
   ]
  },
  {
   "cell_type": "code",
   "execution_count": 4,
   "metadata": {
    "colab": {
     "base_uri": "https://localhost:8080/"
    },
    "id": "MqIC1EZE0xsg",
    "outputId": "852ea1a3-9631-4fb2-d904-9e50fe1df00b"
   },
   "outputs": [],
   "source": [
    "# Dataset\n",
    "df=pd.read_csv('./fall_detection.csv')"
   ]
  },
  {
   "cell_type": "code",
   "execution_count": 5,
   "metadata": {
    "colab": {
     "base_uri": "https://localhost:8080/",
     "height": 206
    },
    "id": "K8Gn6hf06X3N",
    "outputId": "e98f2915-1338-4a95-83f8-0fd10b655398"
   },
   "outputs": [
    {
     "data": {
      "text/html": [
       "<div>\n",
       "<style scoped>\n",
       "    .dataframe tbody tr th:only-of-type {\n",
       "        vertical-align: middle;\n",
       "    }\n",
       "\n",
       "    .dataframe tbody tr th {\n",
       "        vertical-align: top;\n",
       "    }\n",
       "\n",
       "    .dataframe thead th {\n",
       "        text-align: right;\n",
       "    }\n",
       "</style>\n",
       "<table border=\"1\" class=\"dataframe\">\n",
       "  <thead>\n",
       "    <tr style=\"text-align: right;\">\n",
       "      <th></th>\n",
       "      <th>ACTIVITY</th>\n",
       "      <th>TIME</th>\n",
       "      <th>SL</th>\n",
       "      <th>EEG</th>\n",
       "      <th>BP</th>\n",
       "      <th>HR</th>\n",
       "      <th>CIRCLUATION</th>\n",
       "    </tr>\n",
       "  </thead>\n",
       "  <tbody>\n",
       "    <tr>\n",
       "      <th>0</th>\n",
       "      <td>3</td>\n",
       "      <td>4722.92</td>\n",
       "      <td>4019.64</td>\n",
       "      <td>-1600.00</td>\n",
       "      <td>13</td>\n",
       "      <td>79</td>\n",
       "      <td>317</td>\n",
       "    </tr>\n",
       "    <tr>\n",
       "      <th>1</th>\n",
       "      <td>2</td>\n",
       "      <td>4059.12</td>\n",
       "      <td>2191.03</td>\n",
       "      <td>-1146.08</td>\n",
       "      <td>20</td>\n",
       "      <td>54</td>\n",
       "      <td>165</td>\n",
       "    </tr>\n",
       "    <tr>\n",
       "      <th>2</th>\n",
       "      <td>2</td>\n",
       "      <td>4773.56</td>\n",
       "      <td>2787.99</td>\n",
       "      <td>-1263.38</td>\n",
       "      <td>46</td>\n",
       "      <td>67</td>\n",
       "      <td>224</td>\n",
       "    </tr>\n",
       "    <tr>\n",
       "      <th>3</th>\n",
       "      <td>4</td>\n",
       "      <td>8271.27</td>\n",
       "      <td>9545.98</td>\n",
       "      <td>-2848.93</td>\n",
       "      <td>26</td>\n",
       "      <td>138</td>\n",
       "      <td>554</td>\n",
       "    </tr>\n",
       "    <tr>\n",
       "      <th>4</th>\n",
       "      <td>4</td>\n",
       "      <td>7102.16</td>\n",
       "      <td>14148.80</td>\n",
       "      <td>-2381.15</td>\n",
       "      <td>85</td>\n",
       "      <td>120</td>\n",
       "      <td>809</td>\n",
       "    </tr>\n",
       "  </tbody>\n",
       "</table>\n",
       "</div>"
      ],
      "text/plain": [
       "   ACTIVITY     TIME        SL      EEG  BP   HR  CIRCLUATION\n",
       "0         3  4722.92   4019.64 -1600.00  13   79          317\n",
       "1         2  4059.12   2191.03 -1146.08  20   54          165\n",
       "2         2  4773.56   2787.99 -1263.38  46   67          224\n",
       "3         4  8271.27   9545.98 -2848.93  26  138          554\n",
       "4         4  7102.16  14148.80 -2381.15  85  120          809"
      ]
     },
     "execution_count": 5,
     "metadata": {},
     "output_type": "execute_result"
    }
   ],
   "source": [
    "df.head()"
   ]
  },
  {
   "cell_type": "markdown",
   "metadata": {},
   "source": [
    "### 01. No dataset utilizado para o desafio, quantas instâncias e atributos existem, respectivamente?"
   ]
  },
  {
   "cell_type": "code",
   "execution_count": 26,
   "metadata": {
    "colab": {
     "base_uri": "https://localhost:8080/"
    },
    "id": "lJeFNND56rvU",
    "outputId": "94157cbb-c1b5-4ef8-8af5-243889f6ff31"
   },
   "outputs": [
    {
     "name": "stdout",
     "output_type": "stream",
     "text": [
      "O dataset possui 16382 instancias e 7 atributos\n"
     ]
    }
   ],
   "source": [
    "instancia,atributo = df.shape\n",
    "print(f'O dataset possui {instancia} instancias e {atributo} atributos')"
   ]
  },
  {
   "cell_type": "markdown",
   "metadata": {},
   "source": [
    "### 02. Quantos tipos diferentes de dados existem no dataset do desafio?"
   ]
  },
  {
   "cell_type": "code",
   "execution_count": 21,
   "metadata": {},
   "outputs": [
    {
     "name": "stdout",
     "output_type": "stream",
     "text": [
      "O dataset possui 2 tipos diferentes de dados\n"
     ]
    }
   ],
   "source": [
    "distinct_type = df.dtypes.array.unique()\n",
    "print(f'O dataset possui {len(distinct_type)} tipos diferentes de dados')"
   ]
  },
  {
   "cell_type": "markdown",
   "metadata": {},
   "source": [
    "### 03.Qual é a média de batimentos cardíacos (HR) para a atividade de corrida (5) nos dados existentes?"
   ]
  },
  {
   "cell_type": "code",
   "execution_count": 32,
   "metadata": {},
   "outputs": [
    {
     "name": "stdout",
     "output_type": "stream",
     "text": [
      "A média de batimentos cardíacos para a atividade de corrida é:192.7\n"
     ]
    }
   ],
   "source": [
    "media_hr_act5 = df.query('ACTIVITY == 5')['HR'].mean()\n",
    "print(f'A média de batimentos cardíacos para a atividade de corrida é:{round(media_hr_act5,1)}')"
   ]
  },
  {
   "cell_type": "markdown",
   "metadata": {},
   "source": [
    "### 04.Quantos tipos distintos de atividades (ACTIVITY) existem?"
   ]
  },
  {
   "cell_type": "code",
   "execution_count": 40,
   "metadata": {},
   "outputs": [
    {
     "name": "stdout",
     "output_type": "stream",
     "text": [
      "O dataset possui 6 atividades distintas.\n"
     ]
    }
   ],
   "source": [
    "distinct_act = df.ACTIVITY.unique()\n",
    "print(f'O dataset possui {len(distinct_act)} atividades distintas.')"
   ]
  },
  {
   "cell_type": "markdown",
   "metadata": {},
   "source": [
    "### 05.Encontre o coeficiente de correlação de Pearson entre todas as variáveis de entrada ['TIME','SL','EEG','BP','HR','CIRCLUATION'] utilizando todos os tipos de atividades (ACTIVITY). Quais são as duas variáveis que possuem o maior coeficiente de correlação de Pearson em valor absoluto (abs(coef))?"
   ]
  },
  {
   "cell_type": "code",
   "execution_count": 42,
   "metadata": {
    "colab": {
     "base_uri": "https://localhost:8080/",
     "height": 269
    },
    "id": "RPEjmH5UkgHD",
    "outputId": "6427aac6-886d-4ab4-c2fc-37016524342a"
   },
   "outputs": [
    {
     "name": "stdout",
     "output_type": "stream",
     "text": [
      "As duas variáveis com maior coeficiente de correlação em valor absoluto são SL e CIRCLUATION\n",
      "O coeficiente de correlação de Pearson entre elas é 0.9780597361779415\n"
     ]
    }
   ],
   "source": [
    "# calcula a matriz de correlação de Pearson\n",
    "corr_matrix = df.corr(method='pearson')\n",
    "\n",
    "# encontra o par de variáveis com o maior coeficiente de correlação absoluto\n",
    "max_corr = np.max(np.abs(corr_matrix.values - np.eye(corr_matrix.shape[0])))\n",
    "i, j = np.where(np.abs(corr_matrix.values - np.eye(corr_matrix.shape[0])) == max_corr)\n",
    "var1, var2 = corr_matrix.columns[i[0]], corr_matrix.columns[j[0]]\n",
    "\n",
    "print(\"As duas variáveis com maior coeficiente de correlação em valor absoluto são\", var1, \"e\", var2)\n",
    "print(\"O coeficiente de correlação de Pearson entre elas é\", corr_matrix.loc[var1, var2])"
   ]
  },
  {
   "cell_type": "markdown",
   "metadata": {},
   "source": [
    "### 06.Construa um boxplot para as variáveis BP e HR. Utilizando esse boxplot, o que é possível dizer sobre essas variáveis?"
   ]
  },
  {
   "cell_type": "code",
   "execution_count": 54,
   "metadata": {
    "colab": {
     "base_uri": "https://localhost:8080/",
     "height": 265
    },
    "id": "jZOJEc5kk98Z",
    "outputId": "e5d9ada2-e36b-4856-fab7-2e0661889b23"
   },
   "outputs": [
    {
     "data": {
      "image/png": "[encoded data removed]",
      "text/plain": [
       "<Figure size 864x1080 with 1 Axes>"
      ]
     },
     "metadata": {},
     "output_type": "display_data"
    }
   ],
   "source": [
    "# cria um boxplot para as variáveis BP e HR\n",
    "sns.set_style(\"whitegrid\")\n",
    "sns.set_palette(\"husl\", 2)\n",
    "fig, ax = plt.subplots(figsize=(12, 15))\n",
    "sns.boxplot(data=df[['BP', 'HR']], ax=ax)\n",
    "ax.set_xticklabels(['BP', 'HR'])\n",
    "ax.set_ylabel('Valores')\n",
    "ax.set_title('Boxplot de BP e HR')\n",
    "\n",
    "# mostra o gráfico na tela\n",
    "plt.show()"
   ]
  },
  {
   "cell_type": "markdown",
   "metadata": {
    "id": "LQYJCF9l_ByB"
   },
   "source": [
    "### 07.Aplique a normalização StandardScaler() para todas as variáveis de entrada (['TIME','SL','EEG','BP','HR','CIRCLUATION']). Após essa normalização, qual é o menor valor existente para a variável SL?"
   ]
  },
  {
   "cell_type": "code",
   "execution_count": 81,
   "metadata": {},
   "outputs": [
    {
     "name": "stdout",
     "output_type": "stream",
     "text": [
      "O menor valor existente para a variável SL após a normalização é: -0.5900449352473939\n"
     ]
    }
   ],
   "source": [
    "# seleciona as variáveis de entrada\n",
    "entrada = df[['TIME','SL','EEG','BP','HR','CIRCLUATION']]\n",
    "\n",
    "# aplica a normalização StandardScaler\n",
    "scaler = StandardScaler()\n",
    "entrada_normalizada = scaler.fit_transform(entrada)\n",
    "entrada_normalizada = pd.DataFrame(entrada_normalizada, columns=entrada.columns)\n",
    "\n",
    "# encontra o menor valor da variável SL após a normalização\n",
    "menor_valor_SL = entrada_normalizada.SL.min()\n",
    "\n",
    "# imprime o menor valor da variável SL após a normalização\n",
    "print(\"O menor valor existente para a variável SL após a normalização é:\", menor_valor_SL)\n"
   ]
  },
  {
   "cell_type": "markdown",
   "metadata": {},
   "source": [
    "### 08.Após a normalização, aplique o train_test_split e divida os dados em 30% para teste e 70% para treino como mostrado no enunciado. Utilize como entrada as colunas ['TIME','SL','EEG','BP','HR','CIRCLUATION'] e como saída a coluna ACTIVITY. Quantas instâncias para o teste existem?"
   ]
  },
  {
   "cell_type": "code",
   "execution_count": 82,
   "metadata": {},
   "outputs": [
    {
     "name": "stdout",
     "output_type": "stream",
     "text": [
      "O número de instâncias para o teste é: 4915\n"
     ]
    }
   ],
   "source": [
    "# seleciona as variáveis de entrada e saída\n",
    "entrada = entrada_normalizada\n",
    "saida = df['ACTIVITY']\n",
    "\n",
    "# divide os dados em conjuntos de treino e teste\n",
    "X_train, X_test, y_train, y_test = train_test_split(entrada, saida, test_size=0.3, random_state=42)\n",
    "\n",
    "# conta o número de instâncias para o teste\n",
    "num_instancias_teste = X_test.shape[0]\n",
    "\n",
    "# imprime o número de instâncias para o teste\n",
    "print(\"O número de instâncias para o teste é:\", num_instancias_teste)"
   ]
  },
  {
   "cell_type": "markdown",
   "metadata": {},
   "source": [
    "### 09.Após a normalização utilizando o StandardScaler() para os dados de entrada, aplique o modelo de classificação utilizando a regressão logística como mostrado no enunciado. Utilizando os hiperparâmetros mostrados, qual é a acurácia aproximada obtida após a aplicação desse algoritmo para a classificação das atividades?"
   ]
  },
  {
   "cell_type": "code",
   "execution_count": 97,
   "metadata": {},
   "outputs": [
    {
     "name": "stdout",
     "output_type": "stream",
     "text": [
      "A acurácia nos dados de teste para regressão logística é: 0.38\n"
     ]
    }
   ],
   "source": [
    "# cria o modelo de regressão logística\n",
    "lr = LogisticRegression(max_iter=1000, random_state=42)\n",
    "\n",
    "# ajusta o modelo aos dados de treino\n",
    "lr.fit(X_train, y_train)\n",
    "\n",
    "# faz a predição dos dados de teste\n",
    "lr_y_pred = lr.predict(X_test)\n",
    "\n",
    "# calcula a acurácia nos dados de teste\n",
    "acuracia_teste = accuracy_score(y_test, lr_y_pred)\n",
    "print(\"A acurácia nos dados de teste para regressão logística é:\", round(acuracia_teste, 2))"
   ]
  },
  {
   "cell_type": "markdown",
   "metadata": {},
   "source": [
    "### 10.Agora, utilizando também a normalização StandardScaler() para os dados de entrada, aplique o modelo de classificação Árvore de Decisão como mostrado no enunciado. Utilizando os hiperparâmetros mostrados, qual é a acurácia aproximada obtida após a aplicação desse algoritmo para a classificação das atividades?"
   ]
  },
  {
   "cell_type": "code",
   "execution_count": 98,
   "metadata": {},
   "outputs": [
    {
     "name": "stdout",
     "output_type": "stream",
     "text": [
      "A acurácia nos dados de teste para o modelo de árvore de decisão é: 0.68\n"
     ]
    }
   ],
   "source": [
    "# cria o modelo \n",
    "dtc = DecisionTreeClassifier(random_state=42)\n",
    "\n",
    "# ajusta o modelo aos dados de treino\n",
    "dtc.fit(X_train, y_train)\n",
    "\n",
    "# faz a predição dos dados de teste\n",
    "dtc_y_pred = dtc.predict(X_test)\n",
    "\n",
    "# calcula a acurácia nos dados de teste\n",
    "acuracia_teste = accuracy_score(y_test, dtc_y_pred)\n",
    "print(\"A acurácia nos dados de teste para o modelo de árvore de decisão é:\", round(acuracia_teste, 2))"
   ]
  },
  {
   "cell_type": "markdown",
   "metadata": {},
   "source": [
    "### 11.Agora, utilizando também a normalização StandardScaler() para os dados de entrada, aplique o modelo de classificação Floresta Randômica como mostrado no enunciado. Utilizando os hiperparâmetros mostrados, qual é a acurácia aproximada obtida após a aplicação desse algoritmo para a classificação das atividades?"
   ]
  },
  {
   "cell_type": "code",
   "execution_count": 99,
   "metadata": {},
   "outputs": [
    {
     "name": "stdout",
     "output_type": "stream",
     "text": [
      "A acurácia nos dados de teste para o modelo de Random Forest é: 0.77\n"
     ]
    }
   ],
   "source": [
    "# cria o modelo \n",
    "rfc = RandomForestClassifier(n_estimators = 50,random_state=42)\n",
    "\n",
    "# ajusta o modelo aos dados de treino\n",
    "rfc.fit(X_train, y_train)\n",
    "\n",
    "# faz a predição dos dados de teste\n",
    "rfc_y_pred = rfc.predict(X_test)\n",
    "\n",
    "# calcula a acurácia nos dados de teste\n",
    "acuracia_teste = accuracy_score(y_test, rfc_y_pred)\n",
    "print(\"A acurácia nos dados de teste para o modelo de Random Forest é:\", round(acuracia_teste, 2))"
   ]
  },
  {
   "cell_type": "markdown",
   "metadata": {
    "id": "ONLEv3qcu-5b"
   },
   "source": [
    "### 12. Agora, utilizando também a normalização StandardScaler() para os dados de entrada, aplique o modelo de Gradiente Boosting como mostrado no enunciado. Utilizando os hiperparâmetros mostrados, qual é a acurácia aproximada obtida após a aplicação desse algoritmo para a classificação das atividades?"
   ]
  },
  {
   "cell_type": "code",
   "execution_count": 108,
   "metadata": {},
   "outputs": [
    {
     "name": "stdout",
     "output_type": "stream",
     "text": [
      "A acurácia nos dados de teste para o modelo de Gradiente Boosting é: 0.73\n"
     ]
    }
   ],
   "source": [
    "# cria o modelo \n",
    "gbc = GradientBoostingClassifier(n_estimators=50, learning_rate = 0.2, \n",
    "max_features=6, max_depth = 5, random_state = 42)\n",
    "\n",
    "\n",
    "# ajusta o modelo aos dados de treino\n",
    "gbc.fit(X_train, y_train)\n",
    "\n",
    "# faz a predição dos dados de teste\n",
    "gbc_y_pred = gbc.predict(X_test)\n",
    "\n",
    "# calcula a acurácia nos dados de teste\n",
    "acuracia_teste = accuracy_score(y_test, gbc_y_pred)\n",
    "print(\"A acurácia nos dados de teste para o modelo de Gradiente Boosting é:\", round(acuracia_teste, 2))"
   ]
  },
  {
   "cell_type": "markdown",
   "metadata": {
    "id": "qpHNHZCfv_Vs"
   },
   "source": [
    "### 13.Encontre a matriz de confusão após aplicar os algoritmos KNN, Árvore de Decisão, SVM e a Regressão Logística como mostrado no enunciado. Analisando essa matriz para cada um dos algoritmos, qual desses algoritmos apresenta o maior percentual de identificação correta do evento de queda (ACTIVITY=3) para os dados de teste?"
   ]
  },
  {
   "cell_type": "code",
   "execution_count": 101,
   "metadata": {},
   "outputs": [
    {
     "name": "stdout",
     "output_type": "stream",
     "text": [
      "A acurácia nos dados de teste para o modelo de KNN é: 0.64\n"
     ]
    }
   ],
   "source": [
    "# cria o modelo \n",
    "clf_KNN = KNeighborsClassifier(n_neighbors=5)\n",
    "\n",
    "# ajusta o modelo aos dados de treino\n",
    "clf_KNN.fit(X_train, y_train)\n",
    "\n",
    "# faz a predição dos dados de teste\n",
    "clf_KNN_y_pred = clf_KNN.predict(X_test)\n",
    "\n",
    "# calcula a acurácia nos dados de teste\n",
    "acuracia_teste = accuracy_score(y_test, clf_KNN_y_pred)\n",
    "print(\"A acurácia nos dados de teste para o modelo de KNN é:\", round(acuracia_teste, 2))"
   ]
  },
  {
   "cell_type": "code",
   "execution_count": 102,
   "metadata": {},
   "outputs": [
    {
     "name": "stdout",
     "output_type": "stream",
     "text": [
      "A acurácia nos dados de teste para o modelo de SVM é: 0.4\n"
     ]
    }
   ],
   "source": [
    "# cria o modelo \n",
    "clf_svm = SVC(gamma='auto',kernel='rbf')\n",
    "\n",
    "# ajusta o modelo aos dados de treino\n",
    "clf_svm.fit(X_train, y_train)\n",
    "\n",
    "# faz a predição dos dados de teste\n",
    "clf_svm_y_pred = clf_svm.predict(X_test)\n",
    "\n",
    "# calcula a acurácia nos dados de teste\n",
    "acuracia_teste = accuracy_score(y_test, clf_svm_y_pred)\n",
    "print(\"A acurácia nos dados de teste para o modelo de SVM é:\", round(acuracia_teste, 2))"
   ]
  },
  {
   "cell_type": "code",
   "execution_count": 117,
   "metadata": {},
   "outputs": [
    {
     "name": "stdout",
     "output_type": "stream",
     "text": [
      "================================================================================\n",
      "\n",
      "Porcentagem de identificação correta do evento de queda:\n",
      "================================================================================\n",
      "Regressão Logística: 42.69%\n",
      "----------------------------------------\n",
      "Árvore de Decisão: 62.33%\n",
      "----------------------------------------\n",
      "KNN: 64.57%\n",
      "----------------------------------------\n",
      "SVM: 33.18%\n"
     ]
    }
   ],
   "source": [
    "# Regressão Logística\n",
    "lr_confusion_matrix = confusion_matrix(y_test, lr_y_pred)\n",
    "\n",
    "# Árvore de Decisão\n",
    "dtc_confusion_matrix = confusion_matrix(y_test, dtc_y_pred)\n",
    "\n",
    "# KNN\n",
    "clf_KNN_confusion_matrix = confusion_matrix(y_test, clf_KNN_y_pred)\n",
    "\n",
    "# SVM\n",
    "clf_svm_confusion_matrix = confusion_matrix(y_test, clf_svm_y_pred)\n",
    "\n",
    "# Porcentagem de identificação correta do evento de queda para cada modelo\n",
    "lr_fall_acc = lr_confusion_matrix[3, 3] / lr_confusion_matrix[3].sum()\n",
    "dtc_fall_acc = dtc_confusion_matrix[3, 3] / dtc_confusion_matrix[3].sum()\n",
    "clf_KNN_fall_acc = clf_KNN_confusion_matrix[3, 3] / clf_KNN_confusion_matrix[3].sum()\n",
    "clf_svm_fall_acc = clf_svm_confusion_matrix[3, 3] / clf_svm_confusion_matrix[3].sum()\n",
    "\n",
    "print('='*80)\n",
    "print(\"\\nPorcentagem de identificação correta do evento de queda:\")\n",
    "print('='*80)\n",
    "print(f\"Regressão Logística: {lr_fall_acc*100:.2f}%\")\n",
    "print('-'*40)\n",
    "print(f\"Árvore de Decisão: {dtc_fall_acc*100:.2f}%\")\n",
    "print('-'*40)\n",
    "print(f\"KNN: {clf_KNN_fall_acc*100:.2f}%\")\n",
    "print('-'*40)\n",
    "print(f\"SVM: {clf_svm_fall_acc*100:.2f}%\")\n"
   ]
  }
 ],
 "metadata": {
  "colab": {
   "provenance": []
  },
  "kernelspec": {
   "display_name": "Python 3 (ipykernel)",
   "language": "python",
   "name": "python3"
  },
  "language_info": {
   "codemirror_mode": {
    "name": "ipython",
    "version": 3
   },
   "file_extension": ".py",
   "mimetype": "text/x-python",
   "name": "python",
   "nbconvert_exporter": "python",
   "pygments_lexer": "ipython3",
   "version": "3.9.12"
  }
 },
 "nbformat": 4,
 "nbformat_minor": 1
}
