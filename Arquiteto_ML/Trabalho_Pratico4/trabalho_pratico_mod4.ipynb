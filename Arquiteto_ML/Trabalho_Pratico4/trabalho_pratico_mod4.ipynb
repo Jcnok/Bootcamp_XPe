{
 "cells": [
  {
   "cell_type": "markdown",
   "metadata": {
    "id": "oj52_VE5JZUN"
   },
   "source": [
    "# Bootcamp: Arquiteto(a) de Machine Learning"
   ]
  },
  {
   "cell_type": "markdown",
   "metadata": {},
   "source": [
    "## Trabalho Prático\n",
    "**Módulo 4: Aplicações de Aprendizado de Máquina Para IoT**"
   ]
  },
  {
   "cell_type": "markdown",
   "metadata": {},
   "source": [
    "## Objetivos de Ensino\n",
    "**Exercitar os seguintes conceitos trabalhados no Módulo:**\n"
   ]
  },
  {
   "cell_type": "markdown",
   "metadata": {},
   "source": [
    "1. Identificação de anomalias.\n",
    "2. Tratamento do dataset.\n",
    "3. Conhecendo o dataset.\n",
    "4. Utilizar modelos de previsão para séries temporais."
   ]
  },
  {
   "cell_type": "markdown",
   "metadata": {},
   "source": [
    "## Enunciado"
   ]
  },
  {
   "cell_type": "markdown",
   "metadata": {},
   "source": [
    "**Atualmente, a IoT é um dos principais elementos responsáveis pela geração\n",
    "de dados e troca de informação existente em nosso planeta. Dessa forma,\n",
    "conhecendo as características dos dispositivos IoT (reduzida disponibilidade\n",
    "de recursos), é natural que os dados gerados por esses dispositivos\n",
    "contenham diferentes tipos de anomalias (dados faltosos, errados e outliers).\n",
    "Portanto, é necessário realizar um processamento cuidadoso desses dados\n",
    "antes de aplicar qualquer um dos modelos de aprendizado de máquina.\n",
    "Imagine um cenário em que se deseja realizar a previsão de temperatura em\n",
    "uma residência a partir de dados históricos coletados por diferentes sensores.\n",
    "Nesse cenário, realizar o pré-processamento é fundamental.\n",
    "Essa previsão de temperatura pode ser utilizada, por exemplo, para a\n",
    "construção de um sistema que seja capaz de prever e ajustar a temperatura\n",
    "do ambiente. Quando esse ajuste ocorre de maneira eficiente, os atuadores\n",
    "(ar-condicionado e aquecedores) passam a funcionar de maneira harmônica,\n",
    "o que proporciona maior conforto aos residentes e uma maior economia de\n",
    "energia.** "
   ]
  },
  {
   "cell_type": "markdown",
   "metadata": {
    "id": "RCcY5ZQeKZbf"
   },
   "source": [
    "**Previsão de temperatura**"
   ]
  },
  {
   "cell_type": "code",
   "execution_count": 1,
   "metadata": {
    "id": "6uwNMQmJJkat"
   },
   "outputs": [],
   "source": [
    "#importando os módulos a serem utilizados\n",
    "import pandas as pd                                   #utilizado para a construção os dataframes e análise exploratória\n",
    "import numpy as np                                    #utilizado para a operações vetoriais e matriciais\n",
    "import matplotlib.pyplot as plt                       #utilizado para construção de gráficos\n",
    "from sklearn.linear_model import LinearRegression     #utilizada para a construção do modelo de regressão linear"
   ]
  },
  {
   "cell_type": "code",
   "execution_count": 76,
   "metadata": {
    "id": "do4oT5QZL9Mr"
   },
   "outputs": [],
   "source": [
    "#importando os dados\n",
    "IOT_temp = pd.read_csv(\"IOT-temp.csv\")"
   ]
  },
  {
   "cell_type": "code",
   "execution_count": 77,
   "metadata": {
    "colab": {
     "base_uri": "https://localhost:8080/",
     "height": 203
    },
    "id": "MY5TjsohTZxa",
    "outputId": "1b345cb4-8de5-446a-915b-c08114752041"
   },
   "outputs": [
    {
     "data": {
      "text/html": [
       "<div>\n",
       "<style scoped>\n",
       "    .dataframe tbody tr th:only-of-type {\n",
       "        vertical-align: middle;\n",
       "    }\n",
       "\n",
       "    .dataframe tbody tr th {\n",
       "        vertical-align: top;\n",
       "    }\n",
       "\n",
       "    .dataframe thead th {\n",
       "        text-align: right;\n",
       "    }\n",
       "</style>\n",
       "<table border=\"1\" class=\"dataframe\">\n",
       "  <thead>\n",
       "    <tr style=\"text-align: right;\">\n",
       "      <th></th>\n",
       "      <th>id</th>\n",
       "      <th>room_id/id</th>\n",
       "      <th>noted_date</th>\n",
       "      <th>temp</th>\n",
       "      <th>out/in</th>\n",
       "    </tr>\n",
       "  </thead>\n",
       "  <tbody>\n",
       "    <tr>\n",
       "      <th>0</th>\n",
       "      <td>__export__.temp_log_196134_bd201015</td>\n",
       "      <td>Room Admin</td>\n",
       "      <td>08-12-2018 09:30</td>\n",
       "      <td>29</td>\n",
       "      <td>In</td>\n",
       "    </tr>\n",
       "    <tr>\n",
       "      <th>1</th>\n",
       "      <td>__export__.temp_log_196131_7bca51bc</td>\n",
       "      <td>Room Admin</td>\n",
       "      <td>08-12-2018 09:30</td>\n",
       "      <td>29</td>\n",
       "      <td>In</td>\n",
       "    </tr>\n",
       "    <tr>\n",
       "      <th>2</th>\n",
       "      <td>__export__.temp_log_196127_522915e3</td>\n",
       "      <td>Room Admin</td>\n",
       "      <td>08-12-2018 09:29</td>\n",
       "      <td>41</td>\n",
       "      <td>Out</td>\n",
       "    </tr>\n",
       "    <tr>\n",
       "      <th>3</th>\n",
       "      <td>__export__.temp_log_196128_be0919cf</td>\n",
       "      <td>Room Admin</td>\n",
       "      <td>08-12-2018 09:29</td>\n",
       "      <td>41</td>\n",
       "      <td>Out</td>\n",
       "    </tr>\n",
       "    <tr>\n",
       "      <th>4</th>\n",
       "      <td>__export__.temp_log_196126_d30b72fb</td>\n",
       "      <td>Room Admin</td>\n",
       "      <td>08-12-2018 09:29</td>\n",
       "      <td>31</td>\n",
       "      <td>In</td>\n",
       "    </tr>\n",
       "  </tbody>\n",
       "</table>\n",
       "</div>"
      ],
      "text/plain": [
       "                                    id  room_id/id        noted_date  temp  \\\n",
       "0  __export__.temp_log_196134_bd201015  Room Admin  08-12-2018 09:30    29   \n",
       "1  __export__.temp_log_196131_7bca51bc  Room Admin  08-12-2018 09:30    29   \n",
       "2  __export__.temp_log_196127_522915e3  Room Admin  08-12-2018 09:29    41   \n",
       "3  __export__.temp_log_196128_be0919cf  Room Admin  08-12-2018 09:29    41   \n",
       "4  __export__.temp_log_196126_d30b72fb  Room Admin  08-12-2018 09:29    31   \n",
       "\n",
       "  out/in  \n",
       "0     In  \n",
       "1     In  \n",
       "2    Out  \n",
       "3    Out  \n",
       "4     In  "
      ]
     },
     "execution_count": 77,
     "metadata": {},
     "output_type": "execute_result"
    }
   ],
   "source": [
    "#conhecendo o dataset\n",
    "IOT_temp.head(5)"
   ]
  },
  {
   "cell_type": "markdown",
   "metadata": {
    "id": "ctjIC4VoTgJi"
   },
   "source": [
    "*Mostrando os dados*\n",
    "\n",
    "\n",
    "\n",
    "1.   id -> identificador único para cada medida.\n",
    "2.   room_id/id -> id do local onde o dispositivo foi instalado\n",
    "3.   noted_date -> data da leitura\n",
    "4.   temp -> valor da temperatura medida\n",
    "5.   out/in -> indica se o dispositivo foi instalado no ambiente interno(in) ou no ambiente externo (out) \n",
    "\n"
   ]
  },
  {
   "cell_type": "code",
   "execution_count": 78,
   "metadata": {
    "colab": {
     "base_uri": "https://localhost:8080/"
    },
    "id": "SgTdEcBoTeIV",
    "outputId": "c2f42ea7-51bf-49ab-bf4e-130777055896"
   },
   "outputs": [
    {
     "name": "stdout",
     "output_type": "stream",
     "text": [
      "<class 'pandas.core.frame.DataFrame'>\n",
      "RangeIndex: 97606 entries, 0 to 97605\n",
      "Data columns (total 5 columns):\n",
      " #   Column      Non-Null Count  Dtype \n",
      "---  ------      --------------  ----- \n",
      " 0   id          97606 non-null  object\n",
      " 1   room_id/id  97606 non-null  object\n",
      " 2   noted_date  97606 non-null  object\n",
      " 3   temp        97606 non-null  int64 \n",
      " 4   out/in      97606 non-null  object\n",
      "dtypes: int64(1), object(4)\n",
      "memory usage: 3.7+ MB\n"
     ]
    }
   ],
   "source": [
    "#conhecendo as características dos dados\n",
    "IOT_temp.info()"
   ]
  },
  {
   "cell_type": "markdown",
   "metadata": {
    "id": "Fz3gP1zPV3L_"
   },
   "source": [
    "**Quantos tipos de dados distintos existem?**"
   ]
  },
  {
   "cell_type": "code",
   "execution_count": 79,
   "metadata": {},
   "outputs": [
    {
     "data": {
      "text/plain": [
       "<PandasArray>\n",
       "[dtype('O'), dtype('int64')]\n",
       "Length: 2, dtype: object"
      ]
     },
     "execution_count": 79,
     "metadata": {},
     "output_type": "execute_result"
    }
   ],
   "source": [
    "IOT_temp.dtypes.array.unique()"
   ]
  },
  {
   "cell_type": "markdown",
   "metadata": {
    "id": "UQb6X79bV-4j"
   },
   "source": [
    "**Quantos valores nulos existem?**"
   ]
  },
  {
   "cell_type": "code",
   "execution_count": 80,
   "metadata": {},
   "outputs": [
    {
     "data": {
      "text/plain": [
       "id            0\n",
       "room_id/id    0\n",
       "noted_date    0\n",
       "temp          0\n",
       "out/in        0\n",
       "dtype: int64"
      ]
     },
     "execution_count": 80,
     "metadata": {},
     "output_type": "execute_result"
    }
   ],
   "source": [
    "IOT_temp.isnull().sum()"
   ]
  },
  {
   "cell_type": "code",
   "execution_count": 81,
   "metadata": {
    "colab": {
     "base_uri": "https://localhost:8080/",
     "height": 295
    },
    "id": "e5t_0CFwUgI1",
    "outputId": "863cb2ad-5ebe-4d0e-8dac-f285c793d691"
   },
   "outputs": [
    {
     "data": {
      "text/html": [
       "<div>\n",
       "<style scoped>\n",
       "    .dataframe tbody tr th:only-of-type {\n",
       "        vertical-align: middle;\n",
       "    }\n",
       "\n",
       "    .dataframe tbody tr th {\n",
       "        vertical-align: top;\n",
       "    }\n",
       "\n",
       "    .dataframe thead th {\n",
       "        text-align: right;\n",
       "    }\n",
       "</style>\n",
       "<table border=\"1\" class=\"dataframe\">\n",
       "  <thead>\n",
       "    <tr style=\"text-align: right;\">\n",
       "      <th></th>\n",
       "      <th>temp</th>\n",
       "    </tr>\n",
       "  </thead>\n",
       "  <tbody>\n",
       "    <tr>\n",
       "      <th>count</th>\n",
       "      <td>97606.000000</td>\n",
       "    </tr>\n",
       "    <tr>\n",
       "      <th>mean</th>\n",
       "      <td>35.053931</td>\n",
       "    </tr>\n",
       "    <tr>\n",
       "      <th>std</th>\n",
       "      <td>5.699825</td>\n",
       "    </tr>\n",
       "    <tr>\n",
       "      <th>min</th>\n",
       "      <td>21.000000</td>\n",
       "    </tr>\n",
       "    <tr>\n",
       "      <th>25%</th>\n",
       "      <td>30.000000</td>\n",
       "    </tr>\n",
       "    <tr>\n",
       "      <th>50%</th>\n",
       "      <td>35.000000</td>\n",
       "    </tr>\n",
       "    <tr>\n",
       "      <th>75%</th>\n",
       "      <td>40.000000</td>\n",
       "    </tr>\n",
       "    <tr>\n",
       "      <th>max</th>\n",
       "      <td>51.000000</td>\n",
       "    </tr>\n",
       "  </tbody>\n",
       "</table>\n",
       "</div>"
      ],
      "text/plain": [
       "               temp\n",
       "count  97606.000000\n",
       "mean      35.053931\n",
       "std        5.699825\n",
       "min       21.000000\n",
       "25%       30.000000\n",
       "50%       35.000000\n",
       "75%       40.000000\n",
       "max       51.000000"
      ]
     },
     "execution_count": 81,
     "metadata": {},
     "output_type": "execute_result"
    }
   ],
   "source": [
    "#obtendo as estatísticas descritivas do dataset\n",
    "IOT_temp.describe()"
   ]
  },
  {
   "cell_type": "markdown",
   "metadata": {
    "id": "HL8qapkXUnUI"
   },
   "source": [
    "**Qual é a mediana das temperaturas medidas?**"
   ]
  },
  {
   "cell_type": "code",
   "execution_count": 82,
   "metadata": {},
   "outputs": [
    {
     "data": {
      "text/plain": [
       "35.0"
      ]
     },
     "execution_count": 82,
     "metadata": {},
     "output_type": "execute_result"
    }
   ],
   "source": [
    "IOT_temp.temp.median()"
   ]
  },
  {
   "cell_type": "code",
   "execution_count": null,
   "metadata": {
    "colab": {
     "base_uri": "https://localhost:8080/"
    },
    "id": "-sGFkZAlUmHD",
    "outputId": "366d629c-3ef3-4903-82c5-7da0c71529b3"
   },
   "outputs": [
    {
     "data": {
      "text/plain": [
       "out/in\n",
       "In     20345\n",
       "Out    77261\n",
       "Name: id, dtype: int64"
      ]
     },
     "execution_count": 43,
     "metadata": {},
     "output_type": "execute_result"
    }
   ],
   "source": [
    "#Contando quantos valores de temperaturas são In ou Out\n",
    "IOT_temp.groupby(\"out/in\").count()['id']"
   ]
  },
  {
   "cell_type": "markdown",
   "metadata": {
    "id": "leTOZaieUxAF"
   },
   "source": [
    "**Qual é o percentual dos dados de temperaturas coletados no ambiente externo (out)?**"
   ]
  },
  {
   "cell_type": "code",
   "execution_count": 83,
   "metadata": {},
   "outputs": [
    {
     "data": {
      "text/plain": [
       "Out    79.0\n",
       "In     21.0\n",
       "Name: out/in, dtype: float64"
      ]
     },
     "execution_count": 83,
     "metadata": {},
     "output_type": "execute_result"
    }
   ],
   "source": [
    "round(IOT_temp['out/in'].value_counts(normalize=True)*100)"
   ]
  },
  {
   "cell_type": "code",
   "execution_count": 86,
   "metadata": {
    "colab": {
     "base_uri": "https://localhost:8080/",
     "height": 203
    },
    "id": "9l6q9B67VG7c",
    "outputId": "9c858ee3-ce0f-482f-c5c7-27d43ff9ae99"
   },
   "outputs": [
    {
     "data": {
      "text/html": [
       "<div>\n",
       "<style scoped>\n",
       "    .dataframe tbody tr th:only-of-type {\n",
       "        vertical-align: middle;\n",
       "    }\n",
       "\n",
       "    .dataframe tbody tr th {\n",
       "        vertical-align: top;\n",
       "    }\n",
       "\n",
       "    .dataframe thead th {\n",
       "        text-align: right;\n",
       "    }\n",
       "</style>\n",
       "<table border=\"1\" class=\"dataframe\">\n",
       "  <thead>\n",
       "    <tr style=\"text-align: right;\">\n",
       "      <th></th>\n",
       "      <th>index</th>\n",
       "      <th>id</th>\n",
       "      <th>room_id/id</th>\n",
       "      <th>noted_date</th>\n",
       "      <th>temp</th>\n",
       "      <th>out/in</th>\n",
       "    </tr>\n",
       "  </thead>\n",
       "  <tbody>\n",
       "    <tr>\n",
       "      <th>0</th>\n",
       "      <td>2</td>\n",
       "      <td>__export__.temp_log_196127_522915e3</td>\n",
       "      <td>Room Admin</td>\n",
       "      <td>08-12-2018 09:29</td>\n",
       "      <td>41</td>\n",
       "      <td>Out</td>\n",
       "    </tr>\n",
       "    <tr>\n",
       "      <th>1</th>\n",
       "      <td>3</td>\n",
       "      <td>__export__.temp_log_196128_be0919cf</td>\n",
       "      <td>Room Admin</td>\n",
       "      <td>08-12-2018 09:29</td>\n",
       "      <td>41</td>\n",
       "      <td>Out</td>\n",
       "    </tr>\n",
       "    <tr>\n",
       "      <th>2</th>\n",
       "      <td>10</td>\n",
       "      <td>__export__.temp_log_196108_4a983c7e</td>\n",
       "      <td>Room Admin</td>\n",
       "      <td>08-12-2018 09:25</td>\n",
       "      <td>42</td>\n",
       "      <td>Out</td>\n",
       "    </tr>\n",
       "    <tr>\n",
       "      <th>3</th>\n",
       "      <td>11</td>\n",
       "      <td>__export__.temp_log_196108_4a983c7e</td>\n",
       "      <td>Room Admin</td>\n",
       "      <td>08-12-2018 09:25</td>\n",
       "      <td>42</td>\n",
       "      <td>Out</td>\n",
       "    </tr>\n",
       "    <tr>\n",
       "      <th>4</th>\n",
       "      <td>16</td>\n",
       "      <td>__export__.temp_log_196094_38501388</td>\n",
       "      <td>Room Admin</td>\n",
       "      <td>08-12-2018 09:21</td>\n",
       "      <td>41</td>\n",
       "      <td>Out</td>\n",
       "    </tr>\n",
       "  </tbody>\n",
       "</table>\n",
       "</div>"
      ],
      "text/plain": [
       "   index                                   id  room_id/id        noted_date  \\\n",
       "0      2  __export__.temp_log_196127_522915e3  Room Admin  08-12-2018 09:29   \n",
       "1      3  __export__.temp_log_196128_be0919cf  Room Admin  08-12-2018 09:29   \n",
       "2     10  __export__.temp_log_196108_4a983c7e  Room Admin  08-12-2018 09:25   \n",
       "3     11  __export__.temp_log_196108_4a983c7e  Room Admin  08-12-2018 09:25   \n",
       "4     16  __export__.temp_log_196094_38501388  Room Admin  08-12-2018 09:21   \n",
       "\n",
       "   temp out/in  \n",
       "0    41    Out  \n",
       "1    41    Out  \n",
       "2    42    Out  \n",
       "3    42    Out  \n",
       "4    41    Out  "
      ]
     },
     "execution_count": 86,
     "metadata": {},
     "output_type": "execute_result"
    }
   ],
   "source": [
    "#separando o dataset entre valores de In e Out\n",
    "df_in=IOT_temp[IOT_temp[\"out/in\"]==\"In\"].reset_index()\n",
    "df_out=IOT_temp[IOT_temp[\"out/in\"]==\"Out\"].reset_index()\n",
    "df_out.head(5)"
   ]
  },
  {
   "cell_type": "code",
   "execution_count": 87,
   "metadata": {
    "colab": {
     "base_uri": "https://localhost:8080/",
     "height": 383
    },
    "id": "fHq34tBzVTmc",
    "outputId": "fa2a6884-9411-47a9-f009-ea35424b8f14"
   },
   "outputs": [
    {
     "data": {
      "text/plain": [
       "<Figure size 720x720 with 0 Axes>"
      ]
     },
     "metadata": {},
     "output_type": "display_data"
    },
    {
     "data": {
      "image/png": "[encoded data removed]",
      "text/plain": [
       "<Figure size 432x288 with 1 Axes>"
      ]
     },
     "metadata": {
      "needs_background": "light"
     },
     "output_type": "display_data"
    }
   ],
   "source": [
    "#plotando os valores (sempre bom...)\n",
    "plt.figure(figsize=(10,10))  #define o tamanho da figura\n",
    "fig=plt.figure()\n",
    "ax=fig.add_axes([0,0,1,1])\n",
    "ax.scatter(df_in.index, df_in.temp, color='r')\n",
    "ax.scatter(df_out.index, df_out.temp, color='b')\n",
    "ax.set_xlabel('Indice')\n",
    "ax.set_ylabel('Temperatura (ºC)')\n",
    "ax.legend([\"Temp_IN\", \"Temp_Out\"])\n",
    "ax.set_title('scatter plot')\n",
    "plt.show()"
   ]
  },
  {
   "cell_type": "code",
   "execution_count": 88,
   "metadata": {
    "colab": {
     "base_uri": "https://localhost:8080/",
     "height": 265
    },
    "id": "8snm0n1dWG73",
    "outputId": "003b3358-8941-4019-d134-e52983175100"
   },
   "outputs": [
    {
     "data": {
      "image/png": "[encoded data removed]",
      "text/plain": [
       "<Figure size 432x288 with 1 Axes>"
      ]
     },
     "metadata": {
      "needs_background": "light"
     },
     "output_type": "display_data"
    }
   ],
   "source": [
    "#identificando possíveis outliers por meio do boxplot das temperaturas internas\n",
    "df_in.boxplot(\"temp\");"
   ]
  },
  {
   "cell_type": "code",
   "execution_count": 89,
   "metadata": {
    "colab": {
     "base_uri": "https://localhost:8080/",
     "height": 265
    },
    "id": "odMybKDUWUT0",
    "outputId": "8233f166-82f8-4083-e7f9-fa3ec15fbbed"
   },
   "outputs": [
    {
     "data": {
      "image/png": "[encoded data removed]",
      "text/plain": [
       "<Figure size 432x288 with 1 Axes>"
      ]
     },
     "metadata": {
      "needs_background": "light"
     },
     "output_type": "display_data"
    }
   ],
   "source": [
    "#identificando possíveis outliers por meio do boxplot das temperaturas externas\n",
    "df_out.boxplot(\"temp\");"
   ]
  },
  {
   "cell_type": "markdown",
   "metadata": {
    "id": "_XE5rnxiZZLi"
   },
   "source": [
    "**Sobre o boxplot dos dados de temperatura interna(in) e externa(out), o que podemos dizer sobre os possíveis outliers?**"
   ]
  },
  {
   "cell_type": "markdown",
   "metadata": {},
   "source": [
    "**R. Temos possíveis outliers para as temperaturas internas e não identificamos possíveis outliers para as temperaturas externas.**"
   ]
  },
  {
   "cell_type": "code",
   "execution_count": 90,
   "metadata": {
    "id": "C7vG_uTSWanP"
   },
   "outputs": [],
   "source": [
    "#verificando se os dados internos possuem uma distribuição normal por meio do histograma\n",
    "temperatura=df_in.sample(n=2000,random_state=32)['temp']            #selecionando 2000 amostra dos dados "
   ]
  },
  {
   "cell_type": "code",
   "execution_count": 91,
   "metadata": {
    "colab": {
     "base_uri": "https://localhost:8080/"
    },
    "id": "6jXubf3Ja-I4",
    "outputId": "047cea01-0e7c-4c7c-d5c7-d7ee4fbc40f0"
   },
   "outputs": [
    {
     "data": {
      "text/plain": [
       "12691    30\n",
       "9806     29\n",
       "14954    28\n",
       "1986     24\n",
       "18775    32\n",
       "         ..\n",
       "526      29\n",
       "5413     31\n",
       "281      29\n",
       "20054    29\n",
       "11915    28\n",
       "Name: temp, Length: 2000, dtype: int64"
      ]
     },
     "execution_count": 91,
     "metadata": {},
     "output_type": "execute_result"
    }
   ],
   "source": [
    "temperatura"
   ]
  },
  {
   "cell_type": "code",
   "execution_count": 92,
   "metadata": {
    "colab": {
     "base_uri": "https://localhost:8080/",
     "height": 295
    },
    "id": "EQiK2lt5atWt",
    "outputId": "83ac02a1-f998-4fcb-bd61-6feec3d39a8c"
   },
   "outputs": [
    {
     "data": {
      "image/png": "[encoded data removed]",
      "text/plain": [
       "<Figure size 432x288 with 1 Axes>"
      ]
     },
     "metadata": {
      "needs_background": "light"
     },
     "output_type": "display_data"
    }
   ],
   "source": [
    "n, bins, patches = plt.hist(x=temperatura, bins='auto', color='#0504aa',\n",
    "                            alpha=0.7, rwidth=0.85)\n",
    "plt.grid(axis='y', alpha=0.75)\n",
    "plt.xlabel('Valor')\n",
    "plt.ylabel('Frequência')\n",
    "plt.title('Histograma para 2000 dados de temperatura');"
   ]
  },
  {
   "cell_type": "code",
   "execution_count": 93,
   "metadata": {
    "colab": {
     "base_uri": "https://localhost:8080/"
    },
    "id": "g5QUgShzWmpw",
    "outputId": "1f9c7d58-357f-475e-d26b-28ab0005ec37"
   },
   "outputs": [
    {
     "name": "stdout",
     "output_type": "stream",
     "text": [
      "f-valor=3.881, p-valor=0.144\n",
      "Não rejeita H0\n"
     ]
    }
   ],
   "source": [
    "#utilizando o teste de D’Agostino’s Test para verificar a normalidade dos dados de temperatura\n",
    "from scipy.stats import normaltest                                      #módulo utilizado para a realização do teste de normalidade \n",
    "f_valor, p_valor = normaltest(temperatura)                              #aplica o teste sobre os dados\n",
    "print('f-valor=%.3f, p-valor=%.3f' % (f_valor, p_valor))\n",
    "alpha = 0.05                                                         #nível de significância\n",
    "if p_valor > alpha:\n",
    "\tprint('Não rejeita H0')\n",
    "else:\n",
    "\tprint('Rejeita H0')"
   ]
  },
  {
   "cell_type": "markdown",
   "metadata": {
    "id": "8tktCGiQdcoV"
   },
   "source": [
    "**Analisando o histograma e o resultado do teste, o que podemos falar sobre a normalidade dos dados?**"
   ]
  },
  {
   "cell_type": "markdown",
   "metadata": {},
   "source": [
    "**O resultado do teste de normalidade indica que os dados de temperatura coletados no ambiente interno seguem uma distribuição normal, isso fortalece a hipótese de que esses dados podem ser modelados por uma distribuição normal e permite o uso de técnicas estatísticas que exigem a normalidade dos dados, como testes de hipótese e análises de correlação.**"
   ]
  },
  {
   "cell_type": "code",
   "execution_count": 94,
   "metadata": {
    "colab": {
     "base_uri": "https://localhost:8080/"
    },
    "id": "JFWgOadpdz0O",
    "outputId": "a10cba62-ed03-41c0-eeee-945c35ec0f24"
   },
   "outputs": [
    {
     "name": "stdout",
     "output_type": "stream",
     "text": [
      "<class 'pandas.core.frame.DataFrame'>\n",
      "RangeIndex: 20345 entries, 0 to 20344\n",
      "Data columns (total 6 columns):\n",
      " #   Column      Non-Null Count  Dtype         \n",
      "---  ------      --------------  -----         \n",
      " 0   index       20345 non-null  int64         \n",
      " 1   id          20345 non-null  object        \n",
      " 2   room_id/id  20345 non-null  object        \n",
      " 3   noted_date  20345 non-null  datetime64[ns]\n",
      " 4   temp        20345 non-null  int64         \n",
      " 5   out/in      20345 non-null  object        \n",
      "dtypes: datetime64[ns](1), int64(2), object(3)\n",
      "memory usage: 953.8+ KB\n"
     ]
    }
   ],
   "source": [
    "#modificando o tipo dos dados de data para o dataset das temperaturas de entrada\n",
    "df_in['noted_date']= pd.to_datetime(df_in['noted_date'],errors='coerce') \n",
    "df_in.info()"
   ]
  },
  {
   "cell_type": "markdown",
   "metadata": {
    "id": "mFlR0U9AeQrn"
   },
   "source": [
    "**Quantos tipos de dados existem agora no df_in?**"
   ]
  },
  {
   "cell_type": "code",
   "execution_count": 95,
   "metadata": {},
   "outputs": [
    {
     "data": {
      "text/plain": [
       "<PandasArray>\n",
       "[dtype('int64'), dtype('O'), dtype('<M8[ns]')]\n",
       "Length: 3, dtype: object"
      ]
     },
     "execution_count": 95,
     "metadata": {},
     "output_type": "execute_result"
    }
   ],
   "source": [
    "df_in.dtypes.array.unique()"
   ]
  },
  {
   "cell_type": "markdown",
   "metadata": {
    "id": "JM25ZjKheXfN"
   },
   "source": [
    "**Após a transformação do tipo de dados, foram introduzidos valores nulos?**"
   ]
  },
  {
   "cell_type": "code",
   "execution_count": 98,
   "metadata": {},
   "outputs": [
    {
     "data": {
      "text/plain": [
       "index         0\n",
       "id            0\n",
       "room_id/id    0\n",
       "noted_date    0\n",
       "temp          0\n",
       "out/in        0\n",
       "dtype: int64"
      ]
     },
     "execution_count": 98,
     "metadata": {},
     "output_type": "execute_result"
    }
   ],
   "source": [
    "df_in.isnull().sum()"
   ]
  },
  {
   "cell_type": "code",
   "execution_count": 99,
   "metadata": {
    "colab": {
     "base_uri": "https://localhost:8080/",
     "height": 203
    },
    "id": "3cp_-ZKgeN5-",
    "outputId": "5281f963-f96b-4aaf-ee4c-46b1d5edf7b5"
   },
   "outputs": [
    {
     "data": {
      "text/html": [
       "<div>\n",
       "<style scoped>\n",
       "    .dataframe tbody tr th:only-of-type {\n",
       "        vertical-align: middle;\n",
       "    }\n",
       "\n",
       "    .dataframe tbody tr th {\n",
       "        vertical-align: top;\n",
       "    }\n",
       "\n",
       "    .dataframe thead th {\n",
       "        text-align: right;\n",
       "    }\n",
       "</style>\n",
       "<table border=\"1\" class=\"dataframe\">\n",
       "  <thead>\n",
       "    <tr style=\"text-align: right;\">\n",
       "      <th></th>\n",
       "      <th>index</th>\n",
       "      <th>id</th>\n",
       "      <th>room_id/id</th>\n",
       "      <th>noted_date</th>\n",
       "      <th>temp</th>\n",
       "      <th>out/in</th>\n",
       "    </tr>\n",
       "  </thead>\n",
       "  <tbody>\n",
       "    <tr>\n",
       "      <th>3545</th>\n",
       "      <td>16218</td>\n",
       "      <td>__export__.temp_log_126924_cb744837</td>\n",
       "      <td>Room Admin</td>\n",
       "      <td>2018-01-11 00:06:00</td>\n",
       "      <td>32</td>\n",
       "      <td>In</td>\n",
       "    </tr>\n",
       "    <tr>\n",
       "      <th>3544</th>\n",
       "      <td>16186</td>\n",
       "      <td>__export__.temp_log_128828_1f2ca69c</td>\n",
       "      <td>Room Admin</td>\n",
       "      <td>2018-01-11 02:12:00</td>\n",
       "      <td>32</td>\n",
       "      <td>In</td>\n",
       "    </tr>\n",
       "    <tr>\n",
       "      <th>3543</th>\n",
       "      <td>16176</td>\n",
       "      <td>__export__.temp_log_142141_12bd7384</td>\n",
       "      <td>Room Admin</td>\n",
       "      <td>2018-01-11 02:44:00</td>\n",
       "      <td>32</td>\n",
       "      <td>In</td>\n",
       "    </tr>\n",
       "    <tr>\n",
       "      <th>3542</th>\n",
       "      <td>16174</td>\n",
       "      <td>__export__.temp_log_106858_cdf61926</td>\n",
       "      <td>Room Admin</td>\n",
       "      <td>2018-01-11 02:46:00</td>\n",
       "      <td>32</td>\n",
       "      <td>In</td>\n",
       "    </tr>\n",
       "    <tr>\n",
       "      <th>3541</th>\n",
       "      <td>16167</td>\n",
       "      <td>__export__.temp_log_120068_a0fc57cc</td>\n",
       "      <td>Room Admin</td>\n",
       "      <td>2018-01-11 02:58:00</td>\n",
       "      <td>31</td>\n",
       "      <td>In</td>\n",
       "    </tr>\n",
       "  </tbody>\n",
       "</table>\n",
       "</div>"
      ],
      "text/plain": [
       "      index                                   id  room_id/id  \\\n",
       "3545  16218  __export__.temp_log_126924_cb744837  Room Admin   \n",
       "3544  16186  __export__.temp_log_128828_1f2ca69c  Room Admin   \n",
       "3543  16176  __export__.temp_log_142141_12bd7384  Room Admin   \n",
       "3542  16174  __export__.temp_log_106858_cdf61926  Room Admin   \n",
       "3541  16167  __export__.temp_log_120068_a0fc57cc  Room Admin   \n",
       "\n",
       "              noted_date  temp out/in  \n",
       "3545 2018-01-11 00:06:00    32     In  \n",
       "3544 2018-01-11 02:12:00    32     In  \n",
       "3543 2018-01-11 02:44:00    32     In  \n",
       "3542 2018-01-11 02:46:00    32     In  \n",
       "3541 2018-01-11 02:58:00    31     In  "
      ]
     },
     "execution_count": 99,
     "metadata": {},
     "output_type": "execute_result"
    }
   ],
   "source": [
    "#ordenando o dataset\n",
    "df_in=df_in.sort_values(by=['noted_date'])\n",
    "df_in.head()"
   ]
  },
  {
   "cell_type": "code",
   "execution_count": 100,
   "metadata": {
    "colab": {
     "base_uri": "https://localhost:8080/",
     "height": 417
    },
    "id": "uJLcwiJrgPTh",
    "outputId": "787c6f01-5fb4-4f77-bee0-5a20b46f5edc"
   },
   "outputs": [
    {
     "data": {
      "text/html": [
       "<div>\n",
       "<style scoped>\n",
       "    .dataframe tbody tr th:only-of-type {\n",
       "        vertical-align: middle;\n",
       "    }\n",
       "\n",
       "    .dataframe tbody tr th {\n",
       "        vertical-align: top;\n",
       "    }\n",
       "\n",
       "    .dataframe thead th {\n",
       "        text-align: right;\n",
       "    }\n",
       "</style>\n",
       "<table border=\"1\" class=\"dataframe\">\n",
       "  <thead>\n",
       "    <tr style=\"text-align: right;\">\n",
       "      <th></th>\n",
       "      <th>index</th>\n",
       "      <th>id</th>\n",
       "      <th>room_id/id</th>\n",
       "      <th>noted_date</th>\n",
       "      <th>temp</th>\n",
       "      <th>out/in</th>\n",
       "    </tr>\n",
       "  </thead>\n",
       "  <tbody>\n",
       "    <tr>\n",
       "      <th>0</th>\n",
       "      <td>16218</td>\n",
       "      <td>__export__.temp_log_126924_cb744837</td>\n",
       "      <td>Room Admin</td>\n",
       "      <td>2018-01-11 00:06:00</td>\n",
       "      <td>32</td>\n",
       "      <td>In</td>\n",
       "    </tr>\n",
       "    <tr>\n",
       "      <th>1</th>\n",
       "      <td>16186</td>\n",
       "      <td>__export__.temp_log_128828_1f2ca69c</td>\n",
       "      <td>Room Admin</td>\n",
       "      <td>2018-01-11 02:12:00</td>\n",
       "      <td>32</td>\n",
       "      <td>In</td>\n",
       "    </tr>\n",
       "    <tr>\n",
       "      <th>2</th>\n",
       "      <td>16176</td>\n",
       "      <td>__export__.temp_log_142141_12bd7384</td>\n",
       "      <td>Room Admin</td>\n",
       "      <td>2018-01-11 02:44:00</td>\n",
       "      <td>32</td>\n",
       "      <td>In</td>\n",
       "    </tr>\n",
       "    <tr>\n",
       "      <th>3</th>\n",
       "      <td>16174</td>\n",
       "      <td>__export__.temp_log_106858_cdf61926</td>\n",
       "      <td>Room Admin</td>\n",
       "      <td>2018-01-11 02:46:00</td>\n",
       "      <td>32</td>\n",
       "      <td>In</td>\n",
       "    </tr>\n",
       "    <tr>\n",
       "      <th>4</th>\n",
       "      <td>16167</td>\n",
       "      <td>__export__.temp_log_120068_a0fc57cc</td>\n",
       "      <td>Room Admin</td>\n",
       "      <td>2018-01-11 02:58:00</td>\n",
       "      <td>31</td>\n",
       "      <td>In</td>\n",
       "    </tr>\n",
       "    <tr>\n",
       "      <th>...</th>\n",
       "      <td>...</td>\n",
       "      <td>...</td>\n",
       "      <td>...</td>\n",
       "      <td>...</td>\n",
       "      <td>...</td>\n",
       "      <td>...</td>\n",
       "    </tr>\n",
       "    <tr>\n",
       "      <th>20340</th>\n",
       "      <td>50723</td>\n",
       "      <td>__export__.temp_log_41083_917dc7ae</td>\n",
       "      <td>Room Admin</td>\n",
       "      <td>2018-12-10 20:25:00</td>\n",
       "      <td>35</td>\n",
       "      <td>In</td>\n",
       "    </tr>\n",
       "    <tr>\n",
       "      <th>20341</th>\n",
       "      <td>50721</td>\n",
       "      <td>__export__.temp_log_41090_c0ed0bd1</td>\n",
       "      <td>Room Admin</td>\n",
       "      <td>2018-12-10 20:35:00</td>\n",
       "      <td>34</td>\n",
       "      <td>In</td>\n",
       "    </tr>\n",
       "    <tr>\n",
       "      <th>20342</th>\n",
       "      <td>50720</td>\n",
       "      <td>__export__.temp_log_41091_8546ae99</td>\n",
       "      <td>Room Admin</td>\n",
       "      <td>2018-12-10 20:37:00</td>\n",
       "      <td>35</td>\n",
       "      <td>In</td>\n",
       "    </tr>\n",
       "    <tr>\n",
       "      <th>20343</th>\n",
       "      <td>50706</td>\n",
       "      <td>__export__.temp_log_41129_77d8da57</td>\n",
       "      <td>Room Admin</td>\n",
       "      <td>2018-12-10 21:31:00</td>\n",
       "      <td>34</td>\n",
       "      <td>In</td>\n",
       "    </tr>\n",
       "    <tr>\n",
       "      <th>20344</th>\n",
       "      <td>50705</td>\n",
       "      <td>__export__.temp_log_41130_13e2eff7</td>\n",
       "      <td>Room Admin</td>\n",
       "      <td>2018-12-10 21:33:00</td>\n",
       "      <td>35</td>\n",
       "      <td>In</td>\n",
       "    </tr>\n",
       "  </tbody>\n",
       "</table>\n",
       "<p>20345 rows × 6 columns</p>\n",
       "</div>"
      ],
      "text/plain": [
       "       index                                   id  room_id/id  \\\n",
       "0      16218  __export__.temp_log_126924_cb744837  Room Admin   \n",
       "1      16186  __export__.temp_log_128828_1f2ca69c  Room Admin   \n",
       "2      16176  __export__.temp_log_142141_12bd7384  Room Admin   \n",
       "3      16174  __export__.temp_log_106858_cdf61926  Room Admin   \n",
       "4      16167  __export__.temp_log_120068_a0fc57cc  Room Admin   \n",
       "...      ...                                  ...         ...   \n",
       "20340  50723   __export__.temp_log_41083_917dc7ae  Room Admin   \n",
       "20341  50721   __export__.temp_log_41090_c0ed0bd1  Room Admin   \n",
       "20342  50720   __export__.temp_log_41091_8546ae99  Room Admin   \n",
       "20343  50706   __export__.temp_log_41129_77d8da57  Room Admin   \n",
       "20344  50705   __export__.temp_log_41130_13e2eff7  Room Admin   \n",
       "\n",
       "               noted_date  temp out/in  \n",
       "0     2018-01-11 00:06:00    32     In  \n",
       "1     2018-01-11 02:12:00    32     In  \n",
       "2     2018-01-11 02:44:00    32     In  \n",
       "3     2018-01-11 02:46:00    32     In  \n",
       "4     2018-01-11 02:58:00    31     In  \n",
       "...                   ...   ...    ...  \n",
       "20340 2018-12-10 20:25:00    35     In  \n",
       "20341 2018-12-10 20:35:00    34     In  \n",
       "20342 2018-12-10 20:37:00    35     In  \n",
       "20343 2018-12-10 21:31:00    34     In  \n",
       "20344 2018-12-10 21:33:00    35     In  \n",
       "\n",
       "[20345 rows x 6 columns]"
      ]
     },
     "execution_count": 100,
     "metadata": {},
     "output_type": "execute_result"
    }
   ],
   "source": [
    "#aplicando o reset de index\n",
    "df_in.reset_index(drop=True)"
   ]
  },
  {
   "cell_type": "code",
   "execution_count": 101,
   "metadata": {
    "colab": {
     "base_uri": "https://localhost:8080/",
     "height": 538
    },
    "id": "90C9TA5dgSrC",
    "outputId": "3bfa7a2a-9475-49f1-c99e-cfa42ae9d491"
   },
   "outputs": [
    {
     "data": {
      "text/html": [
       "<div>\n",
       "<style scoped>\n",
       "    .dataframe tbody tr th:only-of-type {\n",
       "        vertical-align: middle;\n",
       "    }\n",
       "\n",
       "    .dataframe tbody tr th {\n",
       "        vertical-align: top;\n",
       "    }\n",
       "\n",
       "    .dataframe thead th {\n",
       "        text-align: right;\n",
       "    }\n",
       "</style>\n",
       "<table border=\"1\" class=\"dataframe\">\n",
       "  <thead>\n",
       "    <tr style=\"text-align: right;\">\n",
       "      <th></th>\n",
       "      <th>index</th>\n",
       "      <th>id</th>\n",
       "      <th>room_id/id</th>\n",
       "      <th>noted_date</th>\n",
       "      <th>temp</th>\n",
       "      <th>out/in</th>\n",
       "    </tr>\n",
       "  </thead>\n",
       "  <tbody>\n",
       "    <tr>\n",
       "      <th>0</th>\n",
       "      <td>16217</td>\n",
       "      <td>__export__.temp_log_146101_e61c18d4</td>\n",
       "      <td>Room Admin</td>\n",
       "      <td>2018-01-11 00:07:00</td>\n",
       "      <td>40</td>\n",
       "      <td>Out</td>\n",
       "    </tr>\n",
       "    <tr>\n",
       "      <th>1</th>\n",
       "      <td>16216</td>\n",
       "      <td>__export__.temp_log_111262_7b3ed086</td>\n",
       "      <td>Room Admin</td>\n",
       "      <td>2018-01-11 00:09:00</td>\n",
       "      <td>39</td>\n",
       "      <td>Out</td>\n",
       "    </tr>\n",
       "    <tr>\n",
       "      <th>2</th>\n",
       "      <td>16215</td>\n",
       "      <td>__export__.temp_log_147650_344507e9</td>\n",
       "      <td>Room Admin</td>\n",
       "      <td>2018-01-11 00:13:00</td>\n",
       "      <td>40</td>\n",
       "      <td>Out</td>\n",
       "    </tr>\n",
       "    <tr>\n",
       "      <th>3</th>\n",
       "      <td>16214</td>\n",
       "      <td>__export__.temp_log_139505_cd77d7f9</td>\n",
       "      <td>Room Admin</td>\n",
       "      <td>2018-01-11 00:23:00</td>\n",
       "      <td>40</td>\n",
       "      <td>Out</td>\n",
       "    </tr>\n",
       "    <tr>\n",
       "      <th>4</th>\n",
       "      <td>16213</td>\n",
       "      <td>__export__.temp_log_127981_32c85db7</td>\n",
       "      <td>Room Admin</td>\n",
       "      <td>2018-01-11 00:25:00</td>\n",
       "      <td>40</td>\n",
       "      <td>Out</td>\n",
       "    </tr>\n",
       "    <tr>\n",
       "      <th>...</th>\n",
       "      <td>...</td>\n",
       "      <td>...</td>\n",
       "      <td>...</td>\n",
       "      <td>...</td>\n",
       "      <td>...</td>\n",
       "      <td>...</td>\n",
       "    </tr>\n",
       "    <tr>\n",
       "      <th>77256</th>\n",
       "      <td>50668</td>\n",
       "      <td>__export__.temp_log_41241_36e995ef</td>\n",
       "      <td>Room Admin</td>\n",
       "      <td>2018-12-10 23:41:00</td>\n",
       "      <td>44</td>\n",
       "      <td>Out</td>\n",
       "    </tr>\n",
       "    <tr>\n",
       "      <th>77257</th>\n",
       "      <td>50667</td>\n",
       "      <td>__export__.temp_log_41244_1cef6363</td>\n",
       "      <td>Room Admin</td>\n",
       "      <td>2018-12-10 23:43:00</td>\n",
       "      <td>44</td>\n",
       "      <td>Out</td>\n",
       "    </tr>\n",
       "    <tr>\n",
       "      <th>77258</th>\n",
       "      <td>50666</td>\n",
       "      <td>__export__.temp_log_41249_7d6819cd</td>\n",
       "      <td>Room Admin</td>\n",
       "      <td>2018-12-10 23:49:00</td>\n",
       "      <td>44</td>\n",
       "      <td>Out</td>\n",
       "    </tr>\n",
       "    <tr>\n",
       "      <th>77259</th>\n",
       "      <td>50665</td>\n",
       "      <td>__export__.temp_log_41250_eed95540</td>\n",
       "      <td>Room Admin</td>\n",
       "      <td>2018-12-10 23:51:00</td>\n",
       "      <td>45</td>\n",
       "      <td>Out</td>\n",
       "    </tr>\n",
       "    <tr>\n",
       "      <th>77260</th>\n",
       "      <td>50664</td>\n",
       "      <td>__export__.temp_log_41254_5b6ff69c</td>\n",
       "      <td>Room Admin</td>\n",
       "      <td>2018-12-10 23:55:00</td>\n",
       "      <td>44</td>\n",
       "      <td>Out</td>\n",
       "    </tr>\n",
       "  </tbody>\n",
       "</table>\n",
       "<p>77261 rows × 6 columns</p>\n",
       "</div>"
      ],
      "text/plain": [
       "       index                                   id  room_id/id  \\\n",
       "0      16217  __export__.temp_log_146101_e61c18d4  Room Admin   \n",
       "1      16216  __export__.temp_log_111262_7b3ed086  Room Admin   \n",
       "2      16215  __export__.temp_log_147650_344507e9  Room Admin   \n",
       "3      16214  __export__.temp_log_139505_cd77d7f9  Room Admin   \n",
       "4      16213  __export__.temp_log_127981_32c85db7  Room Admin   \n",
       "...      ...                                  ...         ...   \n",
       "77256  50668   __export__.temp_log_41241_36e995ef  Room Admin   \n",
       "77257  50667   __export__.temp_log_41244_1cef6363  Room Admin   \n",
       "77258  50666   __export__.temp_log_41249_7d6819cd  Room Admin   \n",
       "77259  50665   __export__.temp_log_41250_eed95540  Room Admin   \n",
       "77260  50664   __export__.temp_log_41254_5b6ff69c  Room Admin   \n",
       "\n",
       "               noted_date  temp out/in  \n",
       "0     2018-01-11 00:07:00    40    Out  \n",
       "1     2018-01-11 00:09:00    39    Out  \n",
       "2     2018-01-11 00:13:00    40    Out  \n",
       "3     2018-01-11 00:23:00    40    Out  \n",
       "4     2018-01-11 00:25:00    40    Out  \n",
       "...                   ...   ...    ...  \n",
       "77256 2018-12-10 23:41:00    44    Out  \n",
       "77257 2018-12-10 23:43:00    44    Out  \n",
       "77258 2018-12-10 23:49:00    44    Out  \n",
       "77259 2018-12-10 23:51:00    45    Out  \n",
       "77260 2018-12-10 23:55:00    44    Out  \n",
       "\n",
       "[77261 rows x 6 columns]"
      ]
     },
     "execution_count": 101,
     "metadata": {},
     "output_type": "execute_result"
    }
   ],
   "source": [
    "#aplicando o mesmo procedimento para o dataframe de out\n",
    "#modificando o tipo de dados \n",
    "df_out['noted_date']= pd.to_datetime(df_out['noted_date']) \n",
    "df_out=df_out.sort_values(by=['noted_date'])\n",
    "df_out.reset_index(drop=True)"
   ]
  },
  {
   "cell_type": "code",
   "execution_count": 102,
   "metadata": {
    "colab": {
     "base_uri": "https://localhost:8080/"
    },
    "id": "YXlbtJQeghUd",
    "outputId": "fa104d86-b1c1-4553-8b46-df083372ff44"
   },
   "outputs": [
    {
     "name": "stdout",
     "output_type": "stream",
     "text": [
      "Registros existentes no df_IN:  20345\n",
      "Registros existentes no df_OUt:  77261\n"
     ]
    }
   ],
   "source": [
    "print(\"Registros existentes no df_IN: \",df_in.count()[0])\n",
    "print(\"Registros existentes no df_OUt: \",df_out.count()[0])"
   ]
  },
  {
   "cell_type": "code",
   "execution_count": 104,
   "metadata": {
    "colab": {
     "base_uri": "https://localhost:8080/",
     "height": 203
    },
    "id": "UsrWfJO3gy7c",
    "outputId": "8dbd2110-951b-44df-9fac-290fd3eb48ce"
   },
   "outputs": [
    {
     "data": {
      "text/html": [
       "<div>\n",
       "<style scoped>\n",
       "    .dataframe tbody tr th:only-of-type {\n",
       "        vertical-align: middle;\n",
       "    }\n",
       "\n",
       "    .dataframe tbody tr th {\n",
       "        vertical-align: top;\n",
       "    }\n",
       "\n",
       "    .dataframe thead th {\n",
       "        text-align: right;\n",
       "    }\n",
       "</style>\n",
       "<table border=\"1\" class=\"dataframe\">\n",
       "  <thead>\n",
       "    <tr style=\"text-align: right;\">\n",
       "      <th></th>\n",
       "      <th>temp_in</th>\n",
       "      <th>temp_out</th>\n",
       "    </tr>\n",
       "  </thead>\n",
       "  <tbody>\n",
       "    <tr>\n",
       "      <th>0</th>\n",
       "      <td>29.0</td>\n",
       "      <td>41</td>\n",
       "    </tr>\n",
       "    <tr>\n",
       "      <th>1</th>\n",
       "      <td>29.0</td>\n",
       "      <td>41</td>\n",
       "    </tr>\n",
       "    <tr>\n",
       "      <th>2</th>\n",
       "      <td>31.0</td>\n",
       "      <td>42</td>\n",
       "    </tr>\n",
       "    <tr>\n",
       "      <th>3</th>\n",
       "      <td>31.0</td>\n",
       "      <td>42</td>\n",
       "    </tr>\n",
       "    <tr>\n",
       "      <th>4</th>\n",
       "      <td>29.0</td>\n",
       "      <td>41</td>\n",
       "    </tr>\n",
       "  </tbody>\n",
       "</table>\n",
       "</div>"
      ],
      "text/plain": [
       "   temp_in  temp_out\n",
       "0     29.0        41\n",
       "1     29.0        41\n",
       "2     31.0        42\n",
       "3     31.0        42\n",
       "4     29.0        41"
      ]
     },
     "execution_count": 104,
     "metadata": {},
     "output_type": "execute_result"
    }
   ],
   "source": [
    "#comparando as duas temperaturas \"estatísticamente\"\n",
    "frame = { 'temp_in': df_in.temp, 'temp_out': df_out.temp } \n",
    "df_in_out=pd.DataFrame(frame)\n",
    "df_in_out.head()"
   ]
  },
  {
   "cell_type": "code",
   "execution_count": 105,
   "metadata": {
    "colab": {
     "base_uri": "https://localhost:8080/"
    },
    "id": "UOog4sOYg4ay",
    "outputId": "0b1267ff-66ca-4496-f8a2-adec0aa80c9c"
   },
   "outputs": [
    {
     "name": "stdout",
     "output_type": "stream",
     "text": [
      "<class 'pandas.core.frame.DataFrame'>\n",
      "Int64Index: 77261 entries, 0 to 77260\n",
      "Data columns (total 2 columns):\n",
      " #   Column    Non-Null Count  Dtype  \n",
      "---  ------    --------------  -----  \n",
      " 0   temp_in   20345 non-null  float64\n",
      " 1   temp_out  77261 non-null  int64  \n",
      "dtypes: float64(1), int64(1)\n",
      "memory usage: 1.8 MB\n"
     ]
    }
   ],
   "source": [
    "#mostrando os dados\n",
    "df_in_out.info()"
   ]
  },
  {
   "cell_type": "code",
   "execution_count": 106,
   "metadata": {},
   "outputs": [
    {
     "data": {
      "text/html": [
       "<div>\n",
       "<style scoped>\n",
       "    .dataframe tbody tr th:only-of-type {\n",
       "        vertical-align: middle;\n",
       "    }\n",
       "\n",
       "    .dataframe tbody tr th {\n",
       "        vertical-align: top;\n",
       "    }\n",
       "\n",
       "    .dataframe thead th {\n",
       "        text-align: right;\n",
       "    }\n",
       "</style>\n",
       "<table border=\"1\" class=\"dataframe\">\n",
       "  <thead>\n",
       "    <tr style=\"text-align: right;\">\n",
       "      <th>out/in</th>\n",
       "      <th>In</th>\n",
       "      <th>Out</th>\n",
       "    </tr>\n",
       "    <tr>\n",
       "      <th>noted_date</th>\n",
       "      <th></th>\n",
       "      <th></th>\n",
       "    </tr>\n",
       "  </thead>\n",
       "  <tbody>\n",
       "    <tr>\n",
       "      <th>01-11-2018 00:06</th>\n",
       "      <td>32.0</td>\n",
       "      <td>0.0</td>\n",
       "    </tr>\n",
       "    <tr>\n",
       "      <th>01-11-2018 00:07</th>\n",
       "      <td>0.0</td>\n",
       "      <td>40.0</td>\n",
       "    </tr>\n",
       "    <tr>\n",
       "      <th>01-11-2018 00:09</th>\n",
       "      <td>0.0</td>\n",
       "      <td>39.0</td>\n",
       "    </tr>\n",
       "    <tr>\n",
       "      <th>01-11-2018 00:13</th>\n",
       "      <td>0.0</td>\n",
       "      <td>40.0</td>\n",
       "    </tr>\n",
       "    <tr>\n",
       "      <th>01-11-2018 00:23</th>\n",
       "      <td>0.0</td>\n",
       "      <td>40.0</td>\n",
       "    </tr>\n",
       "    <tr>\n",
       "      <th>...</th>\n",
       "      <td>...</td>\n",
       "      <td>...</td>\n",
       "    </tr>\n",
       "    <tr>\n",
       "      <th>31-10-2018 23:52</th>\n",
       "      <td>0.0</td>\n",
       "      <td>40.0</td>\n",
       "    </tr>\n",
       "    <tr>\n",
       "      <th>31-10-2018 23:53</th>\n",
       "      <td>0.0</td>\n",
       "      <td>39.0</td>\n",
       "    </tr>\n",
       "    <tr>\n",
       "      <th>31-10-2018 23:54</th>\n",
       "      <td>32.0</td>\n",
       "      <td>0.0</td>\n",
       "    </tr>\n",
       "    <tr>\n",
       "      <th>31-10-2018 23:55</th>\n",
       "      <td>0.0</td>\n",
       "      <td>40.0</td>\n",
       "    </tr>\n",
       "    <tr>\n",
       "      <th>31-10-2018 23:57</th>\n",
       "      <td>0.0</td>\n",
       "      <td>39.0</td>\n",
       "    </tr>\n",
       "  </tbody>\n",
       "</table>\n",
       "<p>27920 rows × 2 columns</p>\n",
       "</div>"
      ],
      "text/plain": [
       "out/in              In   Out\n",
       "noted_date                  \n",
       "01-11-2018 00:06  32.0   0.0\n",
       "01-11-2018 00:07   0.0  40.0\n",
       "01-11-2018 00:09   0.0  39.0\n",
       "01-11-2018 00:13   0.0  40.0\n",
       "01-11-2018 00:23   0.0  40.0\n",
       "...                ...   ...\n",
       "31-10-2018 23:52   0.0  40.0\n",
       "31-10-2018 23:53   0.0  39.0\n",
       "31-10-2018 23:54  32.0   0.0\n",
       "31-10-2018 23:55   0.0  40.0\n",
       "31-10-2018 23:57   0.0  39.0\n",
       "\n",
       "[27920 rows x 2 columns]"
      ]
     },
     "execution_count": 106,
     "metadata": {},
     "output_type": "execute_result"
    }
   ],
   "source": [
    "#exemplificando o pivot\n",
    "table = pd.pivot_table(IOT_temp, values='temp', index=['noted_date'], columns= [\"out/in\"],fill_value=0)\n",
    "table"
   ]
  },
  {
   "cell_type": "code",
   "execution_count": 107,
   "metadata": {
    "colab": {
     "base_uri": "https://localhost:8080/",
     "height": 320
    },
    "id": "SUa43PY0hMav",
    "outputId": "3de0311a-6e42-49f2-ff50-888b1faa1a24"
   },
   "outputs": [
    {
     "data": {
      "image/png": "[encoded data removed]",
      "text/plain": [
       "<Figure size 432x288 with 1 Axes>"
      ]
     },
     "metadata": {
      "needs_background": "light"
     },
     "output_type": "display_data"
    }
   ],
   "source": [
    "#comparando a igualdade dos valores In e Out\n",
    "df_in_out.boxplot();"
   ]
  },
  {
   "cell_type": "markdown",
   "metadata": {
    "id": "pR-xcT6EhXPs"
   },
   "source": [
    "**Analisando o boxplot da temp_in e temp_out, o que é possível afirmar?**"
   ]
  },
  {
   "cell_type": "markdown",
   "metadata": {},
   "source": [
    "**R. Existe uma maior dispersão nos dados de temperatura externa.**"
   ]
  },
  {
   "cell_type": "code",
   "execution_count": 108,
   "metadata": {
    "id": "TsmnuSEYhmJi"
   },
   "outputs": [],
   "source": [
    "#criando um modelo de previsão de temperatura \n",
    "df_out_new=IOT_temp[IOT_temp[\"out/in\"]==\"Out\"][\"temp\"].values"
   ]
  },
  {
   "cell_type": "code",
   "execution_count": 109,
   "metadata": {
    "id": "DcdTVHexhyqv"
   },
   "outputs": [],
   "source": [
    "#normaliza os dados\n",
    "from sklearn.preprocessing import MinMaxScaler\n",
    "scaler = MinMaxScaler(feature_range=(0, 1))\n",
    "serie_out = scaler.fit_transform(df_out_new.reshape(-1, 1))"
   ]
  },
  {
   "cell_type": "code",
   "execution_count": 110,
   "metadata": {
    "colab": {
     "base_uri": "https://localhost:8080/"
    },
    "id": "5KRLBlnPh1o5",
    "outputId": "ae3b9ef2-2e39-4b35-9bf0-0b43745394e2"
   },
   "outputs": [
    {
     "data": {
      "text/plain": [
       "array([[0.62962963],\n",
       "       [0.62962963],\n",
       "       [0.66666667],\n",
       "       ...,\n",
       "       [0.2962963 ],\n",
       "       [0.2962963 ],\n",
       "       [0.2962963 ]])"
      ]
     },
     "execution_count": 110,
     "metadata": {},
     "output_type": "execute_result"
    }
   ],
   "source": [
    "serie_out"
   ]
  },
  {
   "cell_type": "code",
   "execution_count": 111,
   "metadata": {
    "id": "17b5JyICh4MB"
   },
   "outputs": [],
   "source": [
    "#define a quantidade de dados para treinamento e teste\n",
    "train=serie_out[:int(len(serie_out)*0.7)]      #70% inicial para o treinamento\n",
    "test=serie_out[int(len(serie_out)*0.7):]       #30% final para o teste"
   ]
  },
  {
   "cell_type": "code",
   "execution_count": 112,
   "metadata": {
    "id": "ojgHO2hqh7DN"
   },
   "outputs": [],
   "source": [
    "#método para colcoar os dados de entrada em um formato necessário para a previsão\n",
    "#define o intervalo a ser utilizado para entrada da rede neural recorrente LSTM\n",
    "def create_dataset(dataset, look_back=1):\n",
    "    dataX, dataY = [], []\n",
    "    for i in range(len(dataset)-look_back-1):\n",
    "        a = dataset[i:(i+look_back), 0]\n",
    "        dataX.append(a)\n",
    "        dataY.append(dataset[i + look_back, 0])\n",
    "    return np.array(dataX), np.array(dataY)"
   ]
  },
  {
   "cell_type": "code",
   "execution_count": 113,
   "metadata": {
    "id": "i4sT7CITiMBn"
   },
   "outputs": [],
   "source": [
    "look_back = 3                                           # quantidade de passos para a autocorrelação\n",
    "trainX, trainY = create_dataset(train, look_back)\n",
    "testX, testY = create_dataset(test, look_back)"
   ]
  },
  {
   "cell_type": "code",
   "execution_count": 114,
   "metadata": {
    "id": "Fxip1A8QihVI"
   },
   "outputs": [],
   "source": [
    "#colocando os dados no formato para entrada na rede LSTM  [amostras, time steps, features]\n",
    "trainX = np.reshape(trainX, (trainX.shape[0], look_back, 1))\n",
    "testX = np.reshape(testX, (testX.shape[0], look_back, 1))"
   ]
  },
  {
   "cell_type": "code",
   "execution_count": 115,
   "metadata": {
    "id": "_DlNkJYgikYL"
   },
   "outputs": [],
   "source": [
    "#definindo o modelo para a rede neural recorrente LSTM\n",
    "from tensorflow.keras.models import Sequential              #utilizando o modelo sequencial para a construção da rede\n",
    "from tensorflow.keras.layers import Dense, Flatten, LSTM    #utilizado para definir as camadas a serem utilizadas\n"
   ]
  },
  {
   "cell_type": "code",
   "execution_count": 116,
   "metadata": {
    "id": "Qvz1je5GiwrT"
   },
   "outputs": [],
   "source": [
    "#definindo o modelo\n",
    "model = Sequential()\n",
    "model.add(LSTM(4, input_shape=(look_back,1)))\n",
    "model.add(Dense(1))\n",
    "model.compile(loss='mean_squared_error', optimizer='adam')"
   ]
  },
  {
   "cell_type": "code",
   "execution_count": 117,
   "metadata": {
    "colab": {
     "base_uri": "https://localhost:8080/"
    },
    "id": "SOwc8Xz9jTRv",
    "outputId": "07c8d136-032b-42be-f647-8825f07e6034"
   },
   "outputs": [
    {
     "name": "stdout",
     "output_type": "stream",
     "text": [
      "Model: \"sequential\"\n",
      "_________________________________________________________________\n",
      " Layer (type)                Output Shape              Param #   \n",
      "=================================================================\n",
      " lstm (LSTM)                 (None, 4)                 96        \n",
      "                                                                 \n",
      " dense (Dense)               (None, 1)                 5         \n",
      "                                                                 \n",
      "=================================================================\n",
      "Total params: 101\n",
      "Trainable params: 101\n",
      "Non-trainable params: 0\n",
      "_________________________________________________________________\n"
     ]
    }
   ],
   "source": [
    "#mostra o modelo\n",
    "model.summary()"
   ]
  },
  {
   "cell_type": "markdown",
   "metadata": {
    "id": "K5k58L3JjU6i"
   },
   "source": [
    "**Sobre a rede LSTM criada, o que é correto dizer?**"
   ]
  },
  {
   "cell_type": "code",
   "execution_count": 118,
   "metadata": {
    "colab": {
     "base_uri": "https://localhost:8080/"
    },
    "id": "0ESau0UtjeNl",
    "outputId": "6acd8cc3-fa9d-4c04-fc05-5f59ab80d1a6"
   },
   "outputs": [
    {
     "name": "stdout",
     "output_type": "stream",
     "text": [
      "Epoch 1/10\n",
      "433/433 - 6s - loss: 0.0877 - val_loss: 0.0493 - 6s/epoch - 13ms/step\n",
      "Epoch 2/10\n",
      "433/433 - 2s - loss: 0.0058 - val_loss: 0.0355 - 2s/epoch - 4ms/step\n",
      "Epoch 3/10\n",
      "433/433 - 2s - loss: 0.0038 - val_loss: 0.0206 - 2s/epoch - 3ms/step\n",
      "Epoch 4/10\n",
      "433/433 - 1s - loss: 0.0019 - val_loss: 0.0089 - 1s/epoch - 3ms/step\n",
      "Epoch 5/10\n",
      "433/433 - 1s - loss: 7.7930e-04 - val_loss: 0.0036 - 1s/epoch - 3ms/step\n",
      "Epoch 6/10\n",
      "433/433 - 1s - loss: 4.7766e-04 - val_loss: 0.0023 - 1s/epoch - 3ms/step\n",
      "Epoch 7/10\n",
      "433/433 - 2s - loss: 4.4757e-04 - val_loss: 0.0021 - 2s/epoch - 3ms/step\n",
      "Epoch 8/10\n",
      "433/433 - 2s - loss: 4.4677e-04 - val_loss: 0.0020 - 2s/epoch - 3ms/step\n",
      "Epoch 9/10\n",
      "433/433 - 2s - loss: 4.4597e-04 - val_loss: 0.0020 - 2s/epoch - 3ms/step\n",
      "Epoch 10/10\n",
      "433/433 - 2s - loss: 4.4558e-04 - val_loss: 0.0021 - 2s/epoch - 3ms/step\n"
     ]
    }
   ],
   "source": [
    "#Treina o modelo\n",
    "historico=model.fit(trainX, trainY, validation_split=0.2,epochs=10, batch_size=100, verbose=2)"
   ]
  },
  {
   "cell_type": "code",
   "execution_count": 119,
   "metadata": {
    "colab": {
     "base_uri": "https://localhost:8080/"
    },
    "id": "PLvLr3pNmjn-",
    "outputId": "73fe1238-2754-47d5-82c0-78eba312d526"
   },
   "outputs": [
    {
     "name": "stdout",
     "output_type": "stream",
     "text": [
      "dict_keys(['loss', 'val_loss'])\n"
     ]
    }
   ],
   "source": [
    "#mostrando as keys presentes no objeto history do keras\n",
    "print(historico.history.keys())"
   ]
  },
  {
   "cell_type": "code",
   "execution_count": 120,
   "metadata": {
    "colab": {
     "base_uri": "https://localhost:8080/"
    },
    "id": "CAG82OZ9keV0",
    "outputId": "c8562296-9778-4650-d2ae-604385813813"
   },
   "outputs": [
    {
     "data": {
      "image/png": "[encoded data removed]",
      "text/plain": [
       "<Figure size 432x288 with 1 Axes>"
      ]
     },
     "metadata": {
      "needs_background": "light"
     },
     "output_type": "display_data"
    }
   ],
   "source": [
    "#plotando os gráficos para a função perda do algoritmo\n",
    "plt.plot(historico.history['loss'])\n",
    "plt.plot(historico.history['val_loss'])\n",
    "plt.title('Função perda durante o treinamento')\n",
    "plt.ylabel('Função perda')\n",
    "plt.xlabel('Época')\n",
    "plt.legend(['Treinamento', 'Teste'], loc='upper left')\n",
    "plt.show()"
   ]
  },
  {
   "cell_type": "markdown",
   "metadata": {
    "id": "F1fcuagFpKvt"
   },
   "source": [
    "**Analisando o gráfico da função perda, o que é incorreto afirmar?**"
   ]
  },
  {
   "cell_type": "markdown",
   "metadata": {},
   "source": [
    "**R: d. É uma evidência clara de Overfitting.**"
   ]
  },
  {
   "cell_type": "code",
   "execution_count": 121,
   "metadata": {
    "id": "5DHC_rzGnEDK"
   },
   "outputs": [
    {
     "name": "stdout",
     "output_type": "stream",
     "text": [
      "1690/1690 [==============================] - 4s 2ms/step\n",
      "725/725 [==============================] - 1s 2ms/step\n"
     ]
    }
   ],
   "source": [
    "# realizando as previsões\n",
    "trainPredict = model.predict(trainX)\n",
    "testPredict = model.predict(testX)"
   ]
  },
  {
   "cell_type": "code",
   "execution_count": 122,
   "metadata": {
    "id": "vd7GnkaZnFcF"
   },
   "outputs": [],
   "source": [
    "# colocando os dados em um formato para a previsão \"correta\"\n",
    "trainPredict = scaler.inverse_transform(trainPredict)\n",
    "trainY = scaler.inverse_transform([trainY])\n",
    "testPredict = scaler.inverse_transform(testPredict)\n",
    "testY = scaler.inverse_transform([testY])"
   ]
  },
  {
   "cell_type": "code",
   "execution_count": 123,
   "metadata": {
    "id": "QPuTSRJWnLN_"
   },
   "outputs": [],
   "source": [
    "#identificando o \"qualidade\" do modelo\n",
    "import math                                       #utilizada para realizar as operações matemáticas\n",
    "from sklearn.metrics import mean_squared_error    #calcular o erro médio quadrático nas previsões"
   ]
  },
  {
   "cell_type": "code",
   "execution_count": 124,
   "metadata": {
    "colab": {
     "base_uri": "https://localhost:8080/"
    },
    "id": "wM_iTmJLnadi",
    "outputId": "78e59044-c123-4b4a-a09d-286b336adb95"
   },
   "outputs": [
    {
     "name": "stdout",
     "output_type": "stream",
     "text": [
      "Pontuação para o treinamento: 0.75 MSE\n",
      "Pontuação para o teste: 1.59 MSE\n"
     ]
    }
   ],
   "source": [
    "# Calculando os erros de previsão\n",
    "trainScore = math.sqrt(mean_squared_error(trainY[0], trainPredict[:,0]))\n",
    "print('Pontuação para o treinamento: %.2f MSE' % (trainScore))\n",
    "testScore = math.sqrt(mean_squared_error(testY[0], testPredict[:,0]))\n",
    "print('Pontuação para o teste: %.2f MSE' % (testScore))"
   ]
  },
  {
   "cell_type": "markdown",
   "metadata": {
    "id": "vT28knGkpWUo"
   },
   "source": [
    "**Analisando o MSE mostrado para o treinamento e teste do algoritmo, o que é incorreto afirmar?**"
   ]
  },
  {
   "cell_type": "markdown",
   "metadata": {},
   "source": [
    "**R:O erro para o treinamento é superior ao obtido para o teste.**"
   ]
  },
  {
   "cell_type": "code",
   "execution_count": 125,
   "metadata": {
    "id": "IfIwnDBFneB1"
   },
   "outputs": [],
   "source": [
    "# realizando o shift dos valores para construir o plot dos valores\n",
    "trainPredictPlot = np.empty_like(serie_out)\n",
    "trainPredictPlot[:, :] = np.nan\n",
    "trainPredictPlot[look_back:len(trainPredict)+look_back, :] = trainPredict"
   ]
  },
  {
   "cell_type": "code",
   "execution_count": 126,
   "metadata": {
    "id": "9pNeOcYfnjK6"
   },
   "outputs": [],
   "source": [
    "# realizando um shift dos dados de previsão para o treinamento\n",
    "testPredictPlot = np.empty_like(serie_out)\n",
    "testPredictPlot[:, :] = np.nan\n",
    "testPredictPlot[len(trainPredict)+(look_back*2)+1:len(serie_out)-1, :] = testPredict"
   ]
  },
  {
   "cell_type": "code",
   "execution_count": 127,
   "metadata": {
    "colab": {
     "base_uri": "https://localhost:8080/",
     "height": 863
    },
    "id": "8TU6LrYLnlhI",
    "outputId": "10ad5dd0-c5e8-4f88-c3a8-547bc16c4e22"
   },
   "outputs": [
    {
     "data": {
      "image/png": "[encoded data removed]",
      "text/plain": [
       "<Figure size 1080x1080 with 1 Axes>"
      ]
     },
     "metadata": {
      "needs_background": "light"
     },
     "output_type": "display_data"
    }
   ],
   "source": [
    "# realizando o plot dos dados para treinamento e teste\n",
    "plt.figure(figsize=(15,15))  #define o tamanho da figura\n",
    "plt.plot(scaler.inverse_transform(serie_out))\n",
    "plt.plot(trainPredictPlot)\n",
    "plt.plot(testPredictPlot)\n",
    "plt.legend([\"Real\",\"Previsao Treinamento\",\"Previsão Teste\"])\n",
    "plt.show()"
   ]
  },
  {
   "cell_type": "markdown",
   "metadata": {
    "id": "R6Df1fvnpi4K"
   },
   "source": [
    "**Analisando o gráfico comparativo entre os valores reais e previstos, o que é correto afirmar?**"
   ]
  },
  {
   "cell_type": "markdown",
   "metadata": {},
   "source": [
    "**R. Boa parte das previsões/testes apresentam valores superiores ao real.**"
   ]
  },
  {
   "cell_type": "markdown",
   "metadata": {},
   "source": [
    "**Qual dos algoritmos abaixo Não representa uma boa indicação para resolver o probelma de previsão supervisionada de temperatura?**"
   ]
  },
  {
   "cell_type": "markdown",
   "metadata": {},
   "source": [
    "**R: Autoencoders.**"
   ]
  },
  {
   "cell_type": "markdown",
   "metadata": {},
   "source": [
    "**Assinale a alternativa que contém uma afirmativa INCORRETA sobre a rede neural utilizada para solução do problema presente neste trabalho prático.**"
   ]
  },
  {
   "cell_type": "markdown",
   "metadata": {},
   "source": [
    "**R:Para essa rede, é possível realizar a sintonia dos parâmetros a fim de melhorar o desempenho do algoritmo.**"
   ]
  },
  {
   "cell_type": "code",
   "execution_count": null,
   "metadata": {},
   "outputs": [],
   "source": []
  }
 ],
 "metadata": {
  "colab": {
   "provenance": []
  },
  "kernelspec": {
   "display_name": "Python 3 (ipykernel)",
   "language": "python",
   "name": "python3"
  },
  "language_info": {
   "codemirror_mode": {
    "name": "ipython",
    "version": 3
   },
   "file_extension": ".py",
   "mimetype": "text/x-python",
   "name": "python",
   "nbconvert_exporter": "python",
   "pygments_lexer": "ipython3",
   "version": "3.9.12"
  }
 },
 "nbformat": 4,
 "nbformat_minor": 1
}
