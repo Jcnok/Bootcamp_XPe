{
 "cells": [
  {
   "cell_type": "markdown",
   "metadata": {
    "id": "2BM8yncyOzx5"
   },
   "source": [
    "# Bootcamp XPe: Arquiteto de Machine Learning"
   ]
  },
  {
   "cell_type": "markdown",
   "metadata": {
    "id": "yiR1zwp4O8GV"
   },
   "source": [
    "## Desafio Prático\n",
    "**Módulo 3: Sistemas de Recomendação**"
   ]
  },
  {
   "cell_type": "markdown",
   "metadata": {
    "id": "XbLfbCyhPCRz"
   },
   "source": [
    "## Objetivos de Ensino\n",
    "**Exercitar os seguintes conceitos trabalhados no Módulo:**\n",
    "  * 1. Recomendação por filtragem colaborativa.\n",
    "  * 2. Avaliação de modelos.\n"
   ]
  },
  {
   "cell_type": "markdown",
   "metadata": {
    "id": "JEJe6dk4PHts"
   },
   "source": [
    "## Enunciado\n",
    "**Em um ambiente de desenvolvimento em Python (recomenda-se o Google\n",
    "Colaboratory), implemente as funções descritas para responder às questões\n",
    "objetivas relativas à seguinte função utilidade:**"
   ]
  },
  {
   "cell_type": "markdown",
   "metadata": {
    "id": "m-eSH5vOPVJS"
   },
   "source": [
    "<img src=\"./FIG1.png\" align='center' alt=\"drawing\" width=\"800\" heigth=\"800\"/>"
   ]
  },
  {
   "cell_type": "code",
   "execution_count": 3,
   "metadata": {
    "colab": {
     "base_uri": "https://localhost:8080/",
     "height": 206
    },
    "id": "WxG5W6VCTyJx",
    "outputId": "f167a845-6366-461d-b8ab-dcd9e582ab3d"
   },
   "outputs": [
    {
     "data": {
      "text/html": [
       "<div>\n",
       "<style scoped>\n",
       "    .dataframe tbody tr th:only-of-type {\n",
       "        vertical-align: middle;\n",
       "    }\n",
       "\n",
       "    .dataframe tbody tr th {\n",
       "        vertical-align: top;\n",
       "    }\n",
       "\n",
       "    .dataframe thead th {\n",
       "        text-align: right;\n",
       "    }\n",
       "</style>\n",
       "<table border=\"1\" class=\"dataframe\">\n",
       "  <thead>\n",
       "    <tr style=\"text-align: right;\">\n",
       "      <th></th>\n",
       "      <th>I1</th>\n",
       "      <th>I2</th>\n",
       "      <th>I3</th>\n",
       "      <th>I4</th>\n",
       "      <th>I5</th>\n",
       "      <th>I6</th>\n",
       "      <th>I7</th>\n",
       "    </tr>\n",
       "  </thead>\n",
       "  <tbody>\n",
       "    <tr>\n",
       "      <th>U1</th>\n",
       "      <td>4.0</td>\n",
       "      <td>0.0</td>\n",
       "      <td>0.0</td>\n",
       "      <td>4.7</td>\n",
       "      <td>1.0</td>\n",
       "      <td>0.0</td>\n",
       "      <td>0.0</td>\n",
       "    </tr>\n",
       "    <tr>\n",
       "      <th>U2</th>\n",
       "      <td>5.0</td>\n",
       "      <td>4.5</td>\n",
       "      <td>4.0</td>\n",
       "      <td>0.0</td>\n",
       "      <td>0.0</td>\n",
       "      <td>0.0</td>\n",
       "      <td>0.0</td>\n",
       "    </tr>\n",
       "    <tr>\n",
       "      <th>U3</th>\n",
       "      <td>0.0</td>\n",
       "      <td>0.0</td>\n",
       "      <td>0.0</td>\n",
       "      <td>1.5</td>\n",
       "      <td>5.0</td>\n",
       "      <td>4.0</td>\n",
       "      <td>0.0</td>\n",
       "    </tr>\n",
       "    <tr>\n",
       "      <th>U4</th>\n",
       "      <td>4.1</td>\n",
       "      <td>3.0</td>\n",
       "      <td>0.0</td>\n",
       "      <td>4.9</td>\n",
       "      <td>0.0</td>\n",
       "      <td>0.0</td>\n",
       "      <td>3.0</td>\n",
       "    </tr>\n",
       "    <tr>\n",
       "      <th>U5</th>\n",
       "      <td>1.0</td>\n",
       "      <td>4.0</td>\n",
       "      <td>0.0</td>\n",
       "      <td>2.5</td>\n",
       "      <td>3.8</td>\n",
       "      <td>1.0</td>\n",
       "      <td>5.0</td>\n",
       "    </tr>\n",
       "  </tbody>\n",
       "</table>\n",
       "</div>"
      ],
      "text/plain": [
       "     I1   I2   I3   I4   I5   I6   I7\n",
       "U1  4.0  0.0  0.0  4.7  1.0  0.0  0.0\n",
       "U2  5.0  4.5  4.0  0.0  0.0  0.0  0.0\n",
       "U3  0.0  0.0  0.0  1.5  5.0  4.0  0.0\n",
       "U4  4.1  3.0  0.0  4.9  0.0  0.0  3.0\n",
       "U5  1.0  4.0  0.0  2.5  3.8  1.0  5.0"
      ]
     },
     "execution_count": 3,
     "metadata": {},
     "output_type": "execute_result"
    }
   ],
   "source": [
    "import pandas as pd\n",
    "#criando um dicionario conforme os dados da figura\n",
    "dict = {'I1':[4  ,5  ,0  ,4.1,1  ],\n",
    "        'I2':[0  ,4.5,0  ,3  ,4  ],\n",
    "        'I3':[0  ,4.0,0  ,0  ,0  ],\n",
    "        'I4':[4.7,0  ,1.5,4.9,2.5],\n",
    "        'I5':[1  ,0  ,5  ,0  ,3.8],\n",
    "        'I6':[0  ,0  ,4.0,0  ,1.0],\n",
    "        'I7':[0  ,0  ,0  ,3.0,5.0]}\n",
    "#-------------------------------------#\n",
    "user = pd.DataFrame(dict, index=['U1','U2','U3','U4','U5']) # Criando um dataframe igual a figura\n",
    "user"
   ]
  },
  {
   "cell_type": "markdown",
   "metadata": {
    "id": "Y6m_LyszQTFK"
   },
   "source": [
    "## ATividades\n",
    "**Os alunos deverão desempenhar as seguintes atividades:**"
   ]
  },
  {
   "cell_type": "markdown",
   "metadata": {
    "id": "Dx4USOslQTIA"
   },
   "source": [
    "**1. Acessar o ambiente Google Colaboratory (recomendado) ou qualquer\n",
    "ambiente de desenvolvimento em Python.**"
   ]
  },
  {
   "cell_type": "markdown",
   "metadata": {
    "id": "QAW7fphPQTKn"
   },
   "source": [
    "**2. Implementar as seguintes funções em Python:**"
   ]
  },
  {
   "cell_type": "code",
   "execution_count": 16,
   "metadata": {
    "id": "POqG9MpAOkFw"
   },
   "outputs": [],
   "source": [
    "import numpy as np\n",
    "\n",
    "# Função para o cálculo da simiraridade de cossenos.\n",
    "def cosine_similarity(x: np.array, y: np.array):\n",
    "  '''Calcula a similaridade de cossenos entre os arrays x e y.'''\n",
    "  cosine_sim = np.dot(x,y)/(np.linalg.norm(x) * np.linalg.norm(y))\n",
    "  return cosine_sim\n",
    "#-------------------------------------------------------------------#\n",
    "\n",
    "# Função para o cálculo da similaridade por cossenos centralizada.\n",
    "def array_centering(v: np.array):\n",
    "  '''Subtraindo dos elementos não nulos pela média'''\n",
    "  #cópia para evitar a sobrescrita\n",
    "  v = v.copy()\n",
    "  #indexação para extrair elementos não nulos\n",
    "  non_zeros = v > 0\n",
    "  #substituição pela média\n",
    "  v[non_zeros] = v[non_zeros] - np.mean(v[non_zeros]) + 1e-6\n",
    "  return v\n",
    "#-------------------------------------------------------------------#\n",
    "def centered_cosine_similarity(x:np.array, y:np.array):\n",
    "  '''Calcula a similaridade de cossenos centralizada entre os arrays x e y.'''\n",
    "  #Subtraindo a média\n",
    "  x = array_centering(x)\n",
    "  y = array_centering(y)\n",
    "  #Similaridade por cossenos\n",
    "  centered_cosine_sim = cosine_similarity(x,y)\n",
    "  return centered_cosine_sim\n"
   ]
  },
  {
   "cell_type": "markdown",
   "metadata": {
    "id": "9Fd__AwDTjrV"
   },
   "source": [
    "## 3. Responder às seguintes questões objetivas:"
   ]
  },
  {
   "cell_type": "code",
   "execution_count": 5,
   "metadata": {
    "colab": {
     "base_uri": "https://localhost:8080/"
    },
    "id": "XkyznC1HrEDv",
    "outputId": "7472510b-21f4-4947-8e20-f7d45a878a1e"
   },
   "outputs": [
    {
     "data": {
      "text/plain": [
       "array([4. , 0. , 0. , 4.7, 1. , 0. , 0. ])"
      ]
     },
     "execution_count": 5,
     "metadata": {},
     "output_type": "execute_result"
    }
   ],
   "source": [
    "user.loc['U1'].values # item do usuário u1"
   ]
  },
  {
   "cell_type": "code",
   "execution_count": 6,
   "metadata": {
    "colab": {
     "base_uri": "https://localhost:8080/"
    },
    "id": "bnD2wBO4rKQN",
    "outputId": "019c4a59-e110-41c0-c059-1f443ccbefac"
   },
   "outputs": [
    {
     "data": {
      "text/plain": [
       "array([4. , 0. , 0. , 4.7, 1. , 0. , 0. ])"
      ]
     },
     "execution_count": 6,
     "metadata": {},
     "output_type": "execute_result"
    }
   ],
   "source": [
    "np.array(user.iloc[0]) # mesmo resultado acima."
   ]
  },
  {
   "cell_type": "markdown",
   "metadata": {
    "id": "Wpt8CuM4TjuM"
   },
   "source": [
    "**a. Qual o valor da similaridade de cossenos entre os usuários U1 e U2?**"
   ]
  },
  {
   "cell_type": "code",
   "execution_count": 320,
   "metadata": {
    "colab": {
     "base_uri": "https://localhost:8080/"
    },
    "id": "NNH52G94RZlW",
    "outputId": "9c54cd47-ca69-4ec0-a8be-50d477c616c6"
   },
   "outputs": [
    {
     "name": "stdout",
     "output_type": "stream",
     "text": [
      "======================================================================\n",
      "O valor da similaridade de cossenos entre os usuários U1 e U2 é:0.41.\n",
      "======================================================================\n"
     ]
    }
   ],
   "source": [
    "x = user.loc['U1'].values # equivalente ao U1\n",
    "y = user.loc['U2'].values # equivalente ao U2\n",
    "print('='*70)\n",
    "print(f'O valor da similaridade de cossenos entre os usuários U1 e U2 é:{cosine_similarity(x,y):.2f}.')\n",
    "print('='*70)"
   ]
  },
  {
   "cell_type": "markdown",
   "metadata": {
    "id": "iBekskZUTjww"
   },
   "source": [
    "**b. Qual o valor da similaridade de cossenos entre os usuários U1 e U3?**"
   ]
  },
  {
   "cell_type": "code",
   "execution_count": 321,
   "metadata": {
    "colab": {
     "base_uri": "https://localhost:8080/"
    },
    "id": "mYH3A3kfeQFN",
    "outputId": "ebc4f224-9037-4af8-9506-1a9650c9efd9"
   },
   "outputs": [
    {
     "name": "stdout",
     "output_type": "stream",
     "text": [
      "======================================================================\n",
      "O valor da similaridade de cossenos entre os usuários U1 e U3 é:0.29.\n",
      "======================================================================\n"
     ]
    }
   ],
   "source": [
    "x = user.loc['U1'].values # equivalente ao U1\n",
    "y = user.loc['U3'].values # equivalente ao U2\n",
    "print('='*70)\n",
    "print(f'O valor da similaridade de cossenos entre os usuários U1 e U3 é:{cosine_similarity(x,y):.2f}.')\n",
    "print('='*70)"
   ]
  },
  {
   "cell_type": "markdown",
   "metadata": {
    "id": "6FYEsqyvec_T"
   },
   "source": [
    "**c. Qual o valor da similaridade de cossenos entre os usuários U1 e U4?**"
   ]
  },
  {
   "cell_type": "code",
   "execution_count": 322,
   "metadata": {
    "colab": {
     "base_uri": "https://localhost:8080/"
    },
    "id": "hXHFsy4NehdN",
    "outputId": "db1ecb0d-6d91-493d-c202-da94a400e7c1"
   },
   "outputs": [
    {
     "name": "stdout",
     "output_type": "stream",
     "text": [
      "======================================================================\n",
      "O valor da similaridade de cossenos entre os usuários U1 e U4 é:0.82.\n",
      "======================================================================\n"
     ]
    }
   ],
   "source": [
    "x = user.loc['U1'].values # equivalente ao U1\n",
    "y = user.loc['U4'].values # equivalente ao U4\n",
    "print('='*70)\n",
    "print(f'O valor da similaridade de cossenos entre os usuários U1 e U4 é:{cosine_similarity(x,y):.2f}.')\n",
    "print('='*70)"
   ]
  },
  {
   "cell_type": "markdown",
   "metadata": {
    "id": "mWHQ5JQ7eooc"
   },
   "source": [
    "**d. Qual o valor da similaridade de cossenos entre os usuários U1 e U5?**\n"
   ]
  },
  {
   "cell_type": "code",
   "execution_count": 323,
   "metadata": {
    "colab": {
     "base_uri": "https://localhost:8080/"
    },
    "id": "OtjZHcBYevVE",
    "outputId": "8ff63652-54d8-4927-a4b1-5eaa41a3be28"
   },
   "outputs": [
    {
     "name": "stdout",
     "output_type": "stream",
     "text": [
      "======================================================================\n",
      "O valor da similaridade de cossenos entre os usuários U1 e U5 é:0.39.\n",
      "======================================================================\n"
     ]
    }
   ],
   "source": [
    "x = user.loc['U1'].values # equivalente ao U1\n",
    "y = user.loc['U5'].values # equivalente ao U5\n",
    "print('='*70)\n",
    "print(f'O valor da similaridade de cossenos entre os usuários U1 e U5 é:{cosine_similarity(x,y):.2f}.')\n",
    "print('='*70)"
   ]
  },
  {
   "cell_type": "markdown",
   "metadata": {
    "id": "ofIEYECge485"
   },
   "source": [
    "**e. Qual o valor da similaridade de cossenos centralizada entre os usuários U1 e U2?**"
   ]
  },
  {
   "cell_type": "code",
   "execution_count": 324,
   "metadata": {
    "colab": {
     "base_uri": "https://localhost:8080/"
    },
    "id": "M0XdLtZ3fBm1",
    "outputId": "42466468-cb8b-4dee-d83a-9822ca0e657c"
   },
   "outputs": [
    {
     "name": "stdout",
     "output_type": "stream",
     "text": [
      "===================================================================================\n",
      "O valor da similaridade de cossenos centralizada entre os usuários U1 e U2 é:0.20.\n",
      "===================================================================================\n"
     ]
    }
   ],
   "source": [
    "x = user.loc['U1'].values # equivalente ao U1\n",
    "y = user.loc['U2'].values # equivalente ao U2\n",
    "print('='*83)\n",
    "print(f'O valor da similaridade de cossenos centralizada entre os usuários U1 e U2 é:{centered_cosine_similarity(x,y):.2f}.')\n",
    "print('='*83)"
   ]
  },
  {
   "cell_type": "markdown",
   "metadata": {
    "id": "qYLG6ge2flbt"
   },
   "source": [
    "**f. Qual o valor da similaridade de cossenos centralizada entre os\n",
    "usuários U1 e U3?**"
   ]
  },
  {
   "cell_type": "code",
   "execution_count": 325,
   "metadata": {
    "colab": {
     "base_uri": "https://localhost:8080/"
    },
    "id": "eIKmu6yxfpZP",
    "outputId": "e0752c00-6875-4719-f6c4-263407e519f7"
   },
   "outputs": [
    {
     "name": "stdout",
     "output_type": "stream",
     "text": [
      "====================================================================================\n",
      "O valor da similaridade de cossenos centralizada entre os usuários U1 e U3 é:-0.89.\n",
      "====================================================================================\n"
     ]
    }
   ],
   "source": [
    "x = user.loc['U1'].values # equivalente ao U1\n",
    "y = user.loc['U3'].values # equivalente ao U3\n",
    "print('='*84)\n",
    "print(f'O valor da similaridade de cossenos centralizada entre os usuários U1 e U3 é:{centered_cosine_similarity(x,y):.2f}.')\n",
    "print('='*84)"
   ]
  },
  {
   "cell_type": "markdown",
   "metadata": {
    "id": "op2XNlUhfxLx"
   },
   "source": [
    "**g. Qual o valor da similaridade de cossenos centralizada entre os\n",
    "usuários U1 e U4?**"
   ]
  },
  {
   "cell_type": "code",
   "execution_count": 326,
   "metadata": {
    "colab": {
     "base_uri": "https://localhost:8080/"
    },
    "id": "kR_KMbbkf1dF",
    "outputId": "25b18dd8-9db8-4bea-8ac6-d5a146cf0b1c"
   },
   "outputs": [
    {
     "name": "stdout",
     "output_type": "stream",
     "text": [
      "===================================================================================\n",
      "O valor da similaridade de cossenos centralizada entre os usuários U1 e U4 é:0.44.\n",
      "===================================================================================\n"
     ]
    }
   ],
   "source": [
    "x = user.loc['U1'].values # equivalente ao U1\n",
    "y = user.loc['U4'].values # equivalente ao U4\n",
    "print('='*83)\n",
    "print(f'O valor da similaridade de cossenos centralizada entre os usuários U1 e U4 é:{centered_cosine_similarity(x,y):.2f}.')\n",
    "print('='*83)"
   ]
  },
  {
   "cell_type": "markdown",
   "metadata": {
    "id": "zi6AQd84f3TS"
   },
   "source": [
    "**h. Qual o valor da similaridade de cossenos centralizada entre os\n",
    "usuários U1 e U5?**"
   ]
  },
  {
   "cell_type": "code",
   "execution_count": 327,
   "metadata": {
    "colab": {
     "base_uri": "https://localhost:8080/"
    },
    "id": "2xexVPxwf8N5",
    "outputId": "82015bf9-d91b-4a82-babd-7ed8b3399439"
   },
   "outputs": [
    {
     "name": "stdout",
     "output_type": "stream",
     "text": [
      "====================================================================================\n",
      "O valor da similaridade de cossenos centralizada entre os usuários U1 e U5 é:-0.39.\n",
      "====================================================================================\n"
     ]
    }
   ],
   "source": [
    "x = user.loc['U1'].values # equivalente ao U1\n",
    "y = user.loc['U5'].values # equivalente ao U5\n",
    "print('='*84)\n",
    "print(f'O valor da similaridade de cossenos centralizada entre os usuários U1 e U5 é:{centered_cosine_similarity(x,y):.2f}.')\n",
    "print('='*84)"
   ]
  },
  {
   "cell_type": "markdown",
   "metadata": {
    "id": "M9SHvwgPf86I"
   },
   "source": [
    "**i. Considerando a similaridade de cossenos centralizada, qual o usuário\n",
    "é mais similar ao usuário U1?**\n",
    "  * R. U4 = 0.44"
   ]
  },
  {
   "cell_type": "markdown",
   "metadata": {
    "id": "iF3Zb-bogC8k"
   },
   "source": [
    "**j. Considerando a similaridade de cossenos centralizada, qual o\n",
    "segundo usuário mais similar ao usuário U1?**\n",
    "  * R: U2 = 0.20"
   ]
  },
  {
   "cell_type": "markdown",
   "metadata": {
    "id": "7ThWKxalgHK2"
   },
   "source": [
    "**k. Considerando uma filtragem colaborativa User-User, com agregação\n",
    "pela média simples e número de vizinhos igual a 2, qual a predição\n",
    "para a avaliação do usuário U1 ao item I2?**"
   ]
  },
  {
   "cell_type": "markdown",
   "metadata": {},
   "source": [
    "* **Criando a função para filtragem colaborativa User-User.**"
   ]
  },
  {
   "cell_type": "code",
   "execution_count": 260,
   "metadata": {},
   "outputs": [],
   "source": [
    "def user_user_cf(ratings, user_index=0, item_index=0, k=2,\n",
    "                 similarity=centered_cosine_similarity, aggregation='mean'):\n",
    "    \"\"\"\n",
    "    Estima a avaliação de um par (usuário, item) pela filtragem colaborativa\n",
    "    User-User com a vizinhança de tamanho k.\n",
    "    \"\"\"\n",
    "    \n",
    "    # vetor de avaliações do usuário\n",
    "    user_rating = ratings.iloc[user_index].values\n",
    "\n",
    "    # calcula a similaridade entre user_index e os demais índices\n",
    "    users_indexes = np.array([i for i in range(ratings.shape[0]) if i != user_index])\n",
    "    similarities = np.array([similarity(x=user_rating, y=ratings.iloc[i].values) for i in users_indexes])\n",
    "\n",
    "    # acha os k usuários mais semelhantes e que avaliaram o item\n",
    "    users_rated = np.where(ratings.iloc[users_indexes,item_index] > 0)[0]\n",
    "    sorted_similarities = np.argsort(-1 * similarities[users_rated])\n",
    "    k_closest = users_indexes[users_rated[sorted_similarities]][:k]\n",
    "\n",
    "    # agregação\n",
    "    ratings_k_closest = ratings.iloc[k_closest, item_index]\n",
    "    if aggregation == 'mean':\n",
    "        prediction = np.mean(ratings_k_closest)\n",
    "    elif aggregation == 'wmean':\n",
    "        similarities_k_closest = similarities[users_rated][sorted_similarities][:k]\n",
    "        prediction = np.dot(np.abs(similarities_k_closest), ratings_k_closest) / np.sum(np.abs(similarities_k_closest))\n",
    "    else:\n",
    "        raise ValueError(f\"{aggregation} is an invalid value for aggregation!\")\n",
    "\n",
    "    # trata singularidades\n",
    "    prediction = prediction if not np.isnan(prediction) else 3.\n",
    "\n",
    "    # verbose\n",
    "    print('='*100)\n",
    "    print(f\"Predição para avaliação do usuário:{ratings.iloc[user_index].name} ao Item:{ratings.columns[item_index]}, k={k}, \"\n",
    "          f\"aggregation={aggregation} é: {prediction:.2f}\")\n",
    "    print('='*100)\n",
    "    return prediction \n"
   ]
  },
  {
   "cell_type": "markdown",
   "metadata": {},
   "source": [
    "* **Conforme a solicitação:filtragem colaborativa User-User, com agregação pela média simples e número de vizinhos igual a 2, qual a predição para a avaliação do usuário U1 ao item I2?**"
   ]
  },
  {
   "cell_type": "code",
   "execution_count": 254,
   "metadata": {},
   "outputs": [
    {
     "name": "stdout",
     "output_type": "stream",
     "text": [
      "====================================================================================================\n",
      "Predição para avaliação do usuário:U1 ao Item:I2, k=2, aggregation=mean é: 3.75\n",
      "====================================================================================================\n"
     ]
    }
   ],
   "source": [
    "# previsão para o usuário = U1, item = I2, k = 2, aggregation = mean\n",
    "user_user_cf(user,user_index=0,item_index=1,aggregation='mean')"
   ]
  },
  {
   "cell_type": "markdown",
   "metadata": {
    "id": "Qj-5PlDTgMvW"
   },
   "source": [
    "**l. Considerando uma filtragem colaborativa User-User, com agregação\n",
    "pela média simples e número de vizinhos igual a 2, qual a predição\n",
    "para a avaliação do usuário U1 ao item I1? Suponha que a avaliação\n",
    "(U1, I1) seja desconhecida.**"
   ]
  },
  {
   "cell_type": "code",
   "execution_count": 255,
   "metadata": {
    "id": "7eYqhtUVgRY-"
   },
   "outputs": [
    {
     "name": "stdout",
     "output_type": "stream",
     "text": [
      "====================================================================================================\n",
      "Predição para avaliação do usuário:U1 ao Item:I1, k=2, aggregation=mean é: 4.55\n",
      "====================================================================================================\n"
     ]
    }
   ],
   "source": [
    "# previsão para o usuário = U1, item = I2, k = 2, aggregation = mean\n",
    "user_user_cf(user,user_index=0,item_index=0,aggregation='mean')"
   ]
  },
  {
   "cell_type": "markdown",
   "metadata": {
    "id": "ut2gQ7F9gVTE"
   },
   "source": [
    "**m. Qual o erro absoluto (|real-previsto|) da predição da tupla (U1, I1),\n",
    "considerando uma filtragem colaborativa User-User, com agregação\n",
    "pela média simples e número de vizinhos igual a 2?**"
   ]
  },
  {
   "cell_type": "code",
   "execution_count": 267,
   "metadata": {},
   "outputs": [
    {
     "name": "stdout",
     "output_type": "stream",
     "text": [
      "====================================================================================================\n",
      "Predição para avaliação do usuário:U1 ao Item:I1, k=2, aggregation=mean é: 4.55\n",
      "====================================================================================================\n"
     ]
    }
   ],
   "source": [
    "predicted_rating = user_user_cf(user,user_index=0,item_index=0,aggregation='mean')"
   ]
  },
  {
   "cell_type": "code",
   "execution_count": 268,
   "metadata": {
    "id": "WCXiQ3P2gWmO"
   },
   "outputs": [
    {
     "name": "stdout",
     "output_type": "stream",
     "text": [
      "Erro absoluto da predição: 0.55\n"
     ]
    }
   ],
   "source": [
    "real_rating = user['I1'][0] # valor real do user U1 para o Item I1\n",
    "absolute_error = abs(real_rating - predicted_rating)\n",
    "print(f\"Erro absoluto da predição: {absolute_error:.2f}\")\n"
   ]
  },
  {
   "cell_type": "markdown",
   "metadata": {
    "id": "fNDuBch4gY6j"
   },
   "source": [
    "**n. Considere um sistema de recomendação cuja predição r é dada por r\n",
    "= b_u + b_i - mu, onde b_u é a média simples das avaliações\n",
    "conhecidas do usuário u, b_i é a média simples das avaliações\n",
    "conhecidas do item i, mu é a média simples de todas avaliações\n",
    "conhecidas. Quais os valores de b_u, b_i e mu para o usuário U1 e item\n",
    "I2?**"
   ]
  },
  {
   "cell_type": "code",
   "execution_count": 329,
   "metadata": {
    "id": "6aZBSqyIgaUG"
   },
   "outputs": [
    {
     "name": "stdout",
     "output_type": "stream",
     "text": [
      "==================================================\n",
      "Valores para usuário U1 item I2: \n",
      "          * b_u:3.23\n",
      "          * b_i:3.83\n",
      "          * mu: 3.47.\n",
      "==================================================\n"
     ]
    }
   ],
   "source": [
    "# obter as avaliações conhecidas para o usuário U1 e item I2\n",
    "user_ratings = user.loc[\"U1\", :]\n",
    "item_ratings = user.loc[:, \"I2\"]\n",
    "\n",
    "known_user_ratings = user_ratings[user_ratings != 0]\n",
    "known_item_ratings = item_ratings[item_ratings != 0]\n",
    "\n",
    "# calcular as médias simples de avaliações conhecidas\n",
    "bu = known_user_ratings.mean()\n",
    "bi = known_item_ratings.mean()\n",
    "mu = user.values[user.values != 0].mean()\n",
    "r = bu + bi - mu\n",
    "print('='*50)\n",
    "print(f'''Valores para usuário U1 item I2: \n",
    "          * b_u:{bu:.2f}\n",
    "          * b_i:{bi:.2f}\n",
    "          * mu: {mu:.2f}.''')\n",
    "print('='*50)\n"
   ]
  },
  {
   "cell_type": "markdown",
   "metadata": {
    "id": "p1EyIz-Qgdw3"
   },
   "source": [
    "**o. Considere um sistema de recomendação cuja predição r é dada por r\n",
    "= b_u + b_i - mu, onde b_u é a média simples das avaliações\n",
    "conhecidas do usuário u, b_i é a média simples das avaliações\n",
    "conhecidas do item i, mu é a média simples de todas as avaliações\n",
    "conhecidas. Considerando este modelo, qual a predição para a\n",
    "avaliação do usuário U1 ao item I2?**"
   ]
  },
  {
   "cell_type": "code",
   "execution_count": 330,
   "metadata": {},
   "outputs": [
    {
     "name": "stdout",
     "output_type": "stream",
     "text": [
      "================================================================================\n",
      "A predição para avaliação do usuário U1 ao item I2 é: 3.59\n",
      "================================================================================\n"
     ]
    }
   ],
   "source": [
    "print('='*80)\n",
    "print(f'A predição para avaliação do usuário U1 ao item I2 é: {r:.2f}')\n",
    "print('='*80)\n"
   ]
  },
  {
   "cell_type": "code",
   "execution_count": null,
   "metadata": {},
   "outputs": [],
   "source": []
  }
 ],
 "metadata": {
  "colab": {
   "provenance": []
  },
  "kernelspec": {
   "display_name": "Python 3 (ipykernel)",
   "language": "python",
   "name": "python3"
  },
  "language_info": {
   "codemirror_mode": {
    "name": "ipython",
    "version": 3
   },
   "file_extension": ".py",
   "mimetype": "text/x-python",
   "name": "python",
   "nbconvert_exporter": "python",
   "pygments_lexer": "ipython3",
   "version": "3.9.12"
  }
 },
 "nbformat": 4,
 "nbformat_minor": 1
}
