{
 "cells": [
  {
   "cell_type": "markdown",
   "metadata": {
    "id": "PxICoG3Bo8vK"
   },
   "source": [
    "# Bootcamp XPe: Arquiteto de Machine Learning"
   ]
  },
  {
   "cell_type": "markdown",
   "metadata": {
    "id": "UbF17atapDOa"
   },
   "source": [
    "## Trabalho Prático\n",
    " **Módulo 3: Sistemas de Recomendação**"
   ]
  },
  {
   "cell_type": "markdown",
   "metadata": {
    "id": "aQqq3jSMpNww"
   },
   "source": [
    "## Objetivos de Ensino\n",
    "**Exercitar os seguintes conceitos trabalhados no Módulo:**"
   ]
  },
  {
   "cell_type": "markdown",
   "metadata": {
    "id": "QhWgnekSpVQc"
   },
   "source": [
    "* **1. Distância e similaridade.**\n",
    "* **2. Recomendação baseada em conteúdo.**"
   ]
  },
  {
   "cell_type": "markdown",
   "metadata": {
    "id": "wv7OoRn2penn"
   },
   "source": [
    "## Enunciado"
   ]
  },
  {
   "cell_type": "markdown",
   "metadata": {
    "id": "z0OAjLhxpjdG"
   },
   "source": [
    "**Em um ambiente de desenvolvimento em Python (recomenda-se o Google\n",
    "Colaboratory), implemente as funções descritas para responder às questões\n",
    "objetivas.**"
   ]
  },
  {
   "cell_type": "markdown",
   "metadata": {
    "id": "P1eKqkcXpqak"
   },
   "source": [
    "## Atividades\n",
    "**Os alunos deverão desempenhar as seguintes atividades:**\n",
    "\n",
    "\n"
   ]
  },
  {
   "cell_type": "markdown",
   "metadata": {
    "id": "sg_vJLqtpu5d"
   },
   "source": [
    "* **1. Acessar o ambiente Google Colaboratory (recomendado) ou qualquer\n",
    "ambiente de desenvolvimento em Python.**\n",
    "* **2. Implementar as seguintes funções em Python:**"
   ]
  },
  {
   "cell_type": "markdown",
   "metadata": {
    "id": "-IBnd1E_qEGD"
   },
   "source": [
    "**a. Uma função que calcula a distância euclidiana entre dois vetores x e\n",
    "y:**\n",
    "\\begin{equation}\n",
    "d(x,y) = \\sqrt{\\sum_{i=1}^{n}(x_i - y_i)^2}=\\left\\Vert \\mathbf{x} - \\mathbf{y} \\right\\Vert2\n",
    "\\end{equation}"
   ]
  },
  {
   "cell_type": "markdown",
   "metadata": {
    "id": "EStcMOZ2r-So"
   },
   "source": [
    "* **Essa fórmula utiliza a diferença entre os valores de cada dimensão dos vetores, elevados ao quadrado, somados e depois tirada a raiz quadrada dessa soma. O resultado é a distância Euclidiana entre os vetores 𝑥 e 𝑦.**"
   ]
  },
  {
   "cell_type": "code",
   "execution_count": 2,
   "metadata": {
    "id": "TvcLKsOJofXw"
   },
   "outputs": [],
   "source": [
    "# Função para calcular a distância euclidiana entre dois vetores\n",
    "import numpy as np\n",
    "\n",
    "def euclidean_distance(x, y):\n",
    "    return np.sqrt(np.sum((x - y) ** 2))\n"
   ]
  },
  {
   "cell_type": "code",
   "execution_count": 5,
   "metadata": {
    "colab": {
     "base_uri": "https://localhost:8080/"
    },
    "id": "9jiJ_LBYwLQW",
    "outputId": "c46e53a1-836f-4163-f72b-f1d181014ccb"
   },
   "outputs": [
    {
     "name": "stdout",
     "output_type": "stream",
     "text": [
      "A distância euclidiana entre os vetores x e y : 5.196152422706632\n"
     ]
    }
   ],
   "source": [
    "# Exemplo da função:\n",
    "x = np.array([1, 2, 3])\n",
    "y = np.array([4, 5, 6])\n",
    "distance = euclidean_distance(x, y)\n",
    "print(f\"A distância euclidiana entre os vetores x e y : {distance}\")  \n"
   ]
  },
  {
   "cell_type": "markdown",
   "metadata": {
    "id": "ChLkf3c-yDCP"
   },
   "source": [
    "* **Interpretação do resultado**:\n",
    "  * Quanto menor a distância Euclidiana entre dois vetores, maior é a sua similaridade ou proximidade. "
   ]
  },
  {
   "cell_type": "markdown",
   "metadata": {
    "id": "bHtwmjVVzUKY"
   },
   "source": [
    "**b. Uma função que calcula a distância de Hamming (quantidade de posições distintas) entre dois vetores binários n-dimensionais x e y:**\n",
    "\n",
    "\\begin{equation}\n",
    "h(x,y) = \\sum_{i=1}^{n} |x_i - y_i|\n",
    "\\end{equation}"
   ]
  },
  {
   "cell_type": "markdown",
   "metadata": {
    "id": "-tc8Bo_hzUNu"
   },
   "source": []
  },
  {
   "cell_type": "code",
   "execution_count": 6,
   "metadata": {
    "id": "zMcmcPE4wLYg"
   },
   "outputs": [],
   "source": [
    "# função que calcula a distância de Hamming:\n",
    "def hamming_distance(x, y):\n",
    "    \"\"\"\n",
    "    Calcula a distância de Hamming entre dois vetores binários de mesma dimensão.\n",
    "    \n",
    "    Argumentos:\n",
    "    x -- um vetor binário de dimensão n\n",
    "    y -- um vetor binário de dimensão n\n",
    "    \n",
    "    Retorna:\n",
    "    A distância de Hamming entre x e y\n",
    "    \"\"\"\n",
    "    \n",
    "    if len(x) != len(y):\n",
    "        raise ValueError(\"Os vetores devem ter a mesma dimensão\")\n",
    "        \n",
    "    return sum([1 for i in range(len(x)) if x[i] != y[i]])\n"
   ]
  },
  {
   "cell_type": "code",
   "execution_count": 40,
   "metadata": {
    "colab": {
     "base_uri": "https://localhost:8080/"
    },
    "id": "Kb1w2BAo4P2s",
    "outputId": "4f5b1b3f-7fc2-400d-b0df-8cc7a949d28f"
   },
   "outputs": [
    {
     "name": "stdout",
     "output_type": "stream",
     "text": [
      "A distância de Hamming entre x e y é:3\n"
     ]
    }
   ],
   "source": [
    "# Exemplo da Função:\n",
    "x = [0, 1, 0, 1, 1, 0]\n",
    "y = [1, 1, 0, 0, 1, 1]\n",
    "dist = hamming_distance(x, y)\n",
    "print(f\"A distância de Hamming entre x e y é:{dist}\") \n"
   ]
  },
  {
   "cell_type": "markdown",
   "metadata": {
    "id": "v0nfp6Qi4rqn"
   },
   "source": [
    "* O resultado significa que existem 3 bits que diferem entre os dois vetores."
   ]
  },
  {
   "cell_type": "markdown",
   "metadata": {
    "id": "DXg2H6dv5lKE"
   },
   "source": [
    "**Uma função que calcula a distância de Hamming normalizada\n",
    "(quantidade de posições distintas dividida pela dimensão dos vetores)\n",
    "entre dois vetores binários n-dimensionais x e y:**\n",
    "\n",
    "\\begin{equation}\n",
    "d_{norm}(x,y) = \\frac{1}{n}\\sum_{i=1}^{n} |x_i - y_i|\n",
    "\\end{equation}"
   ]
  },
  {
   "cell_type": "code",
   "execution_count": 8,
   "metadata": {
    "id": "PiRUF4JR4nvX"
   },
   "outputs": [],
   "source": [
    "# função que calcula a distância de Hamming normalizada:\n",
    "def normalized_hamming_distance(x, y):\n",
    "    \"\"\"\n",
    "    Calcula a distância normalizada de Hamming entre dois vetores binários de mesma dimensão.\n",
    "    \n",
    "    Argumentos:\n",
    "    x -- um vetor binário de dimensão n\n",
    "    y -- um vetor binário de dimensão n\n",
    "    \n",
    "    Retorna:\n",
    "    A distância normalizada de Hamming entre x e y\n",
    "    \"\"\"\n",
    "    \n",
    "    if len(x) != len(y):\n",
    "        raise ValueError(\"Os vetores devem ter a mesma dimensão\")\n",
    "        \n",
    "    n = len(x)\n",
    "    return sum([x[i] ^ y[i] for i in range(n)]) / n\n"
   ]
  },
  {
   "cell_type": "code",
   "execution_count": 44,
   "metadata": {
    "colab": {
     "base_uri": "https://localhost:8080/"
    },
    "id": "_DxC49GR7Ydu",
    "outputId": "fe85279f-4db5-4cb0-e75d-86f7e9bb018d"
   },
   "outputs": [
    {
     "name": "stdout",
     "output_type": "stream",
     "text": [
      "A distância de Hamming Normalizada entre x e y é:0.5\n"
     ]
    }
   ],
   "source": [
    "# Exemplo da função:\n",
    "x = [0, 1, 0, 1, 1, 0]\n",
    "y = [1, 1, 0, 0, 1, 1]\n",
    "dist_norm = normalized_hamming_distance(x, y)\n",
    "print(f\"A distância de Hamming Normalizada entre x e y é:{dist_norm}\")  \n"
   ]
  },
  {
   "cell_type": "markdown",
   "metadata": {
    "id": "43GAIAa77022"
   },
   "source": [
    "* O resultado é 0.5, significa que existem 3 bits que diferem entre os dois vetores, em uma dimensão de 6 bits, o que resulta em uma distância normalizada de 1/2.\n",
    "* A distância normalizada de Hamming é simplesmente a contagem média dos bits que diferem entre os dois vetores."
   ]
  },
  {
   "cell_type": "markdown",
   "metadata": {
    "id": "fQAZWl498aku"
   },
   "source": [
    "Uma função para calcular a similaridade de cossenos entre dois vetores\n",
    "n-dimensionais x e y:\n",
    "\n",
    "\\begin{equation}\n",
    "\\cos(x,y) = \\frac{\\mathbf{x} \\cdot \\mathbf{y}}{\\left\\Vert \\mathbf{x} \\right\\Vert \\left\\Vert \\mathbf{y} \\right\\Vert} = \\frac{\\sum_{i=1}^{n} x_i y_i}{\\sqrt{\\sum_{i=1}^{n} x_i^2}\\sqrt{\\sum_{i=1}^{n} y_i^2}}\n",
    "\\end{equation}"
   ]
  },
  {
   "cell_type": "code",
   "execution_count": 12,
   "metadata": {
    "id": "NIvRwpzq8N-9"
   },
   "outputs": [],
   "source": [
    "# Função para o cálculo da similaridade de cossenos entre dois vetores:\n",
    "import math\n",
    "\n",
    "def cosine_similarity(x, y):\n",
    "    \"\"\"\n",
    "    Calcula a similaridade de cossenos entre dois vetores de mesma dimensão.\n",
    "    \n",
    "    Argumentos:\n",
    "    x -- um vetor de dimensão n\n",
    "    y -- um vetor de dimensão n\n",
    "    \n",
    "    Retorna:\n",
    "    A similaridade de cossenos entre x e y\n",
    "    \"\"\"\n",
    "    \n",
    "    if len(x) != len(y):\n",
    "        raise ValueError(\"Os vetores devem ter a mesma dimensão\")\n",
    "        \n",
    "    dot_product = sum([x[i] * y[i] for i in range(len(x))])\n",
    "    norm_x = math.sqrt(sum([x[i]**2 for i in range(len(x))]))\n",
    "    norm_y = math.sqrt(sum([y[i]**2 for i in range(len(y))]))\n",
    "    \n",
    "    return dot_product / (norm_x * norm_y)\n"
   ]
  },
  {
   "cell_type": "code",
   "execution_count": 16,
   "metadata": {
    "colab": {
     "base_uri": "https://localhost:8080/"
    },
    "id": "heo1eHS7_CjB",
    "outputId": "b085442f-fede-4ebc-cc9c-43b21ea3d39d"
   },
   "outputs": [
    {
     "name": "stdout",
     "output_type": "stream",
     "text": [
      "Resultado da similaridade de cossenos entre x e y:1.0\n"
     ]
    }
   ],
   "source": [
    "# Exemplo da função: com resultado de similaridade.\n",
    "x = [1, 2, 3, 4, 5]\n",
    "y = [2, 4, 6, 8, 10]\n",
    "similarity = cosine_similarity(x, y)\n",
    "print(f\"Resultado da similaridade de cossenos entre x e y:{similarity}\")\n"
   ]
  },
  {
   "cell_type": "markdown",
   "metadata": {
    "id": "gFJMmR_R8ayu"
   },
   "source": [
    "* Os vetores x e y têm uma relação linear perfeita (ou seja, um é um múltiplo escalar do outro), portanto, a similaridade de cossenos é 1.0.\n",
    "* Em caso de resultado 0 indica que os vetores são ortogonais.\n",
    "* Em caso de -1 indica que os vetores são opostos."
   ]
  },
  {
   "cell_type": "markdown",
   "metadata": {
    "id": "NNcRdNVuJzzS"
   },
   "source": [
    "# Exemplo de aplicações da distância Euclidiana:\n",
    "\n",
    "* Aprendizado de máquina: A distância Euclidiana é usada em muitos algoritmos de aprendizado de máquina, como k-means clustering, nearest neighbors, regressão linear, SVM (Support Vector Machines), etc. Ela é usada para medir a distância entre os dados de treinamento e os dados de teste e para encontrar a melhor correspondência entre os dados.\n",
    "\n",
    "* Processamento de imagens: A distância Euclidiana é usada para medir a semelhança entre duas imagens ou partes de imagens. Ela é usada em algoritmos de detecção de objetos, alinhamento de imagens, reconhecimento de faces, etc.\n",
    "\n",
    "* Análise de dados: A distância Euclidiana é usada para medir a distância entre duas observações ou pontos em um espaço n-dimensional. Ela é usada em análise de clusters, detecção de anomalias, classificação de dados, etc.\n",
    "\n",
    "* Engenharia mecânica: A distância Euclidiana é usada para medir a distância entre dois pontos em um espaço tridimensional. Ela é usada em projetos de engenharia para medir a distância entre peças, componentes, etc.\n",
    "\n",
    "* Biologia molecular: A distância Euclidiana é usada para medir a distância entre duas sequências de DNA ou proteínas. Ela é usada em algoritmos de alinhamento de sequências, busca de homologia, etc.\n",
    "\n",
    "* Economia: A distância Euclidiana é usada para medir a distância entre duas cidades ou regiões com base em suas características socioeconômicas. Ela é usada em análise de clusters, previsão de demanda, etc."
   ]
  },
  {
   "cell_type": "markdown",
   "metadata": {
    "id": "R7eaL4skJ2FM"
   },
   "source": [
    "# Exemplo de Aplicações da distância de Hamming:\n",
    "* Detecção e correção de erros: A distância de Hamming pode ser usada para detectar e corrigir erros em códigos de barras, códigos QR, sistemas de comunicação sem fio, e outros sistemas de transmissão de dados. Por exemplo, ao codificar informações em um conjunto de bits, pode-se adicionar um número fixo de bits de verificação que são calculados usando a distância de Hamming. Quando os dados são recebidos, pode-se comparar os bits de verificação com os dados originais para verificar se houve algum erro de transmissão.\n",
    "\n",
    "* Processamento de imagens: A distância de Hamming pode ser usada para comparar imagens binárias e determinar a semelhança entre elas. Por exemplo, pode-se comparar imagens de impressões digitais para verificar se elas pertencem à mesma pessoa.\n",
    "\n",
    "* Algoritmos de pesquisa: A distância de Hamming pode ser usada para classificar dados em um banco de dados. Por exemplo, pode-se classificar os usuários em um site com base em seus perfis ou classificar produtos em uma loja online com base em seus recursos.\n",
    "\n",
    "* Análise de sequências de DNA: A distância de Hamming pode ser usada para comparar sequências de DNA e identificar mutações. Por exemplo, pode-se comparar o DNA de um paciente com o DNA de um indivíduo saudável para identificar mutações que possam causar doenças.\n"
   ]
  }
 ],
 "metadata": {
  "colab": {
   "provenance": []
  },
  "kernelspec": {
   "display_name": "Python 3 (ipykernel)",
   "language": "python",
   "name": "python3"
  },
  "language_info": {
   "codemirror_mode": {
    "name": "ipython",
    "version": 3
   },
   "file_extension": ".py",
   "mimetype": "text/x-python",
   "name": "python",
   "nbconvert_exporter": "python",
   "pygments_lexer": "ipython3",
   "version": "3.9.12"
  }
 },
 "nbformat": 4,
 "nbformat_minor": 1
}
