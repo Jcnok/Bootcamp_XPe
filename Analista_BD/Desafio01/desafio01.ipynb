{
 "cells": [
  {
   "cell_type": "markdown",
   "id": "eca999b7",
   "metadata": {},
   "source": [
    "<img src=\"https://raw.githubusercontent.com/Jcnok/Bootcamps_XPe/main/imagens/analista_BD.svg\" align='center' alt=\"drawing\" width=\"150\" heigth=\"150\"/>"
   ]
  },
  {
   "cell_type": "markdown",
   "id": "77c160d1",
   "metadata": {
    "heading_collapsed": true
   },
   "source": [
    "# Bootcamp: Analista de Banco de Dados"
   ]
  },
  {
   "cell_type": "markdown",
   "id": "48aa7213",
   "metadata": {
    "heading_collapsed": true
   },
   "source": [
    "# Trabalho Desafio1: Fundamentos de Banco de Dados"
   ]
  },
  {
   "cell_type": "markdown",
   "id": "7551bc00",
   "metadata": {
    "heading_collapsed": true,
    "hidden": true
   },
   "source": [
    "## Objetivos de Ensino"
   ]
  },
  {
   "cell_type": "markdown",
   "id": "c69d4ab8",
   "metadata": {
    "hidden": true
   },
   "source": [
    "* **Exercitar os seguintes conceitos trabalhados no Módulo:**\n",
    "\n",
    "    * *Realizar o levantamento de requisitos e modelagem de Bancos de Dados NoSQL.*\n",
    "    * *Desenhar o Projeto de Bancos de Dados de Documentos.*\n",
    "    * *Desenhar o Projeto de Bancos de dados Colunares.*\n",
    "\n",
    "\n"
   ]
  },
  {
   "cell_type": "markdown",
   "id": "792cfdf9",
   "metadata": {
    "heading_collapsed": true,
    "hidden": true
   },
   "source": [
    "## Enunciado:"
   ]
  },
  {
   "cell_type": "markdown",
   "id": "21612904",
   "metadata": {
    "heading_collapsed": true,
    "hidden": true
   },
   "source": [
    "### **Considere as duas demandas de negócio de uma empresa no segmento de comércio eletrônico:**\n",
    "\n",
    "  * **Projeto 01 – Criar um sistema de envio e recebimento de notas fiscais da empresa, \n",
    "  cuja necessidade de gravação é transformar a estrutura original, em json, para outro formato, \n",
    "  e que seja possível recuperar as notas através de pesquisas por sua descrição ou produto, \n",
    "  ou seja, todo o conteúdo da nota sempre será recuperado quando as consultas são realizadas. \n",
    "  Para esse requisito, identificou-se uma probabilidade de modelo de dados orientado a documento \n",
    "  para armazenar os arquivos json e pesquisá-los. Você, como analista, deve analisar essa demanda \n",
    "  considerando as seguintes informações de nota que devem ser armazenadas:**\n",
    "    * CNPJ.\n",
    "    * Fornecedor.\n",
    "    * Data de emissão.\n",
    "    * Valor total da nota.\n",
    "    * Nome de cada item da nota.\n",
    "    * Valor de cada item da nota.\n",
    "    * Quantidade de cada item da nota.\n",
    "    * Descrição de cada item da nota.\n",
    "    \n",
    "  *Obs.:*Lembrando que cada nota contém no mínimo um item, mas pode conter vários.*\n",
    "  * *Desenvolva o modelo adequado a essa demanda e responda as perguntas a seguir.*\n",
    "\n",
    "\n",
    "  *#####################################################################################################\n",
    "    \n",
    "    \n",
    "  * **Projeto 02 – Criar um sistema analítico, com massivo processamento de\n",
    "    consultas aos dados, com poucos momentos de inserção e sem atualizações nos\n",
    "    dados, ou seja, um sistema de relatórios. Sabe-se que a carga de dados será\n",
    "    responsabilidade de outro setor, mas considerando que os relatórios são distintos\n",
    "    entre si, existe uma sinalização de um modelo de dados colunar para atendimento\n",
    "    dessa demanda. Sua atuação como analista é descrever esse modelo de modo a\n",
    "    permitir o melhor desempenho possível das consultas. Sabe-se que temos as\n",
    "    seguintes informações:**\n",
    "    * Vendas:\n",
    "        * i. Valor de uma venda.\n",
    "        * ii. Nome do produto vendido.\n",
    "        * iii. Data da venda.\n",
    "        * iv. Filial.\n",
    "    * Compras:\n",
    "        * v. Valor de uma compra.\n",
    "        * vi. Produto comprado.\n",
    "        * vii. Nome do vendedor.\n",
    "        * viii. Nome do comprador.\n",
    "    * Propagandas:\n",
    "        * ix. Nome da campanha.\n",
    "        * x. Data de início da campanha.\n",
    "        * xi. Data de finalização da campanha.\n",
    "        * xii. Público-alvo.\n",
    "\n",
    "  * *Em vendas, os dados utilizados em conjunto são valor e nome do produto, bem\n",
    "    como filial e data de venda.*\n",
    "  * *Em compras, o valor da compra é exibido sempre junto com o nome do produto,\n",
    "    bem como data da venda e comprador.*\n",
    "  * *Em propagandas, é importante exibir nome da campanha e público alvo sempre\n",
    "    juntos.*   \n",
    "\n"
   ]
  },
  {
   "cell_type": "markdown",
   "id": "d34a5703",
   "metadata": {
    "heading_collapsed": true,
    "hidden": true
   },
   "source": [
    "## Atividades:"
   ]
  },
  {
   "cell_type": "markdown",
   "id": "e1226645",
   "metadata": {
    "heading_collapsed": true,
    "hidden": true
   },
   "source": [
    "### **Os alunos deverão desempenhar as seguintes atividades:**\n",
    "    \n",
    "    * **1. Elaborar o Modelo de Dados de Documentos para o Projeto 01.**\n",
    "    * **2. Elaborar o Modelo de Dados Colunar para o Projeto 02.**\n",
    "    * **3. Analisar os modelos para responder às questões.**"
   ]
  },
  {
   "cell_type": "markdown",
   "id": "0951af2d",
   "metadata": {
    "heading_collapsed": true,
    "hidden": true
   },
   "source": [
    "## Resolução: Projeto01"
   ]
  },
  {
   "cell_type": "markdown",
   "id": "d92a61c8",
   "metadata": {
    "hidden": true
   },
   "source": [
    "###  **Levantamento de requisitos e modelagem:**"
   ]
  },
  {
   "cell_type": "markdown",
   "id": "187eba84",
   "metadata": {
    "hidden": true
   },
   "source": [
    "* **Os seguintes campos devem ser incluídos no modelo de dados:**\n",
    "    * Id\n",
    "    * CNPJ\n",
    "    * Fornecedor\n",
    "    * Data de emissão    \n",
    "    * Valor total da nota\n",
    "    * Itens\n",
    "        * Nome\n",
    "        * Valor\n",
    "        * Quantidade\n",
    "        * Descrição"
   ]
  },
  {
   "cell_type": "markdown",
   "id": "073a17ce",
   "metadata": {
    "heading_collapsed": true,
    "hidden": true
   },
   "source": [
    "### Modelo ER"
   ]
  },
  {
   "cell_type": "markdown",
   "id": "b8853fff",
   "metadata": {
    "hidden": true
   },
   "source": [
    "![png](Model.png)"
   ]
  },
  {
   "cell_type": "markdown",
   "id": "a9d287b7",
   "metadata": {
    "heading_collapsed": true,
    "hidden": true
   },
   "source": [
    "### Schema:"
   ]
  },
  {
   "cell_type": "markdown",
   "id": "97398985",
   "metadata": {
    "hidden": true
   },
   "source": [
    "![png](Schemma_Cadastro_NF.png)"
   ]
  },
  {
   "cell_type": "code",
   "execution_count": null,
   "id": "1ad3df21",
   "metadata": {
    "hidden": true,
    "scrolled": true
   },
   "outputs": [],
   "source": [
    "#JSON para teste\n",
    "{   \n",
    "      {\n",
    "        \"_id\": ObjectId(\"c7442c1eaef6dbaf5ad89b62\"),\n",
    "        \"cnpj\": \"05.343.700-0001-99\",\n",
    "        \"fornecedor\": \"AOC\",\n",
    "        \"data_emissao\": ISODate(\"2016-04-08T15:06:21.595Z\"),\n",
    "        \"valor_total\": \"$1750.00\",\n",
    "        \"itens\": [\n",
    "                  {\n",
    "                    \"produto\": \"teclado AOC\",\n",
    "                    \"valor\": \"$7.00\",\n",
    "                    \"qtd\": NumberInt(250),\n",
    "                    \"descricao\": \"teclado usb mecânico\"\n",
    "                  }\n",
    "                ]\n",
    "       },\n",
    "      {\n",
    "        \"_id\": ObjectId(\"1c1d9de46bf8f7a4f3a9f3d0\"),\n",
    "        \"cnpj\": \"55.000.572-0001-12\",\n",
    "        \"fornecedor\": \"China import\",\n",
    "        \"data_emissao\": ISODate(\"2016-04-08T15:06:21.595Z\"),\n",
    "        \"valor_total\": \"$5200.00\",\n",
    "        \"itens\": [\n",
    "                  {\n",
    "                    \"produto\": \"pendrive\",\n",
    "                    \"valor\": \"$5.00\",\n",
    "                    \"qtd\": NumberInt(1000),\n",
    "                    \"descricao\": \"Pen drive de 128Gb\"\n",
    "                  },\n",
    "                  {\n",
    "                    \"produto\": \"mouse\",\n",
    "                    \"valor\": \"$2.00\",\n",
    "                    \"qtd\": NumberInt(100),\n",
    "                    \"descricao\": \"mouse usb\"\n",
    "                  }\n",
    "                ]\n",
    "      },\n",
    "      {\n",
    "        \"_id\": ObjectId(\"c7dfb5336d711c28808d8d5c\"),\n",
    "        \"cnpj\": \"20.555.314-0001-18\",\n",
    "        \"fornecedor\": \"Jcnok importações\",\n",
    "        \"data_emissao\": ISODate(\"2016-04-08T15:06:21.595Z\"),\n",
    "        \"valor_total\": \"$2000.00\",\n",
    "        \"itens\": [\n",
    "                  {\n",
    "                    \"produto\": \"carteira\",\n",
    "                    \"valor\": \"$10.00\",\n",
    "                    \"qtd\": NumberInt(200),\n",
    "                    \"descricao\": \"carteira de bolso masculina\"\n",
    "                  }\n",
    "                ]\n",
    "      },\n",
    "      {\n",
    "        \"_id\": ObjectId(\"d88aadfcffaf23a838c0bf0a\"),\n",
    "        \"cnpj\": \"74.356.186-0001-89\",\n",
    "        \"fornecedor\": \"Shoppii\",\n",
    "        \"data_emissao\": ISODate(\"2016-04-08T15:06:21.5950Z\"),\n",
    "        \"valor_total\": \"$1914.00\",\n",
    "        \"itens\": [\n",
    "                  {\n",
    "                    \"produto\": \"relógio\",\n",
    "                    \"valor\": \"$19.14\",\n",
    "                    \"qtd\": NumberInt(100),\n",
    "                    \"descricao\": \"relógio de parede\"\n",
    "                  }\n",
    "                ]\n",
    "      },   \n",
    " }\n"
   ]
  },
  {
   "cell_type": "markdown",
   "id": "f6a2f9da",
   "metadata": {
    "heading_collapsed": true,
    "hidden": true
   },
   "source": [
    "### Queries realizadas no simulator mongo playground:"
   ]
  },
  {
   "cell_type": "markdown",
   "id": "95b6cada",
   "metadata": {
    "hidden": true
   },
   "source": [
    "![png](teste.png)"
   ]
  },
  {
   "cell_type": "markdown",
   "id": "84a89464",
   "metadata": {
    "heading_collapsed": true,
    "hidden": true
   },
   "source": [
    "### Conexão Mongodb com pymongo"
   ]
  },
  {
   "cell_type": "markdown",
   "id": "6a0589b2",
   "metadata": {
    "heading_collapsed": true,
    "hidden": true
   },
   "source": [
    "### Acessando o banco de dados que foi criado no exercício projeto01 para realizar consultas basicas."
   ]
  },
  {
   "cell_type": "markdown",
   "id": "933a0895",
   "metadata": {
    "hidden": true
   },
   "source": [
    "* **Para que possamos trabalhar com o MongoDB em Python precisamos instalar o driver PyMongo, para isso utilizaremos o PIP. Vamos então executar o seguinte comando:**\n",
    "    * *pip install pymongo*\n",
    "    \n",
    "* **O Mongodb já foi previamente instalado utilizando a porta padrão sem configurações de usuário e senha.**"
   ]
  },
  {
   "cell_type": "code",
   "execution_count": 2,
   "id": "3cba0195",
   "metadata": {
    "hidden": true
   },
   "outputs": [],
   "source": [
    "# importando a lib pymongo e realizando a conexão como bando de dados mongodb.\n",
    "from pymongo import MongoClient\n",
    "client = MongoClient(\"mongodb://localhost:27017/\")"
   ]
  },
  {
   "cell_type": "code",
   "execution_count": 12,
   "id": "ae9e0158",
   "metadata": {
    "hidden": true
   },
   "outputs": [
    {
     "name": "stdout",
     "output_type": "stream",
     "text": [
      "['NF', 'admin', 'config', 'julio', 'local', 'nota_fiscal', 'teste']\n"
     ]
    }
   ],
   "source": [
    "#lista o banco de dados\n",
    "print(client.list_database_names()) # ['local', 'admin']"
   ]
  },
  {
   "cell_type": "code",
   "execution_count": 3,
   "id": "cacd1d21",
   "metadata": {
    "hidden": true
   },
   "outputs": [],
   "source": [
    "# Conectando ao banco de dados nota_fiscal\n",
    "db = client.nota_fiscal"
   ]
  },
  {
   "cell_type": "code",
   "execution_count": 11,
   "id": "87c06681",
   "metadata": {
    "hidden": true
   },
   "outputs": [
    {
     "name": "stdout",
     "output_type": "stream",
     "text": [
      "Database(MongoClient(host=['localhost:27017'], document_class=dict, tz_aware=False, connect=True), 'nota_fiscal')\n"
     ]
    }
   ],
   "source": [
    "# mostra a conexão com nota_fiscal.\n",
    "print(db)"
   ]
  },
  {
   "cell_type": "code",
   "execution_count": 13,
   "id": "726b49c6",
   "metadata": {
    "hidden": true
   },
   "outputs": [
    {
     "name": "stdout",
     "output_type": "stream",
     "text": [
      "['cadastro_nf']\n"
     ]
    }
   ],
   "source": [
    "# exibe o nome do documento criado\n",
    "print(db.list_collection_names())\n"
   ]
  },
  {
   "cell_type": "code",
   "execution_count": 19,
   "id": "84b5f3f4",
   "metadata": {
    "hidden": true
   },
   "outputs": [],
   "source": [
    "# conexão com o documento\n",
    "colect = db['cadastro_nf']"
   ]
  },
  {
   "cell_type": "code",
   "execution_count": 20,
   "id": "30c65c5e",
   "metadata": {
    "hidden": true
   },
   "outputs": [
    {
     "name": "stdout",
     "output_type": "stream",
     "text": [
      "{'_id': ObjectId('c7442c1eaef6dbaf5ad89b62'), 'cnpj': '05.343.700-0001-99', 'fornecedor': 'AOC', 'data_emissao': datetime.datetime(2016, 4, 8, 15, 6, 21, 595000), 'valor_total': '$1750.00', 'itens': [{'produto': 'teclado AOC', 'valor': '$7.00', 'qtd': 250, 'descricao': 'teclado usb mecânico'}]}\n",
      "{'_id': ObjectId('1c1d9de46bf8f7a4f3a9f3d0'), 'cnpj': '55.000.572-0001-12', 'fornecedor': 'China import', 'data_emissao': datetime.datetime(2016, 4, 8, 15, 6, 21, 595000), 'valor_total': '$5000.00', 'itens': [{'produto': 'pendrive', 'valor': '$5.00', 'qtd': 1000, 'descricao': 'Pen drive de 128Gb'}, {'produto': 'mouse', 'valor': '$2.00', 'qtd': 100, 'descricao': 'mouse usb'}]}\n",
      "{'_id': ObjectId('c7dfb5336d711c28808d8d5c'), 'cnpj': '20.555.314-0001-18', 'fornecedor': 'Jcnok importações', 'data_emissao': datetime.datetime(2016, 4, 8, 15, 6, 21, 595000), 'valor_total': '$2000.00', 'itens': [{'produto': 'carteira', 'valor': '$10.00', 'qtd': 200, 'descricao': 'carteira de bolso masculina'}]}\n",
      "{'_id': ObjectId('d88aadfcffaf23a838c0bf0a'), 'cnpj': '74.356.186-0001-89', 'fornecedor': 'Shoppii', 'data_emissao': datetime.datetime(2016, 4, 8, 15, 6, 21, 595000), 'valor_total': '$1914.00', 'itens': [{'produto': 'relógio', 'valor': '$19.14', 'qtd': 100, 'descricao': 'relógio de parede'}]}\n"
     ]
    }
   ],
   "source": [
    "# acesso aos itens do documento\n",
    "for itens in colect.find():\n",
    "    print(itens)"
   ]
  },
  {
   "cell_type": "code",
   "execution_count": 24,
   "id": "62ab327b",
   "metadata": {
    "hidden": true
   },
   "outputs": [
    {
     "name": "stdout",
     "output_type": "stream",
     "text": [
      "{'_id': ObjectId('c7442c1eaef6dbaf5ad89b62'), 'cnpj': '05.343.700-0001-99', 'fornecedor': 'AOC', 'data_emissao': datetime.datetime(2016, 4, 8, 15, 6, 21, 595000), 'valor_total': '$1750.00', 'itens': [{'produto': 'teclado AOC', 'valor': '$7.00', 'qtd': 250, 'descricao': 'teclado usb mecânico'}]}\n"
     ]
    }
   ],
   "source": [
    "for item in colect.find({'itens.produto':\"teclado AOC\"}):\n",
    "    print(item)"
   ]
  },
  {
   "cell_type": "code",
   "execution_count": 26,
   "id": "09287ec1",
   "metadata": {
    "hidden": true
   },
   "outputs": [],
   "source": [
    "#importando a lib pandas para conversão em dataset\n",
    "import pandas as pd "
   ]
  },
  {
   "cell_type": "code",
   "execution_count": 38,
   "id": "79296a29",
   "metadata": {
    "hidden": true
   },
   "outputs": [
    {
     "data": {
      "text/html": [
       "<div>\n",
       "<style scoped>\n",
       "    .dataframe tbody tr th:only-of-type {\n",
       "        vertical-align: middle;\n",
       "    }\n",
       "\n",
       "    .dataframe tbody tr th {\n",
       "        vertical-align: top;\n",
       "    }\n",
       "\n",
       "    .dataframe thead th {\n",
       "        text-align: right;\n",
       "    }\n",
       "</style>\n",
       "<table border=\"1\" class=\"dataframe\">\n",
       "  <thead>\n",
       "    <tr style=\"text-align: right;\">\n",
       "      <th></th>\n",
       "      <th>0</th>\n",
       "      <th>1</th>\n",
       "    </tr>\n",
       "  </thead>\n",
       "  <tbody>\n",
       "    <tr>\n",
       "      <th>_id</th>\n",
       "      <td>1c1d9de46bf8f7a4f3a9f3d0</td>\n",
       "      <td>1c1d9de46bf8f7a4f3a9f3d0</td>\n",
       "    </tr>\n",
       "    <tr>\n",
       "      <th>cnpj</th>\n",
       "      <td>55.000.572-0001-12</td>\n",
       "      <td>55.000.572-0001-12</td>\n",
       "    </tr>\n",
       "    <tr>\n",
       "      <th>fornecedor</th>\n",
       "      <td>China import</td>\n",
       "      <td>China import</td>\n",
       "    </tr>\n",
       "    <tr>\n",
       "      <th>data_emissao</th>\n",
       "      <td>2016-04-08 15:06:21.595000</td>\n",
       "      <td>2016-04-08 15:06:21.595000</td>\n",
       "    </tr>\n",
       "    <tr>\n",
       "      <th>valor_total</th>\n",
       "      <td>$5000.00</td>\n",
       "      <td>$5000.00</td>\n",
       "    </tr>\n",
       "    <tr>\n",
       "      <th>itens</th>\n",
       "      <td>{'produto': 'pendrive', 'valor': '$5.00', 'qtd...</td>\n",
       "      <td>{'produto': 'mouse', 'valor': '$2.00', 'qtd': ...</td>\n",
       "    </tr>\n",
       "  </tbody>\n",
       "</table>\n",
       "</div>"
      ],
      "text/plain": [
       "                                                              0  \\\n",
       "_id                                    1c1d9de46bf8f7a4f3a9f3d0   \n",
       "cnpj                                         55.000.572-0001-12   \n",
       "fornecedor                                         China import   \n",
       "data_emissao                         2016-04-08 15:06:21.595000   \n",
       "valor_total                                            $5000.00   \n",
       "itens         {'produto': 'pendrive', 'valor': '$5.00', 'qtd...   \n",
       "\n",
       "                                                              1  \n",
       "_id                                    1c1d9de46bf8f7a4f3a9f3d0  \n",
       "cnpj                                         55.000.572-0001-12  \n",
       "fornecedor                                         China import  \n",
       "data_emissao                         2016-04-08 15:06:21.595000  \n",
       "valor_total                                            $5000.00  \n",
       "itens         {'produto': 'mouse', 'valor': '$2.00', 'qtd': ...  "
      ]
     },
     "execution_count": 38,
     "metadata": {},
     "output_type": "execute_result"
    }
   ],
   "source": [
    "# exibindo a query em um dataset para melhor entendimento.\n",
    "for item in colect.find({'itens.produto':\"pendrive\"}):\n",
    "    df = pd.DataFrame(item)\n",
    "df.T"
   ]
  },
  {
   "cell_type": "code",
   "execution_count": 39,
   "id": "aaf8a84a",
   "metadata": {
    "hidden": true
   },
   "outputs": [
    {
     "data": {
      "text/plain": [
       "[{'produto': 'pendrive',\n",
       "  'valor': '$5.00',\n",
       "  'qtd': 1000,\n",
       "  'descricao': 'Pen drive de 128Gb'},\n",
       " {'produto': 'mouse', 'valor': '$2.00', 'qtd': 100, 'descricao': 'mouse usb'}]"
      ]
     },
     "execution_count": 39,
     "metadata": {},
     "output_type": "execute_result"
    }
   ],
   "source": [
    "# exibindo os itens.\n",
    "df.itens.to_list() "
   ]
  },
  {
   "cell_type": "code",
   "execution_count": 40,
   "id": "f33f2c8e",
   "metadata": {
    "hidden": true
   },
   "outputs": [
    {
     "data": {
      "text/html": [
       "<div>\n",
       "<style scoped>\n",
       "    .dataframe tbody tr th:only-of-type {\n",
       "        vertical-align: middle;\n",
       "    }\n",
       "\n",
       "    .dataframe tbody tr th {\n",
       "        vertical-align: top;\n",
       "    }\n",
       "\n",
       "    .dataframe thead th {\n",
       "        text-align: right;\n",
       "    }\n",
       "</style>\n",
       "<table border=\"1\" class=\"dataframe\">\n",
       "  <thead>\n",
       "    <tr style=\"text-align: right;\">\n",
       "      <th></th>\n",
       "      <th>0</th>\n",
       "      <th>1</th>\n",
       "    </tr>\n",
       "  </thead>\n",
       "  <tbody>\n",
       "    <tr>\n",
       "      <th>produto</th>\n",
       "      <td>pendrive</td>\n",
       "      <td>mouse</td>\n",
       "    </tr>\n",
       "    <tr>\n",
       "      <th>valor</th>\n",
       "      <td>$5.00</td>\n",
       "      <td>$2.00</td>\n",
       "    </tr>\n",
       "    <tr>\n",
       "      <th>qtd</th>\n",
       "      <td>1000</td>\n",
       "      <td>100</td>\n",
       "    </tr>\n",
       "    <tr>\n",
       "      <th>descricao</th>\n",
       "      <td>Pen drive de 128Gb</td>\n",
       "      <td>mouse usb</td>\n",
       "    </tr>\n",
       "  </tbody>\n",
       "</table>\n",
       "</div>"
      ],
      "text/plain": [
       "                            0          1\n",
       "produto              pendrive      mouse\n",
       "valor                   $5.00      $2.00\n",
       "qtd                      1000        100\n",
       "descricao  Pen drive de 128Gb  mouse usb"
      ]
     },
     "execution_count": 40,
     "metadata": {},
     "output_type": "execute_result"
    }
   ],
   "source": [
    "# Exibindo os itens em um dataframe.\n",
    "pd.DataFrame(df.itens.to_dict() )"
   ]
  },
  {
   "cell_type": "markdown",
   "id": "28ba63eb",
   "metadata": {
    "heading_collapsed": true,
    "hidden": true
   },
   "source": [
    "### Insert"
   ]
  },
  {
   "cell_type": "code",
   "execution_count": 44,
   "id": "e9928340",
   "metadata": {
    "hidden": true
   },
   "outputs": [],
   "source": [
    "json = {\n",
    "        \"_id\": \"12345678910\",\n",
    "        \"cnpj\": \"05.400.700-0001-99\",\n",
    "        \"fornecedor\": \"Logitech\",\n",
    "        \"data_emissao\": \"2023-01-27\",\n",
    "        \"valor_total\": \"$1750.00\",\n",
    "        \"itens\": [\n",
    "                  {\n",
    "                    \"produto\": \"webcam\",\n",
    "                    \"valor\": \"$50.00\",\n",
    "                    \"qtd\": 1,\n",
    "                    \"descricao\": \"webcam C270 HD\"\n",
    "                  }\n",
    "                ]\n",
    "       }"
   ]
  },
  {
   "cell_type": "code",
   "execution_count": 45,
   "id": "5f8bfa8e",
   "metadata": {
    "hidden": true
   },
   "outputs": [
    {
     "name": "stdout",
     "output_type": "stream",
     "text": [
      "<pymongo.results.InsertOneResult object at 0x000001C278C38340>\n"
     ]
    }
   ],
   "source": [
    "inserir = colect.insert_one(json)\n",
    "print(inserir)"
   ]
  },
  {
   "cell_type": "code",
   "execution_count": 46,
   "id": "056378ba",
   "metadata": {
    "hidden": true
   },
   "outputs": [
    {
     "data": {
      "text/html": [
       "<div>\n",
       "<style scoped>\n",
       "    .dataframe tbody tr th:only-of-type {\n",
       "        vertical-align: middle;\n",
       "    }\n",
       "\n",
       "    .dataframe tbody tr th {\n",
       "        vertical-align: top;\n",
       "    }\n",
       "\n",
       "    .dataframe thead th {\n",
       "        text-align: right;\n",
       "    }\n",
       "</style>\n",
       "<table border=\"1\" class=\"dataframe\">\n",
       "  <thead>\n",
       "    <tr style=\"text-align: right;\">\n",
       "      <th></th>\n",
       "      <th>0</th>\n",
       "    </tr>\n",
       "  </thead>\n",
       "  <tbody>\n",
       "    <tr>\n",
       "      <th>_id</th>\n",
       "      <td>12345678910</td>\n",
       "    </tr>\n",
       "    <tr>\n",
       "      <th>cnpj</th>\n",
       "      <td>05.400.700-0001-99</td>\n",
       "    </tr>\n",
       "    <tr>\n",
       "      <th>fornecedor</th>\n",
       "      <td>Logitech</td>\n",
       "    </tr>\n",
       "    <tr>\n",
       "      <th>data_emissao</th>\n",
       "      <td>2023-01-27</td>\n",
       "    </tr>\n",
       "    <tr>\n",
       "      <th>valor_total</th>\n",
       "      <td>$1750.00</td>\n",
       "    </tr>\n",
       "    <tr>\n",
       "      <th>itens</th>\n",
       "      <td>{'produto': 'webcam', 'valor': '$50.00', 'qtd'...</td>\n",
       "    </tr>\n",
       "  </tbody>\n",
       "</table>\n",
       "</div>"
      ],
      "text/plain": [
       "                                                              0\n",
       "_id                                                 12345678910\n",
       "cnpj                                         05.400.700-0001-99\n",
       "fornecedor                                             Logitech\n",
       "data_emissao                                         2023-01-27\n",
       "valor_total                                            $1750.00\n",
       "itens         {'produto': 'webcam', 'valor': '$50.00', 'qtd'..."
      ]
     },
     "execution_count": 46,
     "metadata": {},
     "output_type": "execute_result"
    }
   ],
   "source": [
    "# exibindo a query do registro inserido em um dataset para melhor entendimento.\n",
    "for item in colect.find({'itens.produto':\"webcam\"}):\n",
    "    df = pd.DataFrame(item)\n",
    "df.T"
   ]
  },
  {
   "cell_type": "code",
   "execution_count": 47,
   "id": "2bc2e3a4",
   "metadata": {
    "hidden": true
   },
   "outputs": [
    {
     "data": {
      "text/html": [
       "<div>\n",
       "<style scoped>\n",
       "    .dataframe tbody tr th:only-of-type {\n",
       "        vertical-align: middle;\n",
       "    }\n",
       "\n",
       "    .dataframe tbody tr th {\n",
       "        vertical-align: top;\n",
       "    }\n",
       "\n",
       "    .dataframe thead th {\n",
       "        text-align: right;\n",
       "    }\n",
       "</style>\n",
       "<table border=\"1\" class=\"dataframe\">\n",
       "  <thead>\n",
       "    <tr style=\"text-align: right;\">\n",
       "      <th></th>\n",
       "      <th>0</th>\n",
       "    </tr>\n",
       "  </thead>\n",
       "  <tbody>\n",
       "    <tr>\n",
       "      <th>descricao</th>\n",
       "      <td>webcam C270 HD</td>\n",
       "    </tr>\n",
       "    <tr>\n",
       "      <th>produto</th>\n",
       "      <td>webcam</td>\n",
       "    </tr>\n",
       "    <tr>\n",
       "      <th>qtd</th>\n",
       "      <td>1</td>\n",
       "    </tr>\n",
       "    <tr>\n",
       "      <th>valor</th>\n",
       "      <td>$50.00</td>\n",
       "    </tr>\n",
       "  </tbody>\n",
       "</table>\n",
       "</div>"
      ],
      "text/plain": [
       "                        0\n",
       "descricao  webcam C270 HD\n",
       "produto            webcam\n",
       "qtd                     1\n",
       "valor              $50.00"
      ]
     },
     "execution_count": 47,
     "metadata": {},
     "output_type": "execute_result"
    }
   ],
   "source": [
    "# Exibindo os itens do registro inserido em um dataframe.\n",
    "pd.DataFrame(df.itens.to_dict() )"
   ]
  },
  {
   "cell_type": "markdown",
   "id": "2ef5fe14",
   "metadata": {
    "heading_collapsed": true,
    "hidden": true
   },
   "source": [
    "### Update:"
   ]
  },
  {
   "cell_type": "code",
   "execution_count": 66,
   "id": "23e80eb9",
   "metadata": {
    "hidden": true
   },
   "outputs": [],
   "source": [
    "#consulta o documento\n",
    "query = { \"fornecedor\": \"Logitech\" }\n",
    "#Valores a serem alterados\n",
    "novos_valores = {\"$set\":{\"valor_total\": \"$50.00\"}}\n",
    "#realiza o update\n",
    "atualiza = colect.update_many(query, novos_valores)\n"
   ]
  },
  {
   "cell_type": "code",
   "execution_count": 67,
   "id": "54cce0de",
   "metadata": {
    "hidden": true
   },
   "outputs": [
    {
     "data": {
      "text/html": [
       "<div>\n",
       "<style scoped>\n",
       "    .dataframe tbody tr th:only-of-type {\n",
       "        vertical-align: middle;\n",
       "    }\n",
       "\n",
       "    .dataframe tbody tr th {\n",
       "        vertical-align: top;\n",
       "    }\n",
       "\n",
       "    .dataframe thead th {\n",
       "        text-align: right;\n",
       "    }\n",
       "</style>\n",
       "<table border=\"1\" class=\"dataframe\">\n",
       "  <thead>\n",
       "    <tr style=\"text-align: right;\">\n",
       "      <th></th>\n",
       "      <th>0</th>\n",
       "    </tr>\n",
       "  </thead>\n",
       "  <tbody>\n",
       "    <tr>\n",
       "      <th>_id</th>\n",
       "      <td>12345678910</td>\n",
       "    </tr>\n",
       "    <tr>\n",
       "      <th>cnpj</th>\n",
       "      <td>05.400.700-0001-99</td>\n",
       "    </tr>\n",
       "    <tr>\n",
       "      <th>fornecedor</th>\n",
       "      <td>Logitech</td>\n",
       "    </tr>\n",
       "    <tr>\n",
       "      <th>data_emissao</th>\n",
       "      <td>2023-01-27</td>\n",
       "    </tr>\n",
       "    <tr>\n",
       "      <th>valor_total</th>\n",
       "      <td>$50.00</td>\n",
       "    </tr>\n",
       "    <tr>\n",
       "      <th>itens</th>\n",
       "      <td>{'produto': 'webcam', 'valor': '$50.00', 'qtd'...</td>\n",
       "    </tr>\n",
       "  </tbody>\n",
       "</table>\n",
       "</div>"
      ],
      "text/plain": [
       "                                                              0\n",
       "_id                                                 12345678910\n",
       "cnpj                                         05.400.700-0001-99\n",
       "fornecedor                                             Logitech\n",
       "data_emissao                                         2023-01-27\n",
       "valor_total                                              $50.00\n",
       "itens         {'produto': 'webcam', 'valor': '$50.00', 'qtd'..."
      ]
     },
     "execution_count": 67,
     "metadata": {},
     "output_type": "execute_result"
    }
   ],
   "source": [
    "# verificando o resultado do update\n",
    "for item in colect.find(query):\n",
    "    df = pd.DataFrame(item)\n",
    "df.T"
   ]
  },
  {
   "cell_type": "code",
   "execution_count": 68,
   "id": "5a9ec3d8",
   "metadata": {
    "hidden": true
   },
   "outputs": [
    {
     "name": "stdout",
     "output_type": "stream",
     "text": [
      "Documentos atualizados: 2\n"
     ]
    }
   ],
   "source": [
    "# verificando quantos documentos foram atualizados\n",
    "print(f'Documentos atualizados: {atualiza.modified_count}')"
   ]
  },
  {
   "cell_type": "code",
   "execution_count": 56,
   "id": "0fb3faeb",
   "metadata": {
    "hidden": true
   },
   "outputs": [
    {
     "name": "stdout",
     "output_type": "stream",
     "text": [
      "{'_id': ObjectId('c7442c1eaef6dbaf5ad89b62'), 'cnpj': '05.343.700-0001-99', 'fornecedor': 'AOC', 'data_emissao': datetime.datetime(2016, 4, 8, 15, 6, 21, 595000), 'valor_total': '$1750.00', 'itens': [{'produto': 'teclado AOC', 'valor': '$7.00', 'qtd': 250, 'descricao': 'teclado usb mecânico'}]}\n",
      "{'_id': ObjectId('1c1d9de46bf8f7a4f3a9f3d0'), 'cnpj': '55.000.572-0001-12', 'fornecedor': 'China import', 'data_emissao': datetime.datetime(2016, 4, 8, 15, 6, 21, 595000), 'valor_total': '$5000.00', 'itens': [{'produto': 'pendrive', 'valor': '$5.00', 'qtd': 1000, 'descricao': 'Pen drive de 128Gb'}, {'produto': 'mouse', 'valor': '$2.00', 'qtd': 100, 'descricao': 'mouse usb'}]}\n",
      "{'_id': ObjectId('c7dfb5336d711c28808d8d5c'), 'cnpj': '20.555.314-0001-18', 'fornecedor': 'Jcnok importações', 'data_emissao': datetime.datetime(2016, 4, 8, 15, 6, 21, 595000), 'valor_total': '$2000.00', 'itens': [{'produto': 'carteira', 'valor': '$10.00', 'qtd': 200, 'descricao': 'carteira de bolso masculina'}]}\n",
      "{'_id': ObjectId('d88aadfcffaf23a838c0bf0a'), 'cnpj': '74.356.186-0001-89', 'fornecedor': 'Shoppii', 'data_emissao': datetime.datetime(2016, 4, 8, 15, 6, 21, 595000), 'valor_total': '$1914.00', 'itens': [{'produto': 'relógio', 'valor': '$19.14', 'qtd': 100, 'descricao': 'relógio de parede'}]}\n",
      "{'_id': '12345678', 'cnpj': '05.400.700-0001-99', 'fornecedor': 'Logitech', 'data_emissao': '2023-01-27', 'valor_total': '$50.00', 'itens': [{'produto': 'webcam', 'valor': '$50.00', 'qtd': 1, 'descricao': 'webcam C270 HD'}]}\n",
      "{'_id': '12345678910', 'cnpj': '05.400.700-0001-99', 'fornecedor': 'Logitech', 'data_emissao': '2023-01-27', 'valor_total': '$50.00', 'itens': [{'produto': 'webcam', 'valor': '$50.00', 'qtd': 1, 'descricao': 'webcam C270 HD'}]}\n"
     ]
    }
   ],
   "source": [
    "# acesso aos itens do documento\n",
    "for itens in colect.find():\n",
    "    print(itens)"
   ]
  },
  {
   "cell_type": "markdown",
   "id": "38b1a3f5",
   "metadata": {
    "hidden": true
   },
   "source": [
    "### Delete"
   ]
  },
  {
   "cell_type": "markdown",
   "id": "d9b899d0",
   "metadata": {
    "hidden": true
   },
   "source": [
    "* **Vamos deletar esse registro:** *{'_id': '12345678', 'cnpj': '05.400.700-0001-99', 'fornecedor': 'Logitech', 'data_emissao': '2023-01-27', 'valor_total': '$50.00', 'itens': [{'produto': 'webcam', 'valor': '$50.00', 'qtd': 1, 'descricao': 'webcam C270 HD'}]}*"
   ]
  },
  {
   "cell_type": "code",
   "execution_count": 69,
   "id": "bb82c67c",
   "metadata": {
    "hidden": true
   },
   "outputs": [],
   "source": [
    "# Deletando o documento de id: 12345678 \n",
    "query = {\"_id\": \"12345678\"}\n",
    "colect.delete_one(query)"
   ]
  },
  {
   "cell_type": "code",
   "execution_count": 74,
   "id": "ca782e47",
   "metadata": {
    "hidden": true
   },
   "outputs": [
    {
     "name": "stdout",
     "output_type": "stream",
     "text": [
      "{'_id': ObjectId('c7442c1eaef6dbaf5ad89b62'), 'cnpj': '05.343.700-0001-99', 'fornecedor': 'AOC', 'data_emissao': datetime.datetime(2016, 4, 8, 15, 6, 21, 595000), 'valor_total': '$1750.00', 'itens': [{'produto': 'teclado AOC', 'valor': '$7.00', 'qtd': 250, 'descricao': 'teclado usb mecânico'}]}\n",
      "{'_id': ObjectId('1c1d9de46bf8f7a4f3a9f3d0'), 'cnpj': '55.000.572-0001-12', 'fornecedor': 'China import', 'data_emissao': datetime.datetime(2016, 4, 8, 15, 6, 21, 595000), 'valor_total': '$5000.00', 'itens': [{'produto': 'pendrive', 'valor': '$5.00', 'qtd': 1000, 'descricao': 'Pen drive de 128Gb'}, {'produto': 'mouse', 'valor': '$2.00', 'qtd': 100, 'descricao': 'mouse usb'}]}\n",
      "{'_id': ObjectId('c7dfb5336d711c28808d8d5c'), 'cnpj': '20.555.314-0001-18', 'fornecedor': 'Jcnok importações', 'data_emissao': datetime.datetime(2016, 4, 8, 15, 6, 21, 595000), 'valor_total': '$2000.00', 'itens': [{'produto': 'carteira', 'valor': '$10.00', 'qtd': 200, 'descricao': 'carteira de bolso masculina'}]}\n",
      "{'_id': ObjectId('d88aadfcffaf23a838c0bf0a'), 'cnpj': '74.356.186-0001-89', 'fornecedor': 'Shoppii', 'data_emissao': datetime.datetime(2016, 4, 8, 15, 6, 21, 595000), 'valor_total': '$1914.00', 'itens': [{'produto': 'relógio', 'valor': '$19.14', 'qtd': 100, 'descricao': 'relógio de parede'}]}\n",
      "{'_id': '12345678910', 'cnpj': '05.400.700-0001-99', 'fornecedor': 'Logitech', 'data_emissao': '2023-01-27', 'valor_total': '$50.00', 'itens': [{'produto': 'webcam', 'valor': '$50.00', 'qtd': 1, 'descricao': 'webcam C270 HD'}]}\n"
     ]
    }
   ],
   "source": [
    "# verificando o resultado após o delete\n",
    "for item in colect.find():\n",
    "    print(item)\n"
   ]
  },
  {
   "cell_type": "code",
   "execution_count": null,
   "id": "ef3387f7",
   "metadata": {
    "hidden": true
   },
   "outputs": [],
   "source": []
  },
  {
   "cell_type": "markdown",
   "id": "1ec37a0a",
   "metadata": {
    "heading_collapsed": true,
    "hidden": true
   },
   "source": [
    "## Resolução: Projeto02"
   ]
  },
  {
   "cell_type": "markdown",
   "id": "76578f23",
   "metadata": {
    "heading_collapsed": true,
    "hidden": true
   },
   "source": [
    "### Levantamento de requisitos:"
   ]
  },
  {
   "cell_type": "markdown",
   "id": "f12eca61",
   "metadata": {
    "hidden": true
   },
   "source": [
    "* **Abaixo, segue o esquema do projeto com as tabelas, família de colunas e atríbutos:**\n",
    "\n",
    "    * **Vendas**:\n",
    "\n",
    "        * *familia de coluna*\n",
    "            * valor\n",
    "            * nome_produto\n",
    "        * *familia de coluna*\n",
    "            * data_venda\n",
    "            * filial\n",
    "        \n",
    "    * **Compras**:\n",
    "        * *familia de coluna*    \n",
    "            * valor\n",
    "            * nome_produto\n",
    "        * *familia de coluna*    \n",
    "            * data_compra\n",
    "            * nome_comprador\n",
    "        * nome_vendedor\n",
    "        \n",
    "    * **Propagandas**:\n",
    "        * data_inicio\n",
    "        * data_finalizacao\n",
    "        * *familia de coluna*\n",
    "            * publico_alvo\n",
    "            * nome_campanha"
   ]
  },
  {
   "cell_type": "markdown",
   "id": "63f3896e",
   "metadata": {
    "heading_collapsed": true,
    "hidden": true
   },
   "source": [
    "### Modelo "
   ]
  },
  {
   "cell_type": "markdown",
   "id": "a32756df",
   "metadata": {
    "hidden": true
   },
   "source": [
    "![png](projeto02_Model.png)"
   ]
  },
  {
   "cell_type": "markdown",
   "id": "228b230c",
   "metadata": {
    "heading_collapsed": true,
    "hidden": true
   },
   "source": [
    "#### Schema - Table: Vendas"
   ]
  },
  {
   "cell_type": "markdown",
   "id": "4ec96cda",
   "metadata": {
    "hidden": true
   },
   "source": [
    "![png](projeto02_vendas.png)"
   ]
  },
  {
   "cell_type": "markdown",
   "id": "a3858c4e",
   "metadata": {
    "heading_collapsed": true,
    "hidden": true
   },
   "source": [
    "#### Schema - Table: Compras"
   ]
  },
  {
   "cell_type": "markdown",
   "id": "9caf382d",
   "metadata": {
    "hidden": true
   },
   "source": [
    "![png](projeto02_compras.png)"
   ]
  },
  {
   "cell_type": "markdown",
   "id": "da00ecf6",
   "metadata": {
    "heading_collapsed": true,
    "hidden": true
   },
   "source": [
    "#### Schema - Table: Propagandas"
   ]
  },
  {
   "cell_type": "markdown",
   "id": "4358b683",
   "metadata": {
    "hidden": true
   },
   "source": [
    "![png](projeto02_propagandas.png)"
   ]
  },
  {
   "cell_type": "markdown",
   "id": "5de3ab81",
   "metadata": {
    "heading_collapsed": true
   },
   "source": [
    "# Perguntas:"
   ]
  },
  {
   "cell_type": "markdown",
   "id": "9303ecf7",
   "metadata": {
    "hidden": true
   },
   "source": [
    "### 1- Considerando o Projeto 01, qual é o modelo mais adequado para o projeto de banco de dados?"
   ]
  },
  {
   "cell_type": "markdown",
   "id": "4a06a06e",
   "metadata": {
    "hidden": true
   },
   "source": [
    "* **R.: Modelo de documentos.**"
   ]
  },
  {
   "cell_type": "markdown",
   "id": "3c298358",
   "metadata": {
    "hidden": true
   },
   "source": [
    "### 2- Considerando o Projeto 01, a hierarquia criada contemplaria o valor total da nota em qual nível?"
   ]
  },
  {
   "cell_type": "markdown",
   "id": "c7abfcfc",
   "metadata": {
    "hidden": true
   },
   "source": [
    "* **R.:  Primeiro nível.**"
   ]
  },
  {
   "cell_type": "markdown",
   "id": "0372c1ba",
   "metadata": {
    "hidden": true
   },
   "source": [
    "### 3- Considerando o Projeto 01, quantos documentos precisam ser criados no modelo?\n"
   ]
  },
  {
   "cell_type": "markdown",
   "id": "dbe4dbc1",
   "metadata": {
    "hidden": true
   },
   "source": [
    "* **R.:Apenas um.**"
   ]
  },
  {
   "cell_type": "markdown",
   "id": "64cbc0f6",
   "metadata": {
    "hidden": true
   },
   "source": [
    "### 4- Se for necessário transportar o modelo criado para uma base relacional, como ficariam os relacionamentos?"
   ]
  },
  {
   "cell_type": "markdown",
   "id": "8f256d3b",
   "metadata": {
    "hidden": true
   },
   "source": [
    "* **R.:Uma NF para N itens, pois uma nota pode possuir de 1 a muitos itens.**"
   ]
  },
  {
   "cell_type": "markdown",
   "id": "cd934931",
   "metadata": {
    "hidden": true
   },
   "source": [
    "### 5- Na modelagem, podemos “obrigar” o campo valor total ser exatamente a soma dos campos de valores de itens?"
   ]
  },
  {
   "cell_type": "markdown",
   "id": "782455f5",
   "metadata": {
    "hidden": true
   },
   "source": [
    "* **R.: Sim, através da criação de uma check constraint.** "
   ]
  },
  {
   "cell_type": "markdown",
   "id": "51920062",
   "metadata": {
    "hidden": true
   },
   "source": [
    "### 6- Considerando o Projeto 02, quantas tabelas foram necessárias?"
   ]
  },
  {
   "cell_type": "markdown",
   "id": "35362855",
   "metadata": {
    "hidden": true
   },
   "source": [
    "* **R.:  3 tabelas.**"
   ]
  },
  {
   "cell_type": "markdown",
   "id": "41d8cc85",
   "metadata": {
    "hidden": true
   },
   "source": [
    "### 7- Considerando o Projeto 02, qual a vantagem de criar uma família de colunas que une campanha e público-alvo?"
   ]
  },
  {
   "cell_type": "markdown",
   "id": "cc79d959",
   "metadata": {
    "hidden": true
   },
   "source": [
    "* **R.:A vantagem de criar uma família de colunas que une campanha e público-alvo é que esses dois campos estariam agrupados juntos, o que permitiria consultas mais rápidas e eficientes, pois seria possível recuperar os dados de uma campanha específica e seu público-alvo de forma mais rápida. Isso também pode ajudar a reduzir a complexidade do banco de dados e aumentar a facilidade de manutenção. Além disso, ao agrupar esses campos em uma família de colunas, pode-se também garantir que eles estejam sempre juntos.**"
   ]
  },
  {
   "cell_type": "markdown",
   "id": "c8a04cf1",
   "metadata": {
    "hidden": true
   },
   "source": [
    "### 8- Tanto modelo lógico quanto modelo conceitual, neste exemplo, possuiriam o mesmo número de entidades / tabelas?"
   ]
  },
  {
   "cell_type": "markdown",
   "id": "1905609d",
   "metadata": {
    "hidden": true
   },
   "source": [
    "* **R.:Sim, mas o desempenho é inferior em relação à exibição de uma família apenas.**"
   ]
  },
  {
   "cell_type": "markdown",
   "id": "387a00ad",
   "metadata": {
    "hidden": true
   },
   "source": [
    "### 9- Existem chaves estrangeiras nessas tabelas?"
   ]
  },
  {
   "cell_type": "markdown",
   "id": "6117a55a",
   "metadata": {
    "hidden": true
   },
   "source": [
    "* **R.:Não foram mencionadas chaves estrangeiras nas tabelas especificadas no projeto. No Apache Cassandra, as chaves estrangeiras não são suportadas. Em vez disso, as relações entre tabelas são geralmente implementadas através de chaves primárias compostas e consultas de junção..**"
   ]
  },
  {
   "cell_type": "markdown",
   "id": "01c2fa41",
   "metadata": {
    "hidden": true
   },
   "source": [
    "### 10- Na tabela vendas, qual é o tipo de dado aplicado ao campo filial?"
   ]
  },
  {
   "cell_type": "markdown",
   "id": "057b8e59",
   "metadata": {
    "hidden": true
   },
   "source": [
    "* **R.:Um campo texto tipo string.**"
   ]
  },
  {
   "cell_type": "markdown",
   "id": "3d05e4fc",
   "metadata": {
    "hidden": true
   },
   "source": [
    "### 11- O campo público-alvo deve ocorrer preferencialmente em conjunto com qual outro campo em uma consulta?"
   ]
  },
  {
   "cell_type": "markdown",
   "id": "d304cbf8",
   "metadata": {
    "hidden": true
   },
   "source": [
    "* **R.:O campo público-alvo deve ocorrer preferencialmente em conjunto com o nome da campanha em uma consulta. Isso porque as informações de campanha e público-alvo são relacionadas e geralmente são exibidas juntas nos relatórios.**"
   ]
  },
  {
   "cell_type": "markdown",
   "id": "64e66514",
   "metadata": {
    "hidden": true
   },
   "source": [
    "### 12- Em compras, o campo nome do produto deve aparecer preferencialmente em conjunto com qual outro campo em uma consulta?"
   ]
  },
  {
   "cell_type": "markdown",
   "id": "bc1d8b07",
   "metadata": {
    "hidden": true
   },
   "source": [
    "* **R.:Em compras, o campo nome do produto deve aparecer preferencialmente em conjunto com o campo valor da compra em uma consulta.**"
   ]
  },
  {
   "cell_type": "code",
   "execution_count": null,
   "id": "ae5329b2",
   "metadata": {
    "hidden": true
   },
   "outputs": [],
   "source": []
  }
 ],
 "metadata": {
  "kernelspec": {
   "display_name": "Python 3 (ipykernel)",
   "language": "python",
   "name": "python3"
  },
  "language_info": {
   "codemirror_mode": {
    "name": "ipython",
    "version": 3
   },
   "file_extension": ".py",
   "mimetype": "text/x-python",
   "name": "python",
   "nbconvert_exporter": "python",
   "pygments_lexer": "ipython3",
   "version": "3.9.12"
  }
 },
 "nbformat": 4,
 "nbformat_minor": 5
}
