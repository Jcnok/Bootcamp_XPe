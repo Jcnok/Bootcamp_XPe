{
 "cells": [
  {
   "cell_type": "markdown",
   "id": "eca999b7",
   "metadata": {},
   "source": [
    "<img src=\"https://raw.githubusercontent.com/Jcnok/Bootcamps_XPe/main/imagens/analista_BD.svg\" align='center' alt=\"drawing\" width=\"150\" heigth=\"150\"/>"
   ]
  },
  {
   "cell_type": "markdown",
   "id": "77c160d1",
   "metadata": {},
   "source": [
    "# Bootcamp: Analista de Banco de Dados"
   ]
  },
  {
   "cell_type": "markdown",
   "id": "48aa7213",
   "metadata": {},
   "source": [
    "## Trabalho Prático1: Fundamentos de Banco de Dados"
   ]
  },
  {
   "cell_type": "markdown",
   "id": "7551bc00",
   "metadata": {},
   "source": [
    "### Objetivos de Ensino"
   ]
  },
  {
   "cell_type": "markdown",
   "id": "c69d4ab8",
   "metadata": {},
   "source": [
    "* **Exercitar os seguintes conceitos vistos em sala de aula:**\n",
    "\n",
    "    * *Estimular as habilidades de levantamentos de requisitos, especificação de\n",
    "entidades e relacionamentos, bem como a criação de um projeto de banco\n",
    "de dados.*\n",
    "\n"
   ]
  },
  {
   "cell_type": "markdown",
   "id": "792cfdf9",
   "metadata": {},
   "source": [
    "### Enunciado:"
   ]
  },
  {
   "cell_type": "markdown",
   "id": "21612904",
   "metadata": {},
   "source": [
    "* **Considere a seguinte demanda de uma área de projetos de uma empresa:**\n",
    "    * **Para controlar os projetos de software, uma Fábrica de Software deseja\n",
    "desenvolver um sistema de gestão de seus projetos. Para que seja possível\n",
    "controlar seu ciclo de vida, será necessário armazenar o cadastro de\n",
    "projetos com seu nome, data de início, área e colaboradores que estão\n",
    "alocados em sua execução com matrícula, nome e e-mail.**\n",
    "    * **Cada colaborador está dedicado exclusivamente a um projeto, mesmo que\n",
    "um projeto possa ter uma equipe composta por várias pessoas.**\n",
    "    * **Cada projeto possui uma série de documentos que são utilizados para\n",
    "especificação, nos quais temos um título e a descrição. Cada documento\n",
    "pode gerar uma ou mais tarefas para o time, e cada tarefa pode ter sido\n",
    "gerada por um ou mais documentos.**\n",
    "    * **As tarefas possuem nome e tipo (desenvolvimento, teste ou artefatos).**\n",
    "    * **Todas as tarefas geram um componente de software que, por sua vez, pode\n",
    "ser gerado por uma ou mais tarefas. Cada componente de software tem\n",
    "nome e categoria (tela, backend etc.).**\n",
    "    * **Cada tarefa possui um ou mais colaboradores responsáveis.**\n",
    "    * **Cada componente é validado por um ou mais colaboradores.**\n",
    "    * **Todos os projetos possuem um colaborador que é o Gerente do Projeto.**\n",
    "\n"
   ]
  },
  {
   "cell_type": "markdown",
   "id": "d34a5703",
   "metadata": {},
   "source": [
    "### Atividades:"
   ]
  },
  {
   "cell_type": "markdown",
   "id": "e1226645",
   "metadata": {},
   "source": [
    "* **Os alunos deverão desempenhar as seguintes atividades:**\n",
    "    \n",
    "    * **1. Realizar o levantamento de quais entidades são partes do modelo. O modelo\n",
    "escolhido pode ser o modelo conceitual ou lógico.**\n",
    "    * **2. Definir os atributos necessários para o entendimento do modelo.**\n",
    "    * **3. Estabelecer as relações entre as entidades.**"
   ]
  },
  {
   "cell_type": "markdown",
   "id": "0951af2d",
   "metadata": {},
   "source": [
    "## Resolução:"
   ]
  },
  {
   "cell_type": "markdown",
   "id": "d92a61c8",
   "metadata": {},
   "source": [
    "###  **Entidades e atributos:**"
   ]
  },
  {
   "cell_type": "markdown",
   "id": "187eba84",
   "metadata": {},
   "source": [
    "* **Projetos**\n",
    "    * Id\n",
    "    * nome\n",
    "    * data de início\n",
    "\n",
    "* **Colaboradores**\n",
    "    * Id\n",
    "    * matrícula\n",
    "    * nome\n",
    "    * email\n",
    "\n",
    "* **Documentos**\n",
    "    * Id\n",
    "    * descrição\n",
    "\n",
    "* **Tarefas**\n",
    "    * Id\n",
    "    * nome\n",
    "    * tipo\n",
    "\n",
    "* **Componentes**\n",
    "    * ID\n",
    "    * nome\n",
    "    * categoria"
   ]
  },
  {
   "cell_type": "markdown",
   "id": "073a17ce",
   "metadata": {},
   "source": [
    "### Modelo EER"
   ]
  },
  {
   "cell_type": "markdown",
   "id": "b8853fff",
   "metadata": {},
   "source": [
    "![png](EER_Project01.png)"
   ]
  },
  {
   "cell_type": "markdown",
   "id": "5de3ab81",
   "metadata": {},
   "source": [
    "# Perguntas:"
   ]
  },
  {
   "cell_type": "markdown",
   "id": "9303ecf7",
   "metadata": {},
   "source": [
    "### 1- Qual é a principal entidade desse modelo de dados?"
   ]
  },
  {
   "cell_type": "markdown",
   "id": "4a06a06e",
   "metadata": {},
   "source": [
    "* **R.: Projetos.**"
   ]
  },
  {
   "cell_type": "markdown",
   "id": "3c298358",
   "metadata": {},
   "source": [
    "### 2- Qual é a cardinalidade / classe na relação entre projetos e colaboradores?"
   ]
  },
  {
   "cell_type": "markdown",
   "id": "c7abfcfc",
   "metadata": {},
   "source": [
    "* **R.:  Projeto 1 x N Colaboradores.**"
   ]
  },
  {
   "cell_type": "markdown",
   "id": "0372c1ba",
   "metadata": {},
   "source": [
    "### 3- Em qual entidade armazenamos o nome do gerente do projeto?\n"
   ]
  },
  {
   "cell_type": "markdown",
   "id": "dbe4dbc1",
   "metadata": {},
   "source": [
    "* **R.:Colaboradores.**"
   ]
  },
  {
   "cell_type": "markdown",
   "id": "64cbc0f6",
   "metadata": {},
   "source": [
    "### 4- Quantos relacionamentos possui a entidade tarefas?"
   ]
  },
  {
   "cell_type": "markdown",
   "id": "8f256d3b",
   "metadata": {},
   "source": [
    "* **R.:3 relacionamentos.**"
   ]
  },
  {
   "cell_type": "markdown",
   "id": "cd934931",
   "metadata": {},
   "source": [
    "### 5- O atributo categoria refere-se ao tipo de software que é desenvolvido, esse atributo está presente em qual entidade?"
   ]
  },
  {
   "cell_type": "markdown",
   "id": "782455f5",
   "metadata": {},
   "source": [
    "* **R.: Componente.** "
   ]
  },
  {
   "cell_type": "markdown",
   "id": "51920062",
   "metadata": {},
   "source": [
    "### 6- De acordo com o levantamento de requisitos, qual seria uma chave primária possível para colaboradores?"
   ]
  },
  {
   "cell_type": "markdown",
   "id": "35362855",
   "metadata": {},
   "source": [
    "* **R.:  Matrícula.**"
   ]
  },
  {
   "cell_type": "markdown",
   "id": "41d8cc85",
   "metadata": {},
   "source": [
    "### 7- Podemos afirmar que projetos possuem um relacionamento direto com tarefas?"
   ]
  },
  {
   "cell_type": "markdown",
   "id": "cc79d959",
   "metadata": {},
   "source": [
    "* **R.:Não, um projeto se relaciona indiretamente às tarefas.**"
   ]
  },
  {
   "cell_type": "markdown",
   "id": "c8a04cf1",
   "metadata": {},
   "source": [
    "### 8- Tanto modelo lógico quanto modelo conceitual, neste exemplo, possuiriam o mesmo número de entidades / tabelas?"
   ]
  },
  {
   "cell_type": "markdown",
   "id": "1905609d",
   "metadata": {},
   "source": [
    "* **R.:Não, em qualquer cenário, pois existem relações NxN.**"
   ]
  },
  {
   "cell_type": "markdown",
   "id": "387a00ad",
   "metadata": {},
   "source": [
    "### 9- Existe algum auto relacionamento nesse modelo?"
   ]
  },
  {
   "cell_type": "markdown",
   "id": "6117a55a",
   "metadata": {},
   "source": [
    "* **R.:Não.**"
   ]
  },
  {
   "cell_type": "markdown",
   "id": "01c2fa41",
   "metadata": {},
   "source": [
    "### 10- Podemos indicar que um componente é uma entidade fraca?"
   ]
  },
  {
   "cell_type": "markdown",
   "id": "057b8e59",
   "metadata": {},
   "source": [
    "* **R.:Sim, pois sem uma tarefa, não existe um componente.**"
   ]
  },
  {
   "cell_type": "markdown",
   "id": "3d05e4fc",
   "metadata": {},
   "source": [
    "### 11- É CORRETO realizar a modelagem de gerentes como uma entidade?"
   ]
  },
  {
   "cell_type": "markdown",
   "id": "d304cbf8",
   "metadata": {},
   "source": [
    "* **R.:Não, porque o requisito diz que um colaborador é gerente de projetos.**"
   ]
  },
  {
   "cell_type": "markdown",
   "id": "64e66514",
   "metadata": {},
   "source": [
    "### 12- Em nosso modelo, no contexto conceitual, qual dos atributos abaixo poderiam ser multivalorados?"
   ]
  },
  {
   "cell_type": "markdown",
   "id": "bc1d8b07",
   "metadata": {},
   "source": [
    "* **R.:Nenhuma das alternativas está correta.**"
   ]
  },
  {
   "cell_type": "markdown",
   "id": "9420dd6b",
   "metadata": {},
   "source": [
    "### 13- A entidade departamentos poderia ser parte desse modelo?"
   ]
  },
  {
   "cell_type": "markdown",
   "id": "86d1aec3",
   "metadata": {},
   "source": [
    "* **R.:Não, a especificação não menciona departamentos.**"
   ]
  },
  {
   "cell_type": "markdown",
   "id": "92158903",
   "metadata": {},
   "source": [
    "### 14- Ao final do ciclo de um projeto, temos componentes. Que entidades estão diretamente relacionadas a eles?"
   ]
  },
  {
   "cell_type": "markdown",
   "id": "65aad5e0",
   "metadata": {},
   "source": [
    "* **R.:Colaboradores e Tarefas.**"
   ]
  },
  {
   "cell_type": "code",
   "execution_count": null,
   "id": "ae5329b2",
   "metadata": {},
   "outputs": [],
   "source": []
  }
 ],
 "metadata": {
  "kernelspec": {
   "display_name": "Python 3 (ipykernel)",
   "language": "python",
   "name": "python3"
  },
  "language_info": {
   "codemirror_mode": {
    "name": "ipython",
    "version": 3
   },
   "file_extension": ".py",
   "mimetype": "text/x-python",
   "name": "python",
   "nbconvert_exporter": "python",
   "pygments_lexer": "ipython3",
   "version": "3.9.12"
  }
 },
 "nbformat": 4,
 "nbformat_minor": 5
}
