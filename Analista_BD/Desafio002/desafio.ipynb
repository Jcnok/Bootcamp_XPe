{
 "cells": [
  {
   "cell_type": "markdown",
   "id": "1674ad4c",
   "metadata": {},
   "source": [
    "# Bootcamp: Analista de Banco de Dados  - Desafio do Módulo 2"
   ]
  },
  {
   "cell_type": "markdown",
   "id": "9b834d99",
   "metadata": {},
   "source": [
    "<img src=\"./xpe.png\" align='left' alt=\"drawing\" width=\"150\" heigth=\"150\"/>"
   ]
  },
  {
   "cell_type": "markdown",
   "id": "299d1ec5",
   "metadata": {},
   "source": [
    "<img src=\"./bd.jpg\" align='center' alt=\"drawing\" width=\"300\" heigth=\"300\"/>"
   ]
  },
  {
   "cell_type": "markdown",
   "id": "e61afc30",
   "metadata": {},
   "source": [
    "## Objetivos de Ensino\n",
    "\n",
    "### Exercitar os seguintes conceitos trabalhados no Módulo:\n",
    "\n"
   ]
  },
  {
   "cell_type": "markdown",
   "id": "c71a26c3",
   "metadata": {},
   "source": [
    "* **1. Modelo de dados relacional.**\n",
    "* **2. Banco de dados relacional.**\n",
    "* **3. Instruções da classe DDL para a criação de estruturas de dados.**\n",
    "* **4. Instruções da classe DML para consultar, inserir, excluir e atualizar dados;**\n",
    "* **5. Instruções da classe TCL para controlar transações;**\n",
    "* **6. Instruções da classe DCL para conceder e revogar privilégios.**"
   ]
  },
  {
   "cell_type": "markdown",
   "id": "d8eaf957",
   "metadata": {},
   "source": [
    "## Enunciado:\n"
   ]
  },
  {
   "cell_type": "markdown",
   "id": "b5c83a8c",
   "metadata": {},
   "source": [
    "**A XPE inaugurará, em breve, seu site de E-commerce para serviços\n",
    "educacionais e necessita de uma aplicação que permita o cadastramento de\n",
    "seus clientes e o controle dos serviços adquiridos por eles. A XPE trabalha\n",
    "com vários fornecedores (parceiros), que oferecem diversos tipos de serviços,\n",
    "como aulas particulares a distância, monitoria/tutoria/produção de conteúdo\n",
    "para cursos rápidos, bootcamps, cursos de graduação, MBAs etc., bem como\n",
    "consultoria para criação de conteúdo/produtos de ensino a distância. Um\n",
    "mesmo fornecedor pode oferecer mais de um tipo de serviço. Quando um\n",
    "cliente compra um serviço, é emitida uma nota de pedido relacionando todos\n",
    "os serviços (produtos) que envolveram a transação e a forma de pagamento\n",
    "selecionada pelo cliente.**\n",
    "* **Para esse sistema, foi desenvolvido, inicialmente, o modelo de dados físico relacional a seguir:**"
   ]
  },
  {
   "cell_type": "markdown",
   "id": "e1a4f3fa",
   "metadata": {},
   "source": [
    "![img](./eer.png)"
   ]
  },
  {
   "cell_type": "markdown",
   "id": "12e2a646",
   "metadata": {},
   "source": [
    "**A empresa lhe contratou como o(a) analista de banco de dados responsável\n",
    "por implementar e gerenciar esse modelo de dados, construir as queries\n",
    "demandadas pelos desenvolvedores e sanar as dúvidas da equipe do projeto\n",
    "referentes à Linguagem SQL.**"
   ]
  },
  {
   "cell_type": "markdown",
   "id": "e6e13d7b",
   "metadata": {},
   "source": [
    "<a name=\"ancora\"></a>\n",
    "### Os alunos deverão desempenhar as seguintes atividades:\n",
    "\n",
    "\n",
    "* ## [Atividades.](#ancora0)\n",
    "    * ### [Criar a conexão com o MySQL.](#ancora0.1)\n",
    "    * ### [1-Gerar o script DDL para criar, no SQL Server, as respectivas estruturas de dados no banco BDecommerce.](#ancora1)\n",
    "    * ### [2-Gerar o script DML para inserir dados fictícios em todas as tabelas do schema físico criado no item anterior.](#ancora2)\n",
    "    \n",
    "    * ### [3-Desenvolver uma query SQL para gerar uma lista única com os contatos(nome, endereço e telefone) de clientes e fornecedores, sem informações repetidas, ordenada alfabeticamente. Esse relatório deve conter as colunas com o label Nome da Pessoa, Endereço e Telefone.](#ancora3)\n",
    "    * ### [4-Depois que a tabela  FORMA_PAGAMENTO já estava populada, a empresa solicitou a inclusão de mais uma coluna (IND_STATUS char(1) NOT NULL) para indicar se a forma de pagamento está disponível (‘D’) ou indisponível (‘I’). Desenvolva o script para as duas formas existentes para se incluir essa nova coluna sem ter que recriar a tabela, e considerando que todas as formas de pagamento atuais da tabela estão disponíveis.](#ancora4)\n",
    "    * ### [5-A empresa solicitou que a coluna VLR_TOTAL_PEDIDO da tabela PEDIDO, que já se encontra populada, seja alterada para NOT NULL. Construa uma query DML com um SELECT para você executar previamente e verificar se o comando abaixo será concluído com sucesso ou não.](#ancora5)\n",
    "            * ALTER TABLE PEDIDO\n",
    "              ALTER COLUMN VLR_TOTAL_PEDIDO numeric (10,2) NOT NULL;\n",
    "    \n",
    "    * ### [6-Na consulta abaixo, criada por um desenvolvedor, ela deveria retornar 5 colunas, mas estão sendo retornadas 7 colunas. Foi solicitado que você corrija a query para apresentar as 5 colunas com os labels: COD_CLIENTE, NOME COMPLETO, CPF_CNPJ, DSC_ENDERECO_COBRANCA e AS CELULAR.](#ancora6)    \n",
    "            *   SELECT COD_CLIENTE, NOM_CLIENTE, 'NOME COMPLETO',\n",
    "                NUM_CPF_CNPJ CPF_CNPJ, DSC_ENDERECO_COBRANCA,\n",
    "                NUM_TELEFONE, ‘CELULAR’\n",
    "                FROM CLIENTE\n",
    "                ORDER BY NOM_CLIENTE\n",
    "                GO\n",
    "\n",
    "    * ### [7-A empresa que te contratou solicitou que você explique o motivo pelo qual a query abaixo (para retornar os pedidos dos clientes) está dando erro de execução, e reescreva-a de forma que ela possa ser executada com sucesso.](#ancora7)\n",
    "            *   SELECT C.NOM_CLIENTE AS \"NOME DO CLIENTE\", P.NUM_PEDIDO\n",
    "                PEDIDO, P.DAT_PEDIDO AS \"DATA DO PEDIDO\",\n",
    "                P.VLR_TOTAL_PEDIDO\n",
    "                FROM CLIENTE C JOIN PEDIDO P\n",
    "                ON C.COD_CLIENTE = P.COD_CLIENTE\n",
    "                WHERE YEAR (\"DATA DO PEDIDO\") = '2020'\n",
    "                ORDER BY \"NOME DO CLIENTE\";\n",
    "    * ### [8-A empresa solicitou que você providencie uma query para listar todos os serviços e os respectivos fornecedores, ordenando essa lista alfabeticamente pelo nome do fornecedor e descendentemente pelo valor do serviço. A lista deve possuir as colunas NOM_FORNECEDOR, NUM_TELEFONE, DSC_SERVICO, TIP_SERVICO e VLR_SERVICO. Foi solicitado também que a query use o padrão ANSI-92 para relacionar as tabelas.](#ancora8)\n",
    "    \n",
    "    * ### [9- A empresa irá fazer uma enxugada no portfólio atual, de forma que consiga oferecer novos serviços que estão sendo criados pelos fornecedores. Para isso, ela precisa que você elabore uma query que liste os serviços que nunca foram vendidos, ou que tiveram um total de vendas menor que 5 em 2019. O relatório precisa conter as colunas DSC_SERVICO, TIP_SERVICO, VLR_SERVICO e NOM_FORNECEDOR. Foi solicitado que a query, neste caso, use padrão ANSI-89 para relacionar as tabelas.](#ancora9)\n",
    "    \n",
    "    * ### [10-Devido a algum problema na aplicação, alguns pedidos estão sem o valor total do pedido (coluna VLR_TOTAL_PEDIDO da tabela PEDIDO está nula), ou com valor calculado erroneamente (deveria ser a soma de todos os valores, do mesmo pedido, da coluna VLR_TOTAL_ITEM da tabela ITEM_PEDIDO). A empresa solicita que você desenvolva uma query para listar os pedidos que estão com esse problema. A query deve retornar as colunas NUM_PEDIDO, DAT_PEDIDO e VLR_TOTAL_PEDIDO. A empresa também solicita que você escreva a query para atualizar a coluna VLR_TOTAL_PEDIDO de forma correta.](#ancora10)\n",
    "    \n",
    "    * ### [11-Foi identificado um problema no modelo de dados original, no qual a coluna NUM_CPF_CNPJ da tabela CLIENTE foi criada de forma a aceitar nulo. Com o intuito de verificar o tamanho do problema, a empresa solicitou a um de seus desenvolvedores que elaborasse uma query para listar o percentual de clientes cadastrados que estão sem essa informação. O desenvolvedor criou a query abaixo:](#ancora11)\n",
    "            * SELECT CAST\n",
    "            (\n",
    "            ( SELECT CAST(COUNT (NUM_CPF_CNPJ) AS numeric (3,2))\n",
    "            FROM CLIENTE WHERE NUM_CPF_CNPJ IS NULL\n",
    "            )\n",
    "            /\n",
    "            ( SELECT CAST(COUNT (NUM_CPF_CNPJ) AS numeric (3,2))\n",
    "            FROM CLIENTE\n",
    "            ) * 100 AS int\n",
    "            ) AS \"Percentual de Clientes sem Informação de Documento\"\n",
    "            A empresa constatou que não há nenhum erro de sintaxe na query, mas\n",
    "            solicitou sua consultoria para informar se a query calculará o percentual\n",
    "            de clientes cadastrados sem CPF/CNPJ de forma correta. Em caso\n",
    "            negativo, ela solicita que você forneça a query com o ajuste necessário.\n",
    "    \n",
    "    * ### [12-.Foi feita uma regulamentação nova para sistemas de venda de serviços on-line, onde todas as informações disponibilizadas para os clientes no site devem ser exibidas em letras MAIÚSCULAS. A alteração na camada da aplicação para os novos dados serem inseridos já foi feita, mas é preciso tratar o backlog das informações que já se encontravam persistidas no banco de dados. De acordo com o modelo de dados, existem 7 colunas do tipo string que precisam ter os dados alterados para maiúsculo. O desenvolvedor informou que seriam necessários 7 comandos DML para fazer essa alteração, mas você disse que consegue otimizar para fazer com 4 comandos. Quais seriam esses 4 comandos?](#ancora12)\n",
    "    \n",
    "    * ### [13-A empresa precisará de um relatório que liste a quantidade de itens vendidos mensalmente e o valor total desses itens por fornecedor, no ano corrente. Todos os fornecedores devem estar listados, mesmo se ainda não tiver nenhum produto vendido. Selecione as instruções abaixo que serão necessárias para essa query e coloque-as na devida ordem.](#ancora13)\n",
    "            * GROUP BY F.NOM_FORNECEDOR, P.DAT_PEDIDO\n",
    "             SELECT F.NOM_FORNECEDOR, MONTH(P.DAT_PEDIDO) AS MÊS,\n",
    "             SUM(I.QTD_SERVICO) AS \"TOTAL DE ITENS\",\n",
    "             LEFT JOIN SERVICO S\n",
    "             GROUP BY F.NOM_FORNECEDOR\n",
    "             FROM FORNECEDOR F\n",
    "             COUNT(I.QTD_SERVICO) AS \"TOTAL DE ITENS\",\n",
    "             ON I.NUM_PEDIDO = P.NUM_PEDIDO\n",
    "             INNER JOIN SERVICO S\n",
    "             ORDER BY F.NOM_FORNECEDOR\n",
    "             GROUP BY F.NOM_FORNECEDOR, MONTH (P.DAT_PEDIDO)\n",
    "             JOIN ITEM_PEDIDO I\n",
    "             ON S.COD_SERVICO = I.COD_SERVICO\n",
    "             SUM(I.VLR_TOTAL_ITEM) AS \"VALOR TOTAL\"\n",
    "             ON F.COD_FORNECEDOR = S.COD_FORNECEDOR\n",
    "             JOIN PEDIDO P\n",
    "             RIGHT JOIN PEDIDO P\n",
    "             WHERE YEAR(P.DAT_PEDIDO) = YEAR(GETDATE())\n",
    "             HAVING YEAR(P.DAT_PEDIDO) = YEAR(GETDATE())\n",
    "    \n",
    "    * ### [14-Para retornar a lista de clientes que não fizeram pedidos, foi construída a query abaixo.](#ancora14)       \n",
    "          * SELECT NOM_CLIENTE, NUM_TELEFONE\n",
    "            FROM CLIENTE\n",
    "            WHERE COD_CLIENTE NOT IN (SELECT COD_CLIENTE FROM PEDIDO)\n",
    "            ORDER BY NOM_CLIENTE;                \n",
    "            A empresa solicita sua consultoria para informar se a query em questão\n",
    "            atende ao requisito (listar clientes que não fizeram pedidos), se há uma\n",
    "            forma mais otimizada de obter o mesmo resultado e qual seria essa query.        \n",
    "        \n",
    "    * ### [15-Foi encontrada a query abaixo no código da aplicação e a empresa está solicitando sua ajuda para identificar o que essa query faz. Em adição, informe uma query mais otimizada para atingir o mesmo resultado,sem utilizar uma subconsulta correlacionada ou multivalorada.](#ancora15)\n",
    "          * SELECT C.NOM_CLIENTE, C.NUM_TELEFONE\n",
    "            FROM CLIENTE C\n",
    "            WHERE EXISTS (\n",
    "            SELECT P.COD_CLIENTE\n",
    "            FROM PEDIDO P\n",
    "            WHERE P.COD_CLIENTE = C.COD_CLIENTE\n",
    "            )\n",
    "            ORDER BY C.NOM_CLIENTE;\n",
    "            A empresa solicitou que você elabore uma query para gerar uma cópia dos\n",
    "            dados da tabela ITEM_PEDIDO. Essa tabela com a cópia dos dados deve se\n",
    "            chamar TMP_ITEM_PEDIDO.\n",
    "                    \n",
    "    * ### [16-A empresa solicitou que você elabore uma query para excluir os clientes que estão cadastrados no banco de dados, mas que não fizeram nenhum pedido.](#ancora16)\n",
    "    \n",
    "    * ### [17. Foi solicitado que você gere uma query para inserir os dados abaixo na tabela FORMA_PAGAMENTO, que funcione independentemente da ordem que as colunas foram criadas.](#ancora17)\n",
    "    ![img](./tab.png)\n",
    "    \n",
    "    * ### [18-Dado o código abaixo:](#ancora18)\n",
    "          *  BEGIN TRANSACTION Transacao1\n",
    "            INSERT INTO FORMA_PAGAMENTO\n",
    "            (COD_FORMA_PAGAMENTO, DSC_FORMA_PAGAMENTO)\n",
    "            VALUES (1, 'CARTÃO DE DÉBITO');\n",
    "            BEGIN TRANSACTION Transacao2\n",
    "            INSERT INTO FORMA_PAGAMENTO\n",
    "            (COD_FORMA_PAGAMENTO, DSC_FORMA_PAGAMENTO)\n",
    "            VALUES (2, 'CARTÃO DE CRÉDITO');\n",
    "            SELECT * FROM FORMA_PAGAMENTO ORDER BY 1;\n",
    "            COMMIT TRANSACTION Transacao2\n",
    "            INSERT INTO FORMA_PAGAMENTO\n",
    "            (COD_FORMA_PAGAMENTO, DSC_FORMA_PAGAMENTO)\n",
    "            VALUES (3, 'BOLETO');\n",
    "            SELECT @@TRANCOUNT AS 'PRIMEIRA CONTAGEM';\n",
    "            SELECT *\n",
    "            FROM FORMA_PAGAMENTO\n",
    "            ORDER BY DSC_FORMA_PAGAMENTO;\n",
    "            COMMIT TRANSACTION Transacao1\n",
    "            INSERT INTO FORMA_PAGAMENTO\n",
    "            (COD_FORMA_PAGAMENTO, DSC_FORMA_PAGAMENTO)\n",
    "            VALUES (4, 'FATURA');\n",
    "            SELECT @@TRANCOUNT AS 'SEGUNDA CONTAGEM';\n",
    "            SELECT * FROM FORMA_PAGAMENTO;\n",
    "            **Informe quais os dados serão retornados para cada um dos comandos**\n",
    "            SELECT executados dentro da query acima:\n",
    "            • SELECT * FROM FORMA_PAGAMENTO ORDER BY 1 \n",
    "            • SELECT @@TRANCOUNT AS 'PRIMEIRA CONTAGEM' \n",
    "            • SELECT * FROM FORMA_PAGAMENTO\n",
    "            o ORDER BY DSC_FORMA_PAGAMENTO\n",
    "            • SELECT @@TRANCOUNT AS 'SEGUNDA CONTAGEM' \n",
    "            • SELECT * FROM FORMA_PAGAMENTO \n",
    "            \n",
    "    * ### [19-Após a execução do bloco SQL abaixo, quantas linhas de fato serão inseridas na tabela FORMA_PAGAMENTO?](#ancora19)\n",
    "            *  BEGIN TRANSACTION Transacao1\n",
    "            INSERT INTO FORMA_PAGAMENTO\n",
    "            (COD_FORMA_PAGAMENTO, DSC_FORMA_PAGAMENTO)\n",
    "            VALUES (199, 'CARTÃO DE DÉBITO');\n",
    "            BEGIN TRANSACTION Transacao2\n",
    "            INSERT INTO FORMA_PAGAMENTO\n",
    "            (COD_FORMA_PAGAMENTO, DSC_FORMA_PAGAMENTO)\n",
    "            VALUES (299, 'CARTÃO DE CRÉDITO');\n",
    "            COMMIT TRANSACTION Transacao2\n",
    "            INSERT INTO FORMA_PAGAMENTO\n",
    "            (COD_FORMA_PAGAMENTO, DSC_FORMA_PAGAMENTO)\n",
    "            VALUES (399, 'BOLETO');\n",
    "            ROLLBACK\n",
    "            COMMIT TRANSACTION Transacao1\n",
    "            INSERT INTO FORMA_PAGAMENTO\n",
    "            (COD_FORMA_PAGAMENTO, DSC_FORMA_PAGAMENTO)\n",
    "            VALUES (499, 'FATURA')\n",
    "            \n",
    "    * ### [20-Foi solicitada a você a criação de um objeto de código compilado (uma procedure) para fazer a inserção de dados na tabela CLIENTE de forma que os dados sejam passados como parâmetros. Forneça o código DDL para a criação dessa procedure, de nome SP_INSERE_CLIENTE, e o exemplo de execução dela.](#ancora20)    \n",
    "    \n",
    "    * ### [21..A empresa solicitou que você construa o script DCL de forma que o usuário da aplicação de nome UserApp tenha permissão para selecionar, inserir, atualizar e excluir dados de todas as tabelas, mas não tenha permissão de inserção direta na tabela CLIENTE (para inserir dados de cliente, o usuário deverá usar uma procedure, de nome SP_INSERE_CLIENTE). Forneça os comandos que devem estar nesse script DCL.](#ancora21)\n",
    "    \n",
    "    "
   ]
  },
  {
   "cell_type": "markdown",
   "id": "46867430",
   "metadata": {
    "heading_collapsed": true
   },
   "source": [
    "## Contexto.\n",
    "<a id=\"ancora1\"></a>\n",
    "[voltar](#ancora)."
   ]
  },
  {
   "cell_type": "markdown",
   "id": "eca68dfb",
   "metadata": {
    "hidden": true
   },
   "source": [
    "* As tabelas Titulo e Titulo_Detalhe permitem armazenar informações básicas e técnicas sobre as produções, enquanto as tabelas Avaliacao, Direcao, Autoria e Elenco permitem armazenar informações específicas sobre os aspectos críticos, direção e elenco de cada produção.\n",
    "* A tabela Pessoa é importante para garantir a integridade dos dados, pois permite que todas as pessoas envolvidas na produção sejam identificadas de maneira única.\n",
    "* Além disso, é importante estabelecer relações adequadas entre as tabelas para garantir a integridade dos dados e a consistência do modelo de dados. Por exemplo, a tabela Direcao deve ter uma relação com a tabela Titulo para indicar quais diretores estão associados a quais produções, e a tabela Pessoa deve ter uma relação com as tabelas Direcao, Autoria e Elenco para identificar as pessoas envolvidas na produção."
   ]
  },
  {
   "cell_type": "markdown",
   "id": "cd726b09",
   "metadata": {},
   "source": [
    "## Atividades:\n",
    "<a id=\"ancora3\"></a>\n",
    "[voltar](#ancora)."
   ]
  },
  {
   "cell_type": "markdown",
   "id": "6b22ffd5",
   "metadata": {},
   "source": [
    "###  **Criar a conexão com o MySQL.**  \n",
    "<a id=\"ancora0.1\"></a>\n",
    "[voltar](#ancora)."
   ]
  },
  {
   "cell_type": "code",
   "execution_count": 1,
   "id": "78afe5ec",
   "metadata": {},
   "outputs": [],
   "source": [
    "#importação das bibliotecas para conexão 1\n",
    "import mysql.connector\n",
    "import pandas as pd\n",
    "import warnings\n",
    "warnings.filterwarnings('ignore')"
   ]
  },
  {
   "cell_type": "markdown",
   "id": "f9a448a3",
   "metadata": {
    "heading_collapsed": true
   },
   "source": [
    "###  **1.Solução .**\n",
    "<a id=\"ancora1\"></a>\n",
    "[voltar](#ancora)."
   ]
  },
  {
   "cell_type": "code",
   "execution_count": null,
   "id": "5ffe1986",
   "metadata": {
    "hidden": true
   },
   "outputs": [],
   "source": [
    "# Excluír o banco de dados.\n",
    "drop_bd='''\n",
    "DROP DATABASE e-commerce-xpe;'''\n",
    "cursor.execute(drop_bd)\n",
    "cursor.execute('SHOW databases')\n",
    "for i in cursor:\n",
    "    if 'bdproducoes' in i:\n",
    "        print(i)"
   ]
  },
  {
   "cell_type": "code",
   "execution_count": 4,
   "id": "18dcbce0",
   "metadata": {
    "hidden": true
   },
   "outputs": [
    {
     "name": "stdout",
     "output_type": "stream",
     "text": [
      "('e-commerce-xpe',)\n"
     ]
    }
   ],
   "source": [
    "# Criando o banco de dados e-commerce-xpe e conferindo se o bd foi criado;\n",
    "criar='''CREATE SCHEMA IF NOT EXISTS `e-commerce-xpe` ;'''\n",
    "con = mysql.connector.connect(host='localhost',user='julio',password='')\n",
    "cursor = con.cursor()\n",
    "cursor.execute(criar)\n",
    "cursor.execute('SHOW databases')\n",
    "for i in cursor:\n",
    "    if 'e-commerce-xpe' in i:\n",
    "        print(i)"
   ]
  },
  {
   "cell_type": "code",
   "execution_count": 5,
   "id": "546e1161",
   "metadata": {
    "hidden": true
   },
   "outputs": [],
   "source": [
    "# Conectando ao database e-commerce-xpe recém criada\n",
    "con = mysql.connector.connect(host='localhost',database='e-commerce-xpe',user='julio',password='')\n",
    "cursor = con.cursor()"
   ]
  },
  {
   "cell_type": "markdown",
   "id": "ba9b6f03",
   "metadata": {
    "heading_collapsed": true,
    "hidden": true
   },
   "source": [
    "#### CRIANDO A TABELA CLIENTE"
   ]
  },
  {
   "cell_type": "code",
   "execution_count": 6,
   "id": "d9a53ec6",
   "metadata": {
    "hidden": true
   },
   "outputs": [
    {
     "name": "stdout",
     "output_type": "stream",
     "text": [
      "('cliente',)\n"
     ]
    }
   ],
   "source": [
    "# Criando a tabela de CLIENTE;\n",
    "criar='''\n",
    "CREATE TABLE IF NOT EXISTS CLIENTE (\n",
    "  COD_CLIENTE INT NOT NULL,\n",
    "  NOM_CLIENTE VARCHAR(100) NOT NULL,\n",
    "  NUM_CPF_CNPJ DECIMAL(15) NULL,\n",
    "  DSC_ENDERECO_COBRANCA VARCHAR(1000) NOT NULL,\n",
    "  NUM_TELEFONE DECIMAL(14) NOT NULL,\n",
    "  PRIMARY KEY (COD_CLIENTE))\n",
    "ENGINE = InnoDB;\n",
    "'''\n",
    "cursor.execute(criar)\n",
    "cursor.execute('SHOW tables')\n",
    "for i in cursor:\n",
    "  print(i)"
   ]
  },
  {
   "cell_type": "markdown",
   "id": "660daa30",
   "metadata": {
    "heading_collapsed": true,
    "hidden": true
   },
   "source": [
    "#### CRIANDO A TABELA FORMA_PAGAMENTO"
   ]
  },
  {
   "cell_type": "code",
   "execution_count": 7,
   "id": "26388ac3",
   "metadata": {
    "hidden": true
   },
   "outputs": [
    {
     "name": "stdout",
     "output_type": "stream",
     "text": [
      "('cliente',)\n",
      "('forma_pagamento',)\n"
     ]
    }
   ],
   "source": [
    "# Criando a tabela de FORMA_PAGAMENTO;\n",
    "criar='''\n",
    "CREATE TABLE IF NOT EXISTS FORMA_PAGAMENTO (\n",
    "  COD_FORMA_PAGAMENTO INT NOT NULL,\n",
    "  DSC_FORMA_PAGAMENTO VARCHAR(100) NOT NULL,\n",
    "  PRIMARY KEY (COD_FORMA_PAGAMENTO))\n",
    "ENGINE = InnoDB;\n",
    "'''\n",
    "cursor.execute(criar)\n",
    "cursor.execute('SHOW tables')\n",
    "for i in cursor:\n",
    "  print(i)"
   ]
  },
  {
   "cell_type": "markdown",
   "id": "a217df98",
   "metadata": {
    "heading_collapsed": true,
    "hidden": true
   },
   "source": [
    "#### CRIANDO A TABELA PEDIDO"
   ]
  },
  {
   "cell_type": "code",
   "execution_count": 11,
   "id": "30d7d402",
   "metadata": {
    "hidden": true
   },
   "outputs": [
    {
     "name": "stdout",
     "output_type": "stream",
     "text": [
      "('cliente',)\n",
      "('forma_pagamento',)\n",
      "('pedido',)\n"
     ]
    }
   ],
   "source": [
    "# Criando a tabela de PEDIDO;\n",
    "criar='''\n",
    "CREATE TABLE IF NOT EXISTS PEDIDO (\n",
    "  NUM_PEDIDO VARCHAR(45) NOT NULL,\n",
    "  COD_CLIENTE_FK INT NOT NULL,\n",
    "  DAT_PEDIDO DATE NOT NULL,\n",
    "  VLR_TOTAL_PEDIDO DECIMAL(10,2) NULL,\n",
    "  COD_FORMA_PAGAMENTO_FK INT NOT NULL,\n",
    "  PRIMARY KEY (NUM_PEDIDO),  \n",
    "  CONSTRAINT fk_PEDIDO_CLIENTE\n",
    "  FOREIGN KEY (COD_CLIENTE_FK)\n",
    "    REFERENCES CLIENTE (COD_CLIENTE),    \n",
    "  CONSTRAINT fk_PEDIDO_FORMA_PAGAMENTO\n",
    "    FOREIGN KEY (COD_FORMA_PAGAMENTO_FK)\n",
    "    REFERENCES FORMA_PAGAMENTO (COD_FORMA_PAGAMENTO))    \n",
    "ENGINE = InnoDB;'''\n",
    "cursor.execute(criar)\n",
    "cursor.execute('SHOW tables')\n",
    "for i in cursor:\n",
    "  print(i)"
   ]
  },
  {
   "cell_type": "markdown",
   "id": "68f65bd9",
   "metadata": {
    "heading_collapsed": true,
    "hidden": true
   },
   "source": [
    "#### CRIANDO A TABELA FORNECEDOR"
   ]
  },
  {
   "cell_type": "code",
   "execution_count": 12,
   "id": "68588d50",
   "metadata": {
    "hidden": true
   },
   "outputs": [
    {
     "name": "stdout",
     "output_type": "stream",
     "text": [
      "('cliente',)\n",
      "('forma_pagamento',)\n",
      "('fornecedor',)\n",
      "('pedido',)\n"
     ]
    }
   ],
   "source": [
    "# Criando a tabela de FORNCECEDOR;\n",
    "criar='''\n",
    "CREATE TABLE IF NOT EXISTS FORNECEDOR (\n",
    "  COD_FORNECEDOR INT NOT NULL,\n",
    "  NOM_FORNECEDOR VARCHAR(100) NOT NULL,\n",
    "  NUM_CNPJ DECIMAL(15) NULL,\n",
    "  DSC_ENDERECO VARCHAR(1000) NOT NULL,\n",
    "  NUM_TELEFONE DECIMAL(14) NOT NULL,\n",
    "  PRIMARY KEY (COD_FORNECEDOR))\n",
    "ENGINE = InnoDB;\n",
    "'''\n",
    "cursor.execute(criar)\n",
    "cursor.execute('SHOW tables')\n",
    "for i in cursor:\n",
    "  print(i)"
   ]
  },
  {
   "cell_type": "markdown",
   "id": "d85c5e3d",
   "metadata": {
    "heading_collapsed": true,
    "hidden": true
   },
   "source": [
    "#### CRIANDO A TABELA SERVICO"
   ]
  },
  {
   "cell_type": "code",
   "execution_count": 13,
   "id": "020b7748",
   "metadata": {
    "hidden": true
   },
   "outputs": [
    {
     "name": "stdout",
     "output_type": "stream",
     "text": [
      "('cliente',)\n",
      "('forma_pagamento',)\n",
      "('fornecedor',)\n",
      "('pedido',)\n",
      "('servico',)\n"
     ]
    }
   ],
   "source": [
    "# Criando a tabela de SERVICO;\n",
    "criar='''\n",
    "CREATE TABLE IF NOT EXISTS SERVICO (\n",
    "  COD_SERVICO INT NOT NULL,\n",
    "  COD_FORNECEDOR_FK INT NOT NULL,\n",
    "  DSC_SERVICO VARCHAR(500) NOT NULL,\n",
    "  TIP_SERVICO VARCHAR(50) NOT NULL,\n",
    "  VLR_SERVICO DECIMAL(10,2) NOT NULL,\n",
    "  PRIMARY KEY (COD_SERVICO),  \n",
    "  CONSTRAINT fk_SERVICO_FORNECEDOR\n",
    "    FOREIGN KEY (COD_FORNECEDOR_FK)\n",
    "    REFERENCES FORNECEDOR (COD_FORNECEDOR))\n",
    "ENGINE = InnoDB;\n",
    "'''\n",
    "cursor.execute(criar)\n",
    "cursor.execute('SHOW tables')\n",
    "for i in cursor:\n",
    "  print(i)"
   ]
  },
  {
   "cell_type": "markdown",
   "id": "6e8927a2",
   "metadata": {
    "heading_collapsed": true,
    "hidden": true
   },
   "source": [
    "#### CRIANDO A TABELA ITEM_PEDIDO"
   ]
  },
  {
   "cell_type": "code",
   "execution_count": 16,
   "id": "ee6fbba6",
   "metadata": {
    "hidden": true
   },
   "outputs": [
    {
     "name": "stdout",
     "output_type": "stream",
     "text": [
      "('cliente',)\n",
      "('forma_pagamento',)\n",
      "('fornecedor',)\n",
      "('item_pedido',)\n",
      "('pedido',)\n",
      "('servico',)\n"
     ]
    }
   ],
   "source": [
    "# Criando a tabela de ITEM_PEDIDO;\n",
    "criar='''\n",
    "CREATE TABLE IF NOT EXISTS ITEM_PEDIDO (\n",
    "  NUM_PEDIDO_FK VARCHAR(45) NOT NULL,\n",
    "  COD_ITEM_PEDIDO INT NOT NULL,\n",
    "  COD_SERVICO_FK INT NOT NULL,\n",
    "  QTD_SERVICO DECIMAL(2) NOT NULL,\n",
    "  VLR_TOTAL_ITEM DECIMAL(10,2) NOT NULL,\n",
    "  PRIMARY KEY (NUM_PEDIDO_FK, COD_ITEM_PEDIDO),  \n",
    "  CONSTRAINT fk_ITEM_PEDIDO_SERVICO\n",
    "    FOREIGN KEY (COD_SERVICO_FK)\n",
    "    REFERENCES SERVICO (COD_SERVICO),    \n",
    "  CONSTRAINT fk_ITEM_PEDIDO_PEDIDO\n",
    "    FOREIGN KEY (NUM_PEDIDO_FK)\n",
    "    REFERENCES PEDIDO (NUM_PEDIDO))\n",
    "ENGINE = InnoDB;\n",
    "'''\n",
    "cursor.execute(criar)\n",
    "cursor.execute('SHOW tables')\n",
    "for i in cursor:\n",
    "  print(i)"
   ]
  },
  {
   "cell_type": "markdown",
   "id": "a3139b41",
   "metadata": {},
   "source": [
    "###  **2.Solução .**\n",
    "<a id=\"ancora2\"></a>\n",
    "[voltar](#ancora)."
   ]
  },
  {
   "cell_type": "markdown",
   "id": "060f962c",
   "metadata": {},
   "source": [
    "#### Criando a tabela de Pessoa;"
   ]
  },
  {
   "cell_type": "code",
   "execution_count": 26,
   "id": "19d70046",
   "metadata": {},
   "outputs": [
    {
     "name": "stdout",
     "output_type": "stream",
     "text": [
      "('pessoa',)\n"
     ]
    }
   ],
   "source": [
    "# Criando a tabela de Pessoa;\n",
    "criar='''\n",
    "CREATE TABLE IF NOT EXISTS Pessoa (\n",
    "  cod_pessoa INT PRIMARY KEY,\n",
    "  nom_pessoa VARCHAR(500) NOT NULL,\n",
    "  ano_nascimento INT NULL,\n",
    "  ano_falescimento INT NULL,\n",
    "  dsc_profissao VARCHAR(1000) NULL\n",
    ");'''\n",
    "cursor.execute(criar)\n",
    "cursor.execute('SHOW tables')\n",
    "for i in cursor:\n",
    "  print(i)"
   ]
  },
  {
   "cell_type": "markdown",
   "id": "6692c4aa",
   "metadata": {},
   "source": [
    "#### Criando a tabela de Titulo;"
   ]
  },
  {
   "cell_type": "code",
   "execution_count": 27,
   "id": "ee438514",
   "metadata": {},
   "outputs": [
    {
     "name": "stdout",
     "output_type": "stream",
     "text": [
      "('pessoa',)\n",
      "('titulo',)\n"
     ]
    }
   ],
   "source": [
    "#Criando a tabela de Titulo;\n",
    "criar='''\n",
    "CREATE TABLE IF NOT EXISTS Titulo (\n",
    "  cod_titulo INT NOT NULL PRIMARY KEY,\n",
    "  nom_titulo VARCHAR(1000) NULL  \n",
    ");'''\n",
    "cursor.execute(criar)\n",
    "cursor.execute('SHOW tables')\n",
    "for i in cursor:\n",
    "  print(i)"
   ]
  },
  {
   "cell_type": "markdown",
   "id": "31a03b4a",
   "metadata": {},
   "source": [
    "#### Criando a tabela de Direção;"
   ]
  },
  {
   "cell_type": "code",
   "execution_count": 28,
   "id": "886286f1",
   "metadata": {},
   "outputs": [
    {
     "name": "stdout",
     "output_type": "stream",
     "text": [
      "('direcao',)\n",
      "('pessoa',)\n",
      "('titulo',)\n"
     ]
    }
   ],
   "source": [
    "#Criando a tabela de Direcao;\n",
    "criar='''\n",
    "CREATE TABLE IF NOT EXISTS Direcao (\n",
    "  cod_direcao INT PRIMARY KEY AUTO_INCREMENT,\n",
    "  cod_titulo INT NOT NULL,\n",
    "  cod_pessoa INT NOT NULL,\n",
    "  FOREIGN KEY (cod_pessoa) REFERENCES Pessoa(cod_pessoa),\n",
    "  FOREIGN KEY (cod_titulo) REFERENCES Titulo(cod_titulo)\n",
    ");'''\n",
    "cursor.execute(criar)\n",
    "cursor.execute('SHOW tables')\n",
    "for i in cursor:\n",
    "  print(i)"
   ]
  },
  {
   "cell_type": "markdown",
   "id": "f719cb2c",
   "metadata": {},
   "source": [
    "#### Criando a tabela de Titulo_Detalhe;"
   ]
  },
  {
   "cell_type": "code",
   "execution_count": 29,
   "id": "51c31705",
   "metadata": {},
   "outputs": [
    {
     "name": "stdout",
     "output_type": "stream",
     "text": [
      "('direcao',)\n",
      "('pessoa',)\n",
      "('titulo',)\n",
      "('titulo_detalhe',)\n"
     ]
    }
   ],
   "source": [
    "#Criando a tabela de Titulo_Detalhe;\n",
    "criar='''\n",
    "CREATE TABLE IF NOT EXISTS Titulo_Detalhe (\n",
    "  cod_titulo INT NOT NULL,\n",
    "  tip_titulo VARCHAR(100) NOT NULL,\n",
    "  nom_principal_titulo VARCHAR(1000) NOT NULL,\n",
    "  nom_original_titulo VARCHAR(1000) NOT NULL,\n",
    "  ind_adulto BIT NOT NULL,\n",
    "  ano_lancamento INT NOT NULL,\n",
    "  qtd_minutos SMALLINT NULL,\n",
    "  dsc_genero VARCHAR(1000) NULL,\n",
    "  genero VARCHAR(50) NOT NULL,\n",
    "  FOREIGN KEY (cod_titulo) REFERENCES Titulo(cod_titulo)\n",
    ");'''\n",
    "cursor.execute(criar)\n",
    "cursor.execute('SHOW tables')\n",
    "for i in cursor:\n",
    "  print(i)"
   ]
  },
  {
   "cell_type": "markdown",
   "id": "cd94dc37",
   "metadata": {
    "heading_collapsed": true
   },
   "source": [
    "#### Criando a tabela de Elenco;"
   ]
  },
  {
   "cell_type": "code",
   "execution_count": 30,
   "id": "f9c75e94",
   "metadata": {
    "hidden": true
   },
   "outputs": [
    {
     "name": "stdout",
     "output_type": "stream",
     "text": [
      "('direcao',)\n",
      "('elenco',)\n",
      "('pessoa',)\n",
      "('titulo',)\n",
      "('titulo_detalhe',)\n"
     ]
    }
   ],
   "source": [
    "#Criando a tabela de Elenco;\n",
    "criar='''\n",
    "CREATE TABLE IF NOT EXISTS Elenco (\n",
    "  cod_elenco INT PRIMARY KEY AUTO_INCREMENT,\n",
    "  cod_titulo INT NOT NULL,\n",
    "  cod_pessoa INT NOT NULL,\n",
    "  dsc_funcao VARCHAR(1000) NOT NULL,\n",
    "  dsc_personagem VARCHAR(1000) NOT NULL,\n",
    "  FOREIGN KEY (cod_titulo) REFERENCES Titulo(cod_titulo),\n",
    "  FOREIGN KEY (cod_pessoa) REFERENCES Pessoa(cod_pessoa)\n",
    ");'''\n",
    "cursor.execute(criar)\n",
    "cursor.execute('SHOW tables')\n",
    "for i in cursor:\n",
    "  print(i)"
   ]
  },
  {
   "cell_type": "markdown",
   "id": "c096026e",
   "metadata": {
    "heading_collapsed": true
   },
   "source": [
    "#### Criando a tabela de Autoria;"
   ]
  },
  {
   "cell_type": "code",
   "execution_count": 31,
   "id": "928a2676",
   "metadata": {
    "hidden": true
   },
   "outputs": [
    {
     "name": "stdout",
     "output_type": "stream",
     "text": [
      "('autoria',)\n",
      "('direcao',)\n",
      "('elenco',)\n",
      "('pessoa',)\n",
      "('titulo',)\n",
      "('titulo_detalhe',)\n"
     ]
    }
   ],
   "source": [
    "#Criando a tabela de Autoria;\n",
    "criar='''\n",
    "CREATE TABLE IF NOT EXISTS Autoria (\n",
    "  cod_autoria INT PRIMARY KEY AUTO_INCREMENT,\n",
    "  cod_titulo INT NOT NULL,\n",
    "  cod_pessoa INT NOT NULL,\n",
    "  FOREIGN KEY (cod_titulo) REFERENCES Titulo(cod_titulo),\n",
    "  FOREIGN KEY (cod_pessoa) REFERENCES Pessoa(cod_pessoa)\n",
    ");'''\n",
    "cursor.execute(criar)\n",
    "cursor.execute('SHOW tables')\n",
    "for i in cursor:\n",
    "  print(i)"
   ]
  },
  {
   "cell_type": "markdown",
   "id": "da95a0b8",
   "metadata": {
    "heading_collapsed": true
   },
   "source": [
    "#### Criando a tabela de Avaliacao;"
   ]
  },
  {
   "cell_type": "code",
   "execution_count": 32,
   "id": "290b5a81",
   "metadata": {
    "hidden": true
   },
   "outputs": [
    {
     "name": "stdout",
     "output_type": "stream",
     "text": [
      "('autoria',)\n",
      "('avaliacao',)\n",
      "('direcao',)\n",
      "('elenco',)\n",
      "('pessoa',)\n",
      "('titulo',)\n",
      "('titulo_detalhe',)\n"
     ]
    }
   ],
   "source": [
    "#Criando a tabela de Avaliacao;\n",
    "criar='''\n",
    "CREATE TABLE IF NOT EXISTS Avaliacao (\n",
    "  cod_titulo INT NOT NULL,\n",
    "  classificacao_media INT NOT NULL,\n",
    "  qtd_votos INT NOT NULL,\n",
    "  FOREIGN KEY (cod_titulo) REFERENCES Titulo(cod_titulo)\n",
    ");'''\n",
    "cursor.execute(criar)\n",
    "cursor.execute('SHOW tables')\n",
    "for i in cursor:\n",
    "  print(i)"
   ]
  },
  {
   "cell_type": "markdown",
   "id": "3dac771f",
   "metadata": {
    "heading_collapsed": true
   },
   "source": [
    "###  **3.Solução.**\n",
    "<a id=\"ancora3\"></a>\n",
    "[voltar](#ancora)."
   ]
  },
  {
   "cell_type": "code",
   "execution_count": 33,
   "id": "8f39cd97",
   "metadata": {
    "hidden": true,
    "scrolled": true
   },
   "outputs": [
    {
     "name": "stdout",
     "output_type": "stream",
     "text": [
      "('cod_titulo', b'int', 'NO', bytearray(b'PRI'), None, '')\n",
      "('nom_titulo', b'varchar(1000)', 'NO', bytearray(b''), None, '')\n"
     ]
    }
   ],
   "source": [
    "# Alterando a tabela titulo;\n",
    "Altera='''\n",
    "ALTER TABLE titulo\n",
    "MODIFY COLUMN nom_titulo VARCHAR(1000) NOT NULL;'''\n",
    "cursor.execute(Altera)\n",
    "cursor.execute('desc titulo')\n",
    "for i in cursor:\n",
    "  print(i)"
   ]
  },
  {
   "cell_type": "markdown",
   "id": "7971ec4c",
   "metadata": {
    "heading_collapsed": true
   },
   "source": [
    "###  **4.Solução .**\n",
    "<a id=\"ancora4\"></a>\n",
    "[voltar](#ancora)."
   ]
  },
  {
   "cell_type": "code",
   "execution_count": 34,
   "id": "f928bace",
   "metadata": {
    "hidden": true
   },
   "outputs": [
    {
     "name": "stdout",
     "output_type": "stream",
     "text": [
      "('cod_pessoa', b'int', 'NO', bytearray(b'PRI'), None, '')\n",
      "('nom_pessoa', b'varchar(1000)', 'YES', bytearray(b''), None, '')\n",
      "('ano_nascimento', b'int', 'YES', bytearray(b''), None, '')\n",
      "('ano_falescimento', b'int', 'YES', bytearray(b''), None, '')\n",
      "('dsc_profissao', b'varchar(1000)', 'YES', bytearray(b''), None, '')\n"
     ]
    }
   ],
   "source": [
    "# Criando a tabela de Pessoa;\n",
    "Altera='''\n",
    "ALTER TABLE Pessoa\n",
    "MODIFY COLUMN nom_pessoa VARCHAR(1000);'''\n",
    "cursor.execute(Altera)\n",
    "cursor.execute('desc pessoa')\n",
    "for i in cursor:\n",
    "  print(i)"
   ]
  },
  {
   "cell_type": "markdown",
   "id": "1b495d26",
   "metadata": {
    "heading_collapsed": true
   },
   "source": [
    "###  **5.Solução .**\n",
    "<a id=\"ancora5\"></a>\n",
    "[voltar](#ancora)."
   ]
  },
  {
   "cell_type": "code",
   "execution_count": 35,
   "id": "68f44b40",
   "metadata": {
    "hidden": true
   },
   "outputs": [
    {
     "name": "stdout",
     "output_type": "stream",
     "text": [
      "('cod_titulo', b'int', 'NO', bytearray(b'PRI'), None, '')\n",
      "('nom_titulo', b'varchar(1000)', 'NO', bytearray(b''), None, '')\n",
      "('ind_status', b'char(1)', 'NO', bytearray(b''), b'A', '')\n"
     ]
    }
   ],
   "source": [
    "# Criando a tabela de Titulo;\n",
    "Altera='''\n",
    "ALTER TABLE titulo\n",
    "ADD COLUMN ind_status CHAR(1) NOT NULL DEFAULT 'A';'''\n",
    "cursor.execute(Altera)\n",
    "cursor.execute('desc titulo')\n",
    "for i in cursor:\n",
    "  print(i)"
   ]
  },
  {
   "cell_type": "markdown",
   "id": "3b84b9d2",
   "metadata": {
    "hidden": true
   },
   "source": [
    "**Nota: No exemplo acima, o valor padrão de ind_status é 'A', o que significa \"ativo\".**"
   ]
  },
  {
   "cell_type": "markdown",
   "id": "b5fbaa8b",
   "metadata": {
    "heading_collapsed": true
   },
   "source": [
    "###  **6.Solução .**\n",
    "<a id=\"ancora6\"></a>\n",
    "[voltar](#ancora)."
   ]
  },
  {
   "cell_type": "markdown",
   "id": "2548ab0e",
   "metadata": {
    "heading_collapsed": true,
    "hidden": true
   },
   "source": [
    "####  **Persistindo dados na tabela Pessoa.**\n",
    "<a id=\"ancora3.7.1\"></a>\n",
    "[voltar](#ancora)."
   ]
  },
  {
   "cell_type": "code",
   "execution_count": 69,
   "id": "39e41639",
   "metadata": {
    "hidden": true
   },
   "outputs": [],
   "source": [
    "cursor.execute('SET sql_mode = \"\" ') # necessário pois não estava aceitando carregar os valores em branco."
   ]
  },
  {
   "cell_type": "code",
   "execution_count": 70,
   "id": "35a7af09",
   "metadata": {
    "hidden": true
   },
   "outputs": [],
   "source": [
    "load = '''LOAD DATA INFILE 'C://ProgramData//MySQL//MySQL Server 8.0//Uploads//Pessoa.txt'\n",
    "                INTO TABLE pessoa \n",
    "                CHARACTER SET LATIN1\n",
    "                FIELDS TERMINATED BY '\\t'\n",
    "                LINES TERMINATED BY '\\r\\n';\n",
    "        '''\n",
    "# Consultando uma tabela.\n",
    "cursor = con.cursor()\n",
    "cursor.execute(load)"
   ]
  },
  {
   "cell_type": "code",
   "execution_count": 14,
   "id": "ef89142f",
   "metadata": {
    "hidden": true
   },
   "outputs": [
    {
     "name": "stdout",
     "output_type": "stream",
     "text": [
      "(1, 'Fred Astaire', 1899, 1987, 'soundtrack,actor,miscellaneous')\n",
      "(2, 'Lauren Bacall', 1924, 2014, 'actress,soundtrack')\n",
      "(3, 'Brigitte Bardot', 1934, 0, 'actress,soundtrack,producer')\n",
      "(4, 'John Belushi', 1949, 1982, 'actor,writer,soundtrack')\n",
      "(5, 'Ingmar Bergman', 1918, 2007, 'writer,director,actor')\n",
      "(6, 'Ingrid Bergman', 1915, 1982, 'actress,soundtrack,producer')\n",
      "(7, 'Humphrey Bogart', 1899, 1957, 'actor,soundtrack,producer')\n",
      "(8, 'Marlon Brando', 1924, 2004, 'actor,soundtrack,director')\n",
      "(9, 'Richard Burton', 1925, 1984, 'actor,producer,soundtrack')\n",
      "(10, 'James Cagney', 1899, 1986, 'actor,soundtrack,director')\n"
     ]
    }
   ],
   "source": [
    "# Consultando a tabela.\n",
    "cursor = con.cursor()\n",
    "cursor.execute('SELECT * FROM pessoa LIMIT 10')\n",
    "result = cursor.fetchall()\n",
    "for i in result:\n",
    "    print(i)"
   ]
  },
  {
   "cell_type": "code",
   "execution_count": 15,
   "id": "e28c6e32",
   "metadata": {
    "hidden": true
   },
   "outputs": [],
   "source": [
    "# Lib para visualizar as consultas em formato de dataframe.\n",
    "import pandas as pd"
   ]
  },
  {
   "cell_type": "code",
   "execution_count": 16,
   "id": "7aa2b63b",
   "metadata": {
    "hidden": true
   },
   "outputs": [
    {
     "data": {
      "text/html": [
       "<div>\n",
       "<style scoped>\n",
       "    .dataframe tbody tr th:only-of-type {\n",
       "        vertical-align: middle;\n",
       "    }\n",
       "\n",
       "    .dataframe tbody tr th {\n",
       "        vertical-align: top;\n",
       "    }\n",
       "\n",
       "    .dataframe thead th {\n",
       "        text-align: right;\n",
       "    }\n",
       "</style>\n",
       "<table border=\"1\" class=\"dataframe\">\n",
       "  <thead>\n",
       "    <tr style=\"text-align: right;\">\n",
       "      <th></th>\n",
       "      <th>cod_pessoa</th>\n",
       "      <th>nom_pessoa</th>\n",
       "      <th>ano_nascimento</th>\n",
       "      <th>ano_falescimento</th>\n",
       "      <th>dsc_profissao</th>\n",
       "    </tr>\n",
       "  </thead>\n",
       "  <tbody>\n",
       "    <tr>\n",
       "      <th>0</th>\n",
       "      <td>1</td>\n",
       "      <td>Fred Astaire</td>\n",
       "      <td>1899</td>\n",
       "      <td>1987</td>\n",
       "      <td>soundtrack,actor,miscellaneous</td>\n",
       "    </tr>\n",
       "    <tr>\n",
       "      <th>1</th>\n",
       "      <td>2</td>\n",
       "      <td>Lauren Bacall</td>\n",
       "      <td>1924</td>\n",
       "      <td>2014</td>\n",
       "      <td>actress,soundtrack</td>\n",
       "    </tr>\n",
       "    <tr>\n",
       "      <th>2</th>\n",
       "      <td>3</td>\n",
       "      <td>Brigitte Bardot</td>\n",
       "      <td>1934</td>\n",
       "      <td>0</td>\n",
       "      <td>actress,soundtrack,producer</td>\n",
       "    </tr>\n",
       "    <tr>\n",
       "      <th>3</th>\n",
       "      <td>4</td>\n",
       "      <td>John Belushi</td>\n",
       "      <td>1949</td>\n",
       "      <td>1982</td>\n",
       "      <td>actor,writer,soundtrack</td>\n",
       "    </tr>\n",
       "    <tr>\n",
       "      <th>4</th>\n",
       "      <td>5</td>\n",
       "      <td>Ingmar Bergman</td>\n",
       "      <td>1918</td>\n",
       "      <td>2007</td>\n",
       "      <td>writer,director,actor</td>\n",
       "    </tr>\n",
       "    <tr>\n",
       "      <th>5</th>\n",
       "      <td>6</td>\n",
       "      <td>Ingrid Bergman</td>\n",
       "      <td>1915</td>\n",
       "      <td>1982</td>\n",
       "      <td>actress,soundtrack,producer</td>\n",
       "    </tr>\n",
       "    <tr>\n",
       "      <th>6</th>\n",
       "      <td>7</td>\n",
       "      <td>Humphrey Bogart</td>\n",
       "      <td>1899</td>\n",
       "      <td>1957</td>\n",
       "      <td>actor,soundtrack,producer</td>\n",
       "    </tr>\n",
       "    <tr>\n",
       "      <th>7</th>\n",
       "      <td>8</td>\n",
       "      <td>Marlon Brando</td>\n",
       "      <td>1924</td>\n",
       "      <td>2004</td>\n",
       "      <td>actor,soundtrack,director</td>\n",
       "    </tr>\n",
       "    <tr>\n",
       "      <th>8</th>\n",
       "      <td>9</td>\n",
       "      <td>Richard Burton</td>\n",
       "      <td>1925</td>\n",
       "      <td>1984</td>\n",
       "      <td>actor,producer,soundtrack</td>\n",
       "    </tr>\n",
       "    <tr>\n",
       "      <th>9</th>\n",
       "      <td>10</td>\n",
       "      <td>James Cagney</td>\n",
       "      <td>1899</td>\n",
       "      <td>1986</td>\n",
       "      <td>actor,soundtrack,director</td>\n",
       "    </tr>\n",
       "  </tbody>\n",
       "</table>\n",
       "</div>"
      ],
      "text/plain": [
       "   cod_pessoa       nom_pessoa  ano_nascimento  ano_falescimento  \\\n",
       "0           1     Fred Astaire            1899              1987   \n",
       "1           2    Lauren Bacall            1924              2014   \n",
       "2           3  Brigitte Bardot            1934                 0   \n",
       "3           4     John Belushi            1949              1982   \n",
       "4           5   Ingmar Bergman            1918              2007   \n",
       "5           6   Ingrid Bergman            1915              1982   \n",
       "6           7  Humphrey Bogart            1899              1957   \n",
       "7           8    Marlon Brando            1924              2004   \n",
       "8           9   Richard Burton            1925              1984   \n",
       "9          10     James Cagney            1899              1986   \n",
       "\n",
       "                    dsc_profissao  \n",
       "0  soundtrack,actor,miscellaneous  \n",
       "1              actress,soundtrack  \n",
       "2     actress,soundtrack,producer  \n",
       "3         actor,writer,soundtrack  \n",
       "4           writer,director,actor  \n",
       "5     actress,soundtrack,producer  \n",
       "6       actor,soundtrack,producer  \n",
       "7       actor,soundtrack,director  \n",
       "8       actor,producer,soundtrack  \n",
       "9       actor,soundtrack,director  "
      ]
     },
     "execution_count": 16,
     "metadata": {},
     "output_type": "execute_result"
    }
   ],
   "source": [
    "# Convertendo as consulta para o tipo pandas dataset - apenas para facilitar a visualização.\n",
    "pd.read_sql('SELECT * FROM pessoa LIMIT 10',con=con)"
   ]
  },
  {
   "cell_type": "markdown",
   "id": "4cfb6f45",
   "metadata": {
    "hidden": true
   },
   "source": [
    "####  **Persistindo dados na tabela Título.**\n",
    "<a id=\"ancora3.8\"></a>\n",
    "[voltar](#ancora)."
   ]
  },
  {
   "cell_type": "code",
   "execution_count": 74,
   "id": "72fe10ce",
   "metadata": {
    "hidden": true
   },
   "outputs": [],
   "source": [
    "# -- persistindo registros na tabela Titulo --\n",
    "load = '''LOAD DATA INFILE 'C://ProgramData//MySQL//MySQL Server 8.0//Uploads//Titulo.txt' \n",
    "                INTO TABLE titulo \n",
    "                CHARACTER SET LATIN1\n",
    "                FIELDS TERMINATED BY '\\t'\n",
    "                LINES TERMINATED BY '\\r\\n';\n",
    "        '''\n",
    "# Consultando uma tabela.\n",
    "cursor = con.cursor()\n",
    "cursor.execute(load)"
   ]
  },
  {
   "cell_type": "code",
   "execution_count": 19,
   "id": "b13a9ead",
   "metadata": {
    "hidden": true
   },
   "outputs": [
    {
     "data": {
      "text/html": [
       "<div>\n",
       "<style scoped>\n",
       "    .dataframe tbody tr th:only-of-type {\n",
       "        vertical-align: middle;\n",
       "    }\n",
       "\n",
       "    .dataframe tbody tr th {\n",
       "        vertical-align: top;\n",
       "    }\n",
       "\n",
       "    .dataframe thead th {\n",
       "        text-align: right;\n",
       "    }\n",
       "</style>\n",
       "<table border=\"1\" class=\"dataframe\">\n",
       "  <thead>\n",
       "    <tr style=\"text-align: right;\">\n",
       "      <th></th>\n",
       "      <th>cod_titulo</th>\n",
       "      <th>nom_titulo</th>\n",
       "      <th>ind_status</th>\n",
       "    </tr>\n",
       "  </thead>\n",
       "  <tbody>\n",
       "    <tr>\n",
       "      <th>0</th>\n",
       "      <td>1</td>\n",
       "      <td>Carmencita</td>\n",
       "      <td>A</td>\n",
       "    </tr>\n",
       "    <tr>\n",
       "      <th>1</th>\n",
       "      <td>2</td>\n",
       "      <td>Le clown et ses chiens</td>\n",
       "      <td>A</td>\n",
       "    </tr>\n",
       "    <tr>\n",
       "      <th>2</th>\n",
       "      <td>3</td>\n",
       "      <td>Pauvre Pierrot</td>\n",
       "      <td>A</td>\n",
       "    </tr>\n",
       "    <tr>\n",
       "      <th>3</th>\n",
       "      <td>4</td>\n",
       "      <td>Un bon bock</td>\n",
       "      <td>A</td>\n",
       "    </tr>\n",
       "    <tr>\n",
       "      <th>4</th>\n",
       "      <td>5</td>\n",
       "      <td>Blacksmith Scene</td>\n",
       "      <td>A</td>\n",
       "    </tr>\n",
       "    <tr>\n",
       "      <th>5</th>\n",
       "      <td>6</td>\n",
       "      <td>Chinese Opium Den</td>\n",
       "      <td>A</td>\n",
       "    </tr>\n",
       "    <tr>\n",
       "      <th>6</th>\n",
       "      <td>7</td>\n",
       "      <td>Corbett and Courtney Before the Kinetograph</td>\n",
       "      <td>A</td>\n",
       "    </tr>\n",
       "    <tr>\n",
       "      <th>7</th>\n",
       "      <td>8</td>\n",
       "      <td>Edison Kinetoscopic Record of a Sneeze</td>\n",
       "      <td>A</td>\n",
       "    </tr>\n",
       "    <tr>\n",
       "      <th>8</th>\n",
       "      <td>9</td>\n",
       "      <td>Miss Jerry</td>\n",
       "      <td>A</td>\n",
       "    </tr>\n",
       "    <tr>\n",
       "      <th>9</th>\n",
       "      <td>10</td>\n",
       "      <td>La sortie de l'usine Lumière à Lyon</td>\n",
       "      <td>A</td>\n",
       "    </tr>\n",
       "  </tbody>\n",
       "</table>\n",
       "</div>"
      ],
      "text/plain": [
       "   cod_titulo                                   nom_titulo ind_status\n",
       "0           1                                   Carmencita          A\n",
       "1           2                       Le clown et ses chiens          A\n",
       "2           3                               Pauvre Pierrot          A\n",
       "3           4                                  Un bon bock          A\n",
       "4           5                             Blacksmith Scene          A\n",
       "5           6                            Chinese Opium Den          A\n",
       "6           7  Corbett and Courtney Before the Kinetograph          A\n",
       "7           8       Edison Kinetoscopic Record of a Sneeze          A\n",
       "8           9                                   Miss Jerry          A\n",
       "9          10          La sortie de l'usine Lumière à Lyon          A"
      ]
     },
     "execution_count": 19,
     "metadata": {},
     "output_type": "execute_result"
    }
   ],
   "source": [
    "# Convertendo as consulta para o tipo pandas dataset - apenas para facilitar a visualização.\n",
    "pd.read_sql('SELECT * FROM titulo LIMIT 10',con=con)"
   ]
  },
  {
   "cell_type": "markdown",
   "id": "e274098f",
   "metadata": {
    "hidden": true
   },
   "source": [
    "####  **Persistindo dados na tabela Direção.**\n",
    "<a id=\"ancora3.9\"></a>\n",
    "[voltar](#ancora)."
   ]
  },
  {
   "cell_type": "code",
   "execution_count": 76,
   "id": "c5502ef8",
   "metadata": {
    "hidden": true
   },
   "outputs": [],
   "source": [
    "# -- persistindo registros na tabela Direção --\n",
    "load = '''LOAD DATA INFILE 'C://ProgramData//MySQL//MySQL Server 8.0//Uploads//Direcao.txt' \n",
    "                INTO TABLE direcao \n",
    "                CHARACTER SET LATIN1\n",
    "                FIELDS TERMINATED BY '\\t'\n",
    "                LINES TERMINATED BY '\\r\\n'; \n",
    "        '''\n",
    "# Consultando uma tabela.\n",
    "cursor = con.cursor()\n",
    "cursor.execute(load)"
   ]
  },
  {
   "cell_type": "code",
   "execution_count": 86,
   "id": "4035a97f",
   "metadata": {
    "hidden": true
   },
   "outputs": [
    {
     "data": {
      "text/html": [
       "<div>\n",
       "<style scoped>\n",
       "    .dataframe tbody tr th:only-of-type {\n",
       "        vertical-align: middle;\n",
       "    }\n",
       "\n",
       "    .dataframe tbody tr th {\n",
       "        vertical-align: top;\n",
       "    }\n",
       "\n",
       "    .dataframe thead th {\n",
       "        text-align: right;\n",
       "    }\n",
       "</style>\n",
       "<table border=\"1\" class=\"dataframe\">\n",
       "  <thead>\n",
       "    <tr style=\"text-align: right;\">\n",
       "      <th></th>\n",
       "      <th>cod_direcao</th>\n",
       "      <th>cod_titulo</th>\n",
       "      <th>cod_pessoa</th>\n",
       "    </tr>\n",
       "  </thead>\n",
       "  <tbody>\n",
       "    <tr>\n",
       "      <th>0</th>\n",
       "      <td>1</td>\n",
       "      <td>1</td>\n",
       "      <td>5690</td>\n",
       "    </tr>\n",
       "    <tr>\n",
       "      <th>1</th>\n",
       "      <td>2</td>\n",
       "      <td>2</td>\n",
       "      <td>721526</td>\n",
       "    </tr>\n",
       "    <tr>\n",
       "      <th>2</th>\n",
       "      <td>3</td>\n",
       "      <td>3</td>\n",
       "      <td>721526</td>\n",
       "    </tr>\n",
       "    <tr>\n",
       "      <th>3</th>\n",
       "      <td>4</td>\n",
       "      <td>4</td>\n",
       "      <td>721526</td>\n",
       "    </tr>\n",
       "    <tr>\n",
       "      <th>4</th>\n",
       "      <td>5</td>\n",
       "      <td>5</td>\n",
       "      <td>5690</td>\n",
       "    </tr>\n",
       "    <tr>\n",
       "      <th>5</th>\n",
       "      <td>6</td>\n",
       "      <td>6</td>\n",
       "      <td>5690</td>\n",
       "    </tr>\n",
       "    <tr>\n",
       "      <th>6</th>\n",
       "      <td>7</td>\n",
       "      <td>8</td>\n",
       "      <td>5690</td>\n",
       "    </tr>\n",
       "    <tr>\n",
       "      <th>7</th>\n",
       "      <td>8</td>\n",
       "      <td>9</td>\n",
       "      <td>85156</td>\n",
       "    </tr>\n",
       "    <tr>\n",
       "      <th>8</th>\n",
       "      <td>9</td>\n",
       "      <td>10</td>\n",
       "      <td>525910</td>\n",
       "    </tr>\n",
       "    <tr>\n",
       "      <th>9</th>\n",
       "      <td>10</td>\n",
       "      <td>11</td>\n",
       "      <td>804434</td>\n",
       "    </tr>\n",
       "  </tbody>\n",
       "</table>\n",
       "</div>"
      ],
      "text/plain": [
       "   cod_direcao  cod_titulo  cod_pessoa\n",
       "0            1           1        5690\n",
       "1            2           2      721526\n",
       "2            3           3      721526\n",
       "3            4           4      721526\n",
       "4            5           5        5690\n",
       "5            6           6        5690\n",
       "6            7           8        5690\n",
       "7            8           9       85156\n",
       "8            9          10      525910\n",
       "9           10          11      804434"
      ]
     },
     "execution_count": 86,
     "metadata": {},
     "output_type": "execute_result"
    }
   ],
   "source": [
    "# Convertendo as consulta para o tipo pandas dataset - apenas para facilitar a visualização.\n",
    "pd.read_sql('SELECT * FROM direcao LIMIT 10',con=con)"
   ]
  },
  {
   "cell_type": "markdown",
   "id": "0916f73c",
   "metadata": {
    "heading_collapsed": true,
    "hidden": true
   },
   "source": [
    "####  **Persistindo dados na tabela Titulo_Detalhe.**\n",
    "<a id=\"ancora3.10\"></a>\n",
    "[voltar](#ancora)."
   ]
  },
  {
   "cell_type": "code",
   "execution_count": 78,
   "id": "572da996",
   "metadata": {
    "hidden": true
   },
   "outputs": [],
   "source": [
    "# -- persistindo registros na tabela Titulo_Detalhe --\n",
    "load = '''LOAD DATA INFILE 'C://ProgramData//MySQL//MySQL Server 8.0//Uploads//Titulo_Detalhe.txt' \n",
    "                INTO TABLE titulo_detalhe \n",
    "                CHARACTER SET LATIN1\n",
    "                FIELDS TERMINATED BY '\\t'\n",
    "                LINES TERMINATED BY '\\r\\n'; \n",
    "        '''\n",
    "# Consultando uma tabela.\n",
    "cursor = con.cursor()\n",
    "cursor.execute(load)"
   ]
  },
  {
   "cell_type": "code",
   "execution_count": 79,
   "id": "7d637045",
   "metadata": {
    "hidden": true
   },
   "outputs": [
    {
     "data": {
      "text/html": [
       "<div>\n",
       "<style scoped>\n",
       "    .dataframe tbody tr th:only-of-type {\n",
       "        vertical-align: middle;\n",
       "    }\n",
       "\n",
       "    .dataframe tbody tr th {\n",
       "        vertical-align: top;\n",
       "    }\n",
       "\n",
       "    .dataframe thead th {\n",
       "        text-align: right;\n",
       "    }\n",
       "</style>\n",
       "<table border=\"1\" class=\"dataframe\">\n",
       "  <thead>\n",
       "    <tr style=\"text-align: right;\">\n",
       "      <th></th>\n",
       "      <th>cod_titulo</th>\n",
       "      <th>tip_titulo</th>\n",
       "      <th>nom_principal_titulo</th>\n",
       "      <th>nom_original_titulo</th>\n",
       "      <th>ind_adulto</th>\n",
       "      <th>ano_lancamento</th>\n",
       "      <th>qtd_minutos</th>\n",
       "      <th>dsc_genero</th>\n",
       "      <th>genero</th>\n",
       "    </tr>\n",
       "  </thead>\n",
       "  <tbody>\n",
       "    <tr>\n",
       "      <th>0</th>\n",
       "      <td>1</td>\n",
       "      <td>short</td>\n",
       "      <td>Carmencita</td>\n",
       "      <td>Carmencita</td>\n",
       "      <td>1</td>\n",
       "      <td>1894</td>\n",
       "      <td>1</td>\n",
       "      <td>Documentary,Short</td>\n",
       "      <td></td>\n",
       "    </tr>\n",
       "    <tr>\n",
       "      <th>1</th>\n",
       "      <td>2</td>\n",
       "      <td>short</td>\n",
       "      <td>Le clown et ses chiens</td>\n",
       "      <td>Le clown et ses chiens</td>\n",
       "      <td>1</td>\n",
       "      <td>1892</td>\n",
       "      <td>5</td>\n",
       "      <td>Animation,Short</td>\n",
       "      <td></td>\n",
       "    </tr>\n",
       "    <tr>\n",
       "      <th>2</th>\n",
       "      <td>3</td>\n",
       "      <td>short</td>\n",
       "      <td>Pauvre Pierrot</td>\n",
       "      <td>Pauvre Pierrot</td>\n",
       "      <td>1</td>\n",
       "      <td>1892</td>\n",
       "      <td>4</td>\n",
       "      <td>Animation,Comedy,Romance</td>\n",
       "      <td></td>\n",
       "    </tr>\n",
       "    <tr>\n",
       "      <th>3</th>\n",
       "      <td>4</td>\n",
       "      <td>short</td>\n",
       "      <td>Un bon bock</td>\n",
       "      <td>Un bon bock</td>\n",
       "      <td>1</td>\n",
       "      <td>1892</td>\n",
       "      <td>0</td>\n",
       "      <td>Animation,Short</td>\n",
       "      <td></td>\n",
       "    </tr>\n",
       "    <tr>\n",
       "      <th>4</th>\n",
       "      <td>5</td>\n",
       "      <td>short</td>\n",
       "      <td>Blacksmith Scene</td>\n",
       "      <td>Blacksmith Scene</td>\n",
       "      <td>1</td>\n",
       "      <td>1893</td>\n",
       "      <td>1</td>\n",
       "      <td>Comedy,Short</td>\n",
       "      <td></td>\n",
       "    </tr>\n",
       "    <tr>\n",
       "      <th>5</th>\n",
       "      <td>6</td>\n",
       "      <td>short</td>\n",
       "      <td>Chinese Opium Den</td>\n",
       "      <td>Chinese Opium Den</td>\n",
       "      <td>1</td>\n",
       "      <td>1894</td>\n",
       "      <td>1</td>\n",
       "      <td>Short</td>\n",
       "      <td></td>\n",
       "    </tr>\n",
       "    <tr>\n",
       "      <th>6</th>\n",
       "      <td>7</td>\n",
       "      <td>short</td>\n",
       "      <td>Corbett and Courtney Before the Kinetograph</td>\n",
       "      <td>Corbett and Courtney Before the Kinetograph</td>\n",
       "      <td>1</td>\n",
       "      <td>1894</td>\n",
       "      <td>1</td>\n",
       "      <td>Short,Sport</td>\n",
       "      <td></td>\n",
       "    </tr>\n",
       "    <tr>\n",
       "      <th>7</th>\n",
       "      <td>8</td>\n",
       "      <td>short</td>\n",
       "      <td>Edison Kinetoscopic Record of a Sneeze</td>\n",
       "      <td>Edison Kinetoscopic Record of a Sneeze</td>\n",
       "      <td>1</td>\n",
       "      <td>1894</td>\n",
       "      <td>1</td>\n",
       "      <td>Documentary,Short</td>\n",
       "      <td></td>\n",
       "    </tr>\n",
       "    <tr>\n",
       "      <th>8</th>\n",
       "      <td>9</td>\n",
       "      <td>movie</td>\n",
       "      <td>Miss Jerry</td>\n",
       "      <td>Miss Jerry</td>\n",
       "      <td>1</td>\n",
       "      <td>1894</td>\n",
       "      <td>45</td>\n",
       "      <td>Romance</td>\n",
       "      <td></td>\n",
       "    </tr>\n",
       "    <tr>\n",
       "      <th>9</th>\n",
       "      <td>10</td>\n",
       "      <td>short</td>\n",
       "      <td>Exiting the Factory</td>\n",
       "      <td>La sortie de l'usine Lumière à Lyon</td>\n",
       "      <td>1</td>\n",
       "      <td>1895</td>\n",
       "      <td>1</td>\n",
       "      <td>Documentary,Short</td>\n",
       "      <td></td>\n",
       "    </tr>\n",
       "  </tbody>\n",
       "</table>\n",
       "</div>"
      ],
      "text/plain": [
       "   cod_titulo tip_titulo                         nom_principal_titulo  \\\n",
       "0           1      short                                   Carmencita   \n",
       "1           2      short                       Le clown et ses chiens   \n",
       "2           3      short                               Pauvre Pierrot   \n",
       "3           4      short                                  Un bon bock   \n",
       "4           5      short                             Blacksmith Scene   \n",
       "5           6      short                            Chinese Opium Den   \n",
       "6           7      short  Corbett and Courtney Before the Kinetograph   \n",
       "7           8      short       Edison Kinetoscopic Record of a Sneeze   \n",
       "8           9      movie                                   Miss Jerry   \n",
       "9          10      short                          Exiting the Factory   \n",
       "\n",
       "                           nom_original_titulo  ind_adulto  ano_lancamento  \\\n",
       "0                                   Carmencita           1            1894   \n",
       "1                       Le clown et ses chiens           1            1892   \n",
       "2                               Pauvre Pierrot           1            1892   \n",
       "3                                  Un bon bock           1            1892   \n",
       "4                             Blacksmith Scene           1            1893   \n",
       "5                            Chinese Opium Den           1            1894   \n",
       "6  Corbett and Courtney Before the Kinetograph           1            1894   \n",
       "7       Edison Kinetoscopic Record of a Sneeze           1            1894   \n",
       "8                                   Miss Jerry           1            1894   \n",
       "9          La sortie de l'usine Lumière à Lyon           1            1895   \n",
       "\n",
       "   qtd_minutos                dsc_genero genero  \n",
       "0            1         Documentary,Short         \n",
       "1            5           Animation,Short         \n",
       "2            4  Animation,Comedy,Romance         \n",
       "3            0           Animation,Short         \n",
       "4            1              Comedy,Short         \n",
       "5            1                     Short         \n",
       "6            1               Short,Sport         \n",
       "7            1         Documentary,Short         \n",
       "8           45                   Romance         \n",
       "9            1         Documentary,Short         "
      ]
     },
     "execution_count": 79,
     "metadata": {},
     "output_type": "execute_result"
    }
   ],
   "source": [
    "# Convertendo as consulta para o tipo pandas dataset - apenas para facilitar a visualização.\n",
    "pd.read_sql('SELECT * FROM titulo_detalhe LIMIT 10',con=con)"
   ]
  },
  {
   "cell_type": "markdown",
   "id": "4218288c",
   "metadata": {
    "heading_collapsed": true,
    "hidden": true
   },
   "source": [
    "####  **Persistindo dados na tabela Elenco.**\n",
    "<a id=\"ancora3.11\"></a>\n",
    "[voltar](#ancora)."
   ]
  },
  {
   "cell_type": "code",
   "execution_count": 80,
   "id": "93d65281",
   "metadata": {
    "hidden": true
   },
   "outputs": [],
   "source": [
    "# -- persistindo registros na tabela Elenco --\n",
    "load = '''LOAD DATA INFILE 'C://ProgramData//MySQL//MySQL Server 8.0//Uploads//Elenco.txt' \n",
    "                INTO TABLE Elenco \n",
    "                CHARACTER SET LATIN1\n",
    "                FIELDS TERMINATED BY '\\t'\n",
    "                LINES TERMINATED BY '\\r\\n'; \n",
    "        '''\n",
    "# Consultando uma tabela.\n",
    "cursor = con.cursor()\n",
    "cursor.execute(load)"
   ]
  },
  {
   "cell_type": "code",
   "execution_count": 81,
   "id": "73d38713",
   "metadata": {
    "hidden": true
   },
   "outputs": [
    {
     "data": {
      "text/html": [
       "<div>\n",
       "<style scoped>\n",
       "    .dataframe tbody tr th:only-of-type {\n",
       "        vertical-align: middle;\n",
       "    }\n",
       "\n",
       "    .dataframe tbody tr th {\n",
       "        vertical-align: top;\n",
       "    }\n",
       "\n",
       "    .dataframe thead th {\n",
       "        text-align: right;\n",
       "    }\n",
       "</style>\n",
       "<table border=\"1\" class=\"dataframe\">\n",
       "  <thead>\n",
       "    <tr style=\"text-align: right;\">\n",
       "      <th></th>\n",
       "      <th>cod_elenco</th>\n",
       "      <th>cod_titulo</th>\n",
       "      <th>cod_pessoa</th>\n",
       "      <th>dsc_funcao</th>\n",
       "      <th>dsc_personagem</th>\n",
       "    </tr>\n",
       "  </thead>\n",
       "  <tbody>\n",
       "    <tr>\n",
       "      <th>0</th>\n",
       "      <td>1</td>\n",
       "      <td>1</td>\n",
       "      <td>1588970</td>\n",
       "      <td>self</td>\n",
       "      <td>[\"Herself\"]</td>\n",
       "    </tr>\n",
       "    <tr>\n",
       "      <th>1</th>\n",
       "      <td>2</td>\n",
       "      <td>1</td>\n",
       "      <td>5690</td>\n",
       "      <td>director</td>\n",
       "      <td></td>\n",
       "    </tr>\n",
       "    <tr>\n",
       "      <th>2</th>\n",
       "      <td>3</td>\n",
       "      <td>1</td>\n",
       "      <td>374658</td>\n",
       "      <td>cinematographer</td>\n",
       "      <td></td>\n",
       "    </tr>\n",
       "    <tr>\n",
       "      <th>3</th>\n",
       "      <td>4</td>\n",
       "      <td>2</td>\n",
       "      <td>721526</td>\n",
       "      <td>director</td>\n",
       "      <td></td>\n",
       "    </tr>\n",
       "    <tr>\n",
       "      <th>4</th>\n",
       "      <td>5</td>\n",
       "      <td>2</td>\n",
       "      <td>1335271</td>\n",
       "      <td>composer</td>\n",
       "      <td></td>\n",
       "    </tr>\n",
       "    <tr>\n",
       "      <th>5</th>\n",
       "      <td>6</td>\n",
       "      <td>3</td>\n",
       "      <td>721526</td>\n",
       "      <td>director</td>\n",
       "      <td></td>\n",
       "    </tr>\n",
       "    <tr>\n",
       "      <th>6</th>\n",
       "      <td>7</td>\n",
       "      <td>3</td>\n",
       "      <td>1335271</td>\n",
       "      <td>composer</td>\n",
       "      <td></td>\n",
       "    </tr>\n",
       "    <tr>\n",
       "      <th>7</th>\n",
       "      <td>8</td>\n",
       "      <td>4</td>\n",
       "      <td>721526</td>\n",
       "      <td>director</td>\n",
       "      <td></td>\n",
       "    </tr>\n",
       "    <tr>\n",
       "      <th>8</th>\n",
       "      <td>9</td>\n",
       "      <td>4</td>\n",
       "      <td>1335271</td>\n",
       "      <td>composer</td>\n",
       "      <td></td>\n",
       "    </tr>\n",
       "    <tr>\n",
       "      <th>9</th>\n",
       "      <td>10</td>\n",
       "      <td>5</td>\n",
       "      <td>443482</td>\n",
       "      <td>actor</td>\n",
       "      <td>[\"Blacksmith\"]</td>\n",
       "    </tr>\n",
       "  </tbody>\n",
       "</table>\n",
       "</div>"
      ],
      "text/plain": [
       "   cod_elenco  cod_titulo  cod_pessoa       dsc_funcao  dsc_personagem\n",
       "0           1           1     1588970             self     [\"Herself\"]\n",
       "1           2           1        5690         director                \n",
       "2           3           1      374658  cinematographer                \n",
       "3           4           2      721526         director                \n",
       "4           5           2     1335271         composer                \n",
       "5           6           3      721526         director                \n",
       "6           7           3     1335271         composer                \n",
       "7           8           4      721526         director                \n",
       "8           9           4     1335271         composer                \n",
       "9          10           5      443482            actor  [\"Blacksmith\"]"
      ]
     },
     "execution_count": 81,
     "metadata": {},
     "output_type": "execute_result"
    }
   ],
   "source": [
    "# Convertendo as consulta para o tipo pandas dataset - apenas para facilitar a visualização.\n",
    "pd.read_sql('SELECT * FROM elenco LIMIT 10',con=con)"
   ]
  },
  {
   "cell_type": "markdown",
   "id": "3cc604b7",
   "metadata": {
    "heading_collapsed": true,
    "hidden": true
   },
   "source": [
    "####  **Persistindo dados na tabela Autoria.**\n",
    "<a id=\"ancora3.12\"></a>\n",
    "[voltar](#ancora)."
   ]
  },
  {
   "cell_type": "code",
   "execution_count": 82,
   "id": "097506eb",
   "metadata": {
    "hidden": true
   },
   "outputs": [],
   "source": [
    "# -- persistindo registros na tabela Autoria --\n",
    "load = '''LOAD DATA INFILE 'C://ProgramData//MySQL//MySQL Server 8.0//Uploads//Autoria.txt' \n",
    "                INTO TABLE Autoria \n",
    "                CHARACTER SET LATIN1\n",
    "                FIELDS TERMINATED BY '\\t'\n",
    "                LINES TERMINATED BY '\\r\\n'; \n",
    "        '''\n",
    "# Consultando uma tabela.\n",
    "cursor = con.cursor()\n",
    "cursor.execute(load)"
   ]
  },
  {
   "cell_type": "code",
   "execution_count": 83,
   "id": "6613bff8",
   "metadata": {
    "hidden": true
   },
   "outputs": [
    {
     "data": {
      "text/html": [
       "<div>\n",
       "<style scoped>\n",
       "    .dataframe tbody tr th:only-of-type {\n",
       "        vertical-align: middle;\n",
       "    }\n",
       "\n",
       "    .dataframe tbody tr th {\n",
       "        vertical-align: top;\n",
       "    }\n",
       "\n",
       "    .dataframe thead th {\n",
       "        text-align: right;\n",
       "    }\n",
       "</style>\n",
       "<table border=\"1\" class=\"dataframe\">\n",
       "  <thead>\n",
       "    <tr style=\"text-align: right;\">\n",
       "      <th></th>\n",
       "      <th>cod_autoria</th>\n",
       "      <th>cod_titulo</th>\n",
       "      <th>cod_pessoa</th>\n",
       "    </tr>\n",
       "  </thead>\n",
       "  <tbody>\n",
       "    <tr>\n",
       "      <th>0</th>\n",
       "      <td>1</td>\n",
       "      <td>9</td>\n",
       "      <td>85156</td>\n",
       "    </tr>\n",
       "    <tr>\n",
       "      <th>1</th>\n",
       "      <td>2</td>\n",
       "      <td>36</td>\n",
       "      <td>410331</td>\n",
       "    </tr>\n",
       "    <tr>\n",
       "      <th>2</th>\n",
       "      <td>3</td>\n",
       "      <td>76</td>\n",
       "      <td>410331</td>\n",
       "    </tr>\n",
       "    <tr>\n",
       "      <th>3</th>\n",
       "      <td>4</td>\n",
       "      <td>91</td>\n",
       "      <td>617588</td>\n",
       "    </tr>\n",
       "    <tr>\n",
       "      <th>4</th>\n",
       "      <td>5</td>\n",
       "      <td>108</td>\n",
       "      <td>410331</td>\n",
       "    </tr>\n",
       "    <tr>\n",
       "      <th>5</th>\n",
       "      <td>6</td>\n",
       "      <td>109</td>\n",
       "      <td>410331</td>\n",
       "    </tr>\n",
       "    <tr>\n",
       "      <th>6</th>\n",
       "      <td>7</td>\n",
       "      <td>110</td>\n",
       "      <td>410331</td>\n",
       "    </tr>\n",
       "    <tr>\n",
       "      <th>7</th>\n",
       "      <td>8</td>\n",
       "      <td>111</td>\n",
       "      <td>410331</td>\n",
       "    </tr>\n",
       "    <tr>\n",
       "      <th>8</th>\n",
       "      <td>9</td>\n",
       "      <td>112</td>\n",
       "      <td>410331</td>\n",
       "    </tr>\n",
       "    <tr>\n",
       "      <th>9</th>\n",
       "      <td>10</td>\n",
       "      <td>113</td>\n",
       "      <td>410331</td>\n",
       "    </tr>\n",
       "  </tbody>\n",
       "</table>\n",
       "</div>"
      ],
      "text/plain": [
       "   cod_autoria  cod_titulo  cod_pessoa\n",
       "0            1           9       85156\n",
       "1            2          36      410331\n",
       "2            3          76      410331\n",
       "3            4          91      617588\n",
       "4            5         108      410331\n",
       "5            6         109      410331\n",
       "6            7         110      410331\n",
       "7            8         111      410331\n",
       "8            9         112      410331\n",
       "9           10         113      410331"
      ]
     },
     "execution_count": 83,
     "metadata": {},
     "output_type": "execute_result"
    }
   ],
   "source": [
    "# Convertendo as consulta para o tipo pandas dataset - apenas para facilitar a visualização.\n",
    "pd.read_sql('SELECT * FROM autoria LIMIT 10',con=con)"
   ]
  },
  {
   "cell_type": "markdown",
   "id": "df3cb6bc",
   "metadata": {
    "heading_collapsed": true,
    "hidden": true
   },
   "source": [
    "####  **Persistindo dados na tabela Avaliacao.**\n",
    "<a id=\"ancora3.13\"></a>\n",
    "[voltar](#ancora)."
   ]
  },
  {
   "cell_type": "code",
   "execution_count": 84,
   "id": "9a1dfa49",
   "metadata": {
    "hidden": true
   },
   "outputs": [],
   "source": [
    "# -- persistindo registros na tabela Avaliacao --\n",
    "load = '''LOAD DATA INFILE 'C://ProgramData//MySQL//MySQL Server 8.0//Uploads//Avaliacao.txt' \n",
    "                INTO TABLE Avaliacao \n",
    "                CHARACTER SET LATIN1\n",
    "                FIELDS TERMINATED BY '\\t'\n",
    "                LINES TERMINATED BY '\\r\\n'; \n",
    "        '''\n",
    "# Consultando uma tabela.\n",
    "cursor = con.cursor()\n",
    "cursor.execute(load)"
   ]
  },
  {
   "cell_type": "code",
   "execution_count": 87,
   "id": "598fa3b1",
   "metadata": {
    "hidden": true
   },
   "outputs": [
    {
     "data": {
      "text/html": [
       "<div>\n",
       "<style scoped>\n",
       "    .dataframe tbody tr th:only-of-type {\n",
       "        vertical-align: middle;\n",
       "    }\n",
       "\n",
       "    .dataframe tbody tr th {\n",
       "        vertical-align: top;\n",
       "    }\n",
       "\n",
       "    .dataframe thead th {\n",
       "        text-align: right;\n",
       "    }\n",
       "</style>\n",
       "<table border=\"1\" class=\"dataframe\">\n",
       "  <thead>\n",
       "    <tr style=\"text-align: right;\">\n",
       "      <th></th>\n",
       "      <th>cod_titulo</th>\n",
       "      <th>classificacao_media</th>\n",
       "      <th>qtd_votos</th>\n",
       "    </tr>\n",
       "  </thead>\n",
       "  <tbody>\n",
       "    <tr>\n",
       "      <th>0</th>\n",
       "      <td>1049</td>\n",
       "      <td>36</td>\n",
       "      <td>8</td>\n",
       "    </tr>\n",
       "    <tr>\n",
       "      <th>1</th>\n",
       "      <td>1062</td>\n",
       "      <td>61</td>\n",
       "      <td>956</td>\n",
       "    </tr>\n",
       "    <tr>\n",
       "      <th>2</th>\n",
       "      <td>1066</td>\n",
       "      <td>38</td>\n",
       "      <td>5</td>\n",
       "    </tr>\n",
       "    <tr>\n",
       "      <th>3</th>\n",
       "      <td>1072</td>\n",
       "      <td>56</td>\n",
       "      <td>206</td>\n",
       "    </tr>\n",
       "    <tr>\n",
       "      <th>4</th>\n",
       "      <td>1083</td>\n",
       "      <td>54</td>\n",
       "      <td>82</td>\n",
       "    </tr>\n",
       "    <tr>\n",
       "      <th>5</th>\n",
       "      <td>1084</td>\n",
       "      <td>51</td>\n",
       "      <td>124</td>\n",
       "    </tr>\n",
       "    <tr>\n",
       "      <th>6</th>\n",
       "      <td>1091</td>\n",
       "      <td>54</td>\n",
       "      <td>139</td>\n",
       "    </tr>\n",
       "    <tr>\n",
       "      <th>7</th>\n",
       "      <td>1101</td>\n",
       "      <td>45</td>\n",
       "      <td>14</td>\n",
       "    </tr>\n",
       "    <tr>\n",
       "      <th>8</th>\n",
       "      <td>1105</td>\n",
       "      <td>65</td>\n",
       "      <td>685</td>\n",
       "    </tr>\n",
       "    <tr>\n",
       "      <th>9</th>\n",
       "      <td>1112</td>\n",
       "      <td>33</td>\n",
       "      <td>14</td>\n",
       "    </tr>\n",
       "  </tbody>\n",
       "</table>\n",
       "</div>"
      ],
      "text/plain": [
       "   cod_titulo  classificacao_media  qtd_votos\n",
       "0        1049                   36          8\n",
       "1        1062                   61        956\n",
       "2        1066                   38          5\n",
       "3        1072                   56        206\n",
       "4        1083                   54         82\n",
       "5        1084                   51        124\n",
       "6        1091                   54        139\n",
       "7        1101                   45         14\n",
       "8        1105                   65        685\n",
       "9        1112                   33         14"
      ]
     },
     "execution_count": 87,
     "metadata": {},
     "output_type": "execute_result"
    }
   ],
   "source": [
    "# Convertendo as consulta para o tipo pandas dataset - apenas para facilitar a visualização.\n",
    "pd.read_sql('SELECT * FROM Avaliacao LIMIT 10',con=con)"
   ]
  },
  {
   "cell_type": "markdown",
   "id": "eb6d1fd7",
   "metadata": {
    "heading_collapsed": true
   },
   "source": [
    "### **7.Solução .** \n",
    "<a id=\"ancora7\"></a>\n",
    "[voltar](#ancora)."
   ]
  },
  {
   "cell_type": "markdown",
   "id": "f9824acb",
   "metadata": {
    "heading_collapsed": true,
    "hidden": true
   },
   "source": [
    "#### **a. Total de títulos ativos.**\n",
    "<a id=\"ancora4.2\"></a>\n",
    "[voltar](#ancora)."
   ]
  },
  {
   "cell_type": "code",
   "execution_count": 3,
   "id": "8572f048",
   "metadata": {
    "hidden": true
   },
   "outputs": [
    {
     "name": "stdout",
     "output_type": "stream",
     "text": [
      "(19614,)\n"
     ]
    }
   ],
   "source": [
    "# Total de titulos Ativos.\n",
    "query = '''SELECT \n",
    "    COUNT(*)\n",
    "FROM\n",
    "    titulo\n",
    "WHERE\n",
    "    ind_status = 'A';\n",
    "        '''\n",
    "cursor = con.cursor()\n",
    "cursor.execute(query)\n",
    "result = cursor.fetchall()\n",
    "for i in result:\n",
    "    print(i)"
   ]
  },
  {
   "cell_type": "markdown",
   "id": "ea0eeac0",
   "metadata": {
    "heading_collapsed": true,
    "hidden": true
   },
   "source": [
    "#### **b. Relação dos títulos em ordem alfabética e seus detalhes.**\n",
    "<a id=\"ancora4.3\"></a>\n",
    "[voltar](#ancora)."
   ]
  },
  {
   "cell_type": "code",
   "execution_count": 6,
   "id": "166c2a10",
   "metadata": {
    "hidden": true
   },
   "outputs": [
    {
     "data": {
      "text/html": [
       "<div>\n",
       "<style scoped>\n",
       "    .dataframe tbody tr th:only-of-type {\n",
       "        vertical-align: middle;\n",
       "    }\n",
       "\n",
       "    .dataframe tbody tr th {\n",
       "        vertical-align: top;\n",
       "    }\n",
       "\n",
       "    .dataframe thead th {\n",
       "        text-align: right;\n",
       "    }\n",
       "</style>\n",
       "<table border=\"1\" class=\"dataframe\">\n",
       "  <thead>\n",
       "    <tr style=\"text-align: right;\">\n",
       "      <th></th>\n",
       "      <th>codigo</th>\n",
       "      <th>nome</th>\n",
       "      <th>tipo</th>\n",
       "      <th>ano</th>\n",
       "      <th>duração</th>\n",
       "      <th>genero</th>\n",
       "    </tr>\n",
       "  </thead>\n",
       "  <tbody>\n",
       "    <tr>\n",
       "      <th>0</th>\n",
       "      <td>22731</td>\n",
       "      <td>-But the Flesh Is Weak</td>\n",
       "      <td>movie</td>\n",
       "      <td>1932</td>\n",
       "      <td>77</td>\n",
       "      <td>Comedy</td>\n",
       "    </tr>\n",
       "    <tr>\n",
       "      <th>1</th>\n",
       "      <td>28533</td>\n",
       "      <td>¡Centinela, alerta!</td>\n",
       "      <td>movie</td>\n",
       "      <td>1937</td>\n",
       "      <td>80</td>\n",
       "      <td>Musical</td>\n",
       "    </tr>\n",
       "    <tr>\n",
       "      <th>2</th>\n",
       "      <td>22756</td>\n",
       "      <td>¡Que viva Mexico!</td>\n",
       "      <td>movie</td>\n",
       "      <td>1932</td>\n",
       "      <td>88</td>\n",
       "      <td>History</td>\n",
       "    </tr>\n",
       "    <tr>\n",
       "      <th>3</th>\n",
       "      <td>24642</td>\n",
       "      <td>¡Tango!</td>\n",
       "      <td>movie</td>\n",
       "      <td>1933</td>\n",
       "      <td>80</td>\n",
       "      <td>Musical,Romance</td>\n",
       "    </tr>\n",
       "    <tr>\n",
       "      <th>4</th>\n",
       "      <td>8805</td>\n",
       "      <td>¿Quién me hará olvidar sin morir?</td>\n",
       "      <td>movie</td>\n",
       "      <td>1916</td>\n",
       "      <td>0</td>\n",
       "      <td></td>\n",
       "    </tr>\n",
       "    <tr>\n",
       "      <th>5</th>\n",
       "      <td>28534</td>\n",
       "      <td>¿Quién me quiere a mí?</td>\n",
       "      <td>movie</td>\n",
       "      <td>1936</td>\n",
       "      <td>84</td>\n",
       "      <td>Drama</td>\n",
       "    </tr>\n",
       "    <tr>\n",
       "      <th>6</th>\n",
       "      <td>24806</td>\n",
       "      <td>...heute abend bei mir</td>\n",
       "      <td>movie</td>\n",
       "      <td>1934</td>\n",
       "      <td>91</td>\n",
       "      <td></td>\n",
       "    </tr>\n",
       "    <tr>\n",
       "      <th>7</th>\n",
       "      <td>26026</td>\n",
       "      <td>...nur ein Komödiant</td>\n",
       "      <td>movie</td>\n",
       "      <td>1935</td>\n",
       "      <td>95</td>\n",
       "      <td></td>\n",
       "    </tr>\n",
       "    <tr>\n",
       "      <th>8</th>\n",
       "      <td>31761</td>\n",
       "      <td>...One Third of a Nation...</td>\n",
       "      <td>movie</td>\n",
       "      <td>1939</td>\n",
       "      <td>79</td>\n",
       "      <td>Drama</td>\n",
       "    </tr>\n",
       "    <tr>\n",
       "      <th>9</th>\n",
       "      <td>32177</td>\n",
       "      <td>...som en tjuv om natten</td>\n",
       "      <td>movie</td>\n",
       "      <td>1940</td>\n",
       "      <td>98</td>\n",
       "      <td>Comedy</td>\n",
       "    </tr>\n",
       "  </tbody>\n",
       "</table>\n",
       "</div>"
      ],
      "text/plain": [
       "   codigo                               nome   tipo   ano  duração  \\\n",
       "0   22731             -But the Flesh Is Weak  movie  1932       77   \n",
       "1   28533                ¡Centinela, alerta!  movie  1937       80   \n",
       "2   22756                  ¡Que viva Mexico!  movie  1932       88   \n",
       "3   24642                            ¡Tango!  movie  1933       80   \n",
       "4    8805  ¿Quién me hará olvidar sin morir?  movie  1916        0   \n",
       "5   28534             ¿Quién me quiere a mí?  movie  1936       84   \n",
       "6   24806             ...heute abend bei mir  movie  1934       91   \n",
       "7   26026               ...nur ein Komödiant  movie  1935       95   \n",
       "8   31761        ...One Third of a Nation...  movie  1939       79   \n",
       "9   32177           ...som en tjuv om natten  movie  1940       98   \n",
       "\n",
       "            genero  \n",
       "0           Comedy  \n",
       "1          Musical  \n",
       "2          History  \n",
       "3  Musical,Romance  \n",
       "4                   \n",
       "5            Drama  \n",
       "6                   \n",
       "7                   \n",
       "8            Drama  \n",
       "9           Comedy  "
      ]
     },
     "execution_count": 6,
     "metadata": {},
     "output_type": "execute_result"
    }
   ],
   "source": [
    "# Relação da tab. titulo com titulos detalhes ordenado por nome.\n",
    "query = '''SELECT \n",
    "    t.cod_titulo AS codigo,\n",
    "    t.nom_titulo AS nome,\n",
    "    d.tip_titulo AS tipo,\n",
    "    d.ano_lancamento AS ano,\n",
    "    d.qtd_minutos AS duração,\n",
    "    d.dsc_genero AS genero\n",
    "FROM\n",
    "    titulo t\n",
    "        JOIN\n",
    "    titulo_detalhe d ON t.cod_titulo = d.cod_titulo\n",
    "ORDER BY t.nom_titulo;\n",
    "        '''\n",
    "pd.read_sql(query,con).head(10)"
   ]
  },
  {
   "cell_type": "markdown",
   "id": "bad3b2d7",
   "metadata": {
    "hidden": true
   },
   "source": [
    "* **Apesar de nome estar ordenado podemos ver que existem os critérios dos caracteres**"
   ]
  },
  {
   "cell_type": "markdown",
   "id": "d254893d",
   "metadata": {
    "heading_collapsed": true,
    "hidden": true
   },
   "source": [
    "#### **c. Relação dos títulos em ordem alfabética, seus autores e diretores(quando existirem essas duas últimas informações).**\n",
    "<a id=\"ancora4.4\"></a>\n",
    "[voltar](#ancora)."
   ]
  },
  {
   "cell_type": "code",
   "execution_count": 7,
   "id": "c4ec0614",
   "metadata": {
    "hidden": true
   },
   "outputs": [
    {
     "data": {
      "text/html": [
       "<div>\n",
       "<style scoped>\n",
       "    .dataframe tbody tr th:only-of-type {\n",
       "        vertical-align: middle;\n",
       "    }\n",
       "\n",
       "    .dataframe tbody tr th {\n",
       "        vertical-align: top;\n",
       "    }\n",
       "\n",
       "    .dataframe thead th {\n",
       "        text-align: right;\n",
       "    }\n",
       "</style>\n",
       "<table border=\"1\" class=\"dataframe\">\n",
       "  <thead>\n",
       "    <tr style=\"text-align: right;\">\n",
       "      <th></th>\n",
       "      <th>Nome do Título</th>\n",
       "      <th>Autor</th>\n",
       "      <th>Diretor</th>\n",
       "    </tr>\n",
       "  </thead>\n",
       "  <tbody>\n",
       "    <tr>\n",
       "      <th>0</th>\n",
       "      <td>-But the Flesh Is Weak</td>\n",
       "      <td>Ivor Novello</td>\n",
       "      <td>Jack Conway</td>\n",
       "    </tr>\n",
       "    <tr>\n",
       "      <th>1</th>\n",
       "      <td>.45 Calibre War</td>\n",
       "      <td>Ford Beebe</td>\n",
       "      <td>Leo D. Maloney</td>\n",
       "    </tr>\n",
       "    <tr>\n",
       "      <th>2</th>\n",
       "      <td>'Blue Blazes' Rawden</td>\n",
       "      <td>J.G. Hawks</td>\n",
       "      <td>William S. Hart</td>\n",
       "    </tr>\n",
       "    <tr>\n",
       "      <th>3</th>\n",
       "      <td>'Midst Woodland Shadows</td>\n",
       "      <td>Ralph Ince</td>\n",
       "      <td>Ralph Ince</td>\n",
       "    </tr>\n",
       "    <tr>\n",
       "      <th>4</th>\n",
       "      <td>'Neath the Arizona Skies</td>\n",
       "      <td>Burl R. Tuttle</td>\n",
       "      <td>Harry L. Fraser</td>\n",
       "    </tr>\n",
       "    <tr>\n",
       "      <th>5</th>\n",
       "      <td>'Neath Western Skies</td>\n",
       "      <td>Sally Winters</td>\n",
       "      <td>J.P. McGowan</td>\n",
       "    </tr>\n",
       "    <tr>\n",
       "      <th>6</th>\n",
       "      <td>'Round the World in 80 Days</td>\n",
       "      <td>Jules Verne</td>\n",
       "      <td>Ralph Ince</td>\n",
       "    </tr>\n",
       "    <tr>\n",
       "      <th>7</th>\n",
       "      <td>$1000 a Touchdown</td>\n",
       "      <td>Delmer Daves</td>\n",
       "      <td>James P. Hogan</td>\n",
       "    </tr>\n",
       "    <tr>\n",
       "      <th>8</th>\n",
       "      <td>$50,000 Reward</td>\n",
       "      <td>Frank Howard Clark</td>\n",
       "      <td>Clifford S. Elfelt</td>\n",
       "    </tr>\n",
       "    <tr>\n",
       "      <th>9</th>\n",
       "      <td>10,000 Dollars</td>\n",
       "      <td>Frank Lloyd</td>\n",
       "      <td>Frank Lloyd</td>\n",
       "    </tr>\n",
       "  </tbody>\n",
       "</table>\n",
       "</div>"
      ],
      "text/plain": [
       "                Nome do Título               Autor             Diretor\n",
       "0       -But the Flesh Is Weak        Ivor Novello         Jack Conway\n",
       "1              .45 Calibre War          Ford Beebe      Leo D. Maloney\n",
       "2         'Blue Blazes' Rawden          J.G. Hawks     William S. Hart\n",
       "3      'Midst Woodland Shadows          Ralph Ince          Ralph Ince\n",
       "4     'Neath the Arizona Skies      Burl R. Tuttle     Harry L. Fraser\n",
       "5         'Neath Western Skies       Sally Winters        J.P. McGowan\n",
       "6  'Round the World in 80 Days         Jules Verne          Ralph Ince\n",
       "7            $1000 a Touchdown        Delmer Daves      James P. Hogan\n",
       "8               $50,000 Reward  Frank Howard Clark  Clifford S. Elfelt\n",
       "9               10,000 Dollars         Frank Lloyd         Frank Lloyd"
      ]
     },
     "execution_count": 7,
     "metadata": {},
     "output_type": "execute_result"
    }
   ],
   "source": [
    "query ='''SELECT \n",
    "    T.nom_titulo AS 'Nome do Título',\n",
    "    aut.nom_pessoa AS 'Autor',\n",
    "    dir.nom_pessoa AS 'Diretor'\n",
    "FROM\n",
    "    Titulo AS T\n",
    "        LEFT JOIN\n",
    "    autoria AS TA ON T.cod_titulo = TA.cod_titulo\n",
    "        LEFT JOIN\n",
    "    pessoa AS aut ON TA.cod_pessoa = aut.cod_pessoa\n",
    "        LEFT JOIN\n",
    "    direcao AS TD ON T.cod_titulo = TD.cod_titulo\n",
    "        LEFT JOIN\n",
    "    pessoa AS dir ON TD.cod_pessoa = dir.cod_pessoa\n",
    "WHERE\n",
    "    aut.nom_pessoa IS NOT NULL\n",
    "        AND dir.nom_pessoa IS NOT NULL\n",
    "ORDER BY T.nom_titulo ASC; '''\n",
    "pd.read_sql(query,con).head(10)"
   ]
  },
  {
   "cell_type": "markdown",
   "id": "5e2a63a4",
   "metadata": {
    "hidden": true
   },
   "source": [
    "#### **d. Relação dos 100 títulos mais bem avaliados, suas avaliações e total de votos.**\n",
    "<a id=\"ancora4.5\"></a>\n",
    "[voltar](#ancora)."
   ]
  },
  {
   "cell_type": "code",
   "execution_count": 8,
   "id": "721596fa",
   "metadata": {
    "hidden": true
   },
   "outputs": [
    {
     "data": {
      "text/html": [
       "<div>\n",
       "<style scoped>\n",
       "    .dataframe tbody tr th:only-of-type {\n",
       "        vertical-align: middle;\n",
       "    }\n",
       "\n",
       "    .dataframe tbody tr th {\n",
       "        vertical-align: top;\n",
       "    }\n",
       "\n",
       "    .dataframe thead th {\n",
       "        text-align: right;\n",
       "    }\n",
       "</style>\n",
       "<table border=\"1\" class=\"dataframe\">\n",
       "  <thead>\n",
       "    <tr style=\"text-align: right;\">\n",
       "      <th></th>\n",
       "      <th>nom_titulo</th>\n",
       "      <th>classificacao_media</th>\n",
       "      <th>total_votos</th>\n",
       "    </tr>\n",
       "  </thead>\n",
       "  <tbody>\n",
       "    <tr>\n",
       "      <th>0</th>\n",
       "      <td>Golod... golod... golod</td>\n",
       "      <td>94</td>\n",
       "      <td>1</td>\n",
       "    </tr>\n",
       "    <tr>\n",
       "      <th>1</th>\n",
       "      <td>Milionar pentru o zi</td>\n",
       "      <td>90</td>\n",
       "      <td>1</td>\n",
       "    </tr>\n",
       "    <tr>\n",
       "      <th>2</th>\n",
       "      <td>It's a Wise Child</td>\n",
       "      <td>89</td>\n",
       "      <td>1</td>\n",
       "    </tr>\n",
       "    <tr>\n",
       "      <th>3</th>\n",
       "      <td>His Glorious Night</td>\n",
       "      <td>88</td>\n",
       "      <td>1</td>\n",
       "    </tr>\n",
       "    <tr>\n",
       "      <th>4</th>\n",
       "      <td>Nishizumi senshacho-den</td>\n",
       "      <td>88</td>\n",
       "      <td>1</td>\n",
       "    </tr>\n",
       "    <tr>\n",
       "      <th>...</th>\n",
       "      <td>...</td>\n",
       "      <td>...</td>\n",
       "      <td>...</td>\n",
       "    </tr>\n",
       "    <tr>\n",
       "      <th>95</th>\n",
       "      <td>Otona no miru ehon - Umarete wa mita keredo</td>\n",
       "      <td>80</td>\n",
       "      <td>1</td>\n",
       "    </tr>\n",
       "    <tr>\n",
       "      <th>96</th>\n",
       "      <td>Der Sträfling aus Stambul</td>\n",
       "      <td>80</td>\n",
       "      <td>1</td>\n",
       "    </tr>\n",
       "    <tr>\n",
       "      <th>97</th>\n",
       "      <td>Free Eats</td>\n",
       "      <td>80</td>\n",
       "      <td>1</td>\n",
       "    </tr>\n",
       "    <tr>\n",
       "      <th>98</th>\n",
       "      <td>Igloo</td>\n",
       "      <td>80</td>\n",
       "      <td>1</td>\n",
       "    </tr>\n",
       "    <tr>\n",
       "      <th>99</th>\n",
       "      <td>My Man Godfrey</td>\n",
       "      <td>80</td>\n",
       "      <td>1</td>\n",
       "    </tr>\n",
       "  </tbody>\n",
       "</table>\n",
       "<p>100 rows × 3 columns</p>\n",
       "</div>"
      ],
      "text/plain": [
       "                                     nom_titulo  classificacao_media  \\\n",
       "0                       Golod... golod... golod                   94   \n",
       "1                          Milionar pentru o zi                   90   \n",
       "2                             It's a Wise Child                   89   \n",
       "3                            His Glorious Night                   88   \n",
       "4                       Nishizumi senshacho-den                   88   \n",
       "..                                          ...                  ...   \n",
       "95  Otona no miru ehon - Umarete wa mita keredo                   80   \n",
       "96                    Der Sträfling aus Stambul                   80   \n",
       "97                                    Free Eats                   80   \n",
       "98                                        Igloo                   80   \n",
       "99                               My Man Godfrey                   80   \n",
       "\n",
       "    total_votos  \n",
       "0             1  \n",
       "1             1  \n",
       "2             1  \n",
       "3             1  \n",
       "4             1  \n",
       "..          ...  \n",
       "95            1  \n",
       "96            1  \n",
       "97            1  \n",
       "98            1  \n",
       "99            1  \n",
       "\n",
       "[100 rows x 3 columns]"
      ]
     },
     "execution_count": 8,
     "metadata": {},
     "output_type": "execute_result"
    }
   ],
   "source": [
    "query = '''SELECT \n",
    "  nom_titulo, \n",
    "  classificacao_media, \n",
    "  COUNT(classificacao_media) AS total_votos \n",
    "FROM \n",
    "  Titulo \n",
    "  LEFT JOIN Avaliacao ON Titulo.cod_titulo = Avaliacao.cod_titulo \n",
    "GROUP BY \n",
    "  nom_titulo \n",
    "ORDER BY \n",
    "  classificacao_media DESC \n",
    "LIMIT 100; \n",
    "'''\n",
    "pd.read_sql(query,con)"
   ]
  },
  {
   "cell_type": "markdown",
   "id": "b294a153",
   "metadata": {},
   "source": [
    "### **8.Solução .**\n",
    "<a id=\"ancora8\"></a>\n",
    "[voltar](#ancora)."
   ]
  },
  {
   "cell_type": "markdown",
   "id": "b4d322df",
   "metadata": {
    "heading_collapsed": true
   },
   "source": [
    "#### **a ‒ Títulos sem avaliação.**\n",
    "<a id=\"ancora5.1\"></a>\n",
    "[voltar](#ancora)."
   ]
  },
  {
   "cell_type": "code",
   "execution_count": 13,
   "id": "63aaea67",
   "metadata": {
    "hidden": true
   },
   "outputs": [
    {
     "data": {
      "text/html": [
       "<div>\n",
       "<style scoped>\n",
       "    .dataframe tbody tr th:only-of-type {\n",
       "        vertical-align: middle;\n",
       "    }\n",
       "\n",
       "    .dataframe tbody tr th {\n",
       "        vertical-align: top;\n",
       "    }\n",
       "\n",
       "    .dataframe thead th {\n",
       "        text-align: right;\n",
       "    }\n",
       "</style>\n",
       "<table border=\"1\" class=\"dataframe\">\n",
       "  <thead>\n",
       "    <tr style=\"text-align: right;\">\n",
       "      <th></th>\n",
       "      <th>Titulos sem votação</th>\n",
       "    </tr>\n",
       "  </thead>\n",
       "  <tbody>\n",
       "  </tbody>\n",
       "</table>\n",
       "</div>"
      ],
      "text/plain": [
       "Empty DataFrame\n",
       "Columns: [Titulos sem votação]\n",
       "Index: []"
      ]
     },
     "execution_count": 13,
     "metadata": {},
     "output_type": "execute_result"
    }
   ],
   "source": [
    "query = '''SELECT \n",
    "    nom_titulo as \"Titulos sem votação\"\n",
    "FROM\n",
    "    Titulo\n",
    "        LEFT JOIN\n",
    "    avaliacao ON titulo.cod_titulo = avaliacao.cod_titulo\n",
    "WHERE\n",
    "    avaliacao.qtd_votos < 1;\n",
    "'''\n",
    "pd.read_sql(query,con)"
   ]
  },
  {
   "cell_type": "markdown",
   "id": "5ea4cadb",
   "metadata": {
    "hidden": true
   },
   "source": [
    "* **Todos os títulos possuem avaliações.**"
   ]
  },
  {
   "cell_type": "markdown",
   "id": "661fdc55",
   "metadata": {
    "heading_collapsed": true
   },
   "source": [
    "#### **b ‒ Títulos sem o detalhe da duração (qtd_minutos) ou informação do gênero (dsc_genero).**\n",
    "<a id=\"ancora5.2\"></a>\n",
    "[voltar](#ancora)."
   ]
  },
  {
   "cell_type": "code",
   "execution_count": 23,
   "id": "26db3270",
   "metadata": {
    "hidden": true
   },
   "outputs": [
    {
     "data": {
      "text/html": [
       "<div>\n",
       "<style scoped>\n",
       "    .dataframe tbody tr th:only-of-type {\n",
       "        vertical-align: middle;\n",
       "    }\n",
       "\n",
       "    .dataframe tbody tr th {\n",
       "        vertical-align: top;\n",
       "    }\n",
       "\n",
       "    .dataframe thead th {\n",
       "        text-align: right;\n",
       "    }\n",
       "</style>\n",
       "<table border=\"1\" class=\"dataframe\">\n",
       "  <thead>\n",
       "    <tr style=\"text-align: right;\">\n",
       "      <th></th>\n",
       "      <th>Titulos sem duração ou sem informação do genero</th>\n",
       "    </tr>\n",
       "  </thead>\n",
       "  <tbody>\n",
       "    <tr>\n",
       "      <th>0</th>\n",
       "      <td>Un bon bock</td>\n",
       "    </tr>\n",
       "    <tr>\n",
       "      <th>1</th>\n",
       "      <td>Opening of the Kiel Canal</td>\n",
       "    </tr>\n",
       "    <tr>\n",
       "      <th>2</th>\n",
       "      <td>Awakening of Rip</td>\n",
       "    </tr>\n",
       "    <tr>\n",
       "      <th>3</th>\n",
       "      <td>Barque sortant du port de Trouville</td>\n",
       "    </tr>\n",
       "    <tr>\n",
       "      <th>4</th>\n",
       "      <td>Bateau-mouche sur la Seine</td>\n",
       "    </tr>\n",
       "    <tr>\n",
       "      <th>...</th>\n",
       "      <td>...</td>\n",
       "    </tr>\n",
       "    <tr>\n",
       "      <th>4656</th>\n",
       "      <td>Kalyani</td>\n",
       "    </tr>\n",
       "    <tr>\n",
       "      <th>4657</th>\n",
       "      <td>Miyamoto Musashi - Dai-ichi-bu: Kusawake no hi...</td>\n",
       "    </tr>\n",
       "    <tr>\n",
       "      <th>4658</th>\n",
       "      <td>Peter, Paul und Nanette</td>\n",
       "    </tr>\n",
       "    <tr>\n",
       "      <th>4659</th>\n",
       "      <td>Sibiryaki</td>\n",
       "    </tr>\n",
       "    <tr>\n",
       "      <th>4660</th>\n",
       "      <td>Simón Bolívar</td>\n",
       "    </tr>\n",
       "  </tbody>\n",
       "</table>\n",
       "<p>4661 rows × 1 columns</p>\n",
       "</div>"
      ],
      "text/plain": [
       "        Titulos sem duração ou sem informação do genero\n",
       "0                                           Un bon bock\n",
       "1                             Opening of the Kiel Canal\n",
       "2                                      Awakening of Rip\n",
       "3                   Barque sortant du port de Trouville\n",
       "4                            Bateau-mouche sur la Seine\n",
       "...                                                 ...\n",
       "4656                                            Kalyani\n",
       "4657  Miyamoto Musashi - Dai-ichi-bu: Kusawake no hi...\n",
       "4658                            Peter, Paul und Nanette\n",
       "4659                                          Sibiryaki\n",
       "4660                                      Simón Bolívar\n",
       "\n",
       "[4661 rows x 1 columns]"
      ]
     },
     "execution_count": 23,
     "metadata": {},
     "output_type": "execute_result"
    }
   ],
   "source": [
    "query = '''SELECT \n",
    "    nom_titulo AS 'Titulos sem duração ou sem informação do genero'\n",
    "FROM\n",
    "    titulo\n",
    "        LEFT JOIN\n",
    "    titulo_detalhe ON titulo.cod_titulo = titulo_detalhe.cod_titulo\n",
    "WHERE\n",
    "    titulo_detalhe.qtd_minutos < 1\n",
    "        OR dsc_genero IS NULL; \n",
    "'''\n",
    "pd.read_sql(query,con)"
   ]
  },
  {
   "cell_type": "markdown",
   "id": "fc162b1e",
   "metadata": {
    "hidden": true
   },
   "source": [
    "* **Foram encontrados 4661 registros de titulos sem duração ou sem informações de dsc_genero.**"
   ]
  },
  {
   "cell_type": "markdown",
   "id": "62fde05c",
   "metadata": {
    "heading_collapsed": true
   },
   "source": [
    "#### **c - Títulos sem autor;.**\n",
    "<a id=\"ancora5.3\"></a>\n",
    "[voltar](#ancora)."
   ]
  },
  {
   "cell_type": "code",
   "execution_count": 35,
   "id": "d1023d2e",
   "metadata": {
    "hidden": true
   },
   "outputs": [
    {
     "data": {
      "text/html": [
       "<div>\n",
       "<style scoped>\n",
       "    .dataframe tbody tr th:only-of-type {\n",
       "        vertical-align: middle;\n",
       "    }\n",
       "\n",
       "    .dataframe tbody tr th {\n",
       "        vertical-align: top;\n",
       "    }\n",
       "\n",
       "    .dataframe thead th {\n",
       "        text-align: right;\n",
       "    }\n",
       "</style>\n",
       "<table border=\"1\" class=\"dataframe\">\n",
       "  <thead>\n",
       "    <tr style=\"text-align: right;\">\n",
       "      <th></th>\n",
       "      <th>Títulos sem Autor</th>\n",
       "    </tr>\n",
       "  </thead>\n",
       "  <tbody>\n",
       "    <tr>\n",
       "      <th>0</th>\n",
       "      <td>Carmencita</td>\n",
       "    </tr>\n",
       "    <tr>\n",
       "      <th>1</th>\n",
       "      <td>Le clown et ses chiens</td>\n",
       "    </tr>\n",
       "    <tr>\n",
       "      <th>2</th>\n",
       "      <td>Pauvre Pierrot</td>\n",
       "    </tr>\n",
       "    <tr>\n",
       "      <th>3</th>\n",
       "      <td>Un bon bock</td>\n",
       "    </tr>\n",
       "    <tr>\n",
       "      <th>4</th>\n",
       "      <td>Blacksmith Scene</td>\n",
       "    </tr>\n",
       "    <tr>\n",
       "      <th>...</th>\n",
       "      <td>...</td>\n",
       "    </tr>\n",
       "    <tr>\n",
       "      <th>15155</th>\n",
       "      <td>Sued for Libel</td>\n",
       "    </tr>\n",
       "    <tr>\n",
       "      <th>15156</th>\n",
       "      <td>Suotorpan tyttö</td>\n",
       "    </tr>\n",
       "    <tr>\n",
       "      <th>15157</th>\n",
       "      <td>Susan and God</td>\n",
       "    </tr>\n",
       "    <tr>\n",
       "      <th>15158</th>\n",
       "      <td>Suvorov</td>\n",
       "    </tr>\n",
       "    <tr>\n",
       "      <th>15159</th>\n",
       "      <td>Swing Social</td>\n",
       "    </tr>\n",
       "  </tbody>\n",
       "</table>\n",
       "<p>15160 rows × 1 columns</p>\n",
       "</div>"
      ],
      "text/plain": [
       "            Títulos sem Autor\n",
       "0                  Carmencita\n",
       "1      Le clown et ses chiens\n",
       "2              Pauvre Pierrot\n",
       "3                 Un bon bock\n",
       "4            Blacksmith Scene\n",
       "...                       ...\n",
       "15155          Sued for Libel\n",
       "15156         Suotorpan tyttö\n",
       "15157           Susan and God\n",
       "15158                 Suvorov\n",
       "15159            Swing Social\n",
       "\n",
       "[15160 rows x 1 columns]"
      ]
     },
     "execution_count": 35,
     "metadata": {},
     "output_type": "execute_result"
    }
   ],
   "source": [
    "query = '''SELECT \n",
    "    t.nom_titulo AS \"Títulos sem Autor\"\n",
    "FROM\n",
    "    titulo t\n",
    "        LEFT JOIN\n",
    "    autoria aut ON t.cod_titulo = aut.cod_titulo\n",
    "        LEFT JOIN\n",
    "    pessoa pes ON aut.cod_pessoa = pes.cod_pessoa\n",
    "WHERE\n",
    "    pes.nom_pessoa IS NULL; \n",
    "'''\n",
    "pd.read_sql(query,con)"
   ]
  },
  {
   "cell_type": "markdown",
   "id": "adb9c5e2",
   "metadata": {
    "hidden": true
   },
   "source": [
    "* **Encontramos 15160 nome de titulos sem autor**."
   ]
  },
  {
   "cell_type": "markdown",
   "id": "6ce57d0c",
   "metadata": {
    "heading_collapsed": true
   },
   "source": [
    "#### **d - Títulos sem diretor.**\n",
    "<a id=\"ancora5.4\"></a>\n",
    "[voltar](#ancora)."
   ]
  },
  {
   "cell_type": "code",
   "execution_count": 33,
   "id": "ce78cb5b",
   "metadata": {
    "hidden": true
   },
   "outputs": [
    {
     "data": {
      "text/html": [
       "<div>\n",
       "<style scoped>\n",
       "    .dataframe tbody tr th:only-of-type {\n",
       "        vertical-align: middle;\n",
       "    }\n",
       "\n",
       "    .dataframe tbody tr th {\n",
       "        vertical-align: top;\n",
       "    }\n",
       "\n",
       "    .dataframe thead th {\n",
       "        text-align: right;\n",
       "    }\n",
       "</style>\n",
       "<table border=\"1\" class=\"dataframe\">\n",
       "  <thead>\n",
       "    <tr style=\"text-align: right;\">\n",
       "      <th></th>\n",
       "      <th>titulos sem Diretor</th>\n",
       "    </tr>\n",
       "  </thead>\n",
       "  <tbody>\n",
       "    <tr>\n",
       "      <th>0</th>\n",
       "      <td>Corbett and Courtney Before the Kinetograph</td>\n",
       "    </tr>\n",
       "    <tr>\n",
       "      <th>1</th>\n",
       "      <td>L'arrivée d'un train à La Ciotat</td>\n",
       "    </tr>\n",
       "    <tr>\n",
       "      <th>2</th>\n",
       "      <td>Italienischer Bauerntanz</td>\n",
       "    </tr>\n",
       "    <tr>\n",
       "      <th>3</th>\n",
       "      <td>Rough Sea at Dover</td>\n",
       "    </tr>\n",
       "    <tr>\n",
       "      <th>4</th>\n",
       "      <td>Départ de Jérusalem en chemin de fer</td>\n",
       "    </tr>\n",
       "    <tr>\n",
       "      <th>...</th>\n",
       "      <td>...</td>\n",
       "    </tr>\n",
       "    <tr>\n",
       "      <th>1849</th>\n",
       "      <td>Shakespearian Spinach</td>\n",
       "    </tr>\n",
       "    <tr>\n",
       "      <th>1850</th>\n",
       "      <td>Il sogno di tutti</td>\n",
       "    </tr>\n",
       "    <tr>\n",
       "      <th>1851</th>\n",
       "      <td>Spring Meeting</td>\n",
       "    </tr>\n",
       "    <tr>\n",
       "      <th>1852</th>\n",
       "      <td>Suvorov</td>\n",
       "    </tr>\n",
       "    <tr>\n",
       "      <th>1853</th>\n",
       "      <td>Swing Social</td>\n",
       "    </tr>\n",
       "  </tbody>\n",
       "</table>\n",
       "<p>1854 rows × 1 columns</p>\n",
       "</div>"
      ],
      "text/plain": [
       "                              titulos sem Diretor\n",
       "0     Corbett and Courtney Before the Kinetograph\n",
       "1                L'arrivée d'un train à La Ciotat\n",
       "2                        Italienischer Bauerntanz\n",
       "3                              Rough Sea at Dover\n",
       "4            Départ de Jérusalem en chemin de fer\n",
       "...                                           ...\n",
       "1849                        Shakespearian Spinach\n",
       "1850                            Il sogno di tutti\n",
       "1851                               Spring Meeting\n",
       "1852                                      Suvorov\n",
       "1853                                 Swing Social\n",
       "\n",
       "[1854 rows x 1 columns]"
      ]
     },
     "execution_count": 33,
     "metadata": {},
     "output_type": "execute_result"
    }
   ],
   "source": [
    "query = '''SELECT \n",
    "    t.nom_titulo as \"titulos sem Diretor\"\n",
    "FROM\n",
    "    titulo t\n",
    "        LEFT JOIN\n",
    "    direcao dir ON t.cod_titulo = dir.cod_titulo\n",
    "        LEFT JOIN\n",
    "    pessoa pes ON dir.cod_pessoa = pes.cod_pessoa\n",
    "WHERE\n",
    "    pes.nom_pessoa IS NULL;\n",
    "'''\n",
    "pd.read_sql(query,con)"
   ]
  },
  {
   "cell_type": "markdown",
   "id": "4bfc16af",
   "metadata": {
    "hidden": true
   },
   "source": [
    "* **Foram encontrados 1854 registros de títulos sem Diretor**."
   ]
  },
  {
   "cell_type": "markdown",
   "id": "72bd8c4d",
   "metadata": {
    "heading_collapsed": true
   },
   "source": [
    "#### **e - Títulos sem elenco.**\n",
    "<a id=\"ancora5.5\"></a>\n",
    "[voltar](#ancora)."
   ]
  },
  {
   "cell_type": "code",
   "execution_count": 34,
   "id": "41286e8a",
   "metadata": {
    "hidden": true
   },
   "outputs": [
    {
     "data": {
      "text/html": [
       "<div>\n",
       "<style scoped>\n",
       "    .dataframe tbody tr th:only-of-type {\n",
       "        vertical-align: middle;\n",
       "    }\n",
       "\n",
       "    .dataframe tbody tr th {\n",
       "        vertical-align: top;\n",
       "    }\n",
       "\n",
       "    .dataframe thead th {\n",
       "        text-align: right;\n",
       "    }\n",
       "</style>\n",
       "<table border=\"1\" class=\"dataframe\">\n",
       "  <thead>\n",
       "    <tr style=\"text-align: right;\">\n",
       "      <th></th>\n",
       "      <th>titulos sem Elenco</th>\n",
       "    </tr>\n",
       "  </thead>\n",
       "  <tbody>\n",
       "    <tr>\n",
       "      <th>0</th>\n",
       "      <td>Branden i Frihavnen</td>\n",
       "    </tr>\n",
       "    <tr>\n",
       "      <th>1</th>\n",
       "      <td>Fæstningskrigen</td>\n",
       "    </tr>\n",
       "    <tr>\n",
       "      <th>2</th>\n",
       "      <td>Mellem Aber og Bjørne</td>\n",
       "    </tr>\n",
       "    <tr>\n",
       "      <th>3</th>\n",
       "      <td>Det løbske gasrør</td>\n",
       "    </tr>\n",
       "    <tr>\n",
       "      <th>4</th>\n",
       "      <td>Episódios da Terrível Explosão de Bombas no Porto</td>\n",
       "    </tr>\n",
       "    <tr>\n",
       "      <th>...</th>\n",
       "      <td>...</td>\n",
       "    </tr>\n",
       "    <tr>\n",
       "      <th>2384</th>\n",
       "      <td>Suotorpan tyttö</td>\n",
       "    </tr>\n",
       "    <tr>\n",
       "      <th>2385</th>\n",
       "      <td>Susan and God</td>\n",
       "    </tr>\n",
       "    <tr>\n",
       "      <th>2386</th>\n",
       "      <td>Suvorov</td>\n",
       "    </tr>\n",
       "    <tr>\n",
       "      <th>2387</th>\n",
       "      <td>Svetlyy put</td>\n",
       "    </tr>\n",
       "    <tr>\n",
       "      <th>2388</th>\n",
       "      <td>Swing Social</td>\n",
       "    </tr>\n",
       "  </tbody>\n",
       "</table>\n",
       "<p>2389 rows × 1 columns</p>\n",
       "</div>"
      ],
      "text/plain": [
       "                                     titulos sem Elenco\n",
       "0                                   Branden i Frihavnen\n",
       "1                                       Fæstningskrigen\n",
       "2                                 Mellem Aber og Bjørne\n",
       "3                                     Det løbske gasrør\n",
       "4     Episódios da Terrível Explosão de Bombas no Porto\n",
       "...                                                 ...\n",
       "2384                                    Suotorpan tyttö\n",
       "2385                                      Susan and God\n",
       "2386                                            Suvorov\n",
       "2387                                        Svetlyy put\n",
       "2388                                       Swing Social\n",
       "\n",
       "[2389 rows x 1 columns]"
      ]
     },
     "execution_count": 34,
     "metadata": {},
     "output_type": "execute_result"
    }
   ],
   "source": [
    "query = '''SELECT \n",
    "    t.nom_titulo as \"titulos sem Elenco\"\n",
    "FROM\n",
    "    titulo t\n",
    "        LEFT JOIN\n",
    "    elenco ON t.cod_titulo = elenco.cod_titulo\n",
    "        LEFT JOIN\n",
    "    pessoa pes ON elenco.cod_pessoa = pes.cod_pessoa\n",
    "WHERE\n",
    "    pes.nom_pessoa IS NULL;\n",
    "'''\n",
    "pd.read_sql(query,con)"
   ]
  },
  {
   "cell_type": "markdown",
   "id": "e9d3ec7d",
   "metadata": {
    "hidden": true
   },
   "source": [
    "* **Forma encontados 2389 registros de títulos sem elenco.**"
   ]
  },
  {
   "cell_type": "markdown",
   "id": "0a4f5760",
   "metadata": {},
   "source": [
    "### **9.Solução .**\n",
    "<a id=\"ancora9\"></a>\n",
    "[voltar](#ancora)."
   ]
  },
  {
   "cell_type": "markdown",
   "id": "14e920df",
   "metadata": {},
   "source": [
    "\n",
    "* **a. Nome do Título: coluna nom_titulo da tabela Titulo.**\n",
    "* **b. Tipo do Título: coluna tip_titulo da tabela Titulo_Detalhe (em maiúsculo).**\n",
    "* **c. Ano de Lançamento: coluna ano_lancamento da tabela Titulo_Detalhe.**\n",
    "* **d. Duração: coluna qtd_minutos da tabela Titulo_Detalhe (se existir ou não).**\n",
    "* **e. Gênero(s): coluna dsc_genero da tabela Titulo_Detalhe (se existir ou não).**\n",
    "* **f. Nota: coluna classificacao_media da tabela Avaliacao (se existir ou não).**\n",
    "* **g. Autor: nom_pessoa da tabela Pessoa (se existir ou não).**\n",
    "* **h. Diretor: nom_pessoa da tabela Pessoa (se existir ou não).** "
   ]
  },
  {
   "cell_type": "code",
   "execution_count": 37,
   "id": "99e50d96",
   "metadata": {},
   "outputs": [
    {
     "data": {
      "text/html": [
       "<div>\n",
       "<style scoped>\n",
       "    .dataframe tbody tr th:only-of-type {\n",
       "        vertical-align: middle;\n",
       "    }\n",
       "\n",
       "    .dataframe tbody tr th {\n",
       "        vertical-align: top;\n",
       "    }\n",
       "\n",
       "    .dataframe thead th {\n",
       "        text-align: right;\n",
       "    }\n",
       "</style>\n",
       "<table border=\"1\" class=\"dataframe\">\n",
       "  <thead>\n",
       "    <tr style=\"text-align: right;\">\n",
       "      <th></th>\n",
       "      <th>nom_titulo</th>\n",
       "      <th>tip_titulo</th>\n",
       "      <th>ano_lancamento</th>\n",
       "      <th>qtd_minutos</th>\n",
       "      <th>dsc_genero</th>\n",
       "      <th>classificacao_media</th>\n",
       "      <th>autor</th>\n",
       "      <th>diretor</th>\n",
       "    </tr>\n",
       "  </thead>\n",
       "  <tbody>\n",
       "    <tr>\n",
       "      <th>0</th>\n",
       "      <td>-But the Flesh Is Weak</td>\n",
       "      <td>MOVIE</td>\n",
       "      <td>1932</td>\n",
       "      <td>77</td>\n",
       "      <td>Comedy</td>\n",
       "      <td>57.0</td>\n",
       "      <td>Ivor Novello</td>\n",
       "      <td>Jack Conway</td>\n",
       "    </tr>\n",
       "    <tr>\n",
       "      <th>1</th>\n",
       "      <td>¡Centinela, alerta!</td>\n",
       "      <td>MOVIE</td>\n",
       "      <td>1937</td>\n",
       "      <td>80</td>\n",
       "      <td>Musical</td>\n",
       "      <td>51.0</td>\n",
       "      <td>None</td>\n",
       "      <td>None</td>\n",
       "    </tr>\n",
       "    <tr>\n",
       "      <th>2</th>\n",
       "      <td>¡Que viva Mexico!</td>\n",
       "      <td>MOVIE</td>\n",
       "      <td>1932</td>\n",
       "      <td>88</td>\n",
       "      <td>History</td>\n",
       "      <td>NaN</td>\n",
       "      <td>Grigoriy Aleksandrov</td>\n",
       "      <td>None</td>\n",
       "    </tr>\n",
       "    <tr>\n",
       "      <th>3</th>\n",
       "      <td>¡Tango!</td>\n",
       "      <td>MOVIE</td>\n",
       "      <td>1933</td>\n",
       "      <td>80</td>\n",
       "      <td>Musical,Romance</td>\n",
       "      <td>63.0</td>\n",
       "      <td>None</td>\n",
       "      <td>Luis Moglia Barth</td>\n",
       "    </tr>\n",
       "    <tr>\n",
       "      <th>4</th>\n",
       "      <td>¿Quién me hará olvidar sin morir?</td>\n",
       "      <td>MOVIE</td>\n",
       "      <td>1916</td>\n",
       "      <td>0</td>\n",
       "      <td></td>\n",
       "      <td>NaN</td>\n",
       "      <td>None</td>\n",
       "      <td>Mario Caserini</td>\n",
       "    </tr>\n",
       "    <tr>\n",
       "      <th>...</th>\n",
       "      <td>...</td>\n",
       "      <td>...</td>\n",
       "      <td>...</td>\n",
       "      <td>...</td>\n",
       "      <td>...</td>\n",
       "      <td>...</td>\n",
       "      <td>...</td>\n",
       "      <td>...</td>\n",
       "    </tr>\n",
       "    <tr>\n",
       "      <th>19609</th>\n",
       "      <td>Zwischen Nacht und Morgen</td>\n",
       "      <td>MOVIE</td>\n",
       "      <td>1920</td>\n",
       "      <td>0</td>\n",
       "      <td></td>\n",
       "      <td>NaN</td>\n",
       "      <td>None</td>\n",
       "      <td>Siegfried Philippi</td>\n",
       "    </tr>\n",
       "    <tr>\n",
       "      <th>19610</th>\n",
       "      <td>Zwischen Nacht und Morgen</td>\n",
       "      <td>MOVIE</td>\n",
       "      <td>1931</td>\n",
       "      <td>79</td>\n",
       "      <td>Drama</td>\n",
       "      <td>NaN</td>\n",
       "      <td>None</td>\n",
       "      <td>Gerhard Lamprecht</td>\n",
       "    </tr>\n",
       "    <tr>\n",
       "      <th>19611</th>\n",
       "      <td>Zwischen Strom und Steppe</td>\n",
       "      <td>MOVIE</td>\n",
       "      <td>1939</td>\n",
       "      <td>85</td>\n",
       "      <td></td>\n",
       "      <td>NaN</td>\n",
       "      <td>None</td>\n",
       "      <td>Géza von Bolváry</td>\n",
       "    </tr>\n",
       "    <tr>\n",
       "      <th>19612</th>\n",
       "      <td>Zwischen zwei Herzen</td>\n",
       "      <td>MOVIE</td>\n",
       "      <td>1934</td>\n",
       "      <td>0</td>\n",
       "      <td></td>\n",
       "      <td>NaN</td>\n",
       "      <td>None</td>\n",
       "      <td>Herbert Selpin</td>\n",
       "    </tr>\n",
       "    <tr>\n",
       "      <th>19613</th>\n",
       "      <td>Zwölf Minuten nach zwölf</td>\n",
       "      <td>MOVIE</td>\n",
       "      <td>1939</td>\n",
       "      <td>87</td>\n",
       "      <td>Comedy,Crime</td>\n",
       "      <td>NaN</td>\n",
       "      <td>None</td>\n",
       "      <td>Johannes Guter</td>\n",
       "    </tr>\n",
       "  </tbody>\n",
       "</table>\n",
       "<p>19614 rows × 8 columns</p>\n",
       "</div>"
      ],
      "text/plain": [
       "                              nom_titulo tip_titulo  ano_lancamento  \\\n",
       "0                 -But the Flesh Is Weak      MOVIE            1932   \n",
       "1                    ¡Centinela, alerta!      MOVIE            1937   \n",
       "2                      ¡Que viva Mexico!      MOVIE            1932   \n",
       "3                                ¡Tango!      MOVIE            1933   \n",
       "4      ¿Quién me hará olvidar sin morir?      MOVIE            1916   \n",
       "...                                  ...        ...             ...   \n",
       "19609          Zwischen Nacht und Morgen      MOVIE            1920   \n",
       "19610          Zwischen Nacht und Morgen      MOVIE            1931   \n",
       "19611          Zwischen Strom und Steppe      MOVIE            1939   \n",
       "19612               Zwischen zwei Herzen      MOVIE            1934   \n",
       "19613           Zwölf Minuten nach zwölf      MOVIE            1939   \n",
       "\n",
       "       qtd_minutos       dsc_genero  classificacao_media  \\\n",
       "0               77           Comedy                 57.0   \n",
       "1               80          Musical                 51.0   \n",
       "2               88          History                  NaN   \n",
       "3               80  Musical,Romance                 63.0   \n",
       "4                0                                   NaN   \n",
       "...            ...              ...                  ...   \n",
       "19609            0                                   NaN   \n",
       "19610           79            Drama                  NaN   \n",
       "19611           85                                   NaN   \n",
       "19612            0                                   NaN   \n",
       "19613           87     Comedy,Crime                  NaN   \n",
       "\n",
       "                      autor             diretor  \n",
       "0              Ivor Novello         Jack Conway  \n",
       "1                      None                None  \n",
       "2      Grigoriy Aleksandrov                None  \n",
       "3                      None   Luis Moglia Barth  \n",
       "4                      None      Mario Caserini  \n",
       "...                     ...                 ...  \n",
       "19609                  None  Siegfried Philippi  \n",
       "19610                  None   Gerhard Lamprecht  \n",
       "19611                  None    Géza von Bolváry  \n",
       "19612                  None      Herbert Selpin  \n",
       "19613                  None      Johannes Guter  \n",
       "\n",
       "[19614 rows x 8 columns]"
      ]
     },
     "execution_count": 37,
     "metadata": {},
     "output_type": "execute_result"
    }
   ],
   "source": [
    "query = '''SELECT \n",
    "                Titulo.nom_titulo,\n",
    "                UPPER(Titulo_Detalhe.tip_titulo) AS tip_titulo,\n",
    "                Titulo_Detalhe.ano_lancamento,\n",
    "                Titulo_Detalhe.qtd_minutos,\n",
    "                Titulo_Detalhe.dsc_genero,\n",
    "                Avaliacao.classificacao_media,\n",
    "                P1.nom_pessoa AS autor,\n",
    "                P2.nom_pessoa AS diretor\n",
    "            FROM\n",
    "                Titulo\n",
    "                    LEFT JOIN\n",
    "                Titulo_Detalhe ON Titulo.cod_titulo = Titulo_Detalhe.cod_titulo\n",
    "                    LEFT JOIN\n",
    "                Avaliacao ON Titulo.cod_titulo = Avaliacao.cod_titulo\n",
    "                    LEFT JOIN\n",
    "                Autoria ON Titulo.cod_titulo = Autoria.cod_titulo\n",
    "                    LEFT JOIN\n",
    "                Direcao ON Titulo.cod_titulo = Direcao.cod_titulo\n",
    "                    LEFT JOIN\n",
    "                Pessoa P1 ON autoria.cod_pessoa = P1.cod_pessoa\n",
    "                    LEFT JOIN\n",
    "                Pessoa P2 ON direcao.cod_pessoa = P2.cod_pessoa\n",
    "            WHERE\n",
    "                Titulo.ind_status = 'A'\n",
    "            ORDER BY Titulo.nom_titulo;\n",
    "'''\n",
    "\n",
    "pd.read_sql(query,con)"
   ]
  },
  {
   "cell_type": "markdown",
   "id": "9118eb1e",
   "metadata": {},
   "source": [
    "###  **10.Solução .**\n",
    "<a id=\"ancora10\"></a>\n",
    "[voltar](#ancora)."
   ]
  },
  {
   "cell_type": "markdown",
   "id": "a01f9424",
   "metadata": {},
   "source": [
    "###  **11.Solução .**\n",
    "<a id=\"ancora11\"></a>\n",
    "[voltar](#ancora)."
   ]
  },
  {
   "cell_type": "markdown",
   "id": "00850e54",
   "metadata": {},
   "source": [
    "###  **12.Solução .**\n",
    "<a id=\"ancora12\"></a>\n",
    "[voltar](#ancora)."
   ]
  },
  {
   "cell_type": "markdown",
   "id": "62237ab9",
   "metadata": {
    "heading_collapsed": true
   },
   "source": [
    "###  **13.Solução .**\n",
    "<a id=\"ancora13\"></a>\n",
    "[voltar](#ancora)."
   ]
  },
  {
   "cell_type": "code",
   "execution_count": 34,
   "id": "bd1d1767",
   "metadata": {
    "hidden": true
   },
   "outputs": [
    {
     "name": "stdout",
     "output_type": "stream",
     "text": [
      "('cod_pessoa', b'int', 'NO', bytearray(b'PRI'), None, '')\n",
      "('nom_pessoa', b'varchar(1000)', 'YES', bytearray(b''), None, '')\n",
      "('ano_nascimento', b'int', 'YES', bytearray(b''), None, '')\n",
      "('ano_falescimento', b'int', 'YES', bytearray(b''), None, '')\n",
      "('dsc_profissao', b'varchar(1000)', 'YES', bytearray(b''), None, '')\n"
     ]
    }
   ],
   "source": [
    "# Criando a tabela de Pessoa;\n",
    "Altera='''\n",
    "ALTER TABLE Pessoa\n",
    "MODIFY COLUMN nom_pessoa VARCHAR(1000);'''\n",
    "cursor.execute(Altera)\n",
    "cursor.execute('desc pessoa')\n",
    "for i in cursor:\n",
    "  print(i)"
   ]
  },
  {
   "cell_type": "markdown",
   "id": "0824f74f",
   "metadata": {},
   "source": [
    "###  **14.Solução .**\n",
    "<a id=\"ancora14\"></a>\n",
    "[voltar](#ancora)."
   ]
  },
  {
   "cell_type": "markdown",
   "id": "4d9627ce",
   "metadata": {},
   "source": [
    "###  **15.Solução .**\n",
    "<a id=\"ancora15\"></a>\n",
    "[voltar](#ancora)."
   ]
  },
  {
   "cell_type": "markdown",
   "id": "7396386b",
   "metadata": {},
   "source": [
    "### **16.Solução .** \n",
    "<a id=\"ancora16\"></a>\n",
    "[voltar](#ancora)."
   ]
  },
  {
   "cell_type": "markdown",
   "id": "447c3eb2",
   "metadata": {},
   "source": [
    "### **17.Solução .**\n",
    "<a id=\"ancora17\"></a>\n",
    "[voltar](#ancora)."
   ]
  },
  {
   "cell_type": "markdown",
   "id": "6ccc731f",
   "metadata": {},
   "source": [
    "### **18.Solução .**\n",
    "<a id=\"ancora18\"></a>\n",
    "[voltar](#ancora)."
   ]
  },
  {
   "cell_type": "markdown",
   "id": "83ad90a7",
   "metadata": {},
   "source": [
    "###  **19.Solução .**\n",
    "<a id=\"ancora19\"></a>\n",
    "[voltar](#ancora)."
   ]
  },
  {
   "cell_type": "markdown",
   "id": "8aa62dc8",
   "metadata": {},
   "source": [
    "###  **20.Solução .**\n",
    "<a id=\"ancora20\"></a>\n",
    "[voltar](#ancora)."
   ]
  },
  {
   "cell_type": "markdown",
   "id": "5e6e540c",
   "metadata": {},
   "source": [
    "###  **21.Solução .**\n",
    "<a id=\"ancora21\"></a>\n",
    "[voltar](#ancora)."
   ]
  }
 ],
 "metadata": {
  "kernelspec": {
   "display_name": "Python 3 (ipykernel)",
   "language": "python",
   "name": "python3"
  },
  "language_info": {
   "codemirror_mode": {
    "name": "ipython",
    "version": 3
   },
   "file_extension": ".py",
   "mimetype": "text/x-python",
   "name": "python",
   "nbconvert_exporter": "python",
   "pygments_lexer": "ipython3",
   "version": "3.9.12"
  }
 },
 "nbformat": 4,
 "nbformat_minor": 5
}
