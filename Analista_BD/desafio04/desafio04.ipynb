{
 "cells": [
  {
   "cell_type": "markdown",
   "id": "1674ad4c",
   "metadata": {},
   "source": [
    "# Bootcamp: Analista de Banco de Dados  - Desafio do Módulo 4"
   ]
  },
  {
   "cell_type": "markdown",
   "id": "ab7f9b47",
   "metadata": {},
   "source": [
    "<img src=\"./xpe.png\" align='left' alt=\"drawing\" width=\"150\" heigth=\"150\"/>"
   ]
  },
  {
   "cell_type": "markdown",
   "id": "299d1ec5",
   "metadata": {},
   "source": [
    "<img src=\"./bd.jpg\" align='center' alt=\"drawing\" width=\"300\" heigth=\"300\"/>"
   ]
  },
  {
   "cell_type": "markdown",
   "id": "e61afc30",
   "metadata": {
    "heading_collapsed": true
   },
   "source": [
    "## Objetivos de Ensino\n",
    "\n",
    "### Exercitar os seguintes conceitos trabalhados no Módulo:\n",
    "\n"
   ]
  },
  {
   "cell_type": "markdown",
   "id": "c71a26c3",
   "metadata": {
    "hidden": true
   },
   "source": [
    "* **1. Analise e otimização de plano de queries no SQL Server e MongoDB**\n",
    "* **2. Cargas e expurgos massivos de dados no SQL Server e MongoDB.**"
   ]
  },
  {
   "cell_type": "markdown",
   "id": "d8eaf957",
   "metadata": {},
   "source": [
    "## Enunciado:\n"
   ]
  },
  {
   "cell_type": "markdown",
   "id": "b5c83a8c",
   "metadata": {},
   "source": [
    "**O projeto para o qual você foi contratado no Módulo 2 entra agora em sua \n",
    "segunda fase, onde será feita a otimização das queries que foram \n",
    "implementadas no SQL Sever.**\n"
   ]
  },
  {
   "cell_type": "markdown",
   "id": "e6e13d7b",
   "metadata": {},
   "source": [
    "<a name=\"ancora\"></a>\n",
    "# Com base nesse modelo de dados, você foi contratado pela empresa para desempenhar as seguintes atividades:\n",
    "* ## [Contexto](#ancora1)    \n",
    "        \n",
    "* ## [Diagrama EER - BDProduções](#ancora2)\n",
    "\n",
    "* ## [Atividades.](#ancora3)\n",
    "    \n",
    "    * [1. Criar o banco BDProducoes e seu schema físico.](#ancora4)\n",
    "    * [2.Criar o banco de dados BD_Producoes.](#ancora5)\n",
    "    * [3.Analise o plano de execução da query abaixo, que retorna a quantidade de títulos ativos, e verifique como ela pode ser melhorada.](#ancora6)\n",
    "    * [4.Analise o plano de execução da query abaixo, que retorna a relação dos 100 títulos mais bem avaliados, suas avaliações e total de votos, e verifique como ela pode ser melhorada.](#ancora7)\n",
    "    * [5.Analise o plano de execução da query abaixo, Títulos sem o detalhe da duração (qtd_minutos) ou informação do gênero (dsc_genero), e verifique como ela pode ser melhorada.](#ancora8)\n",
    "    * [6. Analise o plano de execução da query abaixo, que retorna informações acerca dos títulos ativos, ordenados alfabeticamente pelo nome do título, e verifique como ela pode ser melhorada.](#ancora9)\n",
    "    * [7.A tabela dbo.Pessoa é a maior tabela do sistema. Constantemente é necessário fazer uma limpeza das pessoas cadastradas que não exercem nenhuma função, ou seja, não é do elenco, não é diretor e não é autor. Sem incluir, alterar ou excluir as colunas das tabelas existentes, pense em uma estratégia para esse expurgo ser feito da forma mais performática possível.](#ancora10)\n",
    "    * [8. O diretor da empresa que o contratou ficou sabendo que você aprendeu, no Bootcamp Analista de Banco de Dados do IGTI, como melhorar performance de queries no MongoDB. Devido a isso, contratou-o também para trabalhar em uma força tarefa para melhorar a performance de um sistema de outra empresa do grupo, que controla informações dos restaurantes de todo o Estados Unidos](#ancora11)\n",
    "    * [9. Com os dados carregados, você deve ajudar a melhorar a performance das seguintes queries.](#ancora12) \n",
    "    * [10. Conclusão.](#ancora13)\n",
    "        \n",
    "    "
   ]
  },
  {
   "cell_type": "markdown",
   "id": "46867430",
   "metadata": {
    "heading_collapsed": true
   },
   "source": [
    "## Contexto.\n",
    "<a id=\"ancora1\"></a>\n",
    "[voltar](#ancora)."
   ]
  },
  {
   "cell_type": "markdown",
   "id": "eca68dfb",
   "metadata": {
    "hidden": true
   },
   "source": [
    "* As tabelas Titulo e Titulo_Detalhe permitem armazenar informações básicas e técnicas sobre as produções, enquanto as tabelas Avaliacao, Direcao, Autoria e Elenco permitem armazenar informações específicas sobre os aspectos críticos, direção e elenco de cada produção.\n",
    "* A tabela Pessoa é importante para garantir a integridade dos dados, pois permite que todas as pessoas envolvidas na produção sejam identificadas de maneira única.\n",
    "* Além disso, é importante estabelecer relações adequadas entre as tabelas para garantir a integridade dos dados e a consistência do modelo de dados. Por exemplo, a tabela Direcao deve ter uma relação com a tabela Titulo para indicar quais diretores estão associados a quais produções, e a tabela Pessoa deve ter uma relação com as tabelas Direcao, Autoria e Elenco para identificar as pessoas envolvidas na produção."
   ]
  },
  {
   "cell_type": "markdown",
   "id": "0073ad46",
   "metadata": {
    "heading_collapsed": true
   },
   "source": [
    "## Diagrama EER - BDProduções.\n",
    "<a id=\"ancora2\"></a>\n",
    "[voltar](#ancora)."
   ]
  },
  {
   "cell_type": "markdown",
   "id": "e1a4f3fa",
   "metadata": {
    "hidden": true
   },
   "source": [
    "![img](./eer.png)"
   ]
  },
  {
   "cell_type": "markdown",
   "id": "cd726b09",
   "metadata": {
    "heading_collapsed": true
   },
   "source": [
    "## Atividades:\n",
    "<a id=\"ancora3\"></a>\n",
    "[voltar](#ancora)."
   ]
  },
  {
   "cell_type": "markdown",
   "id": "6b22ffd5",
   "metadata": {
    "heading_collapsed": true
   },
   "source": [
    "##  **1. Criar o banco BDProducoes e seu schema físico.**  \n",
    "<a id=\"ancora4\"></a>\n",
    "[voltar](#ancora)."
   ]
  },
  {
   "cell_type": "code",
   "execution_count": 1,
   "id": "78afe5ec",
   "metadata": {
    "hidden": true
   },
   "outputs": [],
   "source": [
    "#importação das bibliotecas para conexão 1\n",
    "import mysql.connector\n",
    "import pandas as pd\n",
    "import warnings\n",
    "warnings.filterwarnings('ignore')"
   ]
  },
  {
   "cell_type": "markdown",
   "id": "f9a448a3",
   "metadata": {
    "heading_collapsed": true
   },
   "source": [
    "##  **2.Criar o banco de dados BD_Producoes.**\n",
    "<a id=\"ancora5\"></a>\n",
    "[voltar](#ancora)."
   ]
  },
  {
   "cell_type": "code",
   "execution_count": 40,
   "id": "5ffe1986",
   "metadata": {
    "hidden": true
   },
   "outputs": [],
   "source": [
    "# Excluí o banco de dados se ele existir apenas para refazer em caso de erro.\n",
    "# drop database teste; -- Deleta o bd teste --\n",
    "drop_bd='''\n",
    "DROP DATABASE bd_producoes;'''\n",
    "cursor.execute(drop_bd)\n",
    "cursor.execute('SHOW databases')\n",
    "for i in cursor:\n",
    "    if 'bd_producoes' in i:\n",
    "        print(i)"
   ]
  },
  {
   "cell_type": "code",
   "execution_count": 41,
   "id": "18dcbce0",
   "metadata": {
    "hidden": true
   },
   "outputs": [
    {
     "name": "stdout",
     "output_type": "stream",
     "text": [
      "('bd_producoes',)\n"
     ]
    }
   ],
   "source": [
    "# Criando o banco de dados BD_Producoes;\n",
    "criar='''\n",
    "CREATE SCHEMA IF NOT EXISTS `BD_Producoes` DEFAULT CHARACTER SET utf8 COLLATE utf8_unicode_ci;'''\n",
    "con = mysql.connector.connect(host='localhost',user='julio',password='')\n",
    "cursor = con.cursor()\n",
    "cursor.execute(criar)\n",
    "cursor.execute('SHOW databases')\n",
    "for i in cursor:\n",
    "    if 'bd_producoes' in i:\n",
    "        print(i)"
   ]
  },
  {
   "cell_type": "code",
   "execution_count": 42,
   "id": "546e1161",
   "metadata": {
    "hidden": true
   },
   "outputs": [],
   "source": [
    "# Conectando ao database bd_producoes recém criada\n",
    "con = mysql.connector.connect(host='localhost',database='bd_producoes',user='julio',password='')\n",
    "cursor = con.cursor()"
   ]
  },
  {
   "cell_type": "markdown",
   "id": "a3139b41",
   "metadata": {
    "heading_collapsed": true,
    "hidden": true
   },
   "source": [
    "###  **Script Para Criar as Tabelas**\n",
    "<a id=\"ancora3.3\"></a>\n",
    "[voltar](#ancora)."
   ]
  },
  {
   "cell_type": "code",
   "execution_count": 43,
   "id": "0cbaba24",
   "metadata": {
    "hidden": true
   },
   "outputs": [
    {
     "name": "stdout",
     "output_type": "stream",
     "text": [
      "('autoria',)\n",
      "('avaliacao',)\n",
      "('direcao',)\n",
      "('elenco',)\n",
      "('pessoa',)\n",
      "('titulo',)\n",
      "('titulo_detalhe',)\n"
     ]
    }
   ],
   "source": [
    "#Criando a tabela de Autoria;\n",
    "criar_Autoria='''\n",
    "CREATE TABLE IF NOT EXISTS Autoria (\n",
    "  cod_autoria INT PRIMARY KEY AUTO_INCREMENT,\n",
    "  cod_titulo INT NOT NULL,\n",
    "  cod_pessoa INT NOT NULL  \n",
    ");'''\n",
    "cursor.execute(criar_Autoria)\n",
    "\n",
    "# Cria a tabela 'Avaliacao'\n",
    "criar_avaliacao='''\n",
    "CREATE TABLE IF NOT EXISTS Avaliacao (\n",
    "  cod_titulo INT NOT NULL,\n",
    "  classificacao_media INT NOT NULL,\n",
    "  qtd_votos INT NOT NULL\n",
    ");'''\n",
    "cursor.execute(criar_avaliacao)\n",
    "\n",
    "# Cria a tabela 'Direcao'\n",
    "criar_direcao='''\n",
    "CREATE TABLE IF NOT EXISTS Direcao (\n",
    "  cod_direcao INT PRIMARY KEY AUTO_INCREMENT,\n",
    "  cod_titulo INT NOT NULL,\n",
    "  cod_pessoa INT NOT NULL\n",
    ");'''\n",
    "cursor.execute(criar_direcao)\n",
    "\n",
    "# Cria a tabela 'Elenco'\n",
    "criar_elenco='''\n",
    "CREATE TABLE IF NOT EXISTS Elenco (\n",
    "  cod_elenco INT PRIMARY KEY AUTO_INCREMENT,\n",
    "  cod_titulo INT NOT NULL,\n",
    "  cod_pessoa INT NOT NULL,\n",
    "  dsc_funcao VARCHAR(1000) NOT NULL,\n",
    "  desc_personagem VARCHAR(1000)\n",
    ");'''\n",
    "cursor.execute(criar_elenco)\n",
    "\n",
    "# Cria a tabela 'Pessoa'\n",
    "criar_pessoa='''\n",
    "CREATE TABLE IF NOT EXISTS Pessoa (\n",
    "  cod_pessoa INT NOT NULL,\n",
    "  nom_pessoa VARCHAR(500) NOT NULL,\n",
    "  ano_nascimento INT NULL,\n",
    "  ano_falescimento INT NULL,\n",
    "  dsc_profissao VARCHAR(1000) NULL,\n",
    "  CONSTRAINT PK_Pessoa PRIMARY KEY CLUSTERED (cod_pessoa ASC)\n",
    ");'''\n",
    "cursor.execute(criar_pessoa)\n",
    "\n",
    "# Cria a tabela 'Titulo'\n",
    "criar_titulo='''\n",
    "CREATE TABLE IF NOT EXISTS Titulo (\n",
    "  cod_titulo INT NOT NULL,\n",
    "  nom_titulo VARCHAR(1000) NULL,\n",
    "  CONSTRAINT PK_Titulo PRIMARY KEY CLUSTERED (cod_titulo ASC)\n",
    ");'''\n",
    "cursor.execute(criar_titulo)\n",
    "\n",
    "# Cria a tabela 'Titulo_Detalhe'\n",
    "criar_titulo_detalhe='''\n",
    "CREATE TABLE IF NOT EXISTS Titulo_Detalhe (\n",
    "  cod_titulo INT NOT NULL,\n",
    "  tip_titulo VARCHAR(100) NOT NULL,\n",
    "  nom_principal_titulo VARCHAR(1000) NOT NULL,\n",
    "  nom_original_titulo VARCHAR(1000) NOT NULL,\n",
    "  ind_adulto BIT NOT NULL,\n",
    "  ano_lancamento INT NOT NULL,\n",
    "  qtd_minutos SMALLINT NULL,\n",
    "  dsc_genero VARCHAR(1000) NULL\n",
    ");'''\n",
    "cursor.execute(criar_titulo_detalhe)\n",
    "\n",
    "# Exibe as tabelas do banco de dados\n",
    "cursor.execute('SHOW tables')\n",
    "for tabela in cursor:\n",
    "  print(tabela)"
   ]
  },
  {
   "cell_type": "markdown",
   "id": "7971ec4c",
   "metadata": {
    "heading_collapsed": true,
    "hidden": true
   },
   "source": [
    "###  **Script Realizar as Aterações**\n",
    "<a id=\"ancora3.5\"></a>\n",
    "[voltar](#ancora)."
   ]
  },
  {
   "cell_type": "markdown",
   "id": "75c8738c",
   "metadata": {
    "hidden": true
   },
   "source": [
    "**Alterando as tabelas conforme o enunciado**"
   ]
  },
  {
   "cell_type": "code",
   "execution_count": 44,
   "id": "485f3394",
   "metadata": {
    "hidden": true
   },
   "outputs": [
    {
     "name": "stdout",
     "output_type": "stream",
     "text": [
      "('def', 'bd_producoes', 'FK_Autoria_Pessoa', 'bd_producoes', 'autoria', bytearray(b'FOREIGN KEY'), bytearray(b'YES'))\n",
      "('def', 'bd_producoes', 'FK_Autoria_Titulo', 'bd_producoes', 'autoria', bytearray(b'FOREIGN KEY'), bytearray(b'YES'))\n",
      "('def', 'bd_producoes', 'FK_Avaliacao_Titulo', 'bd_producoes', 'avaliacao', bytearray(b'FOREIGN KEY'), bytearray(b'YES'))\n",
      "('def', 'bd_producoes', 'FK_Direcao_Pessoa', 'bd_producoes', 'direcao', bytearray(b'FOREIGN KEY'), bytearray(b'YES'))\n",
      "('def', 'bd_producoes', 'FK_Direcao_Titulo', 'bd_producoes', 'direcao', bytearray(b'FOREIGN KEY'), bytearray(b'YES'))\n",
      "('def', 'bd_producoes', 'FK_Elenco_Pessoa', 'bd_producoes', 'elenco', bytearray(b'FOREIGN KEY'), bytearray(b'YES'))\n",
      "('def', 'bd_producoes', 'FK_Elenco_Titulo', 'bd_producoes', 'elenco', bytearray(b'FOREIGN KEY'), bytearray(b'YES'))\n",
      "('def', 'bd_producoes', 'FK_Titulo_Detalhe_Titulo', 'bd_producoes', 'titulo_detalhe', bytearray(b'FOREIGN KEY'), bytearray(b'YES'))\n"
     ]
    }
   ],
   "source": [
    "# Alterando a tabela Autoria para adicionar as chaves estrangeiras\n",
    "alterar_autoria = '''\n",
    "ALTER TABLE Autoria\n",
    "ADD CONSTRAINT FK_Autoria_Pessoa\n",
    "FOREIGN KEY(cod_pessoa)\n",
    "REFERENCES Pessoa(cod_pessoa),\n",
    "ADD CONSTRAINT FK_Autoria_Titulo\n",
    "FOREIGN KEY(cod_titulo)\n",
    "REFERENCES Titulo(cod_titulo);\n",
    "'''\n",
    "cursor.execute(alterar_autoria)\n",
    "\n",
    "# Alterando a tabela Avaliacao para adicionar a chave estrangeira\n",
    "alterar_avaliacao = '''\n",
    "ALTER TABLE Avaliacao\n",
    "ADD CONSTRAINT FK_Avaliacao_Titulo\n",
    "FOREIGN KEY(cod_titulo)\n",
    "REFERENCES Titulo(cod_titulo);\n",
    "'''\n",
    "cursor.execute(alterar_avaliacao)\n",
    "\n",
    "# Alterando a tabela Direcao para adicionar a chave estrangeira\n",
    "alterar_direcao = '''\n",
    "ALTER TABLE Direcao\n",
    "ADD CONSTRAINT FK_Direcao_Pessoa\n",
    "FOREIGN KEY(cod_pessoa)\n",
    "REFERENCES Pessoa(cod_pessoa);\n",
    "'''\n",
    "cursor.execute(alterar_direcao)\n",
    "\n",
    "# Alterando a tabela Direcao para adicionar a chave estrangeira\n",
    "alterar_direcao_titulo = '''\n",
    "ALTER TABLE Direcao\n",
    "ADD CONSTRAINT FK_Direcao_Titulo\n",
    "FOREIGN KEY(cod_titulo)\n",
    "REFERENCES Titulo(cod_titulo);\n",
    "'''\n",
    "cursor.execute(alterar_direcao_titulo)\n",
    "\n",
    "# Alterando a tabela Elenco para adicionar as chaves estrangeiras\n",
    "alterar_elenco_pessoa = '''\n",
    "ALTER TABLE Elenco\n",
    "ADD CONSTRAINT FK_Elenco_Pessoa\n",
    "FOREIGN KEY(cod_pessoa)\n",
    "REFERENCES Pessoa(cod_pessoa);\n",
    "'''\n",
    "cursor.execute(alterar_elenco_pessoa)\n",
    "\n",
    "alterar_elenco_titulo = '''\n",
    "ALTER TABLE Elenco\n",
    "ADD CONSTRAINT FK_Elenco_Titulo\n",
    "FOREIGN KEY(cod_titulo)\n",
    "REFERENCES Titulo(cod_titulo);\n",
    "'''\n",
    "cursor.execute(alterar_elenco_titulo)\n",
    "\n",
    "# Alterando a tabela Titulo_Detalhe para adicionar a chave estrangeira\n",
    "alterar_titulo_detalhe_titulo = '''\n",
    "ALTER TABLE Titulo_Detalhe\n",
    "ADD CONSTRAINT FK_Titulo_Detalhe_Titulo\n",
    "FOREIGN KEY(cod_titulo)\n",
    "REFERENCES Titulo(cod_titulo);\n",
    "'''\n",
    "cursor.execute(alterar_titulo_detalhe_titulo)\n",
    "\n",
    "\n",
    "# Alterando a tabela Titulo para tornar a coluna nom_titulo NOT NULL\n",
    "alterar_titulo_nom_titulo = '''\n",
    "ALTER TABLE Titulo\n",
    "MODIFY COLUMN nom_titulo VARCHAR(1000) NOT NULL;\n",
    "'''\n",
    "cursor.execute(alterar_titulo_nom_titulo)\n",
    "\n",
    "# Alterando a tabela Pessoa para tornar a coluna nom_pessoa NOT NULL\n",
    "alterar_pessoa_nom_pessoa = '''\n",
    "ALTER TABLE Pessoa\n",
    "MODIFY COLUMN nom_pessoa VARCHAR(1000) NOT NULL;\n",
    "'''\n",
    "cursor.execute(alterar_pessoa_nom_pessoa)\n",
    "\n",
    "# Adicionando a coluna ind_status na tabela Titulo com valor padrão 'A'\n",
    "adicionar_ind_status = '''\n",
    "ALTER TABLE Titulo\n",
    "ADD COLUMN ind_status CHAR(1) NOT NULL DEFAULT 'A';\n",
    "'''\n",
    "cursor.execute(adicionar_ind_status)\n",
    "\n",
    "# Verificando as alterações nas tabelas do database 'bd_producoes'\n",
    "cursor.execute('SELECT * FROM information_schema.TABLE_CONSTRAINTS WHERE CONSTRAINT_TYPE = \"FOREIGN KEY\" AND TABLE_SCHEMA = \"bd_producoes\"')\n",
    "for i in cursor:\n",
    "    print(i)\n",
    "\n"
   ]
  },
  {
   "cell_type": "markdown",
   "id": "3b84b9d2",
   "metadata": {
    "hidden": true
   },
   "source": [
    "**Nota: No exemplo acima, o valor padrão de ind_status é 'A', o que significa \"ativo\".**"
   ]
  },
  {
   "cell_type": "markdown",
   "id": "b5fbaa8b",
   "metadata": {
    "heading_collapsed": true,
    "hidden": true
   },
   "source": [
    "###  **Script para carga dos dados em formato de arquivo (txt).**\n",
    "<a id=\"ancora3.7\"></a>\n",
    "[voltar](#ancora)."
   ]
  },
  {
   "cell_type": "markdown",
   "id": "2548ab0e",
   "metadata": {
    "heading_collapsed": true,
    "hidden": true
   },
   "source": [
    "####  **Persistindo dados na tabela Pessoa.**\n",
    "<a id=\"ancora3.7.1\"></a>\n",
    "[voltar](#ancora)."
   ]
  },
  {
   "cell_type": "code",
   "execution_count": 45,
   "id": "39e41639",
   "metadata": {
    "hidden": true
   },
   "outputs": [],
   "source": [
    "cursor.execute('SET sql_mode = \"\" ') # necessário pois não estava aceitando carregar os valores em branco."
   ]
  },
  {
   "cell_type": "code",
   "execution_count": 46,
   "id": "35a7af09",
   "metadata": {
    "hidden": true
   },
   "outputs": [],
   "source": [
    "load = '''LOAD DATA INFILE 'C://ProgramData//MySQL//MySQL Server 8.0//Uploads//Pessoa.txt'\n",
    "                INTO TABLE pessoa \n",
    "                CHARACTER SET LATIN1\n",
    "                FIELDS TERMINATED BY '\\t'\n",
    "                LINES TERMINATED BY '\\r\\n';\n",
    "        '''\n",
    "# Consultando uma tabela.\n",
    "cursor = con.cursor()\n",
    "cursor.execute(load)"
   ]
  },
  {
   "cell_type": "code",
   "execution_count": 47,
   "id": "ef89142f",
   "metadata": {
    "hidden": true
   },
   "outputs": [
    {
     "name": "stdout",
     "output_type": "stream",
     "text": [
      "(1, 'Fred Astaire', 1899, 1987, 'soundtrack,actor,miscellaneous')\n",
      "(2, 'Lauren Bacall', 1924, 2014, 'actress,soundtrack')\n",
      "(3, 'Brigitte Bardot', 1934, 0, 'actress,soundtrack,producer')\n",
      "(4, 'John Belushi', 1949, 1982, 'actor,writer,soundtrack')\n",
      "(5, 'Ingmar Bergman', 1918, 2007, 'writer,director,actor')\n",
      "(6, 'Ingrid Bergman', 1915, 1982, 'actress,soundtrack,producer')\n",
      "(7, 'Humphrey Bogart', 1899, 1957, 'actor,soundtrack,producer')\n",
      "(8, 'Marlon Brando', 1924, 2004, 'actor,soundtrack,director')\n",
      "(9, 'Richard Burton', 1925, 1984, 'actor,producer,soundtrack')\n",
      "(10, 'James Cagney', 1899, 1986, 'actor,soundtrack,director')\n"
     ]
    }
   ],
   "source": [
    "# Consultando a tabela.\n",
    "cursor = con.cursor()\n",
    "cursor.execute('SELECT * FROM pessoa LIMIT 10')\n",
    "result = cursor.fetchall()\n",
    "for i in result:\n",
    "    print(i)"
   ]
  },
  {
   "cell_type": "code",
   "execution_count": 48,
   "id": "e28c6e32",
   "metadata": {
    "hidden": true
   },
   "outputs": [],
   "source": [
    "# Lib para visualizar as consultas em formato de dataframe.\n",
    "import pandas as pd"
   ]
  },
  {
   "cell_type": "code",
   "execution_count": 66,
   "id": "7aa2b63b",
   "metadata": {
    "hidden": true
   },
   "outputs": [
    {
     "data": {
      "text/html": [
       "<div>\n",
       "<style scoped>\n",
       "    .dataframe tbody tr th:only-of-type {\n",
       "        vertical-align: middle;\n",
       "    }\n",
       "\n",
       "    .dataframe tbody tr th {\n",
       "        vertical-align: top;\n",
       "    }\n",
       "\n",
       "    .dataframe thead th {\n",
       "        text-align: right;\n",
       "    }\n",
       "</style>\n",
       "<table border=\"1\" class=\"dataframe\">\n",
       "  <thead>\n",
       "    <tr style=\"text-align: right;\">\n",
       "      <th></th>\n",
       "      <th>cod_pessoa</th>\n",
       "      <th>nom_pessoa</th>\n",
       "      <th>ano_nascimento</th>\n",
       "      <th>ano_falescimento</th>\n",
       "      <th>dsc_profissao</th>\n",
       "    </tr>\n",
       "  </thead>\n",
       "  <tbody>\n",
       "    <tr>\n",
       "      <th>0</th>\n",
       "      <td>1</td>\n",
       "      <td>Fred Astaire</td>\n",
       "      <td>1899</td>\n",
       "      <td>1987</td>\n",
       "      <td>soundtrack,actor,miscellaneous</td>\n",
       "    </tr>\n",
       "    <tr>\n",
       "      <th>1</th>\n",
       "      <td>2</td>\n",
       "      <td>Lauren Bacall</td>\n",
       "      <td>1924</td>\n",
       "      <td>2014</td>\n",
       "      <td>actress,soundtrack</td>\n",
       "    </tr>\n",
       "    <tr>\n",
       "      <th>2</th>\n",
       "      <td>3</td>\n",
       "      <td>Brigitte Bardot</td>\n",
       "      <td>1934</td>\n",
       "      <td>0</td>\n",
       "      <td>actress,soundtrack,producer</td>\n",
       "    </tr>\n",
       "    <tr>\n",
       "      <th>3</th>\n",
       "      <td>4</td>\n",
       "      <td>John Belushi</td>\n",
       "      <td>1949</td>\n",
       "      <td>1982</td>\n",
       "      <td>actor,writer,soundtrack</td>\n",
       "    </tr>\n",
       "    <tr>\n",
       "      <th>4</th>\n",
       "      <td>5</td>\n",
       "      <td>Ingmar Bergman</td>\n",
       "      <td>1918</td>\n",
       "      <td>2007</td>\n",
       "      <td>writer,director,actor</td>\n",
       "    </tr>\n",
       "    <tr>\n",
       "      <th>5</th>\n",
       "      <td>6</td>\n",
       "      <td>Ingrid Bergman</td>\n",
       "      <td>1915</td>\n",
       "      <td>1982</td>\n",
       "      <td>actress,soundtrack,producer</td>\n",
       "    </tr>\n",
       "    <tr>\n",
       "      <th>6</th>\n",
       "      <td>7</td>\n",
       "      <td>Humphrey Bogart</td>\n",
       "      <td>1899</td>\n",
       "      <td>1957</td>\n",
       "      <td>actor,soundtrack,producer</td>\n",
       "    </tr>\n",
       "    <tr>\n",
       "      <th>7</th>\n",
       "      <td>8</td>\n",
       "      <td>Marlon Brando</td>\n",
       "      <td>1924</td>\n",
       "      <td>2004</td>\n",
       "      <td>actor,soundtrack,director</td>\n",
       "    </tr>\n",
       "    <tr>\n",
       "      <th>8</th>\n",
       "      <td>9</td>\n",
       "      <td>Richard Burton</td>\n",
       "      <td>1925</td>\n",
       "      <td>1984</td>\n",
       "      <td>actor,producer,soundtrack</td>\n",
       "    </tr>\n",
       "    <tr>\n",
       "      <th>9</th>\n",
       "      <td>10</td>\n",
       "      <td>James Cagney</td>\n",
       "      <td>1899</td>\n",
       "      <td>1986</td>\n",
       "      <td>actor,soundtrack,director</td>\n",
       "    </tr>\n",
       "  </tbody>\n",
       "</table>\n",
       "</div>"
      ],
      "text/plain": [
       "   cod_pessoa       nom_pessoa  ano_nascimento  ano_falescimento  \\\n",
       "0           1     Fred Astaire            1899              1987   \n",
       "1           2    Lauren Bacall            1924              2014   \n",
       "2           3  Brigitte Bardot            1934                 0   \n",
       "3           4     John Belushi            1949              1982   \n",
       "4           5   Ingmar Bergman            1918              2007   \n",
       "5           6   Ingrid Bergman            1915              1982   \n",
       "6           7  Humphrey Bogart            1899              1957   \n",
       "7           8    Marlon Brando            1924              2004   \n",
       "8           9   Richard Burton            1925              1984   \n",
       "9          10     James Cagney            1899              1986   \n",
       "\n",
       "                    dsc_profissao  \n",
       "0  soundtrack,actor,miscellaneous  \n",
       "1              actress,soundtrack  \n",
       "2     actress,soundtrack,producer  \n",
       "3         actor,writer,soundtrack  \n",
       "4           writer,director,actor  \n",
       "5     actress,soundtrack,producer  \n",
       "6       actor,soundtrack,producer  \n",
       "7       actor,soundtrack,director  \n",
       "8       actor,producer,soundtrack  \n",
       "9       actor,soundtrack,director  "
      ]
     },
     "execution_count": 66,
     "metadata": {},
     "output_type": "execute_result"
    }
   ],
   "source": [
    "# Convertendo as consulta para o tipo pandas dataset - apenas para facilitar a visualização.\n",
    "pd.read_sql('SELECT * FROM pessoa LIMIT 10',con=con)"
   ]
  },
  {
   "cell_type": "markdown",
   "id": "4cfb6f45",
   "metadata": {
    "heading_collapsed": true,
    "hidden": true
   },
   "source": [
    "####  **Persistindo dados na tabela Título.**\n",
    "<a id=\"ancora3.8\"></a>\n",
    "[voltar](#ancora)."
   ]
  },
  {
   "cell_type": "code",
   "execution_count": 50,
   "id": "72fe10ce",
   "metadata": {
    "hidden": true
   },
   "outputs": [],
   "source": [
    "# -- persistindo registros na tabela Titulo --\n",
    "load = '''LOAD DATA INFILE 'C://ProgramData//MySQL//MySQL Server 8.0//Uploads//Titulo.txt' \n",
    "                INTO TABLE titulo \n",
    "                CHARACTER SET LATIN1\n",
    "                FIELDS TERMINATED BY '\\t'\n",
    "                LINES TERMINATED BY '\\r\\n';\n",
    "        '''\n",
    "# Consultando uma tabela.\n",
    "cursor = con.cursor()\n",
    "cursor.execute(load)"
   ]
  },
  {
   "cell_type": "code",
   "execution_count": 51,
   "id": "b13a9ead",
   "metadata": {
    "hidden": true
   },
   "outputs": [
    {
     "data": {
      "text/html": [
       "<div>\n",
       "<style scoped>\n",
       "    .dataframe tbody tr th:only-of-type {\n",
       "        vertical-align: middle;\n",
       "    }\n",
       "\n",
       "    .dataframe tbody tr th {\n",
       "        vertical-align: top;\n",
       "    }\n",
       "\n",
       "    .dataframe thead th {\n",
       "        text-align: right;\n",
       "    }\n",
       "</style>\n",
       "<table border=\"1\" class=\"dataframe\">\n",
       "  <thead>\n",
       "    <tr style=\"text-align: right;\">\n",
       "      <th></th>\n",
       "      <th>cod_titulo</th>\n",
       "      <th>nom_titulo</th>\n",
       "      <th>ind_status</th>\n",
       "    </tr>\n",
       "  </thead>\n",
       "  <tbody>\n",
       "    <tr>\n",
       "      <th>0</th>\n",
       "      <td>1</td>\n",
       "      <td>Carmencita</td>\n",
       "      <td>A</td>\n",
       "    </tr>\n",
       "    <tr>\n",
       "      <th>1</th>\n",
       "      <td>2</td>\n",
       "      <td>Le clown et ses chiens</td>\n",
       "      <td>A</td>\n",
       "    </tr>\n",
       "    <tr>\n",
       "      <th>2</th>\n",
       "      <td>3</td>\n",
       "      <td>Pauvre Pierrot</td>\n",
       "      <td>A</td>\n",
       "    </tr>\n",
       "    <tr>\n",
       "      <th>3</th>\n",
       "      <td>4</td>\n",
       "      <td>Un bon bock</td>\n",
       "      <td>A</td>\n",
       "    </tr>\n",
       "    <tr>\n",
       "      <th>4</th>\n",
       "      <td>5</td>\n",
       "      <td>Blacksmith Scene</td>\n",
       "      <td>A</td>\n",
       "    </tr>\n",
       "    <tr>\n",
       "      <th>5</th>\n",
       "      <td>6</td>\n",
       "      <td>Chinese Opium Den</td>\n",
       "      <td>A</td>\n",
       "    </tr>\n",
       "    <tr>\n",
       "      <th>6</th>\n",
       "      <td>7</td>\n",
       "      <td>Corbett and Courtney Before the Kinetograph</td>\n",
       "      <td>A</td>\n",
       "    </tr>\n",
       "    <tr>\n",
       "      <th>7</th>\n",
       "      <td>8</td>\n",
       "      <td>Edison Kinetoscopic Record of a Sneeze</td>\n",
       "      <td>A</td>\n",
       "    </tr>\n",
       "    <tr>\n",
       "      <th>8</th>\n",
       "      <td>9</td>\n",
       "      <td>Miss Jerry</td>\n",
       "      <td>A</td>\n",
       "    </tr>\n",
       "    <tr>\n",
       "      <th>9</th>\n",
       "      <td>10</td>\n",
       "      <td>La sortie de l'usine Lumière à Lyon</td>\n",
       "      <td>A</td>\n",
       "    </tr>\n",
       "  </tbody>\n",
       "</table>\n",
       "</div>"
      ],
      "text/plain": [
       "   cod_titulo                                   nom_titulo ind_status\n",
       "0           1                                   Carmencita          A\n",
       "1           2                       Le clown et ses chiens          A\n",
       "2           3                               Pauvre Pierrot          A\n",
       "3           4                                  Un bon bock          A\n",
       "4           5                             Blacksmith Scene          A\n",
       "5           6                            Chinese Opium Den          A\n",
       "6           7  Corbett and Courtney Before the Kinetograph          A\n",
       "7           8       Edison Kinetoscopic Record of a Sneeze          A\n",
       "8           9                                   Miss Jerry          A\n",
       "9          10          La sortie de l'usine Lumière à Lyon          A"
      ]
     },
     "execution_count": 51,
     "metadata": {},
     "output_type": "execute_result"
    }
   ],
   "source": [
    "# Convertendo as consulta para o tipo pandas dataset - apenas para facilitar a visualização.\n",
    "pd.read_sql('SELECT * FROM titulo LIMIT 10',con=con)"
   ]
  },
  {
   "cell_type": "markdown",
   "id": "e274098f",
   "metadata": {
    "heading_collapsed": true,
    "hidden": true
   },
   "source": [
    "####  **Persistindo dados na tabela Direção.**\n",
    "<a id=\"ancora3.9\"></a>\n",
    "[voltar](#ancora)."
   ]
  },
  {
   "cell_type": "code",
   "execution_count": 52,
   "id": "c5502ef8",
   "metadata": {
    "hidden": true
   },
   "outputs": [],
   "source": [
    "# -- persistindo registros na tabela Direção --\n",
    "load = '''LOAD DATA INFILE 'C://ProgramData//MySQL//MySQL Server 8.0//Uploads//Direcao.txt' \n",
    "                INTO TABLE direcao \n",
    "                CHARACTER SET LATIN1\n",
    "                FIELDS TERMINATED BY '\\t'\n",
    "                LINES TERMINATED BY '\\r\\n'; \n",
    "        '''\n",
    "# Consultando uma tabela.\n",
    "cursor = con.cursor()\n",
    "cursor.execute(load)"
   ]
  },
  {
   "cell_type": "code",
   "execution_count": 53,
   "id": "4035a97f",
   "metadata": {
    "hidden": true
   },
   "outputs": [
    {
     "data": {
      "text/html": [
       "<div>\n",
       "<style scoped>\n",
       "    .dataframe tbody tr th:only-of-type {\n",
       "        vertical-align: middle;\n",
       "    }\n",
       "\n",
       "    .dataframe tbody tr th {\n",
       "        vertical-align: top;\n",
       "    }\n",
       "\n",
       "    .dataframe thead th {\n",
       "        text-align: right;\n",
       "    }\n",
       "</style>\n",
       "<table border=\"1\" class=\"dataframe\">\n",
       "  <thead>\n",
       "    <tr style=\"text-align: right;\">\n",
       "      <th></th>\n",
       "      <th>cod_direcao</th>\n",
       "      <th>cod_titulo</th>\n",
       "      <th>cod_pessoa</th>\n",
       "    </tr>\n",
       "  </thead>\n",
       "  <tbody>\n",
       "    <tr>\n",
       "      <th>0</th>\n",
       "      <td>1</td>\n",
       "      <td>1</td>\n",
       "      <td>5690</td>\n",
       "    </tr>\n",
       "    <tr>\n",
       "      <th>1</th>\n",
       "      <td>2</td>\n",
       "      <td>2</td>\n",
       "      <td>721526</td>\n",
       "    </tr>\n",
       "    <tr>\n",
       "      <th>2</th>\n",
       "      <td>3</td>\n",
       "      <td>3</td>\n",
       "      <td>721526</td>\n",
       "    </tr>\n",
       "    <tr>\n",
       "      <th>3</th>\n",
       "      <td>4</td>\n",
       "      <td>4</td>\n",
       "      <td>721526</td>\n",
       "    </tr>\n",
       "    <tr>\n",
       "      <th>4</th>\n",
       "      <td>5</td>\n",
       "      <td>5</td>\n",
       "      <td>5690</td>\n",
       "    </tr>\n",
       "    <tr>\n",
       "      <th>5</th>\n",
       "      <td>6</td>\n",
       "      <td>6</td>\n",
       "      <td>5690</td>\n",
       "    </tr>\n",
       "    <tr>\n",
       "      <th>6</th>\n",
       "      <td>7</td>\n",
       "      <td>8</td>\n",
       "      <td>5690</td>\n",
       "    </tr>\n",
       "    <tr>\n",
       "      <th>7</th>\n",
       "      <td>8</td>\n",
       "      <td>9</td>\n",
       "      <td>85156</td>\n",
       "    </tr>\n",
       "    <tr>\n",
       "      <th>8</th>\n",
       "      <td>9</td>\n",
       "      <td>10</td>\n",
       "      <td>525910</td>\n",
       "    </tr>\n",
       "    <tr>\n",
       "      <th>9</th>\n",
       "      <td>10</td>\n",
       "      <td>11</td>\n",
       "      <td>804434</td>\n",
       "    </tr>\n",
       "  </tbody>\n",
       "</table>\n",
       "</div>"
      ],
      "text/plain": [
       "   cod_direcao  cod_titulo  cod_pessoa\n",
       "0            1           1        5690\n",
       "1            2           2      721526\n",
       "2            3           3      721526\n",
       "3            4           4      721526\n",
       "4            5           5        5690\n",
       "5            6           6        5690\n",
       "6            7           8        5690\n",
       "7            8           9       85156\n",
       "8            9          10      525910\n",
       "9           10          11      804434"
      ]
     },
     "execution_count": 53,
     "metadata": {},
     "output_type": "execute_result"
    }
   ],
   "source": [
    "# Convertendo as consulta para o tipo pandas dataset - apenas para facilitar a visualização.\n",
    "pd.read_sql('SELECT * FROM direcao LIMIT 10',con=con)"
   ]
  },
  {
   "cell_type": "markdown",
   "id": "0916f73c",
   "metadata": {
    "heading_collapsed": true,
    "hidden": true
   },
   "source": [
    "####  **Persistindo dados na tabela Titulo_Detalhe.**\n",
    "<a id=\"ancora3.10\"></a>\n",
    "[voltar](#ancora)."
   ]
  },
  {
   "cell_type": "code",
   "execution_count": 54,
   "id": "572da996",
   "metadata": {
    "hidden": true
   },
   "outputs": [],
   "source": [
    "# -- persistindo registros na tabela Titulo_Detalhe --\n",
    "load = '''LOAD DATA INFILE 'C://ProgramData//MySQL//MySQL Server 8.0//Uploads//Titulo_Detalhe.txt' \n",
    "                INTO TABLE titulo_detalhe \n",
    "                CHARACTER SET LATIN1\n",
    "                FIELDS TERMINATED BY '\\t'\n",
    "                LINES TERMINATED BY '\\r\\n'; \n",
    "        '''\n",
    "# Consultando uma tabela.\n",
    "cursor = con.cursor()\n",
    "cursor.execute(load)"
   ]
  },
  {
   "cell_type": "code",
   "execution_count": 55,
   "id": "7d637045",
   "metadata": {
    "hidden": true
   },
   "outputs": [
    {
     "data": {
      "text/html": [
       "<div>\n",
       "<style scoped>\n",
       "    .dataframe tbody tr th:only-of-type {\n",
       "        vertical-align: middle;\n",
       "    }\n",
       "\n",
       "    .dataframe tbody tr th {\n",
       "        vertical-align: top;\n",
       "    }\n",
       "\n",
       "    .dataframe thead th {\n",
       "        text-align: right;\n",
       "    }\n",
       "</style>\n",
       "<table border=\"1\" class=\"dataframe\">\n",
       "  <thead>\n",
       "    <tr style=\"text-align: right;\">\n",
       "      <th></th>\n",
       "      <th>cod_titulo</th>\n",
       "      <th>tip_titulo</th>\n",
       "      <th>nom_principal_titulo</th>\n",
       "      <th>nom_original_titulo</th>\n",
       "      <th>ind_adulto</th>\n",
       "      <th>ano_lancamento</th>\n",
       "      <th>qtd_minutos</th>\n",
       "      <th>dsc_genero</th>\n",
       "    </tr>\n",
       "  </thead>\n",
       "  <tbody>\n",
       "    <tr>\n",
       "      <th>0</th>\n",
       "      <td>1</td>\n",
       "      <td>short</td>\n",
       "      <td>Carmencita</td>\n",
       "      <td>Carmencita</td>\n",
       "      <td>1</td>\n",
       "      <td>1894</td>\n",
       "      <td>1</td>\n",
       "      <td>Documentary,Short</td>\n",
       "    </tr>\n",
       "    <tr>\n",
       "      <th>1</th>\n",
       "      <td>2</td>\n",
       "      <td>short</td>\n",
       "      <td>Le clown et ses chiens</td>\n",
       "      <td>Le clown et ses chiens</td>\n",
       "      <td>1</td>\n",
       "      <td>1892</td>\n",
       "      <td>5</td>\n",
       "      <td>Animation,Short</td>\n",
       "    </tr>\n",
       "    <tr>\n",
       "      <th>2</th>\n",
       "      <td>3</td>\n",
       "      <td>short</td>\n",
       "      <td>Pauvre Pierrot</td>\n",
       "      <td>Pauvre Pierrot</td>\n",
       "      <td>1</td>\n",
       "      <td>1892</td>\n",
       "      <td>4</td>\n",
       "      <td>Animation,Comedy,Romance</td>\n",
       "    </tr>\n",
       "    <tr>\n",
       "      <th>3</th>\n",
       "      <td>4</td>\n",
       "      <td>short</td>\n",
       "      <td>Un bon bock</td>\n",
       "      <td>Un bon bock</td>\n",
       "      <td>1</td>\n",
       "      <td>1892</td>\n",
       "      <td>0</td>\n",
       "      <td>Animation,Short</td>\n",
       "    </tr>\n",
       "    <tr>\n",
       "      <th>4</th>\n",
       "      <td>5</td>\n",
       "      <td>short</td>\n",
       "      <td>Blacksmith Scene</td>\n",
       "      <td>Blacksmith Scene</td>\n",
       "      <td>1</td>\n",
       "      <td>1893</td>\n",
       "      <td>1</td>\n",
       "      <td>Comedy,Short</td>\n",
       "    </tr>\n",
       "    <tr>\n",
       "      <th>5</th>\n",
       "      <td>6</td>\n",
       "      <td>short</td>\n",
       "      <td>Chinese Opium Den</td>\n",
       "      <td>Chinese Opium Den</td>\n",
       "      <td>1</td>\n",
       "      <td>1894</td>\n",
       "      <td>1</td>\n",
       "      <td>Short</td>\n",
       "    </tr>\n",
       "    <tr>\n",
       "      <th>6</th>\n",
       "      <td>7</td>\n",
       "      <td>short</td>\n",
       "      <td>Corbett and Courtney Before the Kinetograph</td>\n",
       "      <td>Corbett and Courtney Before the Kinetograph</td>\n",
       "      <td>1</td>\n",
       "      <td>1894</td>\n",
       "      <td>1</td>\n",
       "      <td>Short,Sport</td>\n",
       "    </tr>\n",
       "    <tr>\n",
       "      <th>7</th>\n",
       "      <td>8</td>\n",
       "      <td>short</td>\n",
       "      <td>Edison Kinetoscopic Record of a Sneeze</td>\n",
       "      <td>Edison Kinetoscopic Record of a Sneeze</td>\n",
       "      <td>1</td>\n",
       "      <td>1894</td>\n",
       "      <td>1</td>\n",
       "      <td>Documentary,Short</td>\n",
       "    </tr>\n",
       "    <tr>\n",
       "      <th>8</th>\n",
       "      <td>9</td>\n",
       "      <td>movie</td>\n",
       "      <td>Miss Jerry</td>\n",
       "      <td>Miss Jerry</td>\n",
       "      <td>1</td>\n",
       "      <td>1894</td>\n",
       "      <td>45</td>\n",
       "      <td>Romance</td>\n",
       "    </tr>\n",
       "    <tr>\n",
       "      <th>9</th>\n",
       "      <td>10</td>\n",
       "      <td>short</td>\n",
       "      <td>Exiting the Factory</td>\n",
       "      <td>La sortie de l'usine Lumière à Lyon</td>\n",
       "      <td>1</td>\n",
       "      <td>1895</td>\n",
       "      <td>1</td>\n",
       "      <td>Documentary,Short</td>\n",
       "    </tr>\n",
       "  </tbody>\n",
       "</table>\n",
       "</div>"
      ],
      "text/plain": [
       "   cod_titulo tip_titulo                         nom_principal_titulo  \\\n",
       "0           1      short                                   Carmencita   \n",
       "1           2      short                       Le clown et ses chiens   \n",
       "2           3      short                               Pauvre Pierrot   \n",
       "3           4      short                                  Un bon bock   \n",
       "4           5      short                             Blacksmith Scene   \n",
       "5           6      short                            Chinese Opium Den   \n",
       "6           7      short  Corbett and Courtney Before the Kinetograph   \n",
       "7           8      short       Edison Kinetoscopic Record of a Sneeze   \n",
       "8           9      movie                                   Miss Jerry   \n",
       "9          10      short                          Exiting the Factory   \n",
       "\n",
       "                           nom_original_titulo  ind_adulto  ano_lancamento  \\\n",
       "0                                   Carmencita           1            1894   \n",
       "1                       Le clown et ses chiens           1            1892   \n",
       "2                               Pauvre Pierrot           1            1892   \n",
       "3                                  Un bon bock           1            1892   \n",
       "4                             Blacksmith Scene           1            1893   \n",
       "5                            Chinese Opium Den           1            1894   \n",
       "6  Corbett and Courtney Before the Kinetograph           1            1894   \n",
       "7       Edison Kinetoscopic Record of a Sneeze           1            1894   \n",
       "8                                   Miss Jerry           1            1894   \n",
       "9          La sortie de l'usine Lumière à Lyon           1            1895   \n",
       "\n",
       "   qtd_minutos                dsc_genero  \n",
       "0            1         Documentary,Short  \n",
       "1            5           Animation,Short  \n",
       "2            4  Animation,Comedy,Romance  \n",
       "3            0           Animation,Short  \n",
       "4            1              Comedy,Short  \n",
       "5            1                     Short  \n",
       "6            1               Short,Sport  \n",
       "7            1         Documentary,Short  \n",
       "8           45                   Romance  \n",
       "9            1         Documentary,Short  "
      ]
     },
     "execution_count": 55,
     "metadata": {},
     "output_type": "execute_result"
    }
   ],
   "source": [
    "# Convertendo as consulta para o tipo pandas dataset - apenas para facilitar a visualização.\n",
    "pd.read_sql('SELECT * FROM titulo_detalhe LIMIT 10',con=con)"
   ]
  },
  {
   "cell_type": "markdown",
   "id": "4218288c",
   "metadata": {
    "heading_collapsed": true,
    "hidden": true
   },
   "source": [
    "####  **Persistindo dados na tabela Elenco.**\n",
    "<a id=\"ancora3.11\"></a>\n",
    "[voltar](#ancora)."
   ]
  },
  {
   "cell_type": "code",
   "execution_count": 56,
   "id": "93d65281",
   "metadata": {
    "hidden": true
   },
   "outputs": [],
   "source": [
    "# -- persistindo registros na tabela Elenco --\n",
    "load = '''LOAD DATA INFILE 'C://ProgramData//MySQL//MySQL Server 8.0//Uploads//Elenco.txt' \n",
    "                INTO TABLE Elenco \n",
    "                CHARACTER SET LATIN1\n",
    "                FIELDS TERMINATED BY '\\t'\n",
    "                LINES TERMINATED BY '\\r\\n'; \n",
    "        '''\n",
    "# Consultando uma tabela.\n",
    "cursor = con.cursor()\n",
    "cursor.execute(load)"
   ]
  },
  {
   "cell_type": "code",
   "execution_count": 57,
   "id": "73d38713",
   "metadata": {
    "hidden": true
   },
   "outputs": [
    {
     "data": {
      "text/html": [
       "<div>\n",
       "<style scoped>\n",
       "    .dataframe tbody tr th:only-of-type {\n",
       "        vertical-align: middle;\n",
       "    }\n",
       "\n",
       "    .dataframe tbody tr th {\n",
       "        vertical-align: top;\n",
       "    }\n",
       "\n",
       "    .dataframe thead th {\n",
       "        text-align: right;\n",
       "    }\n",
       "</style>\n",
       "<table border=\"1\" class=\"dataframe\">\n",
       "  <thead>\n",
       "    <tr style=\"text-align: right;\">\n",
       "      <th></th>\n",
       "      <th>cod_elenco</th>\n",
       "      <th>cod_titulo</th>\n",
       "      <th>cod_pessoa</th>\n",
       "      <th>dsc_funcao</th>\n",
       "      <th>desc_personagem</th>\n",
       "    </tr>\n",
       "  </thead>\n",
       "  <tbody>\n",
       "    <tr>\n",
       "      <th>0</th>\n",
       "      <td>1</td>\n",
       "      <td>1</td>\n",
       "      <td>1588970</td>\n",
       "      <td>self</td>\n",
       "      <td>[\"Herself\"]</td>\n",
       "    </tr>\n",
       "    <tr>\n",
       "      <th>1</th>\n",
       "      <td>2</td>\n",
       "      <td>1</td>\n",
       "      <td>5690</td>\n",
       "      <td>director</td>\n",
       "      <td></td>\n",
       "    </tr>\n",
       "    <tr>\n",
       "      <th>2</th>\n",
       "      <td>3</td>\n",
       "      <td>1</td>\n",
       "      <td>374658</td>\n",
       "      <td>cinematographer</td>\n",
       "      <td></td>\n",
       "    </tr>\n",
       "    <tr>\n",
       "      <th>3</th>\n",
       "      <td>4</td>\n",
       "      <td>2</td>\n",
       "      <td>721526</td>\n",
       "      <td>director</td>\n",
       "      <td></td>\n",
       "    </tr>\n",
       "    <tr>\n",
       "      <th>4</th>\n",
       "      <td>5</td>\n",
       "      <td>2</td>\n",
       "      <td>1335271</td>\n",
       "      <td>composer</td>\n",
       "      <td></td>\n",
       "    </tr>\n",
       "    <tr>\n",
       "      <th>5</th>\n",
       "      <td>6</td>\n",
       "      <td>3</td>\n",
       "      <td>721526</td>\n",
       "      <td>director</td>\n",
       "      <td></td>\n",
       "    </tr>\n",
       "    <tr>\n",
       "      <th>6</th>\n",
       "      <td>7</td>\n",
       "      <td>3</td>\n",
       "      <td>1335271</td>\n",
       "      <td>composer</td>\n",
       "      <td></td>\n",
       "    </tr>\n",
       "    <tr>\n",
       "      <th>7</th>\n",
       "      <td>8</td>\n",
       "      <td>4</td>\n",
       "      <td>721526</td>\n",
       "      <td>director</td>\n",
       "      <td></td>\n",
       "    </tr>\n",
       "    <tr>\n",
       "      <th>8</th>\n",
       "      <td>9</td>\n",
       "      <td>4</td>\n",
       "      <td>1335271</td>\n",
       "      <td>composer</td>\n",
       "      <td></td>\n",
       "    </tr>\n",
       "    <tr>\n",
       "      <th>9</th>\n",
       "      <td>10</td>\n",
       "      <td>5</td>\n",
       "      <td>443482</td>\n",
       "      <td>actor</td>\n",
       "      <td>[\"Blacksmith\"]</td>\n",
       "    </tr>\n",
       "  </tbody>\n",
       "</table>\n",
       "</div>"
      ],
      "text/plain": [
       "   cod_elenco  cod_titulo  cod_pessoa       dsc_funcao desc_personagem\n",
       "0           1           1     1588970             self     [\"Herself\"]\n",
       "1           2           1        5690         director                \n",
       "2           3           1      374658  cinematographer                \n",
       "3           4           2      721526         director                \n",
       "4           5           2     1335271         composer                \n",
       "5           6           3      721526         director                \n",
       "6           7           3     1335271         composer                \n",
       "7           8           4      721526         director                \n",
       "8           9           4     1335271         composer                \n",
       "9          10           5      443482            actor  [\"Blacksmith\"]"
      ]
     },
     "execution_count": 57,
     "metadata": {},
     "output_type": "execute_result"
    }
   ],
   "source": [
    "# Convertendo as consulta para o tipo pandas dataset - apenas para facilitar a visualização.\n",
    "pd.read_sql('SELECT * FROM elenco LIMIT 10',con=con)"
   ]
  },
  {
   "cell_type": "markdown",
   "id": "3cc604b7",
   "metadata": {
    "heading_collapsed": true,
    "hidden": true
   },
   "source": [
    "####  **Persistindo dados na tabela Autoria.**\n",
    "<a id=\"ancora3.12\"></a>\n",
    "[voltar](#ancora)."
   ]
  },
  {
   "cell_type": "code",
   "execution_count": 58,
   "id": "097506eb",
   "metadata": {
    "hidden": true
   },
   "outputs": [],
   "source": [
    "# -- persistindo registros na tabela Autoria --\n",
    "load = '''LOAD DATA INFILE 'C://ProgramData//MySQL//MySQL Server 8.0//Uploads//Autoria.txt' \n",
    "                INTO TABLE Autoria \n",
    "                CHARACTER SET LATIN1\n",
    "                FIELDS TERMINATED BY '\\t'\n",
    "                LINES TERMINATED BY '\\r\\n'; \n",
    "        '''\n",
    "# Consultando uma tabela.\n",
    "cursor = con.cursor()\n",
    "cursor.execute(load)"
   ]
  },
  {
   "cell_type": "code",
   "execution_count": 59,
   "id": "6613bff8",
   "metadata": {
    "hidden": true
   },
   "outputs": [
    {
     "data": {
      "text/html": [
       "<div>\n",
       "<style scoped>\n",
       "    .dataframe tbody tr th:only-of-type {\n",
       "        vertical-align: middle;\n",
       "    }\n",
       "\n",
       "    .dataframe tbody tr th {\n",
       "        vertical-align: top;\n",
       "    }\n",
       "\n",
       "    .dataframe thead th {\n",
       "        text-align: right;\n",
       "    }\n",
       "</style>\n",
       "<table border=\"1\" class=\"dataframe\">\n",
       "  <thead>\n",
       "    <tr style=\"text-align: right;\">\n",
       "      <th></th>\n",
       "      <th>cod_autoria</th>\n",
       "      <th>cod_titulo</th>\n",
       "      <th>cod_pessoa</th>\n",
       "    </tr>\n",
       "  </thead>\n",
       "  <tbody>\n",
       "    <tr>\n",
       "      <th>0</th>\n",
       "      <td>1</td>\n",
       "      <td>9</td>\n",
       "      <td>85156</td>\n",
       "    </tr>\n",
       "    <tr>\n",
       "      <th>1</th>\n",
       "      <td>2</td>\n",
       "      <td>36</td>\n",
       "      <td>410331</td>\n",
       "    </tr>\n",
       "    <tr>\n",
       "      <th>2</th>\n",
       "      <td>3</td>\n",
       "      <td>76</td>\n",
       "      <td>410331</td>\n",
       "    </tr>\n",
       "    <tr>\n",
       "      <th>3</th>\n",
       "      <td>4</td>\n",
       "      <td>91</td>\n",
       "      <td>617588</td>\n",
       "    </tr>\n",
       "    <tr>\n",
       "      <th>4</th>\n",
       "      <td>5</td>\n",
       "      <td>108</td>\n",
       "      <td>410331</td>\n",
       "    </tr>\n",
       "    <tr>\n",
       "      <th>5</th>\n",
       "      <td>6</td>\n",
       "      <td>109</td>\n",
       "      <td>410331</td>\n",
       "    </tr>\n",
       "    <tr>\n",
       "      <th>6</th>\n",
       "      <td>7</td>\n",
       "      <td>110</td>\n",
       "      <td>410331</td>\n",
       "    </tr>\n",
       "    <tr>\n",
       "      <th>7</th>\n",
       "      <td>8</td>\n",
       "      <td>111</td>\n",
       "      <td>410331</td>\n",
       "    </tr>\n",
       "    <tr>\n",
       "      <th>8</th>\n",
       "      <td>9</td>\n",
       "      <td>112</td>\n",
       "      <td>410331</td>\n",
       "    </tr>\n",
       "    <tr>\n",
       "      <th>9</th>\n",
       "      <td>10</td>\n",
       "      <td>113</td>\n",
       "      <td>410331</td>\n",
       "    </tr>\n",
       "  </tbody>\n",
       "</table>\n",
       "</div>"
      ],
      "text/plain": [
       "   cod_autoria  cod_titulo  cod_pessoa\n",
       "0            1           9       85156\n",
       "1            2          36      410331\n",
       "2            3          76      410331\n",
       "3            4          91      617588\n",
       "4            5         108      410331\n",
       "5            6         109      410331\n",
       "6            7         110      410331\n",
       "7            8         111      410331\n",
       "8            9         112      410331\n",
       "9           10         113      410331"
      ]
     },
     "execution_count": 59,
     "metadata": {},
     "output_type": "execute_result"
    }
   ],
   "source": [
    "# Convertendo as consulta para o tipo pandas dataset - apenas para facilitar a visualização.\n",
    "pd.read_sql('SELECT * FROM autoria LIMIT 10',con=con)"
   ]
  },
  {
   "cell_type": "markdown",
   "id": "df3cb6bc",
   "metadata": {
    "heading_collapsed": true,
    "hidden": true
   },
   "source": [
    "####  **Persistindo dados na tabela Avaliacao.**\n",
    "<a id=\"ancora3.13\"></a>\n",
    "[voltar](#ancora)."
   ]
  },
  {
   "cell_type": "code",
   "execution_count": 60,
   "id": "9a1dfa49",
   "metadata": {
    "hidden": true
   },
   "outputs": [],
   "source": [
    "# -- persistindo registros na tabela Avaliacao --\n",
    "load = '''LOAD DATA INFILE 'C://ProgramData//MySQL//MySQL Server 8.0//Uploads//Avaliacao.txt' \n",
    "                INTO TABLE Avaliacao \n",
    "                CHARACTER SET LATIN1\n",
    "                FIELDS TERMINATED BY '\\t'\n",
    "                LINES TERMINATED BY '\\r\\n'; \n",
    "        '''\n",
    "# Consultando uma tabela.\n",
    "cursor = con.cursor()\n",
    "cursor.execute(load)"
   ]
  },
  {
   "cell_type": "code",
   "execution_count": 61,
   "id": "598fa3b1",
   "metadata": {
    "hidden": true
   },
   "outputs": [
    {
     "data": {
      "text/html": [
       "<div>\n",
       "<style scoped>\n",
       "    .dataframe tbody tr th:only-of-type {\n",
       "        vertical-align: middle;\n",
       "    }\n",
       "\n",
       "    .dataframe tbody tr th {\n",
       "        vertical-align: top;\n",
       "    }\n",
       "\n",
       "    .dataframe thead th {\n",
       "        text-align: right;\n",
       "    }\n",
       "</style>\n",
       "<table border=\"1\" class=\"dataframe\">\n",
       "  <thead>\n",
       "    <tr style=\"text-align: right;\">\n",
       "      <th></th>\n",
       "      <th>cod_titulo</th>\n",
       "      <th>classificacao_media</th>\n",
       "      <th>qtd_votos</th>\n",
       "    </tr>\n",
       "  </thead>\n",
       "  <tbody>\n",
       "    <tr>\n",
       "      <th>0</th>\n",
       "      <td>1049</td>\n",
       "      <td>36</td>\n",
       "      <td>8</td>\n",
       "    </tr>\n",
       "    <tr>\n",
       "      <th>1</th>\n",
       "      <td>1062</td>\n",
       "      <td>61</td>\n",
       "      <td>956</td>\n",
       "    </tr>\n",
       "    <tr>\n",
       "      <th>2</th>\n",
       "      <td>1066</td>\n",
       "      <td>38</td>\n",
       "      <td>5</td>\n",
       "    </tr>\n",
       "    <tr>\n",
       "      <th>3</th>\n",
       "      <td>1072</td>\n",
       "      <td>56</td>\n",
       "      <td>206</td>\n",
       "    </tr>\n",
       "    <tr>\n",
       "      <th>4</th>\n",
       "      <td>1083</td>\n",
       "      <td>54</td>\n",
       "      <td>82</td>\n",
       "    </tr>\n",
       "    <tr>\n",
       "      <th>5</th>\n",
       "      <td>1084</td>\n",
       "      <td>51</td>\n",
       "      <td>124</td>\n",
       "    </tr>\n",
       "    <tr>\n",
       "      <th>6</th>\n",
       "      <td>1091</td>\n",
       "      <td>54</td>\n",
       "      <td>139</td>\n",
       "    </tr>\n",
       "    <tr>\n",
       "      <th>7</th>\n",
       "      <td>1101</td>\n",
       "      <td>45</td>\n",
       "      <td>14</td>\n",
       "    </tr>\n",
       "    <tr>\n",
       "      <th>8</th>\n",
       "      <td>1105</td>\n",
       "      <td>65</td>\n",
       "      <td>685</td>\n",
       "    </tr>\n",
       "    <tr>\n",
       "      <th>9</th>\n",
       "      <td>1112</td>\n",
       "      <td>33</td>\n",
       "      <td>14</td>\n",
       "    </tr>\n",
       "  </tbody>\n",
       "</table>\n",
       "</div>"
      ],
      "text/plain": [
       "   cod_titulo  classificacao_media  qtd_votos\n",
       "0        1049                   36          8\n",
       "1        1062                   61        956\n",
       "2        1066                   38          5\n",
       "3        1072                   56        206\n",
       "4        1083                   54         82\n",
       "5        1084                   51        124\n",
       "6        1091                   54        139\n",
       "7        1101                   45         14\n",
       "8        1105                   65        685\n",
       "9        1112                   33         14"
      ]
     },
     "execution_count": 61,
     "metadata": {},
     "output_type": "execute_result"
    }
   ],
   "source": [
    "# Convertendo as consulta para o tipo pandas dataset - apenas para facilitar a visualização.\n",
    "pd.read_sql('SELECT * FROM Avaliacao LIMIT 10',con=con)"
   ]
  },
  {
   "cell_type": "markdown",
   "id": "eb6d1fd7",
   "metadata": {
    "heading_collapsed": true
   },
   "source": [
    "## 3.Analise o plano de execução da query abaixo, que retorna a quantidade de títulos ativos, e verifique como ela pode ser melhorada;\n",
    "<a id=\"ancora6\"></a>\n",
    "[voltar](#ancora)."
   ]
  },
  {
   "cell_type": "raw",
   "id": "0a1ebaff",
   "metadata": {
    "hidden": true
   },
   "source": [
    "SELECT count(*) AS \"Total de Títulos Ativos\"\n",
    "FROM Titulo\n",
    "WHERE ind_status = 'A'"
   ]
  },
  {
   "cell_type": "markdown",
   "id": "ab6ba2b8",
   "metadata": {
    "hidden": true
   },
   "source": [
    "**Para melhorar o plano de execução dessa consulta, é possível criar um índice no campo \"ind_status\" da tabela \"Titulo\". Isso permitirá que o MySQL use uma busca mais eficiente para encontrar os títulos ativos, em vez de realizar uma varredura completa da tabela.**"
   ]
  },
  {
   "cell_type": "code",
   "execution_count": 62,
   "id": "efd80012",
   "metadata": {
    "hidden": true
   },
   "outputs": [
    {
     "name": "stdout",
     "output_type": "stream",
     "text": [
      "(19614,)\n"
     ]
    }
   ],
   "source": [
    "# Criando o índice na tabela \"Titulo\"\n",
    "cursor.execute(\"CREATE INDEX idx_titulo_ind_status ON Titulo (ind_status)\")\n",
    "\n",
    "# Executando a consulta otimizada\n",
    "cursor.execute(\"SELECT COUNT(*) AS 'Total de Títulos Ativos' FROM Titulo WHERE ind_status = 'A'\")\n",
    "resultado = cursor.fetchone()\n",
    "print(resultado)\n"
   ]
  },
  {
   "cell_type": "markdown",
   "id": "c66fbc31",
   "metadata": {
    "hidden": true
   },
   "source": [
    "**Esse script cria o índice \"idx_titulo_ind_status\" na tabela \"Titulo\" e depois executa a consulta otimizada para contar o total de títulos ativos. O resultado da consulta é armazenado na variável \"resultado\" e exibido na tela.**"
   ]
  },
  {
   "cell_type": "markdown",
   "id": "f7043e88",
   "metadata": {
    "heading_collapsed": true
   },
   "source": [
    "## 4.Analise o plano de execução da query abaixo, que retorna a relação dos 100 títulos mais bem avaliados, suas avaliações e total de votos, e verifique como ela pode ser melhorada:\n",
    "<a id=\"ancora7\"></a>\n",
    "[voltar](#ancora)."
   ]
  },
  {
   "cell_type": "raw",
   "id": "019892c6",
   "metadata": {
    "hidden": true
   },
   "source": [
    "SELECT TOP (100) T.nom_titulo, A.classificacao_media, A.qtd_votos\n",
    "FROM Titulo T JOIN Avaliacao A\n",
    "ON T.cod_titulo = A.cod_titulo\n",
    "ORDER BY A.classificacao_media DESC"
   ]
  },
  {
   "cell_type": "code",
   "execution_count": 68,
   "id": "49684f5f",
   "metadata": {
    "hidden": true
   },
   "outputs": [
    {
     "data": {
      "text/html": [
       "<div>\n",
       "<style scoped>\n",
       "    .dataframe tbody tr th:only-of-type {\n",
       "        vertical-align: middle;\n",
       "    }\n",
       "\n",
       "    .dataframe tbody tr th {\n",
       "        vertical-align: top;\n",
       "    }\n",
       "\n",
       "    .dataframe thead th {\n",
       "        text-align: right;\n",
       "    }\n",
       "</style>\n",
       "<table border=\"1\" class=\"dataframe\">\n",
       "  <thead>\n",
       "    <tr style=\"text-align: right;\">\n",
       "      <th></th>\n",
       "      <th>nom_titulo</th>\n",
       "      <th>classificacao_media</th>\n",
       "      <th>qtd_votos</th>\n",
       "    </tr>\n",
       "  </thead>\n",
       "  <tbody>\n",
       "    <tr>\n",
       "      <th>0</th>\n",
       "      <td>Golod... golod... golod</td>\n",
       "      <td>94</td>\n",
       "      <td>12</td>\n",
       "    </tr>\n",
       "    <tr>\n",
       "      <th>1</th>\n",
       "      <td>Milionar pentru o zi</td>\n",
       "      <td>90</td>\n",
       "      <td>5</td>\n",
       "    </tr>\n",
       "    <tr>\n",
       "      <th>2</th>\n",
       "      <td>It's a Wise Child</td>\n",
       "      <td>89</td>\n",
       "      <td>55</td>\n",
       "    </tr>\n",
       "    <tr>\n",
       "      <th>3</th>\n",
       "      <td>His Glorious Night</td>\n",
       "      <td>88</td>\n",
       "      <td>42</td>\n",
       "    </tr>\n",
       "    <tr>\n",
       "      <th>4</th>\n",
       "      <td>Ein hoffnungsloser Fall</td>\n",
       "      <td>88</td>\n",
       "      <td>8</td>\n",
       "    </tr>\n",
       "    <tr>\n",
       "      <th>...</th>\n",
       "      <td>...</td>\n",
       "      <td>...</td>\n",
       "      <td>...</td>\n",
       "    </tr>\n",
       "    <tr>\n",
       "      <th>95</th>\n",
       "      <td>From Nurse to Worse</td>\n",
       "      <td>80</td>\n",
       "      <td>361</td>\n",
       "    </tr>\n",
       "    <tr>\n",
       "      <th>96</th>\n",
       "      <td>Frontier Crusader</td>\n",
       "      <td>80</td>\n",
       "      <td>6</td>\n",
       "    </tr>\n",
       "    <tr>\n",
       "      <th>97</th>\n",
       "      <td>The Grapes of Wrath</td>\n",
       "      <td>80</td>\n",
       "      <td>81942</td>\n",
       "    </tr>\n",
       "    <tr>\n",
       "      <th>98</th>\n",
       "      <td>Adam and Eva</td>\n",
       "      <td>80</td>\n",
       "      <td>41</td>\n",
       "    </tr>\n",
       "    <tr>\n",
       "      <th>99</th>\n",
       "      <td>Die Nibelungen: Kriemhilds Rache</td>\n",
       "      <td>80</td>\n",
       "      <td>3614</td>\n",
       "    </tr>\n",
       "  </tbody>\n",
       "</table>\n",
       "<p>100 rows × 3 columns</p>\n",
       "</div>"
      ],
      "text/plain": [
       "                          nom_titulo  classificacao_media  qtd_votos\n",
       "0            Golod... golod... golod                   94         12\n",
       "1               Milionar pentru o zi                   90          5\n",
       "2                  It's a Wise Child                   89         55\n",
       "3                 His Glorious Night                   88         42\n",
       "4            Ein hoffnungsloser Fall                   88          8\n",
       "..                               ...                  ...        ...\n",
       "95               From Nurse to Worse                   80        361\n",
       "96                 Frontier Crusader                   80          6\n",
       "97               The Grapes of Wrath                   80      81942\n",
       "98                      Adam and Eva                   80         41\n",
       "99  Die Nibelungen: Kriemhilds Rache                   80       3614\n",
       "\n",
       "[100 rows x 3 columns]"
      ]
     },
     "execution_count": 68,
     "metadata": {},
     "output_type": "execute_result"
    }
   ],
   "source": [
    "# criando índice na tabela Avaliacao para as colunas (cod_titulo, classificacao_media, qtd_votos)\n",
    "cursor.execute('CREATE INDEX idx_Avaliacao ON Avaliacao (cod_titulo, classificacao_media, qtd_votos)')\n",
    "\n",
    "# executando a consulta otimizada\n",
    "query = '''SELECT \n",
    "  T.nom_titulo, \n",
    "  A.classificacao_media, \n",
    "  A.qtd_votos\n",
    "FROM \n",
    "  Titulo T JOIN Avaliacao A\n",
    "  ON T.cod_titulo = A.cod_titulo \n",
    "ORDER BY \n",
    "  A.classificacao_media DESC \n",
    "LIMIT 100; \n",
    "'''\n",
    "pd.read_sql(query,con)"
   ]
  },
  {
   "cell_type": "markdown",
   "id": "27649cca",
   "metadata": {
    "heading_collapsed": true
   },
   "source": [
    "## 5.Analise o plano de execução da query abaixo, Títulos sem o detalhe da duração (qtd_minutos) ou informação do gênero (dsc_genero), e verifique como ela pode ser melhorada:\n",
    "<a id=\"ancora8\"></a>\n",
    "[voltar](#ancora)."
   ]
  },
  {
   "cell_type": "raw",
   "id": "7b0b798b",
   "metadata": {
    "hidden": true
   },
   "source": [
    "SELECT *\n",
    "FROM Titulo T JOIN Titulo_Detalhe D\n",
    "ON T.cod_titulo = D.cod_titulo\n",
    "WHERE D.qtd_minutos IS NULL OR D.dsc_genero IS NUL"
   ]
  },
  {
   "cell_type": "code",
   "execution_count": 75,
   "id": "02ffc365",
   "metadata": {
    "hidden": true
   },
   "outputs": [
    {
     "data": {
      "text/html": [
       "<div>\n",
       "<style scoped>\n",
       "    .dataframe tbody tr th:only-of-type {\n",
       "        vertical-align: middle;\n",
       "    }\n",
       "\n",
       "    .dataframe tbody tr th {\n",
       "        vertical-align: top;\n",
       "    }\n",
       "\n",
       "    .dataframe thead th {\n",
       "        text-align: right;\n",
       "    }\n",
       "</style>\n",
       "<table border=\"1\" class=\"dataframe\">\n",
       "  <thead>\n",
       "    <tr style=\"text-align: right;\">\n",
       "      <th></th>\n",
       "      <th>cod_titulo</th>\n",
       "      <th>nom_titulo</th>\n",
       "      <th>ind_status</th>\n",
       "      <th>cod_titulo</th>\n",
       "      <th>tip_titulo</th>\n",
       "      <th>nom_principal_titulo</th>\n",
       "      <th>nom_original_titulo</th>\n",
       "      <th>ind_adulto</th>\n",
       "      <th>ano_lancamento</th>\n",
       "      <th>qtd_minutos</th>\n",
       "      <th>dsc_genero</th>\n",
       "    </tr>\n",
       "  </thead>\n",
       "  <tbody>\n",
       "    <tr>\n",
       "      <th>0</th>\n",
       "      <td>4</td>\n",
       "      <td>Un bon bock</td>\n",
       "      <td>A</td>\n",
       "      <td>4</td>\n",
       "      <td>short</td>\n",
       "      <td>Un bon bock</td>\n",
       "      <td>Un bon bock</td>\n",
       "      <td>1</td>\n",
       "      <td>1892</td>\n",
       "      <td>0</td>\n",
       "      <td>Animation,Short</td>\n",
       "    </tr>\n",
       "    <tr>\n",
       "      <th>1</th>\n",
       "      <td>24</td>\n",
       "      <td>Opening of the Kiel Canal</td>\n",
       "      <td>A</td>\n",
       "      <td>24</td>\n",
       "      <td>short</td>\n",
       "      <td>Opening of the Kiel Canal</td>\n",
       "      <td>Opening of the Kiel Canal</td>\n",
       "      <td>1</td>\n",
       "      <td>1895</td>\n",
       "      <td>0</td>\n",
       "      <td>News,Short</td>\n",
       "    </tr>\n",
       "    <tr>\n",
       "      <th>2</th>\n",
       "      <td>36</td>\n",
       "      <td>Awakening of Rip</td>\n",
       "      <td>A</td>\n",
       "      <td>36</td>\n",
       "      <td>short</td>\n",
       "      <td>Awakening of Rip</td>\n",
       "      <td>Awakening of Rip</td>\n",
       "      <td>1</td>\n",
       "      <td>1896</td>\n",
       "      <td>0</td>\n",
       "      <td>Drama,Short</td>\n",
       "    </tr>\n",
       "    <tr>\n",
       "      <th>3</th>\n",
       "      <td>40</td>\n",
       "      <td>Barque sortant du port de Trouville</td>\n",
       "      <td>A</td>\n",
       "      <td>40</td>\n",
       "      <td>short</td>\n",
       "      <td>Barque sortant du port de Trouville</td>\n",
       "      <td>Barque sortant du port de Trouville</td>\n",
       "      <td>1</td>\n",
       "      <td>1896</td>\n",
       "      <td>0</td>\n",
       "      <td>Documentary,Short</td>\n",
       "    </tr>\n",
       "    <tr>\n",
       "      <th>4</th>\n",
       "      <td>42</td>\n",
       "      <td>Bateau-mouche sur la Seine</td>\n",
       "      <td>A</td>\n",
       "      <td>42</td>\n",
       "      <td>short</td>\n",
       "      <td>Bateau-mouche sur la Seine</td>\n",
       "      <td>Bateau-mouche sur la Seine</td>\n",
       "      <td>1</td>\n",
       "      <td>1896</td>\n",
       "      <td>0</td>\n",
       "      <td>Documentary,Short</td>\n",
       "    </tr>\n",
       "    <tr>\n",
       "      <th>...</th>\n",
       "      <td>...</td>\n",
       "      <td>...</td>\n",
       "      <td>...</td>\n",
       "      <td>...</td>\n",
       "      <td>...</td>\n",
       "      <td>...</td>\n",
       "      <td>...</td>\n",
       "      <td>...</td>\n",
       "      <td>...</td>\n",
       "      <td>...</td>\n",
       "      <td>...</td>\n",
       "    </tr>\n",
       "    <tr>\n",
       "      <th>4656</th>\n",
       "      <td>32658</td>\n",
       "      <td>Kalyani</td>\n",
       "      <td>A</td>\n",
       "      <td>32658</td>\n",
       "      <td>movie</td>\n",
       "      <td>Kalyani</td>\n",
       "      <td>Kalyani</td>\n",
       "      <td>1</td>\n",
       "      <td>1940</td>\n",
       "      <td>0</td>\n",
       "      <td>Drama</td>\n",
       "    </tr>\n",
       "    <tr>\n",
       "      <th>4657</th>\n",
       "      <td>32822</td>\n",
       "      <td>Miyamoto Musashi - Dai-ichi-bu: Kusawake no hi...</td>\n",
       "      <td>A</td>\n",
       "      <td>32822</td>\n",
       "      <td>movie</td>\n",
       "      <td>Miyamoto Musashi - Dai-ichi-bu: Kusawake no hi...</td>\n",
       "      <td>Miyamoto Musashi - Dai-ichi-bu: Kusawake no hi...</td>\n",
       "      <td>1</td>\n",
       "      <td>1940</td>\n",
       "      <td>0</td>\n",
       "      <td>Drama</td>\n",
       "    </tr>\n",
       "    <tr>\n",
       "      <th>4658</th>\n",
       "      <td>32899</td>\n",
       "      <td>Peter, Paul und Nanette</td>\n",
       "      <td>A</td>\n",
       "      <td>32899</td>\n",
       "      <td>movie</td>\n",
       "      <td>Peter, Paul und Nanette</td>\n",
       "      <td>Peter, Paul und Nanette</td>\n",
       "      <td>1</td>\n",
       "      <td>1935</td>\n",
       "      <td>0</td>\n",
       "      <td></td>\n",
       "    </tr>\n",
       "    <tr>\n",
       "      <th>4659</th>\n",
       "      <td>33048</td>\n",
       "      <td>Sibiryaki</td>\n",
       "      <td>A</td>\n",
       "      <td>33048</td>\n",
       "      <td>movie</td>\n",
       "      <td>Sibiryaki</td>\n",
       "      <td>Sibiryaki</td>\n",
       "      <td>1</td>\n",
       "      <td>1940</td>\n",
       "      <td>0</td>\n",
       "      <td>Adventure,Drama</td>\n",
       "    </tr>\n",
       "    <tr>\n",
       "      <th>4660</th>\n",
       "      <td>33053</td>\n",
       "      <td>Simón Bolívar</td>\n",
       "      <td>A</td>\n",
       "      <td>33053</td>\n",
       "      <td>movie</td>\n",
       "      <td>The Life of Simon Bolivar</td>\n",
       "      <td>Simón Bolívar</td>\n",
       "      <td>1</td>\n",
       "      <td>1942</td>\n",
       "      <td>0</td>\n",
       "      <td>Adventure,Biography,Drama</td>\n",
       "    </tr>\n",
       "  </tbody>\n",
       "</table>\n",
       "<p>4661 rows × 11 columns</p>\n",
       "</div>"
      ],
      "text/plain": [
       "      cod_titulo                                         nom_titulo  \\\n",
       "0              4                                        Un bon bock   \n",
       "1             24                          Opening of the Kiel Canal   \n",
       "2             36                                   Awakening of Rip   \n",
       "3             40                Barque sortant du port de Trouville   \n",
       "4             42                         Bateau-mouche sur la Seine   \n",
       "...          ...                                                ...   \n",
       "4656       32658                                            Kalyani   \n",
       "4657       32822  Miyamoto Musashi - Dai-ichi-bu: Kusawake no hi...   \n",
       "4658       32899                            Peter, Paul und Nanette   \n",
       "4659       33048                                          Sibiryaki   \n",
       "4660       33053                                      Simón Bolívar   \n",
       "\n",
       "     ind_status  cod_titulo tip_titulo  \\\n",
       "0             A           4      short   \n",
       "1             A          24      short   \n",
       "2             A          36      short   \n",
       "3             A          40      short   \n",
       "4             A          42      short   \n",
       "...         ...         ...        ...   \n",
       "4656          A       32658      movie   \n",
       "4657          A       32822      movie   \n",
       "4658          A       32899      movie   \n",
       "4659          A       33048      movie   \n",
       "4660          A       33053      movie   \n",
       "\n",
       "                                   nom_principal_titulo  \\\n",
       "0                                           Un bon bock   \n",
       "1                             Opening of the Kiel Canal   \n",
       "2                                      Awakening of Rip   \n",
       "3                   Barque sortant du port de Trouville   \n",
       "4                            Bateau-mouche sur la Seine   \n",
       "...                                                 ...   \n",
       "4656                                            Kalyani   \n",
       "4657  Miyamoto Musashi - Dai-ichi-bu: Kusawake no hi...   \n",
       "4658                            Peter, Paul und Nanette   \n",
       "4659                                          Sibiryaki   \n",
       "4660                          The Life of Simon Bolivar   \n",
       "\n",
       "                                    nom_original_titulo  ind_adulto  \\\n",
       "0                                           Un bon bock           1   \n",
       "1                             Opening of the Kiel Canal           1   \n",
       "2                                      Awakening of Rip           1   \n",
       "3                   Barque sortant du port de Trouville           1   \n",
       "4                            Bateau-mouche sur la Seine           1   \n",
       "...                                                 ...         ...   \n",
       "4656                                            Kalyani           1   \n",
       "4657  Miyamoto Musashi - Dai-ichi-bu: Kusawake no hi...           1   \n",
       "4658                            Peter, Paul und Nanette           1   \n",
       "4659                                          Sibiryaki           1   \n",
       "4660                                      Simón Bolívar           1   \n",
       "\n",
       "      ano_lancamento  qtd_minutos                 dsc_genero  \n",
       "0               1892            0            Animation,Short  \n",
       "1               1895            0                 News,Short  \n",
       "2               1896            0                Drama,Short  \n",
       "3               1896            0          Documentary,Short  \n",
       "4               1896            0          Documentary,Short  \n",
       "...              ...          ...                        ...  \n",
       "4656            1940            0                      Drama  \n",
       "4657            1940            0                      Drama  \n",
       "4658            1935            0                             \n",
       "4659            1940            0            Adventure,Drama  \n",
       "4660            1942            0  Adventure,Biography,Drama  \n",
       "\n",
       "[4661 rows x 11 columns]"
      ]
     },
     "execution_count": 75,
     "metadata": {},
     "output_type": "execute_result"
    }
   ],
   "source": [
    "# cria o índice na coluna cod_titulo da tabela Titulo_Detalhe\n",
    "cursor.execute('CREATE INDEX idx_Titulo_Detalhe_cod_titulo ON Titulo_Detalhe (cod_titulo)')\n",
    "\n",
    "# cria o índice na coluna cod_titulo da tabela Titulo\n",
    "cursor.execute('CREATE INDEX idx_Titulo_cod_titulo ON Titulo (cod_titulo)')\n",
    "\n",
    "# executa a query otimizada\n",
    "query = \"\"\"\n",
    "SELECT *\n",
    "FROM Titulo T\n",
    "LEFT JOIN Titulo_Detalhe D\n",
    "ON T.cod_titulo = D.cod_titulo\n",
    "WHERE D.qtd_minutos < 1 OR D.dsc_genero IS NULL\n",
    "\"\"\"\n",
    "pd.read_sql(query,con)"
   ]
  },
  {
   "cell_type": "markdown",
   "id": "e4f305b0",
   "metadata": {
    "heading_collapsed": true
   },
   "source": [
    "## 6. Analise o plano de execução da query abaixo, que retorna informações acerca dos títulos ativos, ordenados alfabeticamente pelo nome do título, e verifique como ela pode ser melhorada.\n",
    "<a id=\"ancora9\"></a>\n",
    "[voltar](#ancora)."
   ]
  },
  {
   "cell_type": "raw",
   "id": "ee22eb7c",
   "metadata": {
    "hidden": true
   },
   "source": [
    "SELECT T.nom_titulo AS \"Nome do Título\", UPPER (TD.tip_titulo) AS \"Tipo \n",
    "do Título\", TD.ano_lancamento AS \"Ano de Lançamento\", TD.qtd_minutos AS\n",
    "\"Duração\", TD.dsc_genero AS \"Gênero(s)\", A.classificacao_media AS \"Nota\",\n",
    "P.nom_pessoa AS \"Autor\", P2.nom_pessoa AS \"Diretor\"\n",
    "FROM Titulo T LEFT JOIN Titulo_Detalhe TD\n",
    "ON T.cod_titulo = TD.cod_titulo\n",
    "LEFT JOIN Avaliacao A\n",
    "ON T.cod_titulo = A.cod_titulo\n",
    "LEFT JOIN Autoria E\n",
    "ON T.cod_titulo = E.cod_titulo\n",
    "LEFT JOIN Pessoa P\n",
    "ON E.cod_pessoa = P.cod_pessoa\n",
    "LEFT JOIN Direcao D\n",
    "ON T.cod_titulo = D.cod_titulo\n",
    "LEFT JOIN Pessoa P2\n",
    "ON D.cod_pessoa = P2.cod_pessoa\n",
    "WHERE T.ind_status = 'A'\n",
    "ORDER BY T.nom_titulo"
   ]
  },
  {
   "cell_type": "markdown",
   "id": "d7e95e3d",
   "metadata": {
    "hidden": true
   },
   "source": [
    "**A query pode ser melhorada através da criação de índices nas tabelas utilizadas, como por exemplo, criar índices nas colunas que são usadas para junção das tabelas.**"
   ]
  },
  {
   "cell_type": "code",
   "execution_count": 78,
   "id": "8029f33b",
   "metadata": {
    "hidden": true
   },
   "outputs": [
    {
     "data": {
      "text/html": [
       "<div>\n",
       "<style scoped>\n",
       "    .dataframe tbody tr th:only-of-type {\n",
       "        vertical-align: middle;\n",
       "    }\n",
       "\n",
       "    .dataframe tbody tr th {\n",
       "        vertical-align: top;\n",
       "    }\n",
       "\n",
       "    .dataframe thead th {\n",
       "        text-align: right;\n",
       "    }\n",
       "</style>\n",
       "<table border=\"1\" class=\"dataframe\">\n",
       "  <thead>\n",
       "    <tr style=\"text-align: right;\">\n",
       "      <th></th>\n",
       "      <th>Nome do Título</th>\n",
       "      <th>Tipo do Título</th>\n",
       "      <th>Ano de Lançamento</th>\n",
       "      <th>Duração</th>\n",
       "      <th>Gênero(s)</th>\n",
       "      <th>Nota</th>\n",
       "      <th>Autor</th>\n",
       "      <th>Diretor</th>\n",
       "    </tr>\n",
       "  </thead>\n",
       "  <tbody>\n",
       "    <tr>\n",
       "      <th>0</th>\n",
       "      <td>-But the Flesh Is Weak</td>\n",
       "      <td>MOVIE</td>\n",
       "      <td>1932</td>\n",
       "      <td>77</td>\n",
       "      <td>Comedy</td>\n",
       "      <td>57</td>\n",
       "      <td>Ivor Novello</td>\n",
       "      <td>Jack Conway</td>\n",
       "    </tr>\n",
       "    <tr>\n",
       "      <th>1</th>\n",
       "      <td>¡Centinela, alerta!</td>\n",
       "      <td>MOVIE</td>\n",
       "      <td>1937</td>\n",
       "      <td>80</td>\n",
       "      <td>Musical</td>\n",
       "      <td>51</td>\n",
       "      <td>None</td>\n",
       "      <td>None</td>\n",
       "    </tr>\n",
       "    <tr>\n",
       "      <th>2</th>\n",
       "      <td>¡Tango!</td>\n",
       "      <td>MOVIE</td>\n",
       "      <td>1933</td>\n",
       "      <td>80</td>\n",
       "      <td>Musical,Romance</td>\n",
       "      <td>63</td>\n",
       "      <td>None</td>\n",
       "      <td>Luis Moglia Barth</td>\n",
       "    </tr>\n",
       "    <tr>\n",
       "      <th>3</th>\n",
       "      <td>¿Quién me quiere a mí?</td>\n",
       "      <td>MOVIE</td>\n",
       "      <td>1936</td>\n",
       "      <td>84</td>\n",
       "      <td>Drama</td>\n",
       "      <td>60</td>\n",
       "      <td>None</td>\n",
       "      <td>None</td>\n",
       "    </tr>\n",
       "    <tr>\n",
       "      <th>4</th>\n",
       "      <td>...heute abend bei mir</td>\n",
       "      <td>MOVIE</td>\n",
       "      <td>1934</td>\n",
       "      <td>91</td>\n",
       "      <td></td>\n",
       "      <td>69</td>\n",
       "      <td>None</td>\n",
       "      <td>Carl Boese</td>\n",
       "    </tr>\n",
       "    <tr>\n",
       "      <th>...</th>\n",
       "      <td>...</td>\n",
       "      <td>...</td>\n",
       "      <td>...</td>\n",
       "      <td>...</td>\n",
       "      <td>...</td>\n",
       "      <td>...</td>\n",
       "      <td>...</td>\n",
       "      <td>...</td>\n",
       "    </tr>\n",
       "    <tr>\n",
       "      <th>11973</th>\n",
       "      <td>Zuiderzeewerken</td>\n",
       "      <td>SHORT</td>\n",
       "      <td>1930</td>\n",
       "      <td>26</td>\n",
       "      <td>Short</td>\n",
       "      <td>82</td>\n",
       "      <td>Joris Ivens</td>\n",
       "      <td>Joris Ivens</td>\n",
       "    </tr>\n",
       "    <tr>\n",
       "      <th>11974</th>\n",
       "      <td>Zur Chronik von Grieshuus</td>\n",
       "      <td>MOVIE</td>\n",
       "      <td>1925</td>\n",
       "      <td>110</td>\n",
       "      <td>Drama</td>\n",
       "      <td>66</td>\n",
       "      <td>None</td>\n",
       "      <td>Arthur von Gerlach</td>\n",
       "    </tr>\n",
       "    <tr>\n",
       "      <th>11975</th>\n",
       "      <td>Zvenigora</td>\n",
       "      <td>MOVIE</td>\n",
       "      <td>1928</td>\n",
       "      <td>68</td>\n",
       "      <td>Drama,Fantasy</td>\n",
       "      <td>71</td>\n",
       "      <td>None</td>\n",
       "      <td>Aleksandr Dovzhenko</td>\n",
       "    </tr>\n",
       "    <tr>\n",
       "      <th>11976</th>\n",
       "      <td>Zwei Herzen im Dreiviertel-Takt</td>\n",
       "      <td>MOVIE</td>\n",
       "      <td>1930</td>\n",
       "      <td>96</td>\n",
       "      <td>Musical</td>\n",
       "      <td>70</td>\n",
       "      <td>None</td>\n",
       "      <td>Géza von Bolváry</td>\n",
       "    </tr>\n",
       "    <tr>\n",
       "      <th>11977</th>\n",
       "      <td>Zwei Krawatten</td>\n",
       "      <td>MOVIE</td>\n",
       "      <td>1930</td>\n",
       "      <td>88</td>\n",
       "      <td>Comedy,Musical</td>\n",
       "      <td>70</td>\n",
       "      <td>None</td>\n",
       "      <td>None</td>\n",
       "    </tr>\n",
       "  </tbody>\n",
       "</table>\n",
       "<p>11978 rows × 8 columns</p>\n",
       "</div>"
      ],
      "text/plain": [
       "                        Nome do Título Tipo do Título  Ano de Lançamento  \\\n",
       "0               -But the Flesh Is Weak          MOVIE               1932   \n",
       "1                  ¡Centinela, alerta!          MOVIE               1937   \n",
       "2                              ¡Tango!          MOVIE               1933   \n",
       "3               ¿Quién me quiere a mí?          MOVIE               1936   \n",
       "4               ...heute abend bei mir          MOVIE               1934   \n",
       "...                                ...            ...                ...   \n",
       "11973                  Zuiderzeewerken          SHORT               1930   \n",
       "11974        Zur Chronik von Grieshuus          MOVIE               1925   \n",
       "11975                        Zvenigora          MOVIE               1928   \n",
       "11976  Zwei Herzen im Dreiviertel-Takt          MOVIE               1930   \n",
       "11977                   Zwei Krawatten          MOVIE               1930   \n",
       "\n",
       "       Duração        Gênero(s)  Nota         Autor              Diretor  \n",
       "0           77           Comedy    57  Ivor Novello          Jack Conway  \n",
       "1           80          Musical    51          None                 None  \n",
       "2           80  Musical,Romance    63          None    Luis Moglia Barth  \n",
       "3           84            Drama    60          None                 None  \n",
       "4           91                     69          None           Carl Boese  \n",
       "...        ...              ...   ...           ...                  ...  \n",
       "11973       26            Short    82   Joris Ivens          Joris Ivens  \n",
       "11974      110            Drama    66          None   Arthur von Gerlach  \n",
       "11975       68    Drama,Fantasy    71          None  Aleksandr Dovzhenko  \n",
       "11976       96          Musical    70          None     Géza von Bolváry  \n",
       "11977       88   Comedy,Musical    70          None                 None  \n",
       "\n",
       "[11978 rows x 8 columns]"
      ]
     },
     "execution_count": 78,
     "metadata": {},
     "output_type": "execute_result"
    }
   ],
   "source": [
    "# Cria índices nas tabelas\n",
    "cursor.execute(\"CREATE INDEX idx_titulo_cod_titulo ON Titulo (cod_titulo)\")\n",
    "cursor.execute(\"CREATE INDEX idx_titulo_detalhe_cod_titulo ON Titulo_Detalhe (cod_titulo)\")\n",
    "cursor.execute(\"CREATE INDEX idx_avaliacao_cod_titulo ON Avaliacao (cod_titulo)\")\n",
    "cursor.execute(\"CREATE INDEX idx_autoria_cod_titulo ON Autoria (cod_titulo)\")\n",
    "cursor.execute(\"CREATE INDEX idx_autoria_cod_pessoa ON Autoria (cod_pessoa)\")\n",
    "cursor.execute(\"CREATE INDEX idx_direcao_cod_titulo ON Direcao (cod_titulo)\")\n",
    "cursor.execute(\"CREATE INDEX idx_direcao_cod_pessoa ON Direcao (cod_pessoa)\")\n",
    "\n",
    "# Query aprimorada\n",
    "query = \"\"\"\n",
    "SELECT \n",
    "    T.nom_titulo AS \"Nome do Título\", \n",
    "    UPPER(TD.tip_titulo) AS \"Tipo do Título\", \n",
    "    TD.ano_lancamento AS \"Ano de Lançamento\", \n",
    "    TD.qtd_minutos AS \"Duração\", \n",
    "    TD.dsc_genero AS \"Gênero(s)\", \n",
    "    A.classificacao_media AS \"Nota\",\n",
    "    P.nom_pessoa AS \"Autor\", \n",
    "    P2.nom_pessoa AS \"Diretor\"\n",
    "FROM \n",
    "    Titulo T \n",
    "    JOIN Titulo_Detalhe TD ON T.cod_titulo = TD.cod_titulo\n",
    "    JOIN Avaliacao A ON T.cod_titulo = A.cod_titulo\n",
    "    LEFT JOIN Autoria E ON T.cod_titulo = E.cod_titulo\n",
    "    LEFT JOIN Pessoa P ON E.cod_pessoa = P.cod_pessoa\n",
    "    LEFT JOIN Direcao D ON T.cod_titulo = D.cod_titulo\n",
    "    LEFT JOIN Pessoa P2 ON D.cod_pessoa = P2.cod_pessoa\n",
    "WHERE \n",
    "    T.ind_status = 'A'\n",
    "ORDER BY \n",
    "    T.nom_titulo\n",
    "\"\"\"\n",
    "\n",
    "# Executa a query\n",
    "pd.read_sql(query,con)"
   ]
  },
  {
   "cell_type": "markdown",
   "id": "11b5fe20",
   "metadata": {
    "heading_collapsed": true
   },
   "source": [
    "## 7.A tabela dbo.Pessoa é a maior tabela do sistema. Constantemente é necessário fazer uma limpeza das pessoas cadastradas que não exercem nenhuma função, ou seja, não é do elenco, não é diretor e não é autor. Sem incluir, alterar ou excluir as colunas das tabelas existentes, pense em uma estratégia para esse expurgo ser feito da forma mais performática possível.\n",
    "<a id=\"ancora10\"></a>\n",
    "[voltar](#ancora)."
   ]
  },
  {
   "cell_type": "code",
   "execution_count": null,
   "id": "2b0847e5",
   "metadata": {
    "hidden": true
   },
   "outputs": [],
   "source": []
  },
  {
   "cell_type": "code",
   "execution_count": 85,
   "id": "f0d22280",
   "metadata": {
    "hidden": true
   },
   "outputs": [
    {
     "name": "stdout",
     "output_type": "stream",
     "text": [
      "Foram selecionadas 0 pessoas para expurgo.\n",
      "O expurgo de pessoas foi concluído com sucesso.\n"
     ]
    }
   ],
   "source": [
    "# cria índices nas colunas utilizadas na consulta SQL\n",
    "\n",
    "#cursor.execute(\"CREATE INDEX idx_elenco ON Elenco (cod_pessoa)\")\n",
    "#cursor.execute(\"CREATE INDEX idx_diretor ON Direcao (cod_pessoa)\")\n",
    "#cursor.execute(\"CREATE INDEX idx_autor ON Autoria (cod_pessoa)\")\n",
    "\n",
    "# define a query SQL para selecionar as pessoas que não exercem nenhuma função\n",
    "query = \"\"\"\n",
    "SELECT * \n",
    "FROM Pessoa \n",
    "WHERE cod_pessoa NOT IN (SELECT cod_pessoa \n",
    "                 FROM Elenco \n",
    "                 UNION SELECT cod_pessoa \n",
    "                 FROM Direcao \n",
    "                 UNION SELECT cod_pessoa \n",
    "                 FROM Autoria)\n",
    "\"\"\"\n",
    "\n",
    "# executa a query SQL\n",
    "cursor.execute(query)\n",
    "\n",
    "# recupera os registros selecionados\n",
    "result = cursor.fetchall()\n",
    "\n",
    "# exibe a quantidade de registros selecionados\n",
    "print(f\"Foram selecionadas {len(result)} pessoas para expurgo.\")\n",
    "\n",
    "# define a query SQL para deletar as pessoas selecionadas\n",
    "sql = \"DELETE FROM Pessoa WHERE cod_pessoa = %s\"\n",
    "\n",
    "# cria a consulta principal que exclui as pessoas da tabela Pessoa\n",
    "#delete_query = \"\"\"\n",
    "#    DELETE FROM Pessoa\n",
    "#    WHERE cod_pessoa IN ({})\n",
    "#\"\"\".format(subquery)\n",
    "\n",
    "# executa a consulta de exclusão\n",
    "#cursor.execute(delete_query)\n",
    "\n",
    "# itera sobre os registros selecionados e deleta cada um deles\n",
    "for row in result:\n",
    "    cursor.execute(sql, (row[0],))\n",
    "\n",
    "# confirma as alterações no banco de dados\n",
    "con.commit()\n",
    "# exibe uma mensagem de conclusão\n",
    "print(\"O expurgo de pessoas foi concluído com sucesso.\")\n"
   ]
  },
  {
   "cell_type": "markdown",
   "id": "b294a153",
   "metadata": {},
   "source": [
    "## 8. O diretor da empresa que o contratou ficou sabendo que você aprendeu, no Bootcamp Analista de Banco de Dados do IGTI, como melhorar performance de queries no MongoDB. Devido a isso, contratou-o também para trabalhar em uma força tarefa para melhorar a performance de um sistema de outra empresa do grupo, que controla informações dos restaurantes de todo o Estados Unidos.\n",
    "<a id=\"ancora11\"></a>\n",
    "[voltar](#ancora)."
   ]
  },
  {
   "cell_type": "markdown",
   "id": "b4d322df",
   "metadata": {},
   "source": [
    "#### **Para isso, foi disponibilizado para você, o dump das duas collections do sistema e o script para fazer a carga das informações no MongoDB**\n",
    "<a id=\"ancora5.1\"></a>\n",
    "[voltar](#ancora)."
   ]
  },
  {
   "cell_type": "markdown",
   "id": "76fae659",
   "metadata": {},
   "source": [
    "* **Collections: people.json, restaurants.json**\n",
    "* **Scripts:** \n",
    "    * mongoimport --drop -c people people.json\n",
    "    * mongoimport --drop -c restaurants restaurants.json"
   ]
  },
  {
   "cell_type": "markdown",
   "id": "d6614592",
   "metadata": {},
   "source": [
    "**Realizando a carga através de um script em python**"
   ]
  },
  {
   "cell_type": "code",
   "execution_count": null,
   "id": "73f94675",
   "metadata": {
    "scrolled": true
   },
   "outputs": [],
   "source": [
    "#importação das libs\n",
    "import pymongo\n",
    "import json\n",
    "\n",
    "# Conectando ao banco de dados\n",
    "client = pymongo.MongoClient(\"mongodb://localhost:27017/\")\n",
    "db = client[\"desafio4\"]\n",
    "\n",
    "# Importando dados para a coleção \"people\"\n",
    "people = db[\"people\"]\n",
    "with open('./Dataset1/people.json', 'r', encoding=\"iso-8859-1\") as f:\n",
    "    # Tenta carregar o arquivo JSON\n",
    "    try:\n",
    "        people_data = json.load(f)\n",
    "    except json.JSONDecodeError:\n",
    "        # Trata o erro de decodificação\n",
    "        f.seek(0)  # Move o cursor para o início do arquivo\n",
    "        content = f.read()\n",
    "        content = \"[\" + content.replace(\"}\\n{\", \"},\\n{\") + \"]\"\n",
    "        people_data = json.loads(content)\n",
    "people.drop()  # apaga a coleção se já existir\n",
    "people.insert_many(people_data)\n",
    "\n",
    "# Importando dados para a coleção \"restaurants\"\n",
    "restaurants = db[\"restaurants\"]\n",
    "with open('./Dataset1/restaurants.json', 'r',encoding=\"iso-8859-1\") as f:\n",
    "    # Tenta carregar o arquivo JSON\n",
    "    try:\n",
    "        restaurants_data = json.load(f)\n",
    "    except json.JSONDecodeError:\n",
    "        # Trata o erro de decodificação\n",
    "        f.seek(0)  # Move o cursor para o início do arquivo\n",
    "        content = f.read()\n",
    "        content = \"[\" + content.replace(\"}\\n{\", \"},\\n{\") + \"]\"\n",
    "        restaurants_data = json.loads(content)    \n",
    "restaurants.drop()  # apaga a coleção se já existir\n",
    "restaurants.insert_many(restaurants_data)\n",
    "# Imprime a contagem de documentos inseridos\n",
    "print(f\"{restaurants.count_documents({})} documentos inseridos na coleção 'restaurants'.\")\n",
    "print(f\"{people.count_documents({})} documentos inseridos na coleção 'peoples'.\")"
   ]
  },
  {
   "cell_type": "raw",
   "id": "cecbd2a9",
   "metadata": {},
   "source": [
    "**O erro informa que a versão do mongodb não aceita o prefixo '$' e temos alguns campos como $oid e $date nesse formato inválido**\n"
   ]
  },
  {
   "cell_type": "markdown",
   "id": "94af379e",
   "metadata": {},
   "source": [
    "**Para corrigir o problema será necessário remover esse caracter**.\n"
   ]
  },
  {
   "cell_type": "code",
   "execution_count": 301,
   "id": "4597fe4c",
   "metadata": {},
   "outputs": [],
   "source": [
    "import json\n",
    "\n",
    "# Abre o arquivo JSON\n",
    "with open('./Dataset1/people.json', 'r') as f:\n",
    "    # Tenta carregar o arquivo JSON\n",
    "    try:\n",
    "        data = json.load(f)\n",
    "    except json.JSONDecodeError:\n",
    "        # Trata o erro de decodificação\n",
    "        f.seek(0)  # Move o cursor para o início do arquivo\n",
    "        content = f.read()\n",
    "        content = \"[\" + content.replace(\"}\\n{\", \"},\\n{\") + \"]\" #incorpor '[]' ao json\n",
    "        data = json.loads(content)"
   ]
  },
  {
   "cell_type": "raw",
   "id": "14f7aa53",
   "metadata": {},
   "source": [
    "BulkWriteError: batch op errors occurred, full error: {'writeErrors': [{'index': 0, 'code': 52, 'errmsg': \"_id fields may not contain '$'-prefixed fields: $oid is not valid for storage.\", 'op': {'_id': {'$oid': '57d7a121fa937f710a7d486e'}, 'last_name': 'Pham', 'quote': 'Aliquam est reiciendis alias neque ad.', 'job': 'Counselling psychologist', 'ssn': '401-31-6615', 'address': {'city': 'Burgessborough', 'street': '83248 Woods Extension', 'zip': '47201'}, 'first_name': 'Yvonne', 'company_id': {'$oid': '57d7a121fa937f710a7d486d'}, 'employer': 'Terry and Sons', 'birthday': {'$date': '2011-03-17T11:21:36.000Z'}, 'email': 'murillobrian@cox.net'}}], 'writeConcernErrors': [], 'nInserted': 0, 'nUpserted': 0, 'nMatched': 0, 'nModified': 0, 'nRemoved': 0, 'upserted': []}"
   ]
  },
  {
   "cell_type": "code",
   "execution_count": 99,
   "id": "d7046adc",
   "metadata": {},
   "outputs": [
    {
     "data": {
      "text/plain": [
       "50474"
      ]
     },
     "execution_count": 99,
     "metadata": {},
     "output_type": "execute_result"
    }
   ],
   "source": [
    "# Quantidade de registros\n",
    "len(data)"
   ]
  },
  {
   "cell_type": "markdown",
   "id": "7cc5dc46",
   "metadata": {},
   "source": [
    "* **Agora vamos tratar os dados para que possamos realizar a carga**\n",
    "* **Deve haver uma forma mais sofistica, porém é o que pensei de primeiro momento, o código irá percorrer todo os documentos e onde houver o caracter, o mesmo será substituído por vazio.**\n",
    "* **Para finalizar irei salvar o json com o nome people_updated.json**."
   ]
  },
  {
   "cell_type": "code",
   "execution_count": 286,
   "id": "dca4f25f",
   "metadata": {},
   "outputs": [
    {
     "data": {
      "text/plain": [
       "[{'_id': {'$oid': '57d7a121fa937f710a7d486e'},\n",
       "  'last_name': 'Pham',\n",
       "  'quote': 'Aliquam est reiciendis alias neque ad.',\n",
       "  'job': 'Counselling psychologist',\n",
       "  'ssn': '401-31-6615',\n",
       "  'address': {'city': 'Burgessborough',\n",
       "   'street': '83248 Woods Extension',\n",
       "   'zip': '47201'},\n",
       "  'first_name': 'Yvonne',\n",
       "  'company_id': {'$oid': '57d7a121fa937f710a7d486d'},\n",
       "  'employer': 'Terry and Sons',\n",
       "  'birthday': {'$date': '2011-03-17T11:21:36.000Z'},\n",
       "  'email': 'murillobrian@cox.net'}]"
      ]
     },
     "execution_count": 286,
     "metadata": {},
     "output_type": "execute_result"
    }
   ],
   "source": [
    "data[:1]"
   ]
  },
  {
   "cell_type": "code",
   "execution_count": 287,
   "id": "610ce1e2",
   "metadata": {},
   "outputs": [],
   "source": [
    "data = [{'_id': {'$oid': '57d7a121fa937f710a7d486e'},\n",
    "  'last_name': 'Pham',\n",
    "  'quote': 'Aliquam est reiciendis alias neque ad.',\n",
    "  'job': 'Counselling psychologist',\n",
    "  'ssn': '401-31-6615',\n",
    "  'address': {'city': 'Burgessborough',\n",
    "   'street': '83248 Woods Extension',\n",
    "   'zip': '47201'},\n",
    "  'first_name': 'Yvonne',\n",
    "  'company_id': {'$oid': '57d7a121fa937f710a7d486d'},\n",
    "  'employer': 'Terry and Sons',\n",
    "  'birthday': {'$date': '2011-03-17T11:21:36.000Z'},\n",
    "  'email': 'murillobrian@cox.net'}]"
   ]
  },
  {
   "cell_type": "markdown",
   "id": "64177c1e",
   "metadata": {},
   "source": [
    "**Função para remover o caractere dolar**"
   ]
  },
  {
   "cell_type": "code",
   "execution_count": 328,
   "id": "5befbbeb",
   "metadata": {},
   "outputs": [],
   "source": [
    "def remove_dollar_sign(obj):\n",
    "    if isinstance(obj, dict):\n",
    "        new_obj = {}\n",
    "        for key, value in obj.items():\n",
    "            new_key = key.replace('$', '')\n",
    "            new_value = remove_dollar_sign(value)\n",
    "            new_obj[new_key] = new_value\n",
    "        return new_obj\n",
    "    elif isinstance(obj, list):\n",
    "        new_list = []\n",
    "        for item in obj:\n",
    "            new_item = remove_dollar_sign(item)\n",
    "            new_list.append(new_item)\n",
    "        return new_list\n",
    "    elif isinstance(obj, str):\n",
    "        return obj.replace('$', '')\n",
    "    else:\n",
    "        return obj"
   ]
  },
  {
   "cell_type": "code",
   "execution_count": 329,
   "id": "9461c024",
   "metadata": {},
   "outputs": [],
   "source": [
    "new_data = remove_dollar_sign(data)"
   ]
  },
  {
   "cell_type": "code",
   "execution_count": 331,
   "id": "1c5f8ef9",
   "metadata": {},
   "outputs": [
    {
     "data": {
      "text/plain": [
       "50474"
      ]
     },
     "execution_count": 331,
     "metadata": {},
     "output_type": "execute_result"
    }
   ],
   "source": [
    "len(new_data)"
   ]
  },
  {
   "cell_type": "markdown",
   "id": "65144fe8",
   "metadata": {},
   "source": [
    "**Agora sim, podemos carregar os documentos na collection**"
   ]
  },
  {
   "cell_type": "code",
   "execution_count": 334,
   "id": "8b18ab0f",
   "metadata": {},
   "outputs": [
    {
     "name": "stdout",
     "output_type": "stream",
     "text": [
      "50474 documentos inseridos na coleção 'peoples'.\n"
     ]
    }
   ],
   "source": [
    "#importação das libs\n",
    "import pymongo\n",
    "import json\n",
    "\n",
    "# Conectando ao banco de dados\n",
    "client = pymongo.MongoClient(\"mongodb://localhost:27017/\")\n",
    "db = client[\"desafio4\"]\n",
    "\n",
    "# Importando dados para a coleção \"people\"\n",
    "people = db[\"people\"]\n",
    "people.drop()  # apaga a coleção se já existir\n",
    "people.insert_many(new_data)\n",
    "print(f\"{people.count_documents({})} documentos inseridos na coleção 'peoples'.\")"
   ]
  },
  {
   "cell_type": "code",
   "execution_count": 184,
   "id": "8a1c0554",
   "metadata": {},
   "outputs": [
    {
     "name": "stdout",
     "output_type": "stream",
     "text": [
      "1000000 documentos inseridos na coleção 'restaurants'.\n"
     ]
    }
   ],
   "source": [
    "# Importando dados para a coleção \"restaurants\"\n",
    "restaurants = db[\"restaurants\"]\n",
    "with open('./Dataset1/restaurants.json', 'r', encoding=\"iso-8859-1\") as f:\n",
    "    # Tenta carregar o arquivo JSON\n",
    "    try:\n",
    "        restaurants_data = json.load(f)\n",
    "    except json.JSONDecodeError:\n",
    "        # Trata o erro de decodificação\n",
    "        f.seek(0)  # Move o cursor para o início do arquivo\n",
    "        content = f.read()\n",
    "        content = \"[\" + content.replace(\"}\\n{\", \"},\\n{\") + \"]\"\n",
    "        restaurants_data = json.loads(content)\n",
    "restaurants.drop()  # apaga a coleção se já existir\n",
    "restaurants.insert_many(restaurants_data)\n",
    "print(f\"{restaurants.count_documents({})} documentos inseridos na coleção 'restaurants'.\")"
   ]
  },
  {
   "cell_type": "markdown",
   "id": "5a363b3d",
   "metadata": {},
   "source": [
    "**Foram carregados 1 milhão de registros na collection restaurants.**"
   ]
  },
  {
   "cell_type": "markdown",
   "id": "fa76d09a",
   "metadata": {},
   "source": [
    "**Conferindo os registros**"
   ]
  },
  {
   "cell_type": "code",
   "execution_count": 335,
   "id": "7ab0e1c8",
   "metadata": {},
   "outputs": [
    {
     "name": "stdout",
     "output_type": "stream",
     "text": [
      "====================================================================================================\n",
      "Primeiros 5 registros da coleção 'people':\n",
      "====================================================================================================\n",
      "{'_id': {'oid': '57d7a121fa937f710a7d486e'}, 'last_name': 'Pham', 'quote': 'Aliquam est reiciendis alias neque ad.', 'job': 'Counselling psychologist', 'ssn': '401-31-6615', 'address': {'city': 'Burgessborough', 'street': '83248 Woods Extension', 'zip': '47201'}, 'first_name': 'Yvonne', 'company_id': {'oid': '57d7a121fa937f710a7d486d'}, 'employer': 'Terry and Sons', 'birthday': {'date': '2011-03-17T11:21:36.000Z'}, 'email': 'murillobrian@cox.net'}\n",
      "====================================================================================================\n",
      "{'_id': {'oid': '57d7a121fa937f710a7d486f'}, 'last_name': 'Nelson', 'quote': 'Quis sed tenetur eius illo.', 'job': 'Conservator, furniture', 'ssn': '671-16-1433', 'address': {'city': 'Nicholsbury', 'state': 'Indiana', 'street': '699 Ryan Branch Apt. 371', 'zip': '52277'}, 'first_name': 'Mary', 'company_id': {'oid': '57d7a121fa937f710a7d486d'}, 'employer': 'Terry and Sons', 'birthday': {'date': '2015-11-25T17:26:40.000Z'}, 'email': 'cindy93@gmail.com'}\n",
      "====================================================================================================\n",
      "{'_id': {'oid': '57d7a121fa937f710a7d4870'}, 'last_name': 'Smith', 'quote': 'Recusandae rem minus dolorum corporis corrupti rem placeat.', 'job': 'Engineer, land', 'ssn': '574-10-8938', 'address': {'city': 'Crystalmouth', 'street': '3924 Mosley Burg Suite 602', 'zip': '14969'}, 'first_name': 'Jenna', 'company_id': {'oid': '57d7a121fa937f710a7d486d'}, 'employer': 'Terry and Sons', 'birthday': {'date': '2015-04-07T19:10:04.000Z'}, 'email': 'harrissummer@hotmail.com'}\n",
      "====================================================================================================\n",
      "{'_id': {'oid': '57d7a121fa937f710a7d4871'}, 'last_name': 'Franklin', 'quote': 'Id provident eius natus quasi minima nobis.', 'job': 'Investment banker, corporate', 'ssn': '683-46-9400', 'address': {'city': 'Lake Meaganton', 'state': 'Idaho', 'street': '2831 Kevin Knolls', 'zip': '10914-3394'}, 'first_name': 'Christopher', 'company_id': {'oid': '57d7a121fa937f710a7d486d'}, 'employer': 'Terry and Sons', 'birthday': {'date': '2014-02-08T01:03:22.000Z'}, 'email': 'ythompson@hotmail.com'}\n",
      "====================================================================================================\n",
      "{'_id': {'oid': '57d7a121fa937f710a7d4872'}, 'last_name': 'Herrera', 'quote': 'Sit perferendis nostrum suscipit cumque mollitia.', 'job': 'Theatre stage manager', 'ssn': '261-99-7098', 'address': {'city': 'Morganport', 'state': 'Vermont', 'street': '9069 Bailey Ferry Suite 423', 'zip': '99473'}, 'first_name': 'Elizabeth', 'company_id': {'oid': '57d7a121fa937f710a7d486d'}, 'employer': 'Terry and Sons', 'birthday': {'date': '2015-12-19T18:27:42.000Z'}, 'email': 'elizabeth35@mccarty.com'}\n",
      "\n",
      "\n",
      "====================================================================================================\n",
      "Primeiros 5 registros da coleção 'restaurants':\n",
      "====================================================================================================\n",
      "{'_id': ObjectId('641a424a5d1f329d45aa4db7'), 'name': 'Perry Street Brasserie', 'cuisine': 'French', 'stars': 0.3, 'address': {'street': '959 Iveno Square', 'city': 'Fokemlid', 'state': 'AL', 'zipcode': '18882'}}\n",
      "====================================================================================================\n",
      "{'_id': ObjectId('641a424a5d1f329d45aa4db8'), 'name': 'Red Hill Station', 'cuisine': 'Mediterranean', 'stars': 3.4, 'address': {'street': '1156 Fawu Terrace', 'city': 'Nanveszi', 'state': 'NC', 'zipcode': '24406'}}\n",
      "====================================================================================================\n",
      "{'_id': ObjectId('641a424a5d1f329d45aa4db9'), 'name': 'Altius', 'cuisine': 'Japanese', 'stars': 3.1, 'address': {'street': '1178 Ocoge Glen', 'city': 'Ratizbu', 'state': 'SD', 'zipcode': '14557'}}\n",
      "====================================================================================================\n",
      "{'_id': ObjectId('641a424a5d1f329d45aa4dba'), 'name': 'Chefs Table at the Edgewater', 'cuisine': 'Italian', 'stars': 1.6, 'address': {'street': '371 Gule Loop', 'city': 'Ujukamew', 'state': 'ME', 'zipcode': '62421'}}\n",
      "====================================================================================================\n",
      "{'_id': ObjectId('641a424a5d1f329d45aa4dbb'), 'name': 'Laurel', 'cuisine': 'Sushi', 'stars': 1.3, 'address': {'street': '1746 Nake Circle', 'city': 'Eticafu', 'state': 'HI', 'zipcode': '73060'}}\n"
     ]
    }
   ],
   "source": [
    "# Define o banco de dados e as coleções\n",
    "people = db['people']\n",
    "restaurants = db['restaurants']\n",
    "\n",
    "# Recupera os 5 primeiros documentos da coleção \"people\"\n",
    "print('='*100)\n",
    "print(\"Primeiros 5 registros da coleção 'people':\")\n",
    "for document in people.find().limit(5):\n",
    "    print('='*100)\n",
    "    print(document)    \n",
    "    \n",
    "\n",
    "# Recupera os 5 primeiros documentos da coleção \"restaurants\"\n",
    "print('\\n')\n",
    "print('='*100)\n",
    "print(\"Primeiros 5 registros da coleção 'restaurants':\")\n",
    "for doc in restaurants.find().limit(5):\n",
    "    print('='*100)\n",
    "    print(doc)\n",
    "    "
   ]
  },
  {
   "cell_type": "markdown",
   "id": "661fdc55",
   "metadata": {
    "heading_collapsed": true
   },
   "source": [
    "## 9. Com os dados carregados, você deve ajudar a melhorar a performance das seguintes queries:\n",
    "<a id=\"ancora12\"></a>\n",
    "[voltar](#ancora)."
   ]
  },
  {
   "cell_type": "raw",
   "id": "8b2f5f36",
   "metadata": {
    "hidden": true
   },
   "source": [
    "a. db.people.find( { last_name : \"Acevedo\" } )\n",
    "b. db.people.find({\"address.zip\" : \"10914-3394\"})\n",
    "c. db.people.find({\"address.zip\" : { $in: [\"10914-3394\", \"53666\"]}})\n",
    "d. db.people.find({}, { _id : 0, first_name: 1, job: 1 }).sort({ first_name: 1 })\n",
    "e. db.restaurants.find({'cuisine': 'Sichuan'})\n",
    "f. db.restaurants.find ({ cuisine: 'Sushi' }).sort({ stars: -1 })\n",
    "g. db.restaurants.find({ \"stars\": { $gte: 4 }, cuisine: 'Italian' }).sort({ name: 1 })"
   ]
  },
  {
   "cell_type": "markdown",
   "id": "6a4b50ce",
   "metadata": {
    "hidden": true
   },
   "source": [
    "**A. Para esse caso acredito que criar índices nas chaves utilizadas na busca pode melhorar a performance**\n",
    "**Vamos realizar um teste e comparar o antes e o depois**\n",
    "\n",
    "*a.db.people.find( { last_name : \"Acevedo\" } )*"
   ]
  },
  {
   "cell_type": "code",
   "execution_count": 203,
   "id": "dc2cced9",
   "metadata": {
    "hidden": true
   },
   "outputs": [],
   "source": [
    "# como remover um indice caso necessário\n",
    "# people.drop_index(\"last_name_1\")"
   ]
  },
  {
   "cell_type": "code",
   "execution_count": 351,
   "id": "1fdcc6d3",
   "metadata": {
    "hidden": true
   },
   "outputs": [
    {
     "name": "stdout",
     "output_type": "stream",
     "text": [
      "====================================================================================================\n",
      "Tempo de execução da consulta sem índice: 0.16360000881832093 Milésimos de segundos\n",
      "====================================================================================================\n"
     ]
    }
   ],
   "source": [
    "#lib para comparar o tempo\n",
    "import time\n",
    "# Selecionando a coleção \"people\"\n",
    "people = db[\"people\"]\n",
    "\n",
    "# Realizando a consulta sem índice\n",
    "start_time = time.perf_counter()\n",
    "results1 = people.find({\"last_name\": \"Acevedo\"})\n",
    "end_time = time.perf_counter()\n",
    "print('='*100)\n",
    "print(f\"Tempo de execução da consulta sem índice: {(end_time - start_time)*1000} Milésimos de segundos\")\n",
    "#print(f\"Resultados sem índice: {list(results1)}\")\n",
    "print('='*100)"
   ]
  },
  {
   "cell_type": "code",
   "execution_count": 337,
   "id": "1d0d0312",
   "metadata": {
    "hidden": true
   },
   "outputs": [
    {
     "data": {
      "text/plain": [
       "'last_name_1'"
      ]
     },
     "execution_count": 337,
     "metadata": {},
     "output_type": "execute_result"
    }
   ],
   "source": [
    "# Criando índice para demonstração\n",
    "people.create_index(\"last_name\")"
   ]
  },
  {
   "cell_type": "code",
   "execution_count": 356,
   "id": "825dbb1c",
   "metadata": {
    "hidden": true
   },
   "outputs": [
    {
     "name": "stdout",
     "output_type": "stream",
     "text": [
      "====================================================================================================\n",
      "Tempo de execução da consulta com índice: 0.16260000120382756 milissegundos\n"
     ]
    }
   ],
   "source": [
    "# Realizando a consulta com índice\n",
    "start_time = time.perf_counter()\n",
    "results2 = people.find({\"last_name\": \"Acevedo\"}).hint(\"last_name_1\")\n",
    "end_time = time.perf_counter()\n",
    "print('='*100)\n",
    "print(f\"Tempo de execução da consulta com índice: {(end_time - start_time)*1000} milissegundos\")\n",
    "#print(f\"Resultados com índice: {list(results2)}\")"
   ]
  },
  {
   "cell_type": "markdown",
   "id": "2b956205",
   "metadata": {
    "hidden": true
   },
   "source": [
    "**Como são poucos dados os resultados são próximos, mas imagine em um cenário de bigdata**"
   ]
  },
  {
   "cell_type": "markdown",
   "id": "fc2b90b3",
   "metadata": {
    "hidden": true
   },
   "source": [
    "**B. Para todos os casos vamos seguir acrescentando um index**\n",
    "\n",
    "*b. db.people.find({\"address.zip\" : \"10914-3394\"})*"
   ]
  },
  {
   "cell_type": "code",
   "execution_count": 360,
   "id": "b4f0fe99",
   "metadata": {
    "hidden": true
   },
   "outputs": [
    {
     "name": "stdout",
     "output_type": "stream",
     "text": [
      "====================================================================================================\n",
      "Tempo de execução da consulta sem índice: 0.1703999878372997 Milésimos de segundos\n",
      "====================================================================================================\n"
     ]
    }
   ],
   "source": [
    "# Realizando a consulta sem índice\n",
    "start_time = time.perf_counter()\n",
    "results1 = people.find({\"address.zip\" : \"10914-3394\"})\n",
    "end_time = time.perf_counter()\n",
    "print('='*100)\n",
    "print(f\"Tempo de execução da consulta sem índice: {(end_time - start_time)*1000} Milésimos de segundos\")\n",
    "#print(f\"Resultados sem índice: {list(results1)}\")\n",
    "print('='*100)"
   ]
  },
  {
   "cell_type": "code",
   "execution_count": 361,
   "id": "7208db11",
   "metadata": {
    "hidden": true
   },
   "outputs": [
    {
     "data": {
      "text/plain": [
       "'address.zip_1'"
      ]
     },
     "execution_count": 361,
     "metadata": {},
     "output_type": "execute_result"
    }
   ],
   "source": [
    "# Criando índice para demonstração\n",
    "people.create_index(\"address.zip\")"
   ]
  },
  {
   "cell_type": "code",
   "execution_count": 367,
   "id": "a0f00b66",
   "metadata": {
    "hidden": true
   },
   "outputs": [
    {
     "name": "stdout",
     "output_type": "stream",
     "text": [
      "====================================================================================================\n",
      "Tempo de execução da consulta com índice: 0.16250000044237822 Milésimos de segundos\n",
      "====================================================================================================\n"
     ]
    }
   ],
   "source": [
    "# Selecionando a coleção \"people\"\n",
    "# Realizando a consulta Com índice\n",
    "start_time = time.perf_counter()\n",
    "results1 = people.find({\"address.zip\" : \"10914-3394\"}).hint(\"address.zip_1\")\n",
    "end_time = time.perf_counter()\n",
    "print('='*100)\n",
    "print(f\"Tempo de execução da consulta com índice: {(end_time - start_time)*1000} Milésimos de segundos\")\n",
    "#print(f\"Resultados com índice: {list(results1)}\")\n",
    "print('='*100)"
   ]
  },
  {
   "cell_type": "markdown",
   "id": "4e1434c4",
   "metadata": {
    "hidden": true
   },
   "source": [
    "**Para melhorar o desempenho das consultas especificadas, podemos criar índices no MongoDB para as chaves usadas nas consultas.**\n",
    "\n",
    "**O índice ajuda o banco de dados a localizar os documentos relevantes de forma mais eficiente, reduzindo o tempo necessário para executar a consulta.**"
   ]
  },
  {
   "cell_type": "code",
   "execution_count": 390,
   "id": "aa6bdb8f",
   "metadata": {
    "hidden": true
   },
   "outputs": [
    {
     "data": {
      "text/plain": [
       "'cuisine_1'"
      ]
     },
     "execution_count": 390,
     "metadata": {},
     "output_type": "execute_result"
    }
   ],
   "source": [
    "from pymongo import MongoClient\n",
    "\n",
    "# Conecte-se ao banco de dados\n",
    "client = MongoClient()\n",
    "db = client.desafio4\n",
    "\n",
    "# Crie índices para as chaves usadas nas consultas\n",
    "db.people.create_index([(\"address.zip\", 1)])\n",
    "db.people.create_index([(\"first_name\", 1)])\n",
    "db.people.create_index([(\"job\", 1)])\n",
    "db.restaurants.create_index([(\"cuisine\", 1)])\n"
   ]
  },
  {
   "cell_type": "markdown",
   "id": "b645a6ab",
   "metadata": {
    "hidden": true
   },
   "source": [
    "**Este código cria índices para as chaves address.zip, first_name, job em people, e cuisine em restaurants. O valor 1 indica que o índice deve ser criado em ordem crescente.**"
   ]
  },
  {
   "cell_type": "markdown",
   "id": "685e6aad",
   "metadata": {
    "hidden": true
   },
   "source": [
    "**Após criar os índices, podemos comparar o tempo de execução das consultas antes e depois da criação dos índices.**"
   ]
  },
  {
   "cell_type": "code",
   "execution_count": 391,
   "id": "74aab263",
   "metadata": {
    "hidden": true
   },
   "outputs": [
    {
     "name": "stdout",
     "output_type": "stream",
     "text": [
      "Tempo de execução da query original: 0.034723\n",
      "Tempo de execução da query otimizada: 0.004557\n",
      "Tempo de execução da query original: 0.974567\n",
      "Tempo de execução da query otimizada: 0.357146\n",
      "Tempo de execução da query original: 2.520031\n",
      "Tempo de execução da query otimizada: 0.292359\n"
     ]
    }
   ],
   "source": [
    "# Comparando a performance antes e depois da otimização\n",
    "\n",
    "import time\n",
    "\n",
    "# query original\n",
    "start_time = time.time()\n",
    "result = people.find({\"address.zip\" : { \"$in\": [\"10914-3394\", \"53666\"]}})\n",
    "for r in result:\n",
    "    pass\n",
    "print(f\"Tempo de execução da query original: {time.time() - start_time:.6f}\")\n",
    "\n",
    "# query otimizada\n",
    "start_time = time.time()\n",
    "result = people.find({\"address.zip\": {\"$in\": [\"10914-3394\", \"53666\"]}}).hint('address.zip_1')\n",
    "for r in result:\n",
    "    pass\n",
    "print(f\"Tempo de execução da query otimizada: {time.time() - start_time:.6f}\")\n",
    "\n",
    "# query original\n",
    "start_time = time.time()\n",
    "result = people.find({}, {\"_id\": 0, \"first_name\": 1, \"job\": 1}).sort(\"first_name\", 1)\n",
    "for r in result:\n",
    "    pass\n",
    "print(f\"Tempo de execução da query original: {time.time() - start_time:.6f}\")\n",
    "\n",
    "# query otimizada\n",
    "start_time = time.time()\n",
    "result = people.find({}, {\"_id\": 0, \"first_name\": 1, \"job\": 1}).sort(\"first_name\").hint('first_name_1')\n",
    "for r in result:\n",
    "    pass\n",
    "print(f\"Tempo de execução da query otimizada: {time.time() - start_time:.6f}\")\n",
    "\n",
    "# query original\n",
    "start_time = time.time()\n",
    "result = restaurants.find({\"cuisine\": \"Sichuan\"})\n",
    "for r in result:\n",
    "    pass\n",
    "print(f\"Tempo de execução da query original: {time.time() - start_time:.6f}\")\n",
    "\n",
    "# query otimizada\n",
    "start_time = time.time()\n",
    "result = restaurants.find({\"cuisine\": \"Sichuan\"}).hint(\"cuisine_1\")\n",
    "for r in result:\n",
    "    pass\n",
    "print(f\"Tempo de execução da query otimizada: {time.time() - start_time:.6f}\")\n",
    "\n"
   ]
  },
  {
   "cell_type": "markdown",
   "id": "62fde05c",
   "metadata": {
    "heading_collapsed": true,
    "hidden": true
   },
   "source": [
    "### F. Como otimizar a consulta abaixo**\n",
    "\n",
    "*db.restaurants.find ({ cuisine: 'Sushi' }).sort({ stars: -1 })*\n",
    "\n",
    "<a id=\"ancora5.3\"></a>\n",
    "[voltar](#ancora)."
   ]
  },
  {
   "cell_type": "markdown",
   "id": "df3b21f9",
   "metadata": {
    "hidden": true
   },
   "source": [
    "**Bom primeiro vamos entender o que esse query está realizando:**\n",
    "* Esse código faz uma consulta na collection restaurants em busca de documentos que possuem \n",
    "  o campo _cuisine_ com o valor igual a 'Sushi', além disso a cláusula 'sort' com o argumento\n",
    "  -1 é usada para classificar os resultados em ordem decrescente com base no campo 'stars'."
   ]
  },
  {
   "cell_type": "markdown",
   "id": "60a2ac1d",
   "metadata": {
    "hidden": true
   },
   "source": [
    "**Para um melhor entendimento vamos realizar a mesma consulta,\n",
    "porém utilizando a lib pymongo já que esse notebook é para fins didático.\n",
    "Vamos também medir o tempo para comparação após a otimização.**"
   ]
  },
  {
   "cell_type": "code",
   "execution_count": 498,
   "id": "c2ba226b",
   "metadata": {
    "hidden": true
   },
   "outputs": [
    {
     "name": "stdout",
     "output_type": "stream",
     "text": [
      "Tempo médio de execução sem índice: 1.17 segundos\n"
     ]
    }
   ],
   "source": [
    "#1.importa o pymongo, asc para ascendente o mesmo que 1 e descentende o mesmo que -1 no mongodb\n",
    "from pymongo import MongoClient, ASCENDING, DESCENDING\n",
    "#2.conexão com o banco de dados\n",
    "client = pymongo.MongoClient(\"mongodb://localhost:27017/\")\n",
    "db = client[\"desafio4\"]\n",
    "collection_restaurants = db[\"restaurants\"]\n",
    "#3.executa a consulta padrão e calcula a média do tempo após um ciclo de 100 repetições\n",
    "import time\n",
    "start_time = time.perf_counter()\n",
    "for i in range(100):\n",
    "    result_without_index = collection_restaurants.find({\"cuisine\": \"Sushi\"}).sort([(\"stars\", DESCENDING)])\n",
    "    result = list(result_without_index)\n",
    "end_time = time.perf_counter()\n",
    "time_without_index = (end_time - start_time) / 100\n",
    "print(f\"Tempo médio de execução sem índice: {time_without_index:.2f} segundos\")"
   ]
  },
  {
   "cell_type": "markdown",
   "id": "519c1fa4",
   "metadata": {
    "hidden": true
   },
   "source": [
    "* **Para essa consulta após 100 repetições, tivemos uma média de 1.17 segundos**.\n",
    "* **Observe que o tempo de execução pode variar dependendo do ambiente em que o código é executado e do desempenho do banco de dados, mas a média deve fornecer uma estimativa mais estável do tempo de execução da consulta.**"
   ]
  },
  {
   "cell_type": "markdown",
   "id": "c0fc6009",
   "metadata": {
    "hidden": true
   },
   "source": [
    "**Vamos conferir se o resultado corresponde a nossa query MongoDB em um dataframe pandas**:"
   ]
  },
  {
   "cell_type": "code",
   "execution_count": 499,
   "id": "8ca00188",
   "metadata": {
    "hidden": true
   },
   "outputs": [
    {
     "data": {
      "text/html": [
       "<div>\n",
       "<style scoped>\n",
       "    .dataframe tbody tr th:only-of-type {\n",
       "        vertical-align: middle;\n",
       "    }\n",
       "\n",
       "    .dataframe tbody tr th {\n",
       "        vertical-align: top;\n",
       "    }\n",
       "\n",
       "    .dataframe thead th {\n",
       "        text-align: right;\n",
       "    }\n",
       "</style>\n",
       "<table border=\"1\" class=\"dataframe\">\n",
       "  <thead>\n",
       "    <tr style=\"text-align: right;\">\n",
       "      <th></th>\n",
       "      <th>_id</th>\n",
       "      <th>name</th>\n",
       "      <th>cuisine</th>\n",
       "      <th>stars</th>\n",
       "      <th>address</th>\n",
       "    </tr>\n",
       "  </thead>\n",
       "  <tbody>\n",
       "    <tr>\n",
       "      <th>0</th>\n",
       "      <td>641a424a5d1f329d45aa5b35</td>\n",
       "      <td>The Chop House - Grand Rapids</td>\n",
       "      <td>Sushi</td>\n",
       "      <td>5.0</td>\n",
       "      <td>{'street': '1003 Wuwir Circle', 'city': 'Ruwir...</td>\n",
       "    </tr>\n",
       "    <tr>\n",
       "      <th>1</th>\n",
       "      <td>641a424a5d1f329d45aa5c4c</td>\n",
       "      <td>Natural Selection</td>\n",
       "      <td>Sushi</td>\n",
       "      <td>5.0</td>\n",
       "      <td>{'street': '1785 Jajdif Circle', 'city': 'Kome...</td>\n",
       "    </tr>\n",
       "    <tr>\n",
       "      <th>2</th>\n",
       "      <td>641a424a5d1f329d45aa68d9</td>\n",
       "      <td>The Copper Door</td>\n",
       "      <td>Sushi</td>\n",
       "      <td>5.0</td>\n",
       "      <td>{'street': '70 Pandi Lane', 'city': 'Natsanrer...</td>\n",
       "    </tr>\n",
       "    <tr>\n",
       "      <th>3</th>\n",
       "      <td>641a424a5d1f329d45aa6c21</td>\n",
       "      <td>Red Hill Station</td>\n",
       "      <td>Sushi</td>\n",
       "      <td>5.0</td>\n",
       "      <td>{'street': '840 Jehi Road', 'city': 'Hivhowwe'...</td>\n",
       "    </tr>\n",
       "    <tr>\n",
       "      <th>4</th>\n",
       "      <td>641a424a5d1f329d45aa7e56</td>\n",
       "      <td>Roe</td>\n",
       "      <td>Sushi</td>\n",
       "      <td>5.0</td>\n",
       "      <td>{'street': '803 Acaza Road', 'city': 'Demdehic...</td>\n",
       "    </tr>\n",
       "    <tr>\n",
       "      <th>...</th>\n",
       "      <td>...</td>\n",
       "      <td>...</td>\n",
       "      <td>...</td>\n",
       "      <td>...</td>\n",
       "      <td>...</td>\n",
       "    </tr>\n",
       "    <tr>\n",
       "      <th>23298</th>\n",
       "      <td>641a42535d1f329d45b96868</td>\n",
       "      <td>Rudy &amp; Paco Restaurant &amp; Bar</td>\n",
       "      <td>Sushi</td>\n",
       "      <td>0.0</td>\n",
       "      <td>{'street': '1081 Suzik Glen', 'city': 'Saavpap...</td>\n",
       "    </tr>\n",
       "    <tr>\n",
       "      <th>23299</th>\n",
       "      <td>641a42535d1f329d45b968b4</td>\n",
       "      <td>The Mulefoot Gastropub</td>\n",
       "      <td>Sushi</td>\n",
       "      <td>0.0</td>\n",
       "      <td>{'street': '1603 Ofeto Boulevard', 'city': 'Ul...</td>\n",
       "    </tr>\n",
       "    <tr>\n",
       "      <th>23300</th>\n",
       "      <td>641a42535d1f329d45b96ab3</td>\n",
       "      <td>Daniel - Lounge Seating</td>\n",
       "      <td>Sushi</td>\n",
       "      <td>0.0</td>\n",
       "      <td>{'street': '1414 Kijog Ridge', 'city': 'Ehulel...</td>\n",
       "    </tr>\n",
       "    <tr>\n",
       "      <th>23301</th>\n",
       "      <td>641a42535d1f329d45b96ebf</td>\n",
       "      <td>The Copper Door</td>\n",
       "      <td>Sushi</td>\n",
       "      <td>0.0</td>\n",
       "      <td>{'street': '661 Suoke Point', 'city': 'Kohitec...</td>\n",
       "    </tr>\n",
       "    <tr>\n",
       "      <th>23302</th>\n",
       "      <td>641a42535d1f329d45b98b9b</td>\n",
       "      <td>Ocean</td>\n",
       "      <td>Sushi</td>\n",
       "      <td>0.0</td>\n",
       "      <td>{'street': '788 Watso Heights', 'city': 'Arane...</td>\n",
       "    </tr>\n",
       "  </tbody>\n",
       "</table>\n",
       "<p>23303 rows × 5 columns</p>\n",
       "</div>"
      ],
      "text/plain": [
       "                            _id                           name cuisine  stars  \\\n",
       "0      641a424a5d1f329d45aa5b35  The Chop House - Grand Rapids   Sushi    5.0   \n",
       "1      641a424a5d1f329d45aa5c4c              Natural Selection   Sushi    5.0   \n",
       "2      641a424a5d1f329d45aa68d9                The Copper Door   Sushi    5.0   \n",
       "3      641a424a5d1f329d45aa6c21               Red Hill Station   Sushi    5.0   \n",
       "4      641a424a5d1f329d45aa7e56                            Roe   Sushi    5.0   \n",
       "...                         ...                            ...     ...    ...   \n",
       "23298  641a42535d1f329d45b96868   Rudy & Paco Restaurant & Bar   Sushi    0.0   \n",
       "23299  641a42535d1f329d45b968b4         The Mulefoot Gastropub   Sushi    0.0   \n",
       "23300  641a42535d1f329d45b96ab3        Daniel - Lounge Seating   Sushi    0.0   \n",
       "23301  641a42535d1f329d45b96ebf                The Copper Door   Sushi    0.0   \n",
       "23302  641a42535d1f329d45b98b9b                          Ocean   Sushi    0.0   \n",
       "\n",
       "                                                 address  \n",
       "0      {'street': '1003 Wuwir Circle', 'city': 'Ruwir...  \n",
       "1      {'street': '1785 Jajdif Circle', 'city': 'Kome...  \n",
       "2      {'street': '70 Pandi Lane', 'city': 'Natsanrer...  \n",
       "3      {'street': '840 Jehi Road', 'city': 'Hivhowwe'...  \n",
       "4      {'street': '803 Acaza Road', 'city': 'Demdehic...  \n",
       "...                                                  ...  \n",
       "23298  {'street': '1081 Suzik Glen', 'city': 'Saavpap...  \n",
       "23299  {'street': '1603 Ofeto Boulevard', 'city': 'Ul...  \n",
       "23300  {'street': '1414 Kijog Ridge', 'city': 'Ehulel...  \n",
       "23301  {'street': '661 Suoke Point', 'city': 'Kohitec...  \n",
       "23302  {'street': '788 Watso Heights', 'city': 'Arane...  \n",
       "\n",
       "[23303 rows x 5 columns]"
      ]
     },
     "execution_count": 499,
     "metadata": {},
     "output_type": "execute_result"
    }
   ],
   "source": [
    "import pandas as pd \n",
    "pd.DataFrame(result)"
   ]
  },
  {
   "cell_type": "markdown",
   "id": "87c88013",
   "metadata": {
    "hidden": true
   },
   "source": [
    "* **Obtivemos o resultado correspondente, observe que tempos 23.303 documentos em nosso resultado**"
   ]
  },
  {
   "cell_type": "markdown",
   "id": "1ffb6acb",
   "metadata": {
    "hidden": true
   },
   "source": [
    "**Agora como podemos melhorar e otimizar essa query?**\n",
    "* **Adicionar um índice para o campo 'cuisine' e 'stars' pode melhorar o desempenho da consulta.**\n",
    "    * *Quando um índice é criado em um campo específico, o bd armazena as informações de índice em uma estrutura separada e usa essas informações para localizar os documentos que correspondem a uma consulta, éssa técnica é usada para otimizar o desempenho, porém é importante frizar que a criação de índices poder afetar o desempenho na inserão e atualização, pois o bd precisa atualizar o índice nesses casos, por isso é importante criar índices de acordo com a relevância para equilibrar o impacto.*\n",
    "* **Podemos ainda limitar os campos retornados, isso pode reduzir a quantidade de dados transferidos.**\n",
    "* **Podemos usar o método 'aggregate' em operações mais complexas, como agrupar ou combinar documentos ao invés do método 'find'.**"
   ]
  },
  {
   "cell_type": "markdown",
   "id": "b3de0ea8",
   "metadata": {
    "hidden": true
   },
   "source": [
    "**Nesse exemplo iremos realizar uma consulta atimizada, adicionando índices para 'cuisine' e 'stars',\n",
    "vamos também limitar os campos para 'name' e 'star'.**"
   ]
  },
  {
   "cell_type": "code",
   "execution_count": 501,
   "id": "d260fb53",
   "metadata": {
    "hidden": true
   },
   "outputs": [
    {
     "name": "stdout",
     "output_type": "stream",
     "text": [
      "Tempo médio de execução sem índice: 0.22 segundos\n"
     ]
    }
   ],
   "source": [
    "#1.criar os índices para 'cuisine como ascendente' e 'stars como descendente'\n",
    "collection_restaurants.create_index([(\"cuisine\", ASCENDING), (\"stars\", DESCENDING)])\n",
    "\n",
    "#3.executa a consulta otimizada e calcula a média do tempo após um ciclo de 100 repetições\n",
    "import time\n",
    "start_time = time.perf_counter()\n",
    "for i in range(100):\n",
    "    result_with_index = collection_restaurants.find({\"cuisine\": \"Sushi\"}, {'cuisine':1, 'name': 1, 'stars': 1, '_id': 0 }).hint([(\"cuisine\", ASCENDING), (\"stars\", DESCENDING)])\n",
    "    result = list(result_with_index)\n",
    "end_time = time.perf_counter()\n",
    "time_with_index = (end_time - start_time) / 100\n",
    "print(f\"Tempo médio de execução otimizada com índice: {time_with_index:.2f} segundos\")"
   ]
  },
  {
   "cell_type": "markdown",
   "id": "4cc2f634",
   "metadata": {
    "hidden": true
   },
   "source": [
    "* **Parece muito pouca diferença, mas se tratando de um conjunto grande de dados,\n",
    "temos um ganho de 81.2%.**"
   ]
  },
  {
   "cell_type": "code",
   "execution_count": 502,
   "id": "1a781cb6",
   "metadata": {
    "hidden": true
   },
   "outputs": [
    {
     "data": {
      "text/plain": [
       "81.19658119658119"
      ]
     },
     "execution_count": 502,
     "metadata": {},
     "output_type": "execute_result"
    }
   ],
   "source": [
    "100 -((0.22 * 100) / 1.17)"
   ]
  },
  {
   "cell_type": "markdown",
   "id": "d60e3b30",
   "metadata": {
    "hidden": true
   },
   "source": [
    "**Vamos conferir se o resultado corresponde a nossa query MongoDB em um dataframe pandas:**"
   ]
  },
  {
   "cell_type": "code",
   "execution_count": 508,
   "id": "5079b746",
   "metadata": {
    "hidden": true
   },
   "outputs": [
    {
     "data": {
      "text/html": [
       "<div>\n",
       "<style scoped>\n",
       "    .dataframe tbody tr th:only-of-type {\n",
       "        vertical-align: middle;\n",
       "    }\n",
       "\n",
       "    .dataframe tbody tr th {\n",
       "        vertical-align: top;\n",
       "    }\n",
       "\n",
       "    .dataframe thead th {\n",
       "        text-align: right;\n",
       "    }\n",
       "</style>\n",
       "<table border=\"1\" class=\"dataframe\">\n",
       "  <thead>\n",
       "    <tr style=\"text-align: right;\">\n",
       "      <th></th>\n",
       "      <th>name</th>\n",
       "      <th>cuisine</th>\n",
       "      <th>stars</th>\n",
       "    </tr>\n",
       "  </thead>\n",
       "  <tbody>\n",
       "    <tr>\n",
       "      <th>0</th>\n",
       "      <td>The Chop House - Grand Rapids</td>\n",
       "      <td>Sushi</td>\n",
       "      <td>5.0</td>\n",
       "    </tr>\n",
       "    <tr>\n",
       "      <th>1</th>\n",
       "      <td>Natural Selection</td>\n",
       "      <td>Sushi</td>\n",
       "      <td>5.0</td>\n",
       "    </tr>\n",
       "    <tr>\n",
       "      <th>2</th>\n",
       "      <td>The Copper Door</td>\n",
       "      <td>Sushi</td>\n",
       "      <td>5.0</td>\n",
       "    </tr>\n",
       "    <tr>\n",
       "      <th>3</th>\n",
       "      <td>Red Hill Station</td>\n",
       "      <td>Sushi</td>\n",
       "      <td>5.0</td>\n",
       "    </tr>\n",
       "    <tr>\n",
       "      <th>4</th>\n",
       "      <td>Roe</td>\n",
       "      <td>Sushi</td>\n",
       "      <td>5.0</td>\n",
       "    </tr>\n",
       "    <tr>\n",
       "      <th>...</th>\n",
       "      <td>...</td>\n",
       "      <td>...</td>\n",
       "      <td>...</td>\n",
       "    </tr>\n",
       "    <tr>\n",
       "      <th>23298</th>\n",
       "      <td>Rudy &amp; Paco Restaurant &amp; Bar</td>\n",
       "      <td>Sushi</td>\n",
       "      <td>0.0</td>\n",
       "    </tr>\n",
       "    <tr>\n",
       "      <th>23299</th>\n",
       "      <td>The Mulefoot Gastropub</td>\n",
       "      <td>Sushi</td>\n",
       "      <td>0.0</td>\n",
       "    </tr>\n",
       "    <tr>\n",
       "      <th>23300</th>\n",
       "      <td>Daniel - Lounge Seating</td>\n",
       "      <td>Sushi</td>\n",
       "      <td>0.0</td>\n",
       "    </tr>\n",
       "    <tr>\n",
       "      <th>23301</th>\n",
       "      <td>The Copper Door</td>\n",
       "      <td>Sushi</td>\n",
       "      <td>0.0</td>\n",
       "    </tr>\n",
       "    <tr>\n",
       "      <th>23302</th>\n",
       "      <td>Ocean</td>\n",
       "      <td>Sushi</td>\n",
       "      <td>0.0</td>\n",
       "    </tr>\n",
       "  </tbody>\n",
       "</table>\n",
       "<p>23303 rows × 3 columns</p>\n",
       "</div>"
      ],
      "text/plain": [
       "                                name cuisine  stars\n",
       "0      The Chop House - Grand Rapids   Sushi    5.0\n",
       "1                  Natural Selection   Sushi    5.0\n",
       "2                    The Copper Door   Sushi    5.0\n",
       "3                   Red Hill Station   Sushi    5.0\n",
       "4                                Roe   Sushi    5.0\n",
       "...                              ...     ...    ...\n",
       "23298   Rudy & Paco Restaurant & Bar   Sushi    0.0\n",
       "23299         The Mulefoot Gastropub   Sushi    0.0\n",
       "23300        Daniel - Lounge Seating   Sushi    0.0\n",
       "23301                The Copper Door   Sushi    0.0\n",
       "23302                          Ocean   Sushi    0.0\n",
       "\n",
       "[23303 rows x 3 columns]"
      ]
     },
     "execution_count": 508,
     "metadata": {},
     "output_type": "execute_result"
    }
   ],
   "source": [
    "import pandas as pd \n",
    "pd.DataFrame(result)"
   ]
  },
  {
   "cell_type": "markdown",
   "id": "44c4cf83",
   "metadata": {
    "hidden": true
   },
   "source": [
    "* **Observem que agora só exibimos os dados necessários para a consulta e isso foi importante para otimização**.\n",
    "* **Removemos também a cláusula 'sort', pois o índice 'stars' já estava no formato decrescente.**\n",
    "* **Usamos ainda a clausula 'hint' que é usado para indicar ao MongoDB o índice que deve ser utilizado para consulta.**"
   ]
  },
  {
   "cell_type": "markdown",
   "id": "6ce57d0c",
   "metadata": {
    "heading_collapsed": true,
    "hidden": true
   },
   "source": [
    "### G. Como otimizar a consulta abaixo**\n",
    "\n",
    "*db.restaurants.find({ \"stars\": { $gte: 4 }, cuisine: 'Italian' }).sort({ name: 1 })*\n",
    "<a id=\"ancora5.4\"></a>\n",
    "\n",
    "[voltar](#ancora)."
   ]
  },
  {
   "cell_type": "markdown",
   "id": "d2fd06eb",
   "metadata": {
    "hidden": true
   },
   "source": [
    "**Explicação da query:**\n",
    "* **Em resumo, essa consulta retornará todos os restaurantes italianos com uma classificação de estrelas igual ou superior a 4, ordenados alfabeticamente pelo nome.**\n"
   ]
  },
  {
   "cell_type": "markdown",
   "id": "88857e42",
   "metadata": {
    "hidden": true
   },
   "source": [
    "**Para um melhor entendimento vamos realizar a mesma consulta,\n",
    "porém utilizando a lib pymongo já que esse notebook é para fins didático.\n",
    "Vamos também medir o tempo para comparação após a otimização.**"
   ]
  },
  {
   "cell_type": "markdown",
   "id": "809ce6cb",
   "metadata": {
    "hidden": true
   },
   "source": [
    "**Antes, precisamos remover os index criados para que eles não influenciem no resultado, pois mesmo não informando os index de forma explicita, o MongoDB utiliza os index mesmo de forma implicita.**\n"
   ]
  },
  {
   "cell_type": "code",
   "execution_count": 512,
   "id": "2b0c5bd6",
   "metadata": {
    "hidden": true
   },
   "outputs": [
    {
     "data": {
      "text/plain": [
       "[SON([('v', 2), ('key', SON([('_id', 1)])), ('name', '_id_')]),\n",
       " SON([('v', 2), ('key', SON([('cuisine', 1), ('stars', -1)])), ('name', 'cuisine_1_stars_-1')])]"
      ]
     },
     "execution_count": 512,
     "metadata": {},
     "output_type": "execute_result"
    }
   ],
   "source": [
    "#people.drop_index(\"last_name_1\")\n",
    "#Listando os index da collection\n",
    "list(collection_restaurants.list_indexes())"
   ]
  },
  {
   "cell_type": "code",
   "execution_count": 513,
   "id": "2ea7fa8e",
   "metadata": {
    "hidden": true
   },
   "outputs": [
    {
     "data": {
      "text/plain": [
       "[SON([('v', 2), ('key', SON([('_id', 1)])), ('name', '_id_')])]"
      ]
     },
     "execution_count": 513,
     "metadata": {},
     "output_type": "execute_result"
    }
   ],
   "source": [
    "#Removendo o index name: 'cuisine_1_stars_-1'\n",
    "collection_restaurants.drop_index('cuisine_1_stars_-1')\n",
    "#Conferindo se o index foi removido\n",
    "list(collection_restaurants.list_indexes())"
   ]
  },
  {
   "cell_type": "markdown",
   "id": "5fcf0103",
   "metadata": {
    "hidden": true
   },
   "source": [
    "* **Pronto agora sim podemos realizar a query sem nenhuma otimização.**"
   ]
  },
  {
   "cell_type": "code",
   "execution_count": 526,
   "id": "966d3b94",
   "metadata": {
    "hidden": true
   },
   "outputs": [
    {
     "name": "stdout",
     "output_type": "stream",
     "text": [
      "Tempo médio de execução sem índice: 0.92 segundos\n"
     ]
    }
   ],
   "source": [
    "#1.importa o pymongo, asc para ascendente o mesmo que 1 e descentende o mesmo que -1 no mongodb\n",
    "from pymongo import MongoClient, ASCENDING, DESCENDING\n",
    "#2.conexão com o banco de dados\n",
    "client = pymongo.MongoClient(\"mongodb://localhost:27017/\")\n",
    "db = client[\"desafio4\"]\n",
    "collection_restaurants = db[\"restaurants\"]\n",
    "#3.executa a consulta padrão e calcula a média do tempo após um ciclo de 100 repetições\n",
    "import time\n",
    "start_time = time.perf_counter()\n",
    "for i in range(100):\n",
    "    result_without_index = collection_restaurants.find({\"stars\":{\"$gte\":4},\"cuisine\":\"Italian\"}).sort([(\"name\", ASCENDING)])\n",
    "    result = list(result_without_index)\n",
    "end_time = time.perf_counter()\n",
    "time_without_index = (end_time - start_time) / 100\n",
    "print(f\"Tempo médio de execução sem índice: {time_without_index:.2f} segundos\")"
   ]
  },
  {
   "cell_type": "markdown",
   "id": "0c18da09",
   "metadata": {
    "hidden": true
   },
   "source": [
    "**Vamos conferir se o resultado corresponde a nossa query MongoDB em um dataframe pandas**:"
   ]
  },
  {
   "cell_type": "code",
   "execution_count": 527,
   "id": "9ed07555",
   "metadata": {
    "hidden": true
   },
   "outputs": [
    {
     "data": {
      "text/html": [
       "<div>\n",
       "<style scoped>\n",
       "    .dataframe tbody tr th:only-of-type {\n",
       "        vertical-align: middle;\n",
       "    }\n",
       "\n",
       "    .dataframe tbody tr th {\n",
       "        vertical-align: top;\n",
       "    }\n",
       "\n",
       "    .dataframe thead th {\n",
       "        text-align: right;\n",
       "    }\n",
       "</style>\n",
       "<table border=\"1\" class=\"dataframe\">\n",
       "  <thead>\n",
       "    <tr style=\"text-align: right;\">\n",
       "      <th></th>\n",
       "      <th>_id</th>\n",
       "      <th>name</th>\n",
       "      <th>cuisine</th>\n",
       "      <th>stars</th>\n",
       "      <th>address</th>\n",
       "    </tr>\n",
       "  </thead>\n",
       "  <tbody>\n",
       "    <tr>\n",
       "      <th>0</th>\n",
       "      <td>641a424a5d1f329d45aa9604</td>\n",
       "      <td>Abe Fisher</td>\n",
       "      <td>Italian</td>\n",
       "      <td>4.4</td>\n",
       "      <td>{'street': '1797 Bujod Circle', 'city': 'Hupno...</td>\n",
       "    </tr>\n",
       "    <tr>\n",
       "      <th>1</th>\n",
       "      <td>641a424a5d1f329d45ab2689</td>\n",
       "      <td>Abe Fisher</td>\n",
       "      <td>Italian</td>\n",
       "      <td>4.9</td>\n",
       "      <td>{'street': '238 Diter Way', 'city': 'Hesewuz',...</td>\n",
       "    </tr>\n",
       "    <tr>\n",
       "      <th>2</th>\n",
       "      <td>641a424a5d1f329d45ab4882</td>\n",
       "      <td>Abe Fisher</td>\n",
       "      <td>Italian</td>\n",
       "      <td>4.2</td>\n",
       "      <td>{'street': '892 Zonma Manor', 'city': 'Rerewce...</td>\n",
       "    </tr>\n",
       "    <tr>\n",
       "      <th>3</th>\n",
       "      <td>641a424a5d1f329d45ab9f99</td>\n",
       "      <td>Abe Fisher</td>\n",
       "      <td>Italian</td>\n",
       "      <td>4.2</td>\n",
       "      <td>{'street': '659 Paro Path', 'city': 'Hovkulu',...</td>\n",
       "    </tr>\n",
       "    <tr>\n",
       "      <th>4</th>\n",
       "      <td>641a424a5d1f329d45abe718</td>\n",
       "      <td>Abe Fisher</td>\n",
       "      <td>Italian</td>\n",
       "      <td>4.0</td>\n",
       "      <td>{'street': '1640 Wiiw Lane', 'city': 'Vajozwe'...</td>\n",
       "    </tr>\n",
       "    <tr>\n",
       "      <th>...</th>\n",
       "      <td>...</td>\n",
       "      <td>...</td>\n",
       "      <td>...</td>\n",
       "      <td>...</td>\n",
       "      <td>...</td>\n",
       "    </tr>\n",
       "    <tr>\n",
       "      <th>4927</th>\n",
       "      <td>641a42525d1f329d45b86f07</td>\n",
       "      <td>o ya</td>\n",
       "      <td>Italian</td>\n",
       "      <td>4.5</td>\n",
       "      <td>{'street': '1885 Awelaj Key', 'city': 'Isumevs...</td>\n",
       "    </tr>\n",
       "    <tr>\n",
       "      <th>4928</th>\n",
       "      <td>641a42535d1f329d45b8ce16</td>\n",
       "      <td>o ya</td>\n",
       "      <td>Italian</td>\n",
       "      <td>5.0</td>\n",
       "      <td>{'street': '40 Tiopa Circle', 'city': 'Cedtian...</td>\n",
       "    </tr>\n",
       "    <tr>\n",
       "      <th>4929</th>\n",
       "      <td>641a42535d1f329d45b8d123</td>\n",
       "      <td>o ya</td>\n",
       "      <td>Italian</td>\n",
       "      <td>4.7</td>\n",
       "      <td>{'street': '1195 Daaw Ridge', 'city': 'Hamaglu...</td>\n",
       "    </tr>\n",
       "    <tr>\n",
       "      <th>4930</th>\n",
       "      <td>641a42535d1f329d45b94f7a</td>\n",
       "      <td>o ya</td>\n",
       "      <td>Italian</td>\n",
       "      <td>4.5</td>\n",
       "      <td>{'street': '1537 Lemob Circle', 'city': 'Guelb...</td>\n",
       "    </tr>\n",
       "    <tr>\n",
       "      <th>4931</th>\n",
       "      <td>641a42535d1f329d45b98f45</td>\n",
       "      <td>o ya</td>\n",
       "      <td>Italian</td>\n",
       "      <td>4.3</td>\n",
       "      <td>{'street': '1683 Egotes River', 'city': 'Zaile...</td>\n",
       "    </tr>\n",
       "  </tbody>\n",
       "</table>\n",
       "<p>4932 rows × 5 columns</p>\n",
       "</div>"
      ],
      "text/plain": [
       "                           _id        name  cuisine  stars  \\\n",
       "0     641a424a5d1f329d45aa9604  Abe Fisher  Italian    4.4   \n",
       "1     641a424a5d1f329d45ab2689  Abe Fisher  Italian    4.9   \n",
       "2     641a424a5d1f329d45ab4882  Abe Fisher  Italian    4.2   \n",
       "3     641a424a5d1f329d45ab9f99  Abe Fisher  Italian    4.2   \n",
       "4     641a424a5d1f329d45abe718  Abe Fisher  Italian    4.0   \n",
       "...                        ...         ...      ...    ...   \n",
       "4927  641a42525d1f329d45b86f07        o ya  Italian    4.5   \n",
       "4928  641a42535d1f329d45b8ce16        o ya  Italian    5.0   \n",
       "4929  641a42535d1f329d45b8d123        o ya  Italian    4.7   \n",
       "4930  641a42535d1f329d45b94f7a        o ya  Italian    4.5   \n",
       "4931  641a42535d1f329d45b98f45        o ya  Italian    4.3   \n",
       "\n",
       "                                                address  \n",
       "0     {'street': '1797 Bujod Circle', 'city': 'Hupno...  \n",
       "1     {'street': '238 Diter Way', 'city': 'Hesewuz',...  \n",
       "2     {'street': '892 Zonma Manor', 'city': 'Rerewce...  \n",
       "3     {'street': '659 Paro Path', 'city': 'Hovkulu',...  \n",
       "4     {'street': '1640 Wiiw Lane', 'city': 'Vajozwe'...  \n",
       "...                                                 ...  \n",
       "4927  {'street': '1885 Awelaj Key', 'city': 'Isumevs...  \n",
       "4928  {'street': '40 Tiopa Circle', 'city': 'Cedtian...  \n",
       "4929  {'street': '1195 Daaw Ridge', 'city': 'Hamaglu...  \n",
       "4930  {'street': '1537 Lemob Circle', 'city': 'Guelb...  \n",
       "4931  {'street': '1683 Egotes River', 'city': 'Zaile...  \n",
       "\n",
       "[4932 rows x 5 columns]"
      ]
     },
     "execution_count": 527,
     "metadata": {},
     "output_type": "execute_result"
    }
   ],
   "source": [
    "df_default = pd.DataFrame(result)\n",
    "df_default\n"
   ]
  },
  {
   "cell_type": "markdown",
   "id": "fdf8e170",
   "metadata": {
    "hidden": true
   },
   "source": [
    "* **Confirmado: todos os restaurantes italianos com uma classificação de estrelas igual ou superior a 4, ordenados alfabeticamente pelo nome.**"
   ]
  },
  {
   "cell_type": "markdown",
   "id": "6ca987b6",
   "metadata": {
    "hidden": true
   },
   "source": [
    "* **Otimização da query**:"
   ]
  },
  {
   "cell_type": "code",
   "execution_count": null,
   "id": "34003691",
   "metadata": {
    "hidden": true
   },
   "outputs": [],
   "source": [
    "collection_restaurants.find({\"stars\":{\"$gte\":4},\"cuisine\":\"Italian\"},{'_id': 0 }).hint()"
   ]
  },
  {
   "cell_type": "code",
   "execution_count": 536,
   "id": "759a6d26",
   "metadata": {
    "hidden": true
   },
   "outputs": [
    {
     "name": "stdout",
     "output_type": "stream",
     "text": [
      "Tempo médio de execução otimizada com índices: 0.16 segundos\n"
     ]
    }
   ],
   "source": [
    "#Criando índice\n",
    "collection_restaurants.create_index([(\"cuisine\", ASCENDING),(\"name\", ASCENDING)])\n",
    "\n",
    "#executa a consulta otimizada e calcula a média do tempo após um ciclo de 100 repetições\n",
    "import time\n",
    "start_time = time.perf_counter()\n",
    "for i in range(100):\n",
    "    result_with_index = collection_restaurants.find({\"stars\":{\"$gte\":4},\"cuisine\":\"Italian\"},{'_id': 0 }).hint('cuisine_1_name_1')\n",
    "    result = list(result_with_index)\n",
    "end_time = time.perf_counter()\n",
    "time_with_index = (end_time - start_time) / 100\n",
    "print(f\"Tempo médio de execução otimizada com índices: {time_with_index:.2f} segundos\")"
   ]
  },
  {
   "cell_type": "code",
   "execution_count": 537,
   "id": "9b428cec",
   "metadata": {
    "hidden": true
   },
   "outputs": [
    {
     "data": {
      "text/html": [
       "<div>\n",
       "<style scoped>\n",
       "    .dataframe tbody tr th:only-of-type {\n",
       "        vertical-align: middle;\n",
       "    }\n",
       "\n",
       "    .dataframe tbody tr th {\n",
       "        vertical-align: top;\n",
       "    }\n",
       "\n",
       "    .dataframe thead th {\n",
       "        text-align: right;\n",
       "    }\n",
       "</style>\n",
       "<table border=\"1\" class=\"dataframe\">\n",
       "  <thead>\n",
       "    <tr style=\"text-align: right;\">\n",
       "      <th></th>\n",
       "      <th>name</th>\n",
       "      <th>cuisine</th>\n",
       "      <th>stars</th>\n",
       "      <th>address</th>\n",
       "    </tr>\n",
       "  </thead>\n",
       "  <tbody>\n",
       "    <tr>\n",
       "      <th>0</th>\n",
       "      <td>Abe Fisher</td>\n",
       "      <td>Italian</td>\n",
       "      <td>4.4</td>\n",
       "      <td>{'street': '1797 Bujod Circle', 'city': 'Hupno...</td>\n",
       "    </tr>\n",
       "    <tr>\n",
       "      <th>1</th>\n",
       "      <td>Abe Fisher</td>\n",
       "      <td>Italian</td>\n",
       "      <td>4.9</td>\n",
       "      <td>{'street': '238 Diter Way', 'city': 'Hesewuz',...</td>\n",
       "    </tr>\n",
       "    <tr>\n",
       "      <th>2</th>\n",
       "      <td>Abe Fisher</td>\n",
       "      <td>Italian</td>\n",
       "      <td>4.2</td>\n",
       "      <td>{'street': '892 Zonma Manor', 'city': 'Rerewce...</td>\n",
       "    </tr>\n",
       "    <tr>\n",
       "      <th>3</th>\n",
       "      <td>Abe Fisher</td>\n",
       "      <td>Italian</td>\n",
       "      <td>4.2</td>\n",
       "      <td>{'street': '659 Paro Path', 'city': 'Hovkulu',...</td>\n",
       "    </tr>\n",
       "    <tr>\n",
       "      <th>4</th>\n",
       "      <td>Abe Fisher</td>\n",
       "      <td>Italian</td>\n",
       "      <td>4.0</td>\n",
       "      <td>{'street': '1640 Wiiw Lane', 'city': 'Vajozwe'...</td>\n",
       "    </tr>\n",
       "    <tr>\n",
       "      <th>...</th>\n",
       "      <td>...</td>\n",
       "      <td>...</td>\n",
       "      <td>...</td>\n",
       "      <td>...</td>\n",
       "    </tr>\n",
       "    <tr>\n",
       "      <th>4927</th>\n",
       "      <td>o ya</td>\n",
       "      <td>Italian</td>\n",
       "      <td>4.5</td>\n",
       "      <td>{'street': '1885 Awelaj Key', 'city': 'Isumevs...</td>\n",
       "    </tr>\n",
       "    <tr>\n",
       "      <th>4928</th>\n",
       "      <td>o ya</td>\n",
       "      <td>Italian</td>\n",
       "      <td>5.0</td>\n",
       "      <td>{'street': '40 Tiopa Circle', 'city': 'Cedtian...</td>\n",
       "    </tr>\n",
       "    <tr>\n",
       "      <th>4929</th>\n",
       "      <td>o ya</td>\n",
       "      <td>Italian</td>\n",
       "      <td>4.7</td>\n",
       "      <td>{'street': '1195 Daaw Ridge', 'city': 'Hamaglu...</td>\n",
       "    </tr>\n",
       "    <tr>\n",
       "      <th>4930</th>\n",
       "      <td>o ya</td>\n",
       "      <td>Italian</td>\n",
       "      <td>4.5</td>\n",
       "      <td>{'street': '1537 Lemob Circle', 'city': 'Guelb...</td>\n",
       "    </tr>\n",
       "    <tr>\n",
       "      <th>4931</th>\n",
       "      <td>o ya</td>\n",
       "      <td>Italian</td>\n",
       "      <td>4.3</td>\n",
       "      <td>{'street': '1683 Egotes River', 'city': 'Zaile...</td>\n",
       "    </tr>\n",
       "  </tbody>\n",
       "</table>\n",
       "<p>4932 rows × 4 columns</p>\n",
       "</div>"
      ],
      "text/plain": [
       "            name  cuisine  stars  \\\n",
       "0     Abe Fisher  Italian    4.4   \n",
       "1     Abe Fisher  Italian    4.9   \n",
       "2     Abe Fisher  Italian    4.2   \n",
       "3     Abe Fisher  Italian    4.2   \n",
       "4     Abe Fisher  Italian    4.0   \n",
       "...          ...      ...    ...   \n",
       "4927        o ya  Italian    4.5   \n",
       "4928        o ya  Italian    5.0   \n",
       "4929        o ya  Italian    4.7   \n",
       "4930        o ya  Italian    4.5   \n",
       "4931        o ya  Italian    4.3   \n",
       "\n",
       "                                                address  \n",
       "0     {'street': '1797 Bujod Circle', 'city': 'Hupno...  \n",
       "1     {'street': '238 Diter Way', 'city': 'Hesewuz',...  \n",
       "2     {'street': '892 Zonma Manor', 'city': 'Rerewce...  \n",
       "3     {'street': '659 Paro Path', 'city': 'Hovkulu',...  \n",
       "4     {'street': '1640 Wiiw Lane', 'city': 'Vajozwe'...  \n",
       "...                                                 ...  \n",
       "4927  {'street': '1885 Awelaj Key', 'city': 'Isumevs...  \n",
       "4928  {'street': '40 Tiopa Circle', 'city': 'Cedtian...  \n",
       "4929  {'street': '1195 Daaw Ridge', 'city': 'Hamaglu...  \n",
       "4930  {'street': '1537 Lemob Circle', 'city': 'Guelb...  \n",
       "4931  {'street': '1683 Egotes River', 'city': 'Zaile...  \n",
       "\n",
       "[4932 rows x 4 columns]"
      ]
     },
     "execution_count": 537,
     "metadata": {},
     "output_type": "execute_result"
    }
   ],
   "source": [
    "df_optmized = pd.DataFrame(result)\n",
    "df_optmized"
   ]
  },
  {
   "cell_type": "markdown",
   "id": "0151bab8",
   "metadata": {
    "hidden": true
   },
   "source": [
    "* **A utilização de index pode otimizar muito as consultas, porém devemos nos atentar a necessidade, pois acaba impactando ao realizar inserções e atualizações no bd.**\n"
   ]
  },
  {
   "cell_type": "markdown",
   "id": "1f4c197c",
   "metadata": {
    "heading_collapsed": true
   },
   "source": [
    "## 10. Conclusão:\n",
    "<a id=\"ancora13\"></a>\n",
    "[voltar](#ancora)."
   ]
  },
  {
   "cell_type": "markdown",
   "id": "16bf37d1",
   "metadata": {
    "hidden": true
   },
   "source": [
    "Durante nosso diálogo, discutimos diversos tópicos relacionados ao MongoDB, incluindo sua arquitetura, suas características, e como trabalhar com ele usando a biblioteca PyMongo. Além disso, exploramos como otimizar as consultas no MongoDB usando índices, cache e outras técnicas.\n",
    "\n",
    "O MongoDB é um banco de dados não relacional orientado a documentos que oferece muitas vantagens em relação aos bancos de dados relacionais tradicionais, como flexibilidade de esquema e escalabilidade horizontal. Ele é amplamente utilizado em aplicativos da web e móveis que precisam armazenar e recuperar grandes quantidades de dados em tempo real.\n",
    "\n",
    "Ao trabalhar com o MongoDB, é importante ter um bom entendimento de sua arquitetura e recursos, bem como da sintaxe e estrutura de consulta. É fundamental saber como criar índices para acelerar as consultas e como otimizar a eficiência do sistema em geral.\n",
    "\n",
    "Em resumo, o MongoDB é uma excelente opção para aplicativos que precisam de flexibilidade e escalabilidade no armazenamento de dados. Com um pouco de conhecimento e esforço, é possível obter um desempenho excepcionalmente rápido e eficiente ao trabalhar com ele."
   ]
  },
  {
   "cell_type": "code",
   "execution_count": null,
   "id": "7970dcab",
   "metadata": {
    "hidden": true
   },
   "outputs": [],
   "source": []
  }
 ],
 "metadata": {
  "kernelspec": {
   "display_name": "Python 3 (ipykernel)",
   "language": "python",
   "name": "python3"
  },
  "language_info": {
   "codemirror_mode": {
    "name": "ipython",
    "version": 3
   },
   "file_extension": ".py",
   "mimetype": "text/x-python",
   "name": "python",
   "nbconvert_exporter": "python",
   "pygments_lexer": "ipython3",
   "version": "3.9.12"
  }
 },
 "nbformat": 4,
 "nbformat_minor": 5
}
